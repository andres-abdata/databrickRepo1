{
 "cells": [
  {
   "cell_type": "markdown",
   "metadata": {
    "application/vnd.databricks.v1+cell": {
     "cellMetadata": {},
     "inputWidgets": {},
     "nuid": "4694bb75-0869-4a46-9b9f-75c8fca4db8a",
     "showTitle": false,
     "tableResultSettingsMap": {},
     "title": ""
    },
    "jupyter": {
     "outputs_hidden": true
    }
   },
   "source": [
    "### Setup\n",
    "\n",
    "Make sure you have the files available from previous demos."
   ]
  },
  {
   "cell_type": "code",
   "execution_count": 0,
   "metadata": {
    "application/vnd.databricks.v1+cell": {
     "cellMetadata": {
      "byteLimit": 2048000,
      "rowLimit": 10000
     },
     "collapsed": true,
     "inputWidgets": {},
     "nuid": "e3c255ce-7851-4850-8ccd-f798372e3da9",
     "showTitle": false,
     "tableResultSettingsMap": {},
     "title": ""
    }
   },
   "outputs": [],
   "source": [
     "# This cell sets all the configuration parameters to connect to Azure Data Lake\n",
    "spark.conf.set(\"fs.azure.account.auth.type.<account_name>.dfs.core.windows.net\", \"OAuth\")\n",
    "spark.conf.set(\"fs.azure.account.oauth.provider.type.<account_name>.dfs.core.windows.net\", \"org.apache.hadoop.fs.azurebfs.oauth2.ClientCredsTokenProvider\")\n",
    "spark.conf.set(\"fs.azure.account.oauth2.client.id.<account_name>.dfs.core.windows.net\", \"****************************\")\n",
    "spark.conf.set(\"fs.azure.account.oauth2.client.secret.<account_name>.dfs.core.windows.net\", \"*******************************\")\n",
    "spark.conf.set(\"fs.azure.account.oauth2.client.endpoint.<account_name>.dfs.core.windows.net\", \"https://login.microsoftonline.com/************************/oauth2/token\")"
   ]
  },
  {
   "cell_type": "markdown",
   "metadata": {
    "application/vnd.databricks.v1+cell": {
     "cellMetadata": {},
     "inputWidgets": {},
     "nuid": "05dc8896-caea-4f87-8175-6c80d31c6293",
     "showTitle": false,
     "tableResultSettingsMap": {},
     "title": ""
    }
   },
   "source": [
    "Verify that cloud storage is accessible"
   ]
  },
  {
   "cell_type": "code",
   "execution_count": 0,
   "metadata": {
    "application/vnd.databricks.v1+cell": {
     "cellMetadata": {
      "byteLimit": 2048000,
      "rowLimit": 10000
     },
     "inputWidgets": {},
     "nuid": "950ffc86-3822-465e-8238-ed8860012cbd",
     "showTitle": false,
     "tableResultSettingsMap": {},
     "title": ""
    }
   },
   "outputs": [
    {
     "output_type": "execute_result",
     "data": {
      "text/plain": [
       "[FileInfo(path='abfss://pyspark@warnerdatalake.dfs.core.windows.net/exports/', name='exports/', size=0, modificationTime=1740581924000),\n",
       " FileInfo(path='abfss://pyspark@warnerdatalake.dfs.core.windows.net/imports/', name='imports/', size=0, modificationTime=1740581918000)]"
      ]
     },
     "execution_count": 2,
     "metadata": {},
     "output_type": "execute_result"
    }
   ],
   "source": [
    "dbutils.fs.ls(\"abfss://pyspark@warnerdatalake.dfs.core.windows.net/\")"
   ]
  },
  {
   "cell_type": "markdown",
   "metadata": {
    "application/vnd.databricks.v1+cell": {
     "cellMetadata": {},
     "inputWidgets": {},
     "nuid": "6a1257bf-8a96-44ec-bb48-241c5ea0118d",
     "showTitle": false,
     "tableResultSettingsMap": {},
     "title": ""
    }
   },
   "source": [
    "Let's load the transactions data"
   ]
  },
  {
   "cell_type": "code",
   "execution_count": 0,
   "metadata": {
    "application/vnd.databricks.v1+cell": {
     "cellMetadata": {
      "byteLimit": 2048000,
      "rowLimit": 10000
     },
     "inputWidgets": {},
     "nuid": "b5b4503b-b82b-4618-99cf-6b64d838fedf",
     "showTitle": false,
     "tableResultSettingsMap": {},
     "title": ""
    }
   },
   "outputs": [
    {
     "output_type": "display_data",
     "data": {
      "text/html": [
       "<style scoped>\n",
       "  .table-result-container {\n",
       "    max-height: 300px;\n",
       "    overflow: auto;\n",
       "  }\n",
       "  table, th, td {\n",
       "    border: 1px solid black;\n",
       "    border-collapse: collapse;\n",
       "  }\n",
       "  th, td {\n",
       "    padding: 5px;\n",
       "  }\n",
       "  th {\n",
       "    text-align: left;\n",
       "  }\n",
       "</style><div class='table-result-container'><table class='table-result'><thead style='background-color: white'><tr><th>transaction_id</th><th>customer_id</th><th>transaction_date</th><th>amount</th><th>category</th></tr></thead><tbody><tr><td>1</td><td>3065</td><td>2025-03-17</td><td>76.10</td><td>Clothes</td></tr><tr><td>2</td><td>3274</td><td>2025-02-18</td><td>91.91</td><td>Clothes</td></tr><tr><td>3</td><td>130</td><td>2025-01-10</td><td>11.81</td><td>Accessories</td></tr><tr><td>4</td><td>320</td><td>2025-03-06</td><td>20.37</td><td>Furniture</td></tr><tr><td>5</td><td>6480</td><td>2025-03-22</td><td>12.31</td><td>Beauty</td></tr></tbody></table></div>"
      ]
     },
     "metadata": {
      "application/vnd.databricks.v1+output": {
       "addedWidgets": {},
       "aggData": [],
       "aggError": "",
       "aggOverflow": false,
       "aggSchema": [],
       "aggSeriesLimitReached": false,
       "aggType": "",
       "arguments": {},
       "columnCustomDisplayInfos": {},
       "data": [
        [
         1,
         3065,
         "2025-03-17",
         "76.10",
         "Clothes"
        ],
        [
         2,
         3274,
         "2025-02-18",
         "91.91",
         "Clothes"
        ],
        [
         3,
         130,
         "2025-01-10",
         "11.81",
         "Accessories"
        ],
        [
         4,
         320,
         "2025-03-06",
         "20.37",
         "Furniture"
        ],
        [
         5,
         6480,
         "2025-03-22",
         "12.31",
         "Beauty"
        ]
       ],
       "datasetInfos": [],
       "dbfsResultPath": null,
       "isJsonSchema": true,
       "metadata": {},
       "overflow": false,
       "plotOptions": {
        "customPlotOptions": {},
        "displayType": "table",
        "pivotAggregation": null,
        "pivotColumns": null,
        "xColumns": null,
        "yColumns": null
       },
       "removedWidgets": [],
       "schema": [
        {
         "metadata": "{}",
         "name": "transaction_id",
         "type": "\"long\""
        },
        {
         "metadata": "{}",
         "name": "customer_id",
         "type": "\"integer\""
        },
        {
         "metadata": "{}",
         "name": "transaction_date",
         "type": "\"date\""
        },
        {
         "metadata": "{}",
         "name": "amount",
         "type": "\"decimal(10,2)\""
        },
        {
         "metadata": "{}",
         "name": "category",
         "type": "\"string\""
        }
       ],
       "type": "table"
      }
     },
     "output_type": "display_data"
    }
   ],
   "source": [
    "from pyspark.sql import functions as F\n",
    "\n",
    "# Path to transactions data\n",
    "parquet_path = \"abfss://pyspark@warnerdatalake.dfs.core.windows.net//imports//transactions_data.parquet\"\n",
    "\n",
    "# Load transactions data\n",
    "df_transactions = spark.read.parquet(parquet_path)\n",
    "\n",
    "df_transactions.limit(5).display()"
   ]
  },
  {
   "cell_type": "markdown",
   "metadata": {
    "application/vnd.databricks.v1+cell": {
     "cellMetadata": {},
     "inputWidgets": {},
     "nuid": "6baf41cf-ec12-44a9-bcf3-f14dfe38aebb",
     "showTitle": false,
     "tableResultSettingsMap": {},
     "title": ""
    }
   },
   "source": [
    "And apply a transformation"
   ]
  },
  {
   "cell_type": "code",
   "execution_count": 0,
   "metadata": {
    "application/vnd.databricks.v1+cell": {
     "cellMetadata": {
      "byteLimit": 2048000,
      "rowLimit": 10000
     },
     "inputWidgets": {},
     "nuid": "ac1064c7-5a43-41fa-a77b-5a2c9dc19c23",
     "showTitle": false,
     "tableResultSettingsMap": {},
     "title": ""
    }
   },
   "outputs": [
    {
     "output_type": "display_data",
     "data": {
      "text/html": [
       "<style scoped>\n",
       "  .table-result-container {\n",
       "    max-height: 300px;\n",
       "    overflow: auto;\n",
       "  }\n",
       "  table, th, td {\n",
       "    border: 1px solid black;\n",
       "    border-collapse: collapse;\n",
       "  }\n",
       "  th, td {\n",
       "    padding: 5px;\n",
       "  }\n",
       "  th {\n",
       "    text-align: left;\n",
       "  }\n",
       "</style><div class='table-result-container'><table class='table-result'><thead style='background-color: white'><tr><th>transaction_id</th><th>customer_id</th><th>transaction_date</th><th>amount</th><th>category</th></tr></thead><tbody><tr><td>1</td><td>3065</td><td>2025-03-17</td><td>76.10</td><td>Clothes</td></tr><tr><td>2</td><td>3274</td><td>2025-02-18</td><td>91.91</td><td>Clothes</td></tr><tr><td>7</td><td>4569</td><td>2025-01-07</td><td>56.95</td><td>Electronics</td></tr><tr><td>8</td><td>7229</td><td>2025-02-18</td><td>94.80</td><td>Furniture</td></tr><tr><td>10</td><td>3791</td><td>2025-03-02</td><td>99.60</td><td>Accessories</td></tr></tbody></table></div>"
      ]
     },
     "metadata": {
      "application/vnd.databricks.v1+output": {
       "addedWidgets": {},
       "aggData": [],
       "aggError": "",
       "aggOverflow": false,
       "aggSchema": [],
       "aggSeriesLimitReached": false,
       "aggType": "",
       "arguments": {},
       "columnCustomDisplayInfos": {},
       "data": [
        [
         1,
         3065,
         "2025-03-17",
         "76.10",
         "Clothes"
        ],
        [
         2,
         3274,
         "2025-02-18",
         "91.91",
         "Clothes"
        ],
        [
         7,
         4569,
         "2025-01-07",
         "56.95",
         "Electronics"
        ],
        [
         8,
         7229,
         "2025-02-18",
         "94.80",
         "Furniture"
        ],
        [
         10,
         3791,
         "2025-03-02",
         "99.60",
         "Accessories"
        ]
       ],
       "datasetInfos": [],
       "dbfsResultPath": null,
       "isJsonSchema": true,
       "metadata": {},
       "overflow": false,
       "plotOptions": {
        "customPlotOptions": {},
        "displayType": "table",
        "pivotAggregation": null,
        "pivotColumns": null,
        "xColumns": null,
        "yColumns": null
       },
       "removedWidgets": [],
       "schema": [
        {
         "metadata": "{}",
         "name": "transaction_id",
         "type": "\"long\""
        },
        {
         "metadata": "{}",
         "name": "customer_id",
         "type": "\"integer\""
        },
        {
         "metadata": "{}",
         "name": "transaction_date",
         "type": "\"date\""
        },
        {
         "metadata": "{}",
         "name": "amount",
         "type": "\"decimal(10,2)\""
        },
        {
         "metadata": "{}",
         "name": "category",
         "type": "\"string\""
        }
       ],
       "type": "table"
      }
     },
     "output_type": "display_data"
    }
   ],
   "source": [
    "# Filtering for high-value transactions)\n",
    "df_filtered = df_transactions.filter(F.col(\"amount\") > 50)\n",
    "\n",
    "# Display sample data\n",
    "df_filtered.limit(5).display()"
   ]
  },
  {
   "cell_type": "markdown",
   "metadata": {
    "application/vnd.databricks.v1+cell": {
     "cellMetadata": {},
     "inputWidgets": {},
     "nuid": "973a4789-81ad-4a18-bc9c-c28355a8ae5c",
     "showTitle": false,
     "tableResultSettingsMap": {},
     "title": ""
    }
   },
   "source": [
    "We can easily cache this dataframe"
   ]
  },
  {
   "cell_type": "code",
   "execution_count": 0,
   "metadata": {
    "application/vnd.databricks.v1+cell": {
     "cellMetadata": {
      "byteLimit": 2048000,
      "rowLimit": 10000
     },
     "inputWidgets": {},
     "nuid": "70adbd8d-40a2-4599-baac-e72c44490353",
     "showTitle": false,
     "tableResultSettingsMap": {},
     "title": ""
    }
   },
   "outputs": [
    {
     "output_type": "execute_result",
     "data": {
      "text/plain": [
       "500220"
      ]
     },
     "execution_count": 5,
     "metadata": {},
     "output_type": "execute_result"
    }
   ],
   "source": [
    "# Cache() stores the DataFrame in memory but still allows Spark to evict it when memory is full\n",
    "df_filtered.cache() # .\n",
    "\n",
    "# Trigger an action to load data into cache\n",
    "df_filtered.count()  # Forces computation & caching\n"
   ]
  },
  {
   "cell_type": "code",
   "execution_count": 0,
   "metadata": {
    "application/vnd.databricks.v1+cell": {
     "cellMetadata": {
      "byteLimit": 2048000,
      "rowLimit": 10000
     },
     "inputWidgets": {},
     "nuid": "88835431-c0a7-4ead-b60f-d370cf1145c7",
     "showTitle": false,
     "tableResultSettingsMap": {},
     "title": ""
    }
   },
   "outputs": [
    {
     "output_type": "stream",
     "name": "stdout",
     "output_type": "stream",
     "text": [
      "Is DataFrame Cached? True\n"
     ]
    }
   ],
   "source": [
    "# Verify if the DataFrame is cached\n",
    "print(f\"Is DataFrame Cached? {df_filtered.is_cached}\")\n"
   ]
  },
  {
   "cell_type": "markdown",
   "metadata": {
    "application/vnd.databricks.v1+cell": {
     "cellMetadata": {},
     "inputWidgets": {},
     "nuid": "018697de-96dd-4dea-9b6f-270e2f76c070",
     "showTitle": false,
     "tableResultSettingsMap": {},
     "title": ""
    }
   },
   "source": [
    "Check the plan"
   ]
  },
  {
   "cell_type": "code",
   "execution_count": 0,
   "metadata": {
    "application/vnd.databricks.v1+cell": {
     "cellMetadata": {
      "byteLimit": 2048000,
      "rowLimit": 10000
     },
     "inputWidgets": {},
     "nuid": "aab1353a-f5eb-4bc7-8143-24a9ba864a09",
     "showTitle": false,
     "tableResultSettingsMap": {},
     "title": ""
    }
   },
   "outputs": [
    {
     "output_type": "stream",
     "name": "stdout",
     "output_type": "stream",
     "text": [
      "== Parsed Logical Plan ==\n'Filter '`>`('amount, 50)\n+- Relation [transaction_id#929L,customer_id#930,transaction_date#931,amount#932,category#933] parquet\n\n== Analyzed Logical Plan ==\ntransaction_id: bigint, customer_id: int, transaction_date: date, amount: decimal(10,2), category: string\nFilter (amount#932 > cast(cast(50 as decimal(2,0)) as decimal(10,2)))\n+- Relation [transaction_id#929L,customer_id#930,transaction_date#931,amount#932,category#933] parquet\n\n== Optimized Logical Plan ==\nInMemoryRelation [transaction_id#929L, customer_id#930, transaction_date#931, amount#932, category#933], StorageLevel(disk, memory, deserialized, 1 replicas)\n   +- *(1) Filter (isnotnull(amount#932) AND (amount#932 > 50.00))\n      +- *(1) ColumnarToRow\n         +- FileScan parquet [transaction_id#929L,customer_id#930,transaction_date#931,amount#932,category#933] Batched: true, DataFilters: [isnotnull(amount#932), (amount#932 > 50.00)], Format: Parquet, Location: InMemoryFileIndex(1 paths)[abfss://pyspark@warnerdatalake.dfs.core.windows.net/imports/transactio..., PartitionFilters: [], PushedFilters: [IsNotNull(amount), GreaterThan(amount,50.00)], ReadSchema: struct<transaction_id:bigint,customer_id:int,transaction_date:date,amount:decimal(10,2),category:...\n\n== Physical Plan ==\nInMemoryTableScan [transaction_id#929L, customer_id#930, transaction_date#931, amount#932, category#933]\n   +- InMemoryRelation [transaction_id#929L, customer_id#930, transaction_date#931, amount#932, category#933], StorageLevel(disk, memory, deserialized, 1 replicas)\n         +- *(1) Filter (isnotnull(amount#932) AND (amount#932 > 50.00))\n            +- *(1) ColumnarToRow\n               +- FileScan parquet [transaction_id#929L,customer_id#930,transaction_date#931,amount#932,category#933] Batched: true, DataFilters: [isnotnull(amount#932), (amount#932 > 50.00)], Format: Parquet, Location: InMemoryFileIndex(1 paths)[abfss://pyspark@warnerdatalake.dfs.core.windows.net/imports/transactio..., PartitionFilters: [], PushedFilters: [IsNotNull(amount), GreaterThan(amount,50.00)], ReadSchema: struct<transaction_id:bigint,customer_id:int,transaction_date:date,amount:decimal(10,2),category:...\n\n"
     ]
    }
   ],
   "source": [
    "df_filtered.explain(True)\n"
   ]
  },
  {
   "cell_type": "markdown",
   "metadata": {
    "application/vnd.databricks.v1+cell": {
     "cellMetadata": {},
     "inputWidgets": {},
     "nuid": "9d658bc1-3af3-42a0-ada0-ccd918a65dcb",
     "showTitle": false,
     "tableResultSettingsMap": {},
     "title": ""
    }
   },
   "source": [
    "Compare to uncached"
   ]
  },
  {
   "cell_type": "code",
   "execution_count": 0,
   "metadata": {
    "application/vnd.databricks.v1+cell": {
     "cellMetadata": {
      "byteLimit": 2048000,
      "rowLimit": 10000
     },
     "inputWidgets": {},
     "nuid": "5ecbaf7f-63cf-4a5e-876c-3e302a77a5b1",
     "showTitle": false,
     "tableResultSettingsMap": {},
     "title": ""
    }
   },
   "outputs": [
    {
     "output_type": "stream",
     "name": "stdout",
     "output_type": "stream",
     "text": [
      "== Parsed Logical Plan ==\n'Filter '`>`('amount, 60)\n+- Relation [transaction_id#929L,customer_id#930,transaction_date#931,amount#932,category#933] parquet\n\n== Analyzed Logical Plan ==\ntransaction_id: bigint, customer_id: int, transaction_date: date, amount: decimal(10,2), category: string\nFilter (amount#932 > cast(cast(60 as decimal(2,0)) as decimal(10,2)))\n+- Relation [transaction_id#929L,customer_id#930,transaction_date#931,amount#932,category#933] parquet\n\n== Optimized Logical Plan ==\nFilter (isnotnull(amount#932) AND (amount#932 > 60.00))\n+- Relation [transaction_id#929L,customer_id#930,transaction_date#931,amount#932,category#933] parquet\n\n== Physical Plan ==\n*(1) Filter (isnotnull(amount#932) AND (amount#932 > 60.00))\n+- *(1) ColumnarToRow\n   +- FileScan parquet [transaction_id#929L,customer_id#930,transaction_date#931,amount#932,category#933] Batched: true, DataFilters: [isnotnull(amount#932), (amount#932 > 60.00)], Format: Parquet, Location: InMemoryFileIndex(1 paths)[abfss://pyspark@warnerdatalake.dfs.core.windows.net/imports/transactio..., PartitionFilters: [], PushedFilters: [IsNotNull(amount), GreaterThan(amount,60.00)], ReadSchema: struct<transaction_id:bigint,customer_id:int,transaction_date:date,amount:decimal(10,2),category:...\n\n"
     ]
    }
   ],
   "source": [
    "df_uncached = df_transactions.filter(F.col(\"amount\") > 60)\n",
    "\n",
    "df_uncached.explain(True)  # Show execution plan"
   ]
  },
  {
   "cell_type": "markdown",
   "metadata": {
    "application/vnd.databricks.v1+cell": {
     "cellMetadata": {},
     "inputWidgets": {},
     "nuid": "db67420f-25a9-4377-98a7-35a90cda7122",
     "showTitle": false,
     "tableResultSettingsMap": {},
     "title": ""
    }
   },
   "source": [
    "Persist( ) offers more control"
   ]
  },
  {
   "cell_type": "code",
   "execution_count": 0,
   "metadata": {
    "application/vnd.databricks.v1+cell": {
     "cellMetadata": {
      "byteLimit": 2048000,
      "rowLimit": 10000
     },
     "inputWidgets": {},
     "nuid": "26e83db6-022d-43d0-804a-d99b86e14b08",
     "showTitle": false,
     "tableResultSettingsMap": {},
     "title": ""
    }
   },
   "outputs": [
    {
     "output_type": "stream",
     "name": "stdout",
     "output_type": "stream",
     "text": [
      "Is DataFrame Persisted? True\n"
     ]
    }
   ],
   "source": [
    "from pyspark import StorageLevel\n",
    "\n",
    "# Persist DataFrame in MEMORY_AND_DISK\n",
    "df_persisted = df_transactions.filter(F.col(\"amount\") > 50).persist(StorageLevel.MEMORY_AND_DISK)\n",
    "\n",
    "#MEMORY_ONLY → Stores data only in RAM (fastest but risky if memory runs out).\n",
    "#MEMORY_AND_DISK → Uses RAM first, then disk (best for large datasets).\n",
    "#DISK_ONLY → Stores only on disk (slowest but safest for big data).\n",
    "\n",
    "# Trigger computation\n",
    "df_persisted.count()\n",
    "\n",
    "# Verify persist status\n",
    "print(f\"Is DataFrame Persisted? {df_persisted.is_cached}\")\n"
   ]
  },
  {
   "cell_type": "markdown",
   "metadata": {
    "application/vnd.databricks.v1+cell": {
     "cellMetadata": {},
     "inputWidgets": {},
     "nuid": "19de8b35-a682-403a-b3fa-380dca637fdc",
     "showTitle": false,
     "tableResultSettingsMap": {},
     "title": ""
    }
   },
   "source": [
    "Clean up once you are done"
   ]
  },
  {
   "cell_type": "code",
   "execution_count": 0,
   "metadata": {
    "application/vnd.databricks.v1+cell": {
     "cellMetadata": {
      "byteLimit": 2048000,
      "rowLimit": 10000
     },
     "inputWidgets": {},
     "nuid": "0e97a1a3-b2f3-45e9-89a1-f2f8984fdc31",
     "showTitle": false,
     "tableResultSettingsMap": {},
     "title": ""
    }
   },
   "outputs": [
    {
     "output_type": "execute_result",
     "data": {
      "text/plain": [
       "DataFrame[transaction_id: bigint, customer_id: int, transaction_date: date, amount: decimal(10,2), category: string]"
      ]
     },
     "execution_count": 11,
     "metadata": {},
     "output_type": "execute_result"
    }
   ],
   "source": [
    "df_filtered.unpersist()\n",
    "df_persisted.unpersist()\n"
   ]
  }
 ],
 "metadata": {
  "application/vnd.databricks.v1+notebook": {
   "computePreferences": null,
   "dashboards": [],
   "environmentMetadata": {
    "base_environment": "",
    "environment_version": "2"
   },
   "language": "python",
   "notebookMetadata": {
    "pythonIndentUnit": 2
   },
   "notebookName": "07 - Memory Optimization",
   "widgets": {}
  },
  "language_info": {
   "name": "python"
  }
 },
 "nbformat": 4,
 "nbformat_minor": 0
}
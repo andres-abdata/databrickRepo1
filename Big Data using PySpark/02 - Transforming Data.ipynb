{
 "cells": [
  {
   "cell_type": "markdown",
   "metadata": {
    "application/vnd.databricks.v1+cell": {
     "cellMetadata": {},
     "inputWidgets": {},
     "nuid": "4694bb75-0869-4a46-9b9f-75c8fca4db8a",
     "showTitle": false,
     "tableResultSettingsMap": {},
     "title": ""
    }
   },
   "source": [
    "### Setup\n",
    "\n",
    "Make sure you have the files available from previous demos."
   ]
  },
  {
   "cell_type": "code",
   "execution_count": 0,
   "metadata": {
    "application/vnd.databricks.v1+cell": {
     "cellMetadata": {
      "byteLimit": 2048000,
      "rowLimit": 10000
     },
     "collapsed": true,
     "inputWidgets": {},
     "nuid": "e3c255ce-7851-4850-8ccd-f798372e3da9",
     "showTitle": false,
     "tableResultSettingsMap": {},
     "title": ""
    }
   },
   "outputs": [],
   "source": [
    "# This cell sets all the configuration parameters to connect to Azure Data Lake\n",
    "spark.conf.set(\"fs.azure.account.auth.type.<account_name>.dfs.core.windows.net\", \"OAuth\")\n",
    "spark.conf.set(\"fs.azure.account.oauth.provider.type.<account_name>.dfs.core.windows.net\", \"org.apache.hadoop.fs.azurebfs.oauth2.ClientCredsTokenProvider\")\n",
    "spark.conf.set(\"fs.azure.account.oauth2.client.id.<account_name>.dfs.core.windows.net\", \"****************************\")\n",
    "spark.conf.set(\"fs.azure.account.oauth2.client.secret.<account_name>.dfs.core.windows.net\", \"*******************************\")\n",
    "spark.conf.set(\"fs.azure.account.oauth2.client.endpoint.<account_name>.dfs.core.windows.net\", \"https://login.microsoftonline.com/************************/oauth2/token\")"
   ]
  },
  {
   "cell_type": "markdown",
   "metadata": {
    "application/vnd.databricks.v1+cell": {
     "cellMetadata": {},
     "inputWidgets": {},
     "nuid": "05dc8896-caea-4f87-8175-6c80d31c6293",
     "showTitle": false,
     "tableResultSettingsMap": {},
     "title": ""
    }
   },
   "source": [
    "Verify that cloud storage is accessible"
   ]
  },
  {
   "cell_type": "code",
   "execution_count": 0,
   "metadata": {
    "application/vnd.databricks.v1+cell": {
     "cellMetadata": {
      "byteLimit": 2048000,
      "rowLimit": 10000
     },
     "inputWidgets": {},
     "nuid": "950ffc86-3822-465e-8238-ed8860012cbd",
     "showTitle": false,
     "tableResultSettingsMap": {},
     "title": ""
    }
   },
   "outputs": [],
   "source": [
    "display(dbutils.fs.ls(\"abfss://etl1@dbstoragebbpbs73u57xmm.dfs.core.windows.net/\"))"
   ]
  },
  {
   "cell_type": "markdown",
   "metadata": {
    "application/vnd.databricks.v1+cell": {
     "cellMetadata": {},
     "inputWidgets": {},
     "nuid": "74e50eec-58f4-4291-91ce-b416fd58d794",
     "showTitle": false,
     "tableResultSettingsMap": {},
     "title": ""
    }
   },
   "source": [
    "Let's load the dataframe"
   ]
  },
  {
   "cell_type": "code",
   "execution_count": 0,
   "metadata": {
    "application/vnd.databricks.v1+cell": {
     "cellMetadata": {
      "byteLimit": 2048000,
      "rowLimit": 10000
     },
     "inputWidgets": {},
     "nuid": "904e6d55-8ae9-4bdd-8dd2-4f31d1496eb4",
     "showTitle": false,
     "tableResultSettingsMap": {},
     "title": ""
    }
   },
   "outputs": [],
   "source": [
    "parquet_path=\"abfss://etl1@dbstoragebbpbs73u57xmm.dfs.core.windows.net/customers_data.parquet\"\n",
    "df_customers = spark.read.parquet(parquet_path)\n",
    "\n",
    "print(\"Parquet Data:\")\n",
    "display(df_customers.limit(20))\n"
   ]
  },
  {
   "cell_type": "markdown",
   "metadata": {
    "application/vnd.databricks.v1+cell": {
     "cellMetadata": {},
     "inputWidgets": {},
     "nuid": "22e42663-da42-4798-be82-fbfa0146faaf",
     "showTitle": false,
     "tableResultSettingsMap": {},
     "title": ""
    },
    "jupyter": {
     "outputs_hidden": true
    }
   },
   "source": [
    "Let's try some filters"
   ]
  },
  {
   "cell_type": "code",
   "execution_count": 0,
   "metadata": {
    "application/vnd.databricks.v1+cell": {
     "cellMetadata": {
      "byteLimit": 2048000,
      "rowLimit": 10000
     },
     "inputWidgets": {},
     "nuid": "8c7c8c63-dd79-43a3-97dc-ed994fe7aac0",
     "showTitle": false,
     "tableResultSettingsMap": {},
     "title": ""
    }
   },
   "outputs": [],
   "source": [
    "from pyspark.sql import functions as F\n",
    "\n",
    "df_over_40 = df_customers.filter(F.col(\"age\") > 40)\n",
    "df_over_40.limit(5).display()\n",
    "\n",
    "# from pyspark.sql import functions as F\n",
    "\n",
    "# df_over_40 = df_customers.filter(F.col(\"age\") > 40)\n",
    "# df_over_40.limit(5).display()\n"
   ]
  },
  {
   "cell_type": "code",
   "execution_count": 0,
   "metadata": {
    "application/vnd.databricks.v1+cell": {
     "cellMetadata": {
      "byteLimit": 2048000,
      "rowLimit": 10000
     },
     "inputWidgets": {},
     "nuid": "47d8022c-7c8e-499f-83a7-8436745fa4bd",
     "showTitle": false,
     "tableResultSettingsMap": {},
     "title": ""
    }
   },
   "outputs": [],
   "source": [
    "df_over_40 = df_customers.filter(df_customers['age'] > 40)\n",
    "df_over_40.limit(5).display()\n",
    "\n",
    "# # An alternate syntax using []\n",
    "# df_over_40 = df_customers.filter(df_customers['age'] > 40)\n",
    "# df_over_40.limit(5).display()\n"
   ]
  },
  {
   "cell_type": "code",
   "execution_count": 0,
   "metadata": {
    "application/vnd.databricks.v1+cell": {
     "cellMetadata": {
      "byteLimit": 2048000,
      "rowLimit": 10000
     },
     "inputWidgets": {},
     "nuid": "0630c665-065e-4b36-abed-fc4da3824af7",
     "showTitle": false,
     "tableResultSettingsMap": {},
     "title": ""
    }
   },
   "outputs": [],
   "source": [
    "df_over_40 = df_customers.filter(df_customers.age > 40)\n",
    "df_over_40.limit(5).display()\n",
    "\n",
    "# # Another alternate syntax using dataframe.column notation\n",
    "# df_over_40 = df_customers.filter(df_customers.age > 40)\n",
    "# df_over_40.limit(5).display()"
   ]
  },
  {
   "cell_type": "code",
   "execution_count": 0,
   "metadata": {
    "application/vnd.databricks.v1+cell": {
     "cellMetadata": {
      "byteLimit": 2048000,
      "rowLimit": 10000
     },
     "inputWidgets": {},
     "nuid": "11888487-2b71-4a7d-a234-658afe434528",
     "showTitle": false,
     "tableResultSettingsMap": {},
     "title": ""
    }
   },
   "outputs": [],
   "source": [
    "df_usa = df_customers.filter(F.col(\"country\") == \"USA\")\n",
    "print(df_usa.count())\n",
    "\n",
    "# df_usa = df_customers.filter(F.col(\"country\") == \"USA\")\n",
    "# df_usa.limit(5).display()\n"
   ]
  },
  {
   "cell_type": "code",
   "execution_count": 0,
   "metadata": {
    "application/vnd.databricks.v1+cell": {
     "cellMetadata": {
      "byteLimit": 2048000,
      "rowLimit": 10000
     },
     "inputWidgets": {},
     "nuid": "7b84d2ac-7592-46fd-b586-a2794932530b",
     "showTitle": false,
     "tableResultSettingsMap": {},
     "title": ""
    }
   },
   "outputs": [],
   "source": [
    "df_usa_over_40 = df_customers.filter((F.col(\"country\") == \"USA\") & (F.col(\"Age\") > 40))\n",
    "display(df_usa_over_40)\n",
    "\n",
    "# df_usa_over_40 = df_customers.filter((F.col(\"country\") == \"USA\") & (F.col(\"age\") > 40))\n",
    "# df_usa_over_40.limit(5).display()"
   ]
  },
  {
   "cell_type": "markdown",
   "metadata": {
    "application/vnd.databricks.v1+cell": {
     "cellMetadata": {},
     "inputWidgets": {},
     "nuid": "30ff9186-cabd-4396-a380-2b60f8ff80d6",
     "showTitle": false,
     "tableResultSettingsMap": {},
     "title": ""
    }
   },
   "source": [
    "We can easily sort the dataset as well"
   ]
  },
  {
   "cell_type": "code",
   "execution_count": 0,
   "metadata": {
    "application/vnd.databricks.v1+cell": {
     "cellMetadata": {
      "byteLimit": 2048000,
      "rowLimit": 10000
     },
     "inputWidgets": {},
     "nuid": "1b379930-5177-4f9d-ba0d-8a6c8aa778ca",
     "showTitle": false,
     "tableResultSettingsMap": {},
     "title": ""
    }
   },
   "outputs": [],
   "source": [
    "df_sorted = df_customers.orderBy(F.col(\"age\").asc())\n",
    "display(df_sorted)\n",
    "\n",
    "# df_sorted_age = df_customers.orderBy(F.col(\"age\").asc())\n",
    "# df_sorted_age.limit(5).display()\n"
   ]
  },
  {
   "cell_type": "code",
   "execution_count": 0,
   "metadata": {
    "application/vnd.databricks.v1+cell": {
     "cellMetadata": {
      "byteLimit": 2048000,
      "rowLimit": 10000
     },
     "inputWidgets": {},
     "nuid": "f1dd1222-a014-4f74-a121-b285bb0115df",
     "showTitle": false,
     "tableResultSettingsMap": {},
     "title": ""
    }
   },
   "outputs": [],
   "source": [
    "df_sorted_country_age = df_customers.orderBy(F.col(\"country\").asc(), F.col(\"age\").desc())\n",
    "display(df_sorted_country_age)\n",
    "\n",
    "# df_sorted_country_age = df_customers.orderBy(F.col(\"country\").asc(), F.col(\"age\").desc())\n",
    "# df_sorted_country_age.limit(5).display()\n"
   ]
  },
  {
   "cell_type": "markdown",
   "metadata": {
    "application/vnd.databricks.v1+cell": {
     "cellMetadata": {},
     "inputWidgets": {},
     "nuid": "53c2d43b-e48b-4e41-a31a-89c21856dd78",
     "showTitle": false,
     "tableResultSettingsMap": {},
     "title": ""
    }
   },
   "source": [
    "We can do column operations"
   ]
  },
  {
   "cell_type": "code",
   "execution_count": 0,
   "metadata": {
    "application/vnd.databricks.v1+cell": {
     "cellMetadata": {
      "byteLimit": 2048000,
      "rowLimit": 10000
     },
     "inputWidgets": {},
     "nuid": "c1712017-933c-4067-8f5e-3be30aa5f2a3",
     "showTitle": false,
     "tableResultSettingsMap": {},
     "title": ""
    }
   },
   "outputs": [],
   "source": [
    "df_select_columns = df_customers.select('customer_id','first_name','country')\n",
    "df_select_columns.limit(5).display()\n",
    "\n",
    "# df_select_columns = df_customers.select(\"customer_id\", \"first_name\", \"country\")\n",
    "# df_select_columns.limit(5).display()\n"
   ]
  },
  {
   "cell_type": "code",
   "execution_count": 0,
   "metadata": {
    "application/vnd.databricks.v1+cell": {
     "cellMetadata": {
      "byteLimit": 2048000,
      "rowLimit": 10000
     },
     "inputWidgets": {},
     "nuid": "f5402c14-c11c-4ba0-b58a-299830ec6bf9",
     "showTitle": false,
     "tableResultSettingsMap": {},
     "title": ""
    }
   },
   "outputs": [],
   "source": [
    "# print(df_customers.count())\n",
    "# print(df_customers.filter(F.col('age') > 40).count())\n",
    "# df_customers = df_customers.filter(F.col('age') > 40)\n",
    "\n",
    "# print(df_customers.count())\n",
    "\n",
    "df_renamed = df_customers.withColumnRenamed(\"first_name\", \"fname\") \\\n",
    "                         .withColumnRenamed(\"last_name\", \"lname\")\n",
    "df_renamed.limit(5).display()\n"
   ]
  },
  {
   "cell_type": "markdown",
   "metadata": {
    "application/vnd.databricks.v1+cell": {
     "cellMetadata": {},
     "inputWidgets": {},
     "nuid": "a9f09ec2-355a-4118-90b1-aac8b6ad70a5",
     "showTitle": false,
     "tableResultSettingsMap": {},
     "title": ""
    }
   },
   "source": [
    "We can also cast data types if needed"
   ]
  },
  {
   "cell_type": "code",
   "execution_count": 0,
   "metadata": {
    "application/vnd.databricks.v1+cell": {
     "cellMetadata": {
      "byteLimit": 2048000,
      "rowLimit": 10000
     },
     "inputWidgets": {},
     "nuid": "55c4e4c0-8955-474d-a87b-89dc19e42b1c",
     "showTitle": false,
     "tableResultSettingsMap": {},
     "title": ""
    }
   },
   "outputs": [],
   "source": [
    "df_casted = df_customers.withColumn(\"ageAsString\", F.col(\"age\").cast(\"string\"))\n",
    "df_casted.printSchema()\n",
    "df_casted.limit(5).display()\n",
    "\n",
    "# df_casted = df_customers.withColumn(\"age_str\", F.col(\"age\").cast(\"string\"))\n",
    "# df_casted.printSchema()\n",
    "# df_casted.limit(5).display()"
   ]
  },
  {
   "cell_type": "markdown",
   "metadata": {
    "application/vnd.databricks.v1+cell": {
     "cellMetadata": {},
     "inputWidgets": {},
     "nuid": "a4689009-fc31-4aa8-ac50-9f52dc9c27f2",
     "showTitle": false,
     "tableResultSettingsMap": {},
     "title": ""
    }
   },
   "source": [
    "We can add and drop columns"
   ]
  },
  {
   "cell_type": "code",
   "execution_count": 0,
   "metadata": {
    "application/vnd.databricks.v1+cell": {
     "cellMetadata": {
      "byteLimit": 2048000,
      "rowLimit": 10000
     },
     "inputWidgets": {},
     "nuid": "6a265bfa-6287-4878-919e-353b7429ef28",
     "showTitle": false,
     "tableResultSettingsMap": {},
     "title": ""
    }
   },
   "outputs": [],
   "source": [
    "df_age_group = df_customers.withColumn(\n",
    "    'AgeGroup',\n",
    "    F.when(F.col('age') < 30, 'Young')\n",
    "    .when((F.col('age') >= 30) & (F.col('age') < 50), 'Middle-aged')\n",
    "    .otherwise('Senior')\n",
    ")\n",
    "\n",
    "df_age_group.limit(5).display()  \n",
    "           \n",
    "                                       \n",
    "     \n",
    "\n",
    "\n",
    "# df_age_group = df_customers.withColumn(\n",
    "#     \"age_group\", \n",
    "#     F.when(F.col(\"age\") < 30, \"Young\")\n",
    "#      .when((F.col(\"age\") >= 30) & (F.col(\"age\") < 50), \"Middle-aged\")\n",
    "#      .otherwise(\"Senior\")\n",
    "# )\n",
    "# df_age_group.limit(5).display()\n"
   ]
  },
  {
   "cell_type": "code",
   "execution_count": 0,
   "metadata": {
    "application/vnd.databricks.v1+cell": {
     "cellMetadata": {
      "byteLimit": 2048000,
      "rowLimit": 10000
     },
     "inputWidgets": {},
     "nuid": "592cb9db-8c69-42fc-a88e-1da26236d093",
     "showTitle": false,
     "tableResultSettingsMap": {},
     "title": ""
    }
   },
   "outputs": [],
   "source": [
    "df_dropped = df_customers.drop('email')\n",
    "df_dropped.limit(5).display()\n",
    "\n",
    "\n",
    "# df_dropped = df_customers.drop(\"email\")\n",
    "# df_dropped.limit(5).display()"
   ]
  },
  {
   "cell_type": "markdown",
   "metadata": {
    "application/vnd.databricks.v1+cell": {
     "cellMetadata": {},
     "inputWidgets": {},
     "nuid": "cbed9bbf-7a09-4441-b868-5d18a011ebb7",
     "showTitle": false,
     "tableResultSettingsMap": {},
     "title": ""
    }
   },
   "source": [
    "And we can combine all these operations if needed"
   ]
  },
  {
   "cell_type": "code",
   "execution_count": 0,
   "metadata": {
    "application/vnd.databricks.v1+cell": {
     "cellMetadata": {
      "byteLimit": 2048000,
      "rowLimit": 10000
     },
     "inputWidgets": {},
     "nuid": "61db8046-2dbd-430f-85fb-9c333a315c6a",
     "showTitle": false,
     "tableResultSettingsMap": {},
     "title": ""
    }
   },
   "outputs": [],
   "source": [
    "df_transformed = (\n",
    "    df_customers\n",
    "        .filter(F.col(\"age\") > 30)\n",
    "        .orderBy(F.col(\"age\").desc())\n",
    "        .select(\"customer_id\", \"first_name\", \"last_name\", \"age\", \"country\")\n",
    "        .withColumnRenamed(\"first_name\", \"fname\")\n",
    "        .withColumnRenamed(\"last_name\", \"lname\")\n",
    "        .withColumn(\"age_str\", F.col(\"age\").cast(\"string\"))\n",
    "        .withColumn(\n",
    "            \"age_group\", \n",
    "            F.when(F.col(\"age\") < 30, \"Young\")\n",
    "             .when((F.col(\"age\") >= 30) & (F.col(\"age\") < 50), \"Middle-aged\")\n",
    "             .otherwise(\"Senior\")\n",
    "        )\n",
    ")\n",
    "\n",
    "df_transformed.limit(5).display()"
   ]
  }
 ],
 "metadata": {
  "application/vnd.databricks.v1+notebook": {
   "computePreferences": null,
   "dashboards": [],
   "environmentMetadata": {
    "base_environment": "",
    "environment_version": "2"
   },
   "inputWidgetPreferences": null,
   "language": "python",
   "notebookMetadata": {
    "pythonIndentUnit": 4
   },
   "notebookName": "02 - Transforming Data",
   "widgets": {}
  },
  "language_info": {
   "name": "python"
  }
 },
 "nbformat": 4,
 "nbformat_minor": 0
}

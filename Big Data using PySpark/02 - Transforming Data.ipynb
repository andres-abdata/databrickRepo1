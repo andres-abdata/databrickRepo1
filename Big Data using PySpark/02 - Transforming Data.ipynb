{
 "cells": [
  {
   "cell_type": "markdown",
   "metadata": {
    "application/vnd.databricks.v1+cell": {
     "cellMetadata": {},
     "inputWidgets": {},
     "nuid": "4694bb75-0869-4a46-9b9f-75c8fca4db8a",
     "showTitle": false,
     "tableResultSettingsMap": {},
     "title": ""
    },
    "jupyter": {
     "outputs_hidden": true
    }
   },
   "source": [
    "### Setup\n",
    "\n",
    "Make sure you have the files available from previous demos."
   ]
  },
  {
   "cell_type": "code",
   "execution_count": 0,
   "metadata": {
    "application/vnd.databricks.v1+cell": {
     "cellMetadata": {
      "byteLimit": 2048000,
      "rowLimit": 10000
     },
     "collapsed": true,
     "inputWidgets": {},
     "nuid": "e3c255ce-7851-4850-8ccd-f798372e3da9",
     "showTitle": false,
     "tableResultSettingsMap": {},
     "title": ""
    }
   },
   "outputs": [],
   "source": [
    "# This cell sets all the configuration parameters to connect to Azure Data Lake\n",
    "spark.conf.set(\"fs.azure.account.auth.type.<account_name>.dfs.core.windows.net\", \"OAuth\")\n",
    "spark.conf.set(\"fs.azure.account.oauth.provider.type.<account_name>.dfs.core.windows.net\", \"org.apache.hadoop.fs.azurebfs.oauth2.ClientCredsTokenProvider\")\n",
    "spark.conf.set(\"fs.azure.account.oauth2.client.id.<account_name>.dfs.core.windows.net\", \"****************************\")\n",
    "spark.conf.set(\"fs.azure.account.oauth2.client.secret.<account_name>.dfs.core.windows.net\", \"*******************************\")\n",
    "spark.conf.set(\"fs.azure.account.oauth2.client.endpoint.<account_name>.dfs.core.windows.net\", \"https://login.microsoftonline.com/************************/oauth2/token\")"
   ]
  },
  {
   "cell_type": "markdown",
   "metadata": {
    "application/vnd.databricks.v1+cell": {
     "cellMetadata": {},
     "inputWidgets": {},
     "nuid": "05dc8896-caea-4f87-8175-6c80d31c6293",
     "showTitle": false,
     "tableResultSettingsMap": {},
     "title": ""
    }
   },
   "source": [
    "Verify that cloud storage is accessible"
   ]
  },
  {
   "cell_type": "code",
   "execution_count": 0,
   "metadata": {
    "application/vnd.databricks.v1+cell": {
     "cellMetadata": {
      "byteLimit": 2048000,
      "rowLimit": 10000
     },
     "inputWidgets": {},
     "nuid": "950ffc86-3822-465e-8238-ed8860012cbd",
     "showTitle": false,
     "tableResultSettingsMap": {},
     "title": ""
    }
   },
   "outputs": [],
   "source": [
    "dbutils.fs.ls(\"abfss://pyspark@warnerdatalake.dfs.core.windows.net/\")"
   ]
  },
  {
   "cell_type": "markdown",
   "metadata": {
    "application/vnd.databricks.v1+cell": {
     "cellMetadata": {},
     "inputWidgets": {},
     "nuid": "74e50eec-58f4-4291-91ce-b416fd58d794",
     "showTitle": false,
     "tableResultSettingsMap": {},
     "title": ""
    }
   },
   "source": [
    "Let's load the dataframe"
   ]
  },
  {
   "cell_type": "code",
   "execution_count": 0,
   "metadata": {
    "application/vnd.databricks.v1+cell": {
     "cellMetadata": {
      "byteLimit": 2048000,
      "rowLimit": 10000
     },
     "inputWidgets": {},
     "nuid": "904e6d55-8ae9-4bdd-8dd2-4f31d1496eb4",
     "showTitle": false,
     "tableResultSettingsMap": {},
     "title": ""
    }
   },
   "outputs": [
    {
     "output_type": "stream",
     "name": "stdout",
     "output_type": "stream",
     "text": [
      "Parquet Data:\n+-----------+----------+---------+--------------------+---+-------+\n|customer_id|first_name|last_name|               email|age|country|\n+-----------+----------+---------+--------------------+---+-------+\n|          1|   First_1|   Last_1|First_1.Last_1@ex...| 40| Canada|\n|          2|   First_2|   Last_2|First_2.Last_2@ex...| 55|    USA|\n|          3|   First_3|   Last_3|First_3.Last_3@ex...| 59|    USA|\n|          4|   First_4|   Last_4|First_4.Last_4@ex...| 49| Canada|\n|          5|   First_5|   Last_5|First_5.Last_5@ex...| 58| Canada|\n+-----------+----------+---------+--------------------+---+-------+\nonly showing top 5 rows\n"
     ]
    }
   ],
   "source": [
    "parquet_path=\"abfss://pyspark@warnerdatalake.dfs.core.windows.net//imports//customers_data.parquet\"\n",
    "df_customers = spark.read.parquet(parquet_path)\n",
    "\n",
    "print(\"Parquet Data:\")\n",
    "df_customers.show(5)"
   ]
  },
  {
   "cell_type": "markdown",
   "metadata": {
    "application/vnd.databricks.v1+cell": {
     "cellMetadata": {},
     "inputWidgets": {},
     "nuid": "22e42663-da42-4798-be82-fbfa0146faaf",
     "showTitle": false,
     "tableResultSettingsMap": {},
     "title": ""
    }
   },
   "source": [
    "Let's try some filters"
   ]
  },
  {
   "cell_type": "code",
   "execution_count": 0,
   "metadata": {
    "application/vnd.databricks.v1+cell": {
     "cellMetadata": {
      "byteLimit": 2048000,
      "rowLimit": 10000
     },
     "inputWidgets": {},
     "nuid": "8c7c8c63-dd79-43a3-97dc-ed994fe7aac0",
     "showTitle": false,
     "tableResultSettingsMap": {},
     "title": ""
    }
   },
   "outputs": [
    {
     "output_type": "display_data",
     "data": {
      "text/html": [
       "<style scoped>\n",
       "  .table-result-container {\n",
       "    max-height: 300px;\n",
       "    overflow: auto;\n",
       "  }\n",
       "  table, th, td {\n",
       "    border: 1px solid black;\n",
       "    border-collapse: collapse;\n",
       "  }\n",
       "  th, td {\n",
       "    padding: 5px;\n",
       "  }\n",
       "  th {\n",
       "    text-align: left;\n",
       "  }\n",
       "</style><div class='table-result-container'><table class='table-result'><thead style='background-color: white'><tr><th>customer_id</th><th>first_name</th><th>last_name</th><th>email</th><th>age</th><th>country</th></tr></thead><tbody><tr><td>2</td><td>First_2</td><td>Last_2</td><td>First_2.Last_2@example.com</td><td>55</td><td>USA</td></tr><tr><td>3</td><td>First_3</td><td>Last_3</td><td>First_3.Last_3@example.com</td><td>59</td><td>USA</td></tr><tr><td>4</td><td>First_4</td><td>Last_4</td><td>First_4.Last_4@example.com</td><td>49</td><td>Canada</td></tr><tr><td>5</td><td>First_5</td><td>Last_5</td><td>First_5.Last_5@example.com</td><td>58</td><td>Canada</td></tr><tr><td>6</td><td>First_6</td><td>Last_6</td><td>First_6.Last_6@example.com</td><td>55</td><td>USA</td></tr></tbody></table></div>"
      ]
     },
     "metadata": {
      "application/vnd.databricks.v1+output": {
       "addedWidgets": {},
       "aggData": [],
       "aggError": "",
       "aggOverflow": false,
       "aggSchema": [],
       "aggSeriesLimitReached": false,
       "aggType": "",
       "arguments": {},
       "columnCustomDisplayInfos": {},
       "data": [
        [
         2,
         "First_2",
         "Last_2",
         "First_2.Last_2@example.com",
         55,
         "USA"
        ],
        [
         3,
         "First_3",
         "Last_3",
         "First_3.Last_3@example.com",
         59,
         "USA"
        ],
        [
         4,
         "First_4",
         "Last_4",
         "First_4.Last_4@example.com",
         49,
         "Canada"
        ],
        [
         5,
         "First_5",
         "Last_5",
         "First_5.Last_5@example.com",
         58,
         "Canada"
        ],
        [
         6,
         "First_6",
         "Last_6",
         "First_6.Last_6@example.com",
         55,
         "USA"
        ]
       ],
       "datasetInfos": [],
       "dbfsResultPath": null,
       "isJsonSchema": true,
       "metadata": {},
       "overflow": false,
       "plotOptions": {
        "customPlotOptions": {},
        "displayType": "table",
        "pivotAggregation": null,
        "pivotColumns": null,
        "xColumns": null,
        "yColumns": null
       },
       "removedWidgets": [],
       "schema": [
        {
         "metadata": "{}",
         "name": "customer_id",
         "type": "\"long\""
        },
        {
         "metadata": "{}",
         "name": "first_name",
         "type": "\"string\""
        },
        {
         "metadata": "{}",
         "name": "last_name",
         "type": "\"string\""
        },
        {
         "metadata": "{}",
         "name": "email",
         "type": "\"string\""
        },
        {
         "metadata": "{}",
         "name": "age",
         "type": "\"long\""
        },
        {
         "metadata": "{}",
         "name": "country",
         "type": "\"string\""
        }
       ],
       "type": "table"
      }
     },
     "output_type": "display_data"
    }
   ],
   "source": [
    "from pyspark.sql import functions as F\n",
    "\n",
    "df_over_40 = df_customers.filter(F.col(\"age\") > 40)\n",
    "df_over_40.limit(5).display()\n"
   ]
  },
  {
   "cell_type": "code",
   "execution_count": 0,
   "metadata": {
    "application/vnd.databricks.v1+cell": {
     "cellMetadata": {
      "byteLimit": 2048000,
      "rowLimit": 10000
     },
     "inputWidgets": {},
     "nuid": "47d8022c-7c8e-499f-83a7-8436745fa4bd",
     "showTitle": false,
     "tableResultSettingsMap": {},
     "title": ""
    }
   },
   "outputs": [
    {
     "output_type": "display_data",
     "data": {
      "text/html": [
       "<style scoped>\n",
       "  .table-result-container {\n",
       "    max-height: 300px;\n",
       "    overflow: auto;\n",
       "  }\n",
       "  table, th, td {\n",
       "    border: 1px solid black;\n",
       "    border-collapse: collapse;\n",
       "  }\n",
       "  th, td {\n",
       "    padding: 5px;\n",
       "  }\n",
       "  th {\n",
       "    text-align: left;\n",
       "  }\n",
       "</style><div class='table-result-container'><table class='table-result'><thead style='background-color: white'><tr><th>customer_id</th><th>first_name</th><th>last_name</th><th>email</th><th>age</th><th>country</th></tr></thead><tbody><tr><td>2</td><td>First_2</td><td>Last_2</td><td>First_2.Last_2@example.com</td><td>55</td><td>USA</td></tr><tr><td>3</td><td>First_3</td><td>Last_3</td><td>First_3.Last_3@example.com</td><td>59</td><td>USA</td></tr><tr><td>4</td><td>First_4</td><td>Last_4</td><td>First_4.Last_4@example.com</td><td>49</td><td>Canada</td></tr><tr><td>5</td><td>First_5</td><td>Last_5</td><td>First_5.Last_5@example.com</td><td>58</td><td>Canada</td></tr><tr><td>6</td><td>First_6</td><td>Last_6</td><td>First_6.Last_6@example.com</td><td>55</td><td>USA</td></tr></tbody></table></div>"
      ]
     },
     "metadata": {
      "application/vnd.databricks.v1+output": {
       "addedWidgets": {},
       "aggData": [],
       "aggError": "",
       "aggOverflow": false,
       "aggSchema": [],
       "aggSeriesLimitReached": false,
       "aggType": "",
       "arguments": {},
       "columnCustomDisplayInfos": {},
       "data": [
        [
         2,
         "First_2",
         "Last_2",
         "First_2.Last_2@example.com",
         55,
         "USA"
        ],
        [
         3,
         "First_3",
         "Last_3",
         "First_3.Last_3@example.com",
         59,
         "USA"
        ],
        [
         4,
         "First_4",
         "Last_4",
         "First_4.Last_4@example.com",
         49,
         "Canada"
        ],
        [
         5,
         "First_5",
         "Last_5",
         "First_5.Last_5@example.com",
         58,
         "Canada"
        ],
        [
         6,
         "First_6",
         "Last_6",
         "First_6.Last_6@example.com",
         55,
         "USA"
        ]
       ],
       "datasetInfos": [],
       "dbfsResultPath": null,
       "isJsonSchema": true,
       "metadata": {},
       "overflow": false,
       "plotOptions": {
        "customPlotOptions": {},
        "displayType": "table",
        "pivotAggregation": null,
        "pivotColumns": null,
        "xColumns": null,
        "yColumns": null
       },
       "removedWidgets": [],
       "schema": [
        {
         "metadata": "{}",
         "name": "customer_id",
         "type": "\"long\""
        },
        {
         "metadata": "{}",
         "name": "first_name",
         "type": "\"string\""
        },
        {
         "metadata": "{}",
         "name": "last_name",
         "type": "\"string\""
        },
        {
         "metadata": "{}",
         "name": "email",
         "type": "\"string\""
        },
        {
         "metadata": "{}",
         "name": "age",
         "type": "\"long\""
        },
        {
         "metadata": "{}",
         "name": "country",
         "type": "\"string\""
        }
       ],
       "type": "table"
      }
     },
     "output_type": "display_data"
    }
   ],
   "source": [
    "# An alternate syntax using []\n",
    "df_over_40 = df_customers.filter(df_customers['age'] > 40)\n",
    "df_over_40.limit(5).display()\n"
   ]
  },
  {
   "cell_type": "code",
   "execution_count": 0,
   "metadata": {
    "application/vnd.databricks.v1+cell": {
     "cellMetadata": {
      "byteLimit": 2048000,
      "rowLimit": 10000
     },
     "inputWidgets": {},
     "nuid": "0630c665-065e-4b36-abed-fc4da3824af7",
     "showTitle": false,
     "tableResultSettingsMap": {},
     "title": ""
    }
   },
   "outputs": [
    {
     "output_type": "display_data",
     "data": {
      "text/html": [
       "<style scoped>\n",
       "  .table-result-container {\n",
       "    max-height: 300px;\n",
       "    overflow: auto;\n",
       "  }\n",
       "  table, th, td {\n",
       "    border: 1px solid black;\n",
       "    border-collapse: collapse;\n",
       "  }\n",
       "  th, td {\n",
       "    padding: 5px;\n",
       "  }\n",
       "  th {\n",
       "    text-align: left;\n",
       "  }\n",
       "</style><div class='table-result-container'><table class='table-result'><thead style='background-color: white'><tr><th>customer_id</th><th>first_name</th><th>last_name</th><th>email</th><th>age</th><th>country</th></tr></thead><tbody><tr><td>2</td><td>First_2</td><td>Last_2</td><td>First_2.Last_2@example.com</td><td>55</td><td>USA</td></tr><tr><td>3</td><td>First_3</td><td>Last_3</td><td>First_3.Last_3@example.com</td><td>59</td><td>USA</td></tr><tr><td>4</td><td>First_4</td><td>Last_4</td><td>First_4.Last_4@example.com</td><td>49</td><td>Canada</td></tr><tr><td>5</td><td>First_5</td><td>Last_5</td><td>First_5.Last_5@example.com</td><td>58</td><td>Canada</td></tr><tr><td>6</td><td>First_6</td><td>Last_6</td><td>First_6.Last_6@example.com</td><td>55</td><td>USA</td></tr></tbody></table></div>"
      ]
     },
     "metadata": {
      "application/vnd.databricks.v1+output": {
       "addedWidgets": {},
       "aggData": [],
       "aggError": "",
       "aggOverflow": false,
       "aggSchema": [],
       "aggSeriesLimitReached": false,
       "aggType": "",
       "arguments": {},
       "columnCustomDisplayInfos": {},
       "data": [
        [
         2,
         "First_2",
         "Last_2",
         "First_2.Last_2@example.com",
         55,
         "USA"
        ],
        [
         3,
         "First_3",
         "Last_3",
         "First_3.Last_3@example.com",
         59,
         "USA"
        ],
        [
         4,
         "First_4",
         "Last_4",
         "First_4.Last_4@example.com",
         49,
         "Canada"
        ],
        [
         5,
         "First_5",
         "Last_5",
         "First_5.Last_5@example.com",
         58,
         "Canada"
        ],
        [
         6,
         "First_6",
         "Last_6",
         "First_6.Last_6@example.com",
         55,
         "USA"
        ]
       ],
       "datasetInfos": [],
       "dbfsResultPath": null,
       "isJsonSchema": true,
       "metadata": {},
       "overflow": false,
       "plotOptions": {
        "customPlotOptions": {},
        "displayType": "table",
        "pivotAggregation": null,
        "pivotColumns": null,
        "xColumns": null,
        "yColumns": null
       },
       "removedWidgets": [],
       "schema": [
        {
         "metadata": "{}",
         "name": "customer_id",
         "type": "\"long\""
        },
        {
         "metadata": "{}",
         "name": "first_name",
         "type": "\"string\""
        },
        {
         "metadata": "{}",
         "name": "last_name",
         "type": "\"string\""
        },
        {
         "metadata": "{}",
         "name": "email",
         "type": "\"string\""
        },
        {
         "metadata": "{}",
         "name": "age",
         "type": "\"long\""
        },
        {
         "metadata": "{}",
         "name": "country",
         "type": "\"string\""
        }
       ],
       "type": "table"
      }
     },
     "output_type": "display_data"
    }
   ],
   "source": [
    "# Another alternate syntax using dataframe.column notation\n",
    "df_over_40 = df_customers.filter(df_customers.age > 40)\n",
    "df_over_40.limit(5).display()"
   ]
  },
  {
   "cell_type": "code",
   "execution_count": 0,
   "metadata": {
    "application/vnd.databricks.v1+cell": {
     "cellMetadata": {
      "byteLimit": 2048000,
      "rowLimit": 10000
     },
     "inputWidgets": {},
     "nuid": "11888487-2b71-4a7d-a234-658afe434528",
     "showTitle": false,
     "tableResultSettingsMap": {},
     "title": ""
    }
   },
   "outputs": [
    {
     "output_type": "display_data",
     "data": {
      "text/html": [
       "<style scoped>\n",
       "  .table-result-container {\n",
       "    max-height: 300px;\n",
       "    overflow: auto;\n",
       "  }\n",
       "  table, th, td {\n",
       "    border: 1px solid black;\n",
       "    border-collapse: collapse;\n",
       "  }\n",
       "  th, td {\n",
       "    padding: 5px;\n",
       "  }\n",
       "  th {\n",
       "    text-align: left;\n",
       "  }\n",
       "</style><div class='table-result-container'><table class='table-result'><thead style='background-color: white'><tr><th>customer_id</th><th>first_name</th><th>last_name</th><th>email</th><th>age</th><th>country</th></tr></thead><tbody><tr><td>2</td><td>First_2</td><td>Last_2</td><td>First_2.Last_2@example.com</td><td>55</td><td>USA</td></tr><tr><td>3</td><td>First_3</td><td>Last_3</td><td>First_3.Last_3@example.com</td><td>59</td><td>USA</td></tr><tr><td>6</td><td>First_6</td><td>Last_6</td><td>First_6.Last_6@example.com</td><td>55</td><td>USA</td></tr><tr><td>7</td><td>First_7</td><td>Last_7</td><td>First_7.Last_7@example.com</td><td>32</td><td>USA</td></tr><tr><td>8</td><td>First_8</td><td>Last_8</td><td>First_8.Last_8@example.com</td><td>56</td><td>USA</td></tr></tbody></table></div>"
      ]
     },
     "metadata": {
      "application/vnd.databricks.v1+output": {
       "addedWidgets": {},
       "aggData": [],
       "aggError": "",
       "aggOverflow": false,
       "aggSchema": [],
       "aggSeriesLimitReached": false,
       "aggType": "",
       "arguments": {},
       "columnCustomDisplayInfos": {},
       "data": [
        [
         2,
         "First_2",
         "Last_2",
         "First_2.Last_2@example.com",
         55,
         "USA"
        ],
        [
         3,
         "First_3",
         "Last_3",
         "First_3.Last_3@example.com",
         59,
         "USA"
        ],
        [
         6,
         "First_6",
         "Last_6",
         "First_6.Last_6@example.com",
         55,
         "USA"
        ],
        [
         7,
         "First_7",
         "Last_7",
         "First_7.Last_7@example.com",
         32,
         "USA"
        ],
        [
         8,
         "First_8",
         "Last_8",
         "First_8.Last_8@example.com",
         56,
         "USA"
        ]
       ],
       "datasetInfos": [],
       "dbfsResultPath": null,
       "isJsonSchema": true,
       "metadata": {},
       "overflow": false,
       "plotOptions": {
        "customPlotOptions": {},
        "displayType": "table",
        "pivotAggregation": null,
        "pivotColumns": null,
        "xColumns": null,
        "yColumns": null
       },
       "removedWidgets": [],
       "schema": [
        {
         "metadata": "{}",
         "name": "customer_id",
         "type": "\"long\""
        },
        {
         "metadata": "{}",
         "name": "first_name",
         "type": "\"string\""
        },
        {
         "metadata": "{}",
         "name": "last_name",
         "type": "\"string\""
        },
        {
         "metadata": "{}",
         "name": "email",
         "type": "\"string\""
        },
        {
         "metadata": "{}",
         "name": "age",
         "type": "\"long\""
        },
        {
         "metadata": "{}",
         "name": "country",
         "type": "\"string\""
        }
       ],
       "type": "table"
      }
     },
     "output_type": "display_data"
    }
   ],
   "source": [
    "df_usa = df_customers.filter(F.col(\"country\") == \"USA\")\n",
    "df_usa.limit(5).display()\n"
   ]
  },
  {
   "cell_type": "code",
   "execution_count": 0,
   "metadata": {
    "application/vnd.databricks.v1+cell": {
     "cellMetadata": {
      "byteLimit": 2048000,
      "rowLimit": 10000
     },
     "inputWidgets": {},
     "nuid": "7b84d2ac-7592-46fd-b586-a2794932530b",
     "showTitle": false,
     "tableResultSettingsMap": {},
     "title": ""
    }
   },
   "outputs": [
    {
     "output_type": "display_data",
     "data": {
      "text/html": [
       "<style scoped>\n",
       "  .table-result-container {\n",
       "    max-height: 300px;\n",
       "    overflow: auto;\n",
       "  }\n",
       "  table, th, td {\n",
       "    border: 1px solid black;\n",
       "    border-collapse: collapse;\n",
       "  }\n",
       "  th, td {\n",
       "    padding: 5px;\n",
       "  }\n",
       "  th {\n",
       "    text-align: left;\n",
       "  }\n",
       "</style><div class='table-result-container'><table class='table-result'><thead style='background-color: white'><tr><th>customer_id</th><th>first_name</th><th>last_name</th><th>email</th><th>age</th><th>country</th></tr></thead><tbody><tr><td>2</td><td>First_2</td><td>Last_2</td><td>First_2.Last_2@example.com</td><td>55</td><td>USA</td></tr><tr><td>3</td><td>First_3</td><td>Last_3</td><td>First_3.Last_3@example.com</td><td>59</td><td>USA</td></tr><tr><td>6</td><td>First_6</td><td>Last_6</td><td>First_6.Last_6@example.com</td><td>55</td><td>USA</td></tr><tr><td>8</td><td>First_8</td><td>Last_8</td><td>First_8.Last_8@example.com</td><td>56</td><td>USA</td></tr><tr><td>9</td><td>First_9</td><td>Last_9</td><td>First_9.Last_9@example.com</td><td>47</td><td>USA</td></tr></tbody></table></div>"
      ]
     },
     "metadata": {
      "application/vnd.databricks.v1+output": {
       "addedWidgets": {},
       "aggData": [],
       "aggError": "",
       "aggOverflow": false,
       "aggSchema": [],
       "aggSeriesLimitReached": false,
       "aggType": "",
       "arguments": {},
       "columnCustomDisplayInfos": {},
       "data": [
        [
         2,
         "First_2",
         "Last_2",
         "First_2.Last_2@example.com",
         55,
         "USA"
        ],
        [
         3,
         "First_3",
         "Last_3",
         "First_3.Last_3@example.com",
         59,
         "USA"
        ],
        [
         6,
         "First_6",
         "Last_6",
         "First_6.Last_6@example.com",
         55,
         "USA"
        ],
        [
         8,
         "First_8",
         "Last_8",
         "First_8.Last_8@example.com",
         56,
         "USA"
        ],
        [
         9,
         "First_9",
         "Last_9",
         "First_9.Last_9@example.com",
         47,
         "USA"
        ]
       ],
       "datasetInfos": [],
       "dbfsResultPath": null,
       "isJsonSchema": true,
       "metadata": {},
       "overflow": false,
       "plotOptions": {
        "customPlotOptions": {},
        "displayType": "table",
        "pivotAggregation": null,
        "pivotColumns": null,
        "xColumns": null,
        "yColumns": null
       },
       "removedWidgets": [],
       "schema": [
        {
         "metadata": "{}",
         "name": "customer_id",
         "type": "\"long\""
        },
        {
         "metadata": "{}",
         "name": "first_name",
         "type": "\"string\""
        },
        {
         "metadata": "{}",
         "name": "last_name",
         "type": "\"string\""
        },
        {
         "metadata": "{}",
         "name": "email",
         "type": "\"string\""
        },
        {
         "metadata": "{}",
         "name": "age",
         "type": "\"long\""
        },
        {
         "metadata": "{}",
         "name": "country",
         "type": "\"string\""
        }
       ],
       "type": "table"
      }
     },
     "output_type": "display_data"
    }
   ],
   "source": [
    "df_usa_over_40 = df_customers.filter((F.col(\"country\") == \"USA\") & (F.col(\"age\") > 40))\n",
    "df_usa_over_40.limit(5).display()"
   ]
  },
  {
   "cell_type": "markdown",
   "metadata": {
    "application/vnd.databricks.v1+cell": {
     "cellMetadata": {},
     "inputWidgets": {},
     "nuid": "30ff9186-cabd-4396-a380-2b60f8ff80d6",
     "showTitle": false,
     "tableResultSettingsMap": {},
     "title": ""
    }
   },
   "source": [
    "We can easily sort the dataset as well"
   ]
  },
  {
   "cell_type": "code",
   "execution_count": 0,
   "metadata": {
    "application/vnd.databricks.v1+cell": {
     "cellMetadata": {
      "byteLimit": 2048000,
      "rowLimit": 10000
     },
     "inputWidgets": {},
     "nuid": "1b379930-5177-4f9d-ba0d-8a6c8aa778ca",
     "showTitle": false,
     "tableResultSettingsMap": {},
     "title": ""
    }
   },
   "outputs": [
    {
     "output_type": "display_data",
     "data": {
      "text/html": [
       "<style scoped>\n",
       "  .table-result-container {\n",
       "    max-height: 300px;\n",
       "    overflow: auto;\n",
       "  }\n",
       "  table, th, td {\n",
       "    border: 1px solid black;\n",
       "    border-collapse: collapse;\n",
       "  }\n",
       "  th, td {\n",
       "    padding: 5px;\n",
       "  }\n",
       "  th {\n",
       "    text-align: left;\n",
       "  }\n",
       "</style><div class='table-result-container'><table class='table-result'><thead style='background-color: white'><tr><th>customer_id</th><th>first_name</th><th>last_name</th><th>email</th><th>age</th><th>country</th></tr></thead><tbody><tr><td>107</td><td>First_107</td><td>Last_107</td><td>First_107.Last_107@example.com</td><td>18</td><td>USA</td></tr><tr><td>50</td><td>First_50</td><td>Last_50</td><td>First_50.Last_50@example.com</td><td>18</td><td>USA</td></tr><tr><td>69</td><td>First_69</td><td>Last_69</td><td>First_69.Last_69@example.com</td><td>18</td><td>USA</td></tr><tr><td>32</td><td>First_32</td><td>Last_32</td><td>First_32.Last_32@example.com</td><td>18</td><td>USA</td></tr><tr><td>157</td><td>First_157</td><td>Last_157</td><td>First_157.Last_157@example.com</td><td>18</td><td>USA</td></tr></tbody></table></div>"
      ]
     },
     "metadata": {
      "application/vnd.databricks.v1+output": {
       "addedWidgets": {},
       "aggData": [],
       "aggError": "",
       "aggOverflow": false,
       "aggSchema": [],
       "aggSeriesLimitReached": false,
       "aggType": "",
       "arguments": {},
       "columnCustomDisplayInfos": {},
       "data": [
        [
         107,
         "First_107",
         "Last_107",
         "First_107.Last_107@example.com",
         18,
         "USA"
        ],
        [
         50,
         "First_50",
         "Last_50",
         "First_50.Last_50@example.com",
         18,
         "USA"
        ],
        [
         69,
         "First_69",
         "Last_69",
         "First_69.Last_69@example.com",
         18,
         "USA"
        ],
        [
         32,
         "First_32",
         "Last_32",
         "First_32.Last_32@example.com",
         18,
         "USA"
        ],
        [
         157,
         "First_157",
         "Last_157",
         "First_157.Last_157@example.com",
         18,
         "USA"
        ]
       ],
       "datasetInfos": [],
       "dbfsResultPath": null,
       "isJsonSchema": true,
       "metadata": {},
       "overflow": false,
       "plotOptions": {
        "customPlotOptions": {},
        "displayType": "table",
        "pivotAggregation": null,
        "pivotColumns": null,
        "xColumns": null,
        "yColumns": null
       },
       "removedWidgets": [],
       "schema": [
        {
         "metadata": "{}",
         "name": "customer_id",
         "type": "\"long\""
        },
        {
         "metadata": "{}",
         "name": "first_name",
         "type": "\"string\""
        },
        {
         "metadata": "{}",
         "name": "last_name",
         "type": "\"string\""
        },
        {
         "metadata": "{}",
         "name": "email",
         "type": "\"string\""
        },
        {
         "metadata": "{}",
         "name": "age",
         "type": "\"long\""
        },
        {
         "metadata": "{}",
         "name": "country",
         "type": "\"string\""
        }
       ],
       "type": "table"
      }
     },
     "output_type": "display_data"
    }
   ],
   "source": [
    "df_sorted_age = df_customers.orderBy(F.col(\"age\").asc())\n",
    "df_sorted_age.limit(5).display()\n"
   ]
  },
  {
   "cell_type": "code",
   "execution_count": 0,
   "metadata": {
    "application/vnd.databricks.v1+cell": {
     "cellMetadata": {
      "byteLimit": 2048000,
      "rowLimit": 10000
     },
     "inputWidgets": {},
     "nuid": "f1dd1222-a014-4f74-a121-b285bb0115df",
     "showTitle": false,
     "tableResultSettingsMap": {},
     "title": ""
    }
   },
   "outputs": [
    {
     "output_type": "display_data",
     "data": {
      "text/html": [
       "<style scoped>\n",
       "  .table-result-container {\n",
       "    max-height: 300px;\n",
       "    overflow: auto;\n",
       "  }\n",
       "  table, th, td {\n",
       "    border: 1px solid black;\n",
       "    border-collapse: collapse;\n",
       "  }\n",
       "  th, td {\n",
       "    padding: 5px;\n",
       "  }\n",
       "  th {\n",
       "    text-align: left;\n",
       "  }\n",
       "</style><div class='table-result-container'><table class='table-result'><thead style='background-color: white'><tr><th>customer_id</th><th>first_name</th><th>last_name</th><th>email</th><th>age</th><th>country</th></tr></thead><tbody><tr><td>557</td><td>First_557</td><td>Last_557</td><td>First_557.Last_557@example.com</td><td>60</td><td>Canada</td></tr><tr><td>987</td><td>First_987</td><td>Last_987</td><td>First_987.Last_987@example.com</td><td>60</td><td>Canada</td></tr><tr><td>669</td><td>First_669</td><td>Last_669</td><td>First_669.Last_669@example.com</td><td>60</td><td>Canada</td></tr><tr><td>512</td><td>First_512</td><td>Last_512</td><td>First_512.Last_512@example.com</td><td>60</td><td>Canada</td></tr><tr><td>825</td><td>First_825</td><td>Last_825</td><td>First_825.Last_825@example.com</td><td>60</td><td>Canada</td></tr></tbody></table></div>"
      ]
     },
     "metadata": {
      "application/vnd.databricks.v1+output": {
       "addedWidgets": {},
       "aggData": [],
       "aggError": "",
       "aggOverflow": false,
       "aggSchema": [],
       "aggSeriesLimitReached": false,
       "aggType": "",
       "arguments": {},
       "columnCustomDisplayInfos": {},
       "data": [
        [
         557,
         "First_557",
         "Last_557",
         "First_557.Last_557@example.com",
         60,
         "Canada"
        ],
        [
         987,
         "First_987",
         "Last_987",
         "First_987.Last_987@example.com",
         60,
         "Canada"
        ],
        [
         669,
         "First_669",
         "Last_669",
         "First_669.Last_669@example.com",
         60,
         "Canada"
        ],
        [
         512,
         "First_512",
         "Last_512",
         "First_512.Last_512@example.com",
         60,
         "Canada"
        ],
        [
         825,
         "First_825",
         "Last_825",
         "First_825.Last_825@example.com",
         60,
         "Canada"
        ]
       ],
       "datasetInfos": [],
       "dbfsResultPath": null,
       "isJsonSchema": true,
       "metadata": {},
       "overflow": false,
       "plotOptions": {
        "customPlotOptions": {},
        "displayType": "table",
        "pivotAggregation": null,
        "pivotColumns": null,
        "xColumns": null,
        "yColumns": null
       },
       "removedWidgets": [],
       "schema": [
        {
         "metadata": "{}",
         "name": "customer_id",
         "type": "\"long\""
        },
        {
         "metadata": "{}",
         "name": "first_name",
         "type": "\"string\""
        },
        {
         "metadata": "{}",
         "name": "last_name",
         "type": "\"string\""
        },
        {
         "metadata": "{}",
         "name": "email",
         "type": "\"string\""
        },
        {
         "metadata": "{}",
         "name": "age",
         "type": "\"long\""
        },
        {
         "metadata": "{}",
         "name": "country",
         "type": "\"string\""
        }
       ],
       "type": "table"
      }
     },
     "output_type": "display_data"
    }
   ],
   "source": [
    "df_sorted_country_age = df_customers.orderBy(F.col(\"country\").asc(), F.col(\"age\").desc())\n",
    "df_sorted_country_age.limit(5).display()\n"
   ]
  },
  {
   "cell_type": "markdown",
   "metadata": {
    "application/vnd.databricks.v1+cell": {
     "cellMetadata": {},
     "inputWidgets": {},
     "nuid": "53c2d43b-e48b-4e41-a31a-89c21856dd78",
     "showTitle": false,
     "tableResultSettingsMap": {},
     "title": ""
    }
   },
   "source": [
    "We can do column operations"
   ]
  },
  {
   "cell_type": "code",
   "execution_count": 0,
   "metadata": {
    "application/vnd.databricks.v1+cell": {
     "cellMetadata": {
      "byteLimit": 2048000,
      "rowLimit": 10000
     },
     "inputWidgets": {},
     "nuid": "c1712017-933c-4067-8f5e-3be30aa5f2a3",
     "showTitle": false,
     "tableResultSettingsMap": {},
     "title": ""
    }
   },
   "outputs": [
    {
     "output_type": "display_data",
     "data": {
      "text/html": [
       "<style scoped>\n",
       "  .table-result-container {\n",
       "    max-height: 300px;\n",
       "    overflow: auto;\n",
       "  }\n",
       "  table, th, td {\n",
       "    border: 1px solid black;\n",
       "    border-collapse: collapse;\n",
       "  }\n",
       "  th, td {\n",
       "    padding: 5px;\n",
       "  }\n",
       "  th {\n",
       "    text-align: left;\n",
       "  }\n",
       "</style><div class='table-result-container'><table class='table-result'><thead style='background-color: white'><tr><th>customer_id</th><th>first_name</th><th>country</th></tr></thead><tbody><tr><td>1</td><td>First_1</td><td>Canada</td></tr><tr><td>2</td><td>First_2</td><td>USA</td></tr><tr><td>3</td><td>First_3</td><td>USA</td></tr><tr><td>4</td><td>First_4</td><td>Canada</td></tr><tr><td>5</td><td>First_5</td><td>Canada</td></tr></tbody></table></div>"
      ]
     },
     "metadata": {
      "application/vnd.databricks.v1+output": {
       "addedWidgets": {},
       "aggData": [],
       "aggError": "",
       "aggOverflow": false,
       "aggSchema": [],
       "aggSeriesLimitReached": false,
       "aggType": "",
       "arguments": {},
       "columnCustomDisplayInfos": {},
       "data": [
        [
         1,
         "First_1",
         "Canada"
        ],
        [
         2,
         "First_2",
         "USA"
        ],
        [
         3,
         "First_3",
         "USA"
        ],
        [
         4,
         "First_4",
         "Canada"
        ],
        [
         5,
         "First_5",
         "Canada"
        ]
       ],
       "datasetInfos": [],
       "dbfsResultPath": null,
       "isJsonSchema": true,
       "metadata": {},
       "overflow": false,
       "plotOptions": {
        "customPlotOptions": {},
        "displayType": "table",
        "pivotAggregation": null,
        "pivotColumns": null,
        "xColumns": null,
        "yColumns": null
       },
       "removedWidgets": [],
       "schema": [
        {
         "metadata": "{}",
         "name": "customer_id",
         "type": "\"long\""
        },
        {
         "metadata": "{}",
         "name": "first_name",
         "type": "\"string\""
        },
        {
         "metadata": "{}",
         "name": "country",
         "type": "\"string\""
        }
       ],
       "type": "table"
      }
     },
     "output_type": "display_data"
    }
   ],
   "source": [
    "df_select_columns = df_customers.select(\"customer_id\", \"first_name\", \"country\")\n",
    "df_select_columns.limit(5).display()\n"
   ]
  },
  {
   "cell_type": "code",
   "execution_count": 0,
   "metadata": {
    "application/vnd.databricks.v1+cell": {
     "cellMetadata": {
      "byteLimit": 2048000,
      "rowLimit": 10000
     },
     "inputWidgets": {},
     "nuid": "f5402c14-c11c-4ba0-b58a-299830ec6bf9",
     "showTitle": false,
     "tableResultSettingsMap": {},
     "title": ""
    }
   },
   "outputs": [
    {
     "output_type": "display_data",
     "data": {
      "text/html": [
       "<style scoped>\n",
       "  .table-result-container {\n",
       "    max-height: 300px;\n",
       "    overflow: auto;\n",
       "  }\n",
       "  table, th, td {\n",
       "    border: 1px solid black;\n",
       "    border-collapse: collapse;\n",
       "  }\n",
       "  th, td {\n",
       "    padding: 5px;\n",
       "  }\n",
       "  th {\n",
       "    text-align: left;\n",
       "  }\n",
       "</style><div class='table-result-container'><table class='table-result'><thead style='background-color: white'><tr><th>customer_id</th><th>fname</th><th>lname</th><th>email</th><th>age</th><th>country</th></tr></thead><tbody><tr><td>1</td><td>First_1</td><td>Last_1</td><td>First_1.Last_1@example.com</td><td>40</td><td>Canada</td></tr><tr><td>2</td><td>First_2</td><td>Last_2</td><td>First_2.Last_2@example.com</td><td>55</td><td>USA</td></tr><tr><td>3</td><td>First_3</td><td>Last_3</td><td>First_3.Last_3@example.com</td><td>59</td><td>USA</td></tr><tr><td>4</td><td>First_4</td><td>Last_4</td><td>First_4.Last_4@example.com</td><td>49</td><td>Canada</td></tr><tr><td>5</td><td>First_5</td><td>Last_5</td><td>First_5.Last_5@example.com</td><td>58</td><td>Canada</td></tr></tbody></table></div>"
      ]
     },
     "metadata": {
      "application/vnd.databricks.v1+output": {
       "addedWidgets": {},
       "aggData": [],
       "aggError": "",
       "aggOverflow": false,
       "aggSchema": [],
       "aggSeriesLimitReached": false,
       "aggType": "",
       "arguments": {},
       "columnCustomDisplayInfos": {},
       "data": [
        [
         1,
         "First_1",
         "Last_1",
         "First_1.Last_1@example.com",
         40,
         "Canada"
        ],
        [
         2,
         "First_2",
         "Last_2",
         "First_2.Last_2@example.com",
         55,
         "USA"
        ],
        [
         3,
         "First_3",
         "Last_3",
         "First_3.Last_3@example.com",
         59,
         "USA"
        ],
        [
         4,
         "First_4",
         "Last_4",
         "First_4.Last_4@example.com",
         49,
         "Canada"
        ],
        [
         5,
         "First_5",
         "Last_5",
         "First_5.Last_5@example.com",
         58,
         "Canada"
        ]
       ],
       "datasetInfos": [],
       "dbfsResultPath": null,
       "isJsonSchema": true,
       "metadata": {},
       "overflow": false,
       "plotOptions": {
        "customPlotOptions": {},
        "displayType": "table",
        "pivotAggregation": null,
        "pivotColumns": null,
        "xColumns": null,
        "yColumns": null
       },
       "removedWidgets": [],
       "schema": [
        {
         "metadata": "{}",
         "name": "customer_id",
         "type": "\"long\""
        },
        {
         "metadata": "{}",
         "name": "fname",
         "type": "\"string\""
        },
        {
         "metadata": "{}",
         "name": "lname",
         "type": "\"string\""
        },
        {
         "metadata": "{}",
         "name": "email",
         "type": "\"string\""
        },
        {
         "metadata": "{}",
         "name": "age",
         "type": "\"long\""
        },
        {
         "metadata": "{}",
         "name": "country",
         "type": "\"string\""
        }
       ],
       "type": "table"
      }
     },
     "output_type": "display_data"
    }
   ],
   "source": [
    "df_renamed = df_customers.withColumnRenamed(\"first_name\", \"fname\") \\\n",
    "                         .withColumnRenamed(\"last_name\", \"lname\")\n",
    "df_renamed.limit(5).display()\n"
   ]
  },
  {
   "cell_type": "markdown",
   "metadata": {
    "application/vnd.databricks.v1+cell": {
     "cellMetadata": {},
     "inputWidgets": {},
     "nuid": "a9f09ec2-355a-4118-90b1-aac8b6ad70a5",
     "showTitle": false,
     "tableResultSettingsMap": {},
     "title": ""
    }
   },
   "source": [
    "We can also cast data types if needed"
   ]
  },
  {
   "cell_type": "code",
   "execution_count": 0,
   "metadata": {
    "application/vnd.databricks.v1+cell": {
     "cellMetadata": {
      "byteLimit": 2048000,
      "rowLimit": 10000
     },
     "inputWidgets": {},
     "nuid": "55c4e4c0-8955-474d-a87b-89dc19e42b1c",
     "showTitle": false,
     "tableResultSettingsMap": {},
     "title": ""
    }
   },
   "outputs": [
    {
     "output_type": "stream",
     "name": "stdout",
     "output_type": "stream",
     "text": [
      "root\n |-- customer_id: long (nullable = true)\n |-- first_name: string (nullable = true)\n |-- last_name: string (nullable = true)\n |-- email: string (nullable = true)\n |-- age: long (nullable = true)\n |-- country: string (nullable = true)\n |-- age_str: string (nullable = true)\n\n"
     ]
    },
    {
     "output_type": "display_data",
     "data": {
      "text/html": [
       "<style scoped>\n",
       "  .table-result-container {\n",
       "    max-height: 300px;\n",
       "    overflow: auto;\n",
       "  }\n",
       "  table, th, td {\n",
       "    border: 1px solid black;\n",
       "    border-collapse: collapse;\n",
       "  }\n",
       "  th, td {\n",
       "    padding: 5px;\n",
       "  }\n",
       "  th {\n",
       "    text-align: left;\n",
       "  }\n",
       "</style><div class='table-result-container'><table class='table-result'><thead style='background-color: white'><tr><th>customer_id</th><th>first_name</th><th>last_name</th><th>email</th><th>age</th><th>country</th><th>age_str</th></tr></thead><tbody><tr><td>1</td><td>First_1</td><td>Last_1</td><td>First_1.Last_1@example.com</td><td>40</td><td>Canada</td><td>40</td></tr><tr><td>2</td><td>First_2</td><td>Last_2</td><td>First_2.Last_2@example.com</td><td>55</td><td>USA</td><td>55</td></tr><tr><td>3</td><td>First_3</td><td>Last_3</td><td>First_3.Last_3@example.com</td><td>59</td><td>USA</td><td>59</td></tr><tr><td>4</td><td>First_4</td><td>Last_4</td><td>First_4.Last_4@example.com</td><td>49</td><td>Canada</td><td>49</td></tr><tr><td>5</td><td>First_5</td><td>Last_5</td><td>First_5.Last_5@example.com</td><td>58</td><td>Canada</td><td>58</td></tr></tbody></table></div>"
      ]
     },
     "metadata": {
      "application/vnd.databricks.v1+output": {
       "addedWidgets": {},
       "aggData": [],
       "aggError": "",
       "aggOverflow": false,
       "aggSchema": [],
       "aggSeriesLimitReached": false,
       "aggType": "",
       "arguments": {},
       "columnCustomDisplayInfos": {},
       "data": [
        [
         1,
         "First_1",
         "Last_1",
         "First_1.Last_1@example.com",
         40,
         "Canada",
         "40"
        ],
        [
         2,
         "First_2",
         "Last_2",
         "First_2.Last_2@example.com",
         55,
         "USA",
         "55"
        ],
        [
         3,
         "First_3",
         "Last_3",
         "First_3.Last_3@example.com",
         59,
         "USA",
         "59"
        ],
        [
         4,
         "First_4",
         "Last_4",
         "First_4.Last_4@example.com",
         49,
         "Canada",
         "49"
        ],
        [
         5,
         "First_5",
         "Last_5",
         "First_5.Last_5@example.com",
         58,
         "Canada",
         "58"
        ]
       ],
       "datasetInfos": [],
       "dbfsResultPath": null,
       "isJsonSchema": true,
       "metadata": {},
       "overflow": false,
       "plotOptions": {
        "customPlotOptions": {},
        "displayType": "table",
        "pivotAggregation": null,
        "pivotColumns": null,
        "xColumns": null,
        "yColumns": null
       },
       "removedWidgets": [],
       "schema": [
        {
         "metadata": "{}",
         "name": "customer_id",
         "type": "\"long\""
        },
        {
         "metadata": "{}",
         "name": "first_name",
         "type": "\"string\""
        },
        {
         "metadata": "{}",
         "name": "last_name",
         "type": "\"string\""
        },
        {
         "metadata": "{}",
         "name": "email",
         "type": "\"string\""
        },
        {
         "metadata": "{}",
         "name": "age",
         "type": "\"long\""
        },
        {
         "metadata": "{}",
         "name": "country",
         "type": "\"string\""
        },
        {
         "metadata": "{}",
         "name": "age_str",
         "type": "\"string\""
        }
       ],
       "type": "table"
      }
     },
     "output_type": "display_data"
    }
   ],
   "source": [
    "df_casted = df_customers.withColumn(\"age_str\", F.col(\"age\").cast(\"string\"))\n",
    "df_casted.printSchema()\n",
    "df_casted.limit(5).display()"
   ]
  },
  {
   "cell_type": "markdown",
   "metadata": {
    "application/vnd.databricks.v1+cell": {
     "cellMetadata": {},
     "inputWidgets": {},
     "nuid": "a4689009-fc31-4aa8-ac50-9f52dc9c27f2",
     "showTitle": false,
     "tableResultSettingsMap": {},
     "title": ""
    }
   },
   "source": [
    "We can add and drop columns"
   ]
  },
  {
   "cell_type": "code",
   "execution_count": 0,
   "metadata": {
    "application/vnd.databricks.v1+cell": {
     "cellMetadata": {
      "byteLimit": 2048000,
      "rowLimit": 10000
     },
     "inputWidgets": {},
     "nuid": "6a265bfa-6287-4878-919e-353b7429ef28",
     "showTitle": false,
     "tableResultSettingsMap": {},
     "title": ""
    }
   },
   "outputs": [
    {
     "output_type": "display_data",
     "data": {
      "text/html": [
       "<style scoped>\n",
       "  .table-result-container {\n",
       "    max-height: 300px;\n",
       "    overflow: auto;\n",
       "  }\n",
       "  table, th, td {\n",
       "    border: 1px solid black;\n",
       "    border-collapse: collapse;\n",
       "  }\n",
       "  th, td {\n",
       "    padding: 5px;\n",
       "  }\n",
       "  th {\n",
       "    text-align: left;\n",
       "  }\n",
       "</style><div class='table-result-container'><table class='table-result'><thead style='background-color: white'><tr><th>customer_id</th><th>first_name</th><th>last_name</th><th>email</th><th>age</th><th>country</th><th>age_group</th></tr></thead><tbody><tr><td>1</td><td>First_1</td><td>Last_1</td><td>First_1.Last_1@example.com</td><td>40</td><td>Canada</td><td>Middle-aged</td></tr><tr><td>2</td><td>First_2</td><td>Last_2</td><td>First_2.Last_2@example.com</td><td>55</td><td>USA</td><td>Senior</td></tr><tr><td>3</td><td>First_3</td><td>Last_3</td><td>First_3.Last_3@example.com</td><td>59</td><td>USA</td><td>Senior</td></tr><tr><td>4</td><td>First_4</td><td>Last_4</td><td>First_4.Last_4@example.com</td><td>49</td><td>Canada</td><td>Middle-aged</td></tr><tr><td>5</td><td>First_5</td><td>Last_5</td><td>First_5.Last_5@example.com</td><td>58</td><td>Canada</td><td>Senior</td></tr></tbody></table></div>"
      ]
     },
     "metadata": {
      "application/vnd.databricks.v1+output": {
       "addedWidgets": {},
       "aggData": [],
       "aggError": "",
       "aggOverflow": false,
       "aggSchema": [],
       "aggSeriesLimitReached": false,
       "aggType": "",
       "arguments": {},
       "columnCustomDisplayInfos": {},
       "data": [
        [
         1,
         "First_1",
         "Last_1",
         "First_1.Last_1@example.com",
         40,
         "Canada",
         "Middle-aged"
        ],
        [
         2,
         "First_2",
         "Last_2",
         "First_2.Last_2@example.com",
         55,
         "USA",
         "Senior"
        ],
        [
         3,
         "First_3",
         "Last_3",
         "First_3.Last_3@example.com",
         59,
         "USA",
         "Senior"
        ],
        [
         4,
         "First_4",
         "Last_4",
         "First_4.Last_4@example.com",
         49,
         "Canada",
         "Middle-aged"
        ],
        [
         5,
         "First_5",
         "Last_5",
         "First_5.Last_5@example.com",
         58,
         "Canada",
         "Senior"
        ]
       ],
       "datasetInfos": [],
       "dbfsResultPath": null,
       "isJsonSchema": true,
       "metadata": {},
       "overflow": false,
       "plotOptions": {
        "customPlotOptions": {},
        "displayType": "table",
        "pivotAggregation": null,
        "pivotColumns": null,
        "xColumns": null,
        "yColumns": null
       },
       "removedWidgets": [],
       "schema": [
        {
         "metadata": "{}",
         "name": "customer_id",
         "type": "\"long\""
        },
        {
         "metadata": "{}",
         "name": "first_name",
         "type": "\"string\""
        },
        {
         "metadata": "{}",
         "name": "last_name",
         "type": "\"string\""
        },
        {
         "metadata": "{}",
         "name": "email",
         "type": "\"string\""
        },
        {
         "metadata": "{}",
         "name": "age",
         "type": "\"long\""
        },
        {
         "metadata": "{}",
         "name": "country",
         "type": "\"string\""
        },
        {
         "metadata": "{}",
         "name": "age_group",
         "type": "\"string\""
        }
       ],
       "type": "table"
      }
     },
     "output_type": "display_data"
    }
   ],
   "source": [
    "df_age_group = df_customers.withColumn(\n",
    "    \"age_group\", \n",
    "    F.when(F.col(\"age\") < 30, \"Young\")\n",
    "     .when((F.col(\"age\") >= 30) & (F.col(\"age\") < 50), \"Middle-aged\")\n",
    "     .otherwise(\"Senior\")\n",
    ")\n",
    "df_age_group.limit(5).display()\n"
   ]
  },
  {
   "cell_type": "code",
   "execution_count": 0,
   "metadata": {
    "application/vnd.databricks.v1+cell": {
     "cellMetadata": {
      "byteLimit": 2048000,
      "rowLimit": 10000
     },
     "inputWidgets": {},
     "nuid": "592cb9db-8c69-42fc-a88e-1da26236d093",
     "showTitle": false,
     "tableResultSettingsMap": {},
     "title": ""
    }
   },
   "outputs": [
    {
     "output_type": "display_data",
     "data": {
      "text/html": [
       "<style scoped>\n",
       "  .table-result-container {\n",
       "    max-height: 300px;\n",
       "    overflow: auto;\n",
       "  }\n",
       "  table, th, td {\n",
       "    border: 1px solid black;\n",
       "    border-collapse: collapse;\n",
       "  }\n",
       "  th, td {\n",
       "    padding: 5px;\n",
       "  }\n",
       "  th {\n",
       "    text-align: left;\n",
       "  }\n",
       "</style><div class='table-result-container'><table class='table-result'><thead style='background-color: white'><tr><th>customer_id</th><th>first_name</th><th>last_name</th><th>age</th><th>country</th></tr></thead><tbody><tr><td>1</td><td>First_1</td><td>Last_1</td><td>40</td><td>Canada</td></tr><tr><td>2</td><td>First_2</td><td>Last_2</td><td>55</td><td>USA</td></tr><tr><td>3</td><td>First_3</td><td>Last_3</td><td>59</td><td>USA</td></tr><tr><td>4</td><td>First_4</td><td>Last_4</td><td>49</td><td>Canada</td></tr><tr><td>5</td><td>First_5</td><td>Last_5</td><td>58</td><td>Canada</td></tr></tbody></table></div>"
      ]
     },
     "metadata": {
      "application/vnd.databricks.v1+output": {
       "addedWidgets": {},
       "aggData": [],
       "aggError": "",
       "aggOverflow": false,
       "aggSchema": [],
       "aggSeriesLimitReached": false,
       "aggType": "",
       "arguments": {},
       "columnCustomDisplayInfos": {},
       "data": [
        [
         1,
         "First_1",
         "Last_1",
         40,
         "Canada"
        ],
        [
         2,
         "First_2",
         "Last_2",
         55,
         "USA"
        ],
        [
         3,
         "First_3",
         "Last_3",
         59,
         "USA"
        ],
        [
         4,
         "First_4",
         "Last_4",
         49,
         "Canada"
        ],
        [
         5,
         "First_5",
         "Last_5",
         58,
         "Canada"
        ]
       ],
       "datasetInfos": [],
       "dbfsResultPath": null,
       "isJsonSchema": true,
       "metadata": {},
       "overflow": false,
       "plotOptions": {
        "customPlotOptions": {},
        "displayType": "table",
        "pivotAggregation": null,
        "pivotColumns": null,
        "xColumns": null,
        "yColumns": null
       },
       "removedWidgets": [],
       "schema": [
        {
         "metadata": "{}",
         "name": "customer_id",
         "type": "\"long\""
        },
        {
         "metadata": "{}",
         "name": "first_name",
         "type": "\"string\""
        },
        {
         "metadata": "{}",
         "name": "last_name",
         "type": "\"string\""
        },
        {
         "metadata": "{}",
         "name": "age",
         "type": "\"long\""
        },
        {
         "metadata": "{}",
         "name": "country",
         "type": "\"string\""
        }
       ],
       "type": "table"
      }
     },
     "output_type": "display_data"
    }
   ],
   "source": [
    "df_dropped = df_customers.drop(\"email\")\n",
    "df_dropped.limit(5).display()"
   ]
  },
  {
   "cell_type": "markdown",
   "metadata": {
    "application/vnd.databricks.v1+cell": {
     "cellMetadata": {},
     "inputWidgets": {},
     "nuid": "cbed9bbf-7a09-4441-b868-5d18a011ebb7",
     "showTitle": false,
     "tableResultSettingsMap": {},
     "title": ""
    }
   },
   "source": [
    "And we can combine all these operations if needed"
   ]
  },
  {
   "cell_type": "code",
   "execution_count": 0,
   "metadata": {
    "application/vnd.databricks.v1+cell": {
     "cellMetadata": {
      "byteLimit": 2048000,
      "rowLimit": 10000
     },
     "inputWidgets": {},
     "nuid": "61db8046-2dbd-430f-85fb-9c333a315c6a",
     "showTitle": false,
     "tableResultSettingsMap": {},
     "title": ""
    }
   },
   "outputs": [
    {
     "output_type": "display_data",
     "data": {
      "text/html": [
       "<style scoped>\n",
       "  .table-result-container {\n",
       "    max-height: 300px;\n",
       "    overflow: auto;\n",
       "  }\n",
       "  table, th, td {\n",
       "    border: 1px solid black;\n",
       "    border-collapse: collapse;\n",
       "  }\n",
       "  th, td {\n",
       "    padding: 5px;\n",
       "  }\n",
       "  th {\n",
       "    text-align: left;\n",
       "  }\n",
       "</style><div class='table-result-container'><table class='table-result'><thead style='background-color: white'><tr><th>customer_id</th><th>fname</th><th>lname</th><th>age</th><th>country</th><th>age_str</th><th>age_group</th></tr></thead><tbody><tr><td>49</td><td>First_49</td><td>Last_49</td><td>60</td><td>USA</td><td>60</td><td>Senior</td></tr><tr><td>47</td><td>First_47</td><td>Last_47</td><td>60</td><td>USA</td><td>60</td><td>Senior</td></tr><tr><td>136</td><td>First_136</td><td>Last_136</td><td>60</td><td>USA</td><td>60</td><td>Senior</td></tr><tr><td>92</td><td>First_92</td><td>Last_92</td><td>60</td><td>USA</td><td>60</td><td>Senior</td></tr><tr><td>135</td><td>First_135</td><td>Last_135</td><td>60</td><td>USA</td><td>60</td><td>Senior</td></tr></tbody></table></div>"
      ]
     },
     "metadata": {
      "application/vnd.databricks.v1+output": {
       "addedWidgets": {},
       "aggData": [],
       "aggError": "",
       "aggOverflow": false,
       "aggSchema": [],
       "aggSeriesLimitReached": false,
       "aggType": "",
       "arguments": {},
       "columnCustomDisplayInfos": {},
       "data": [
        [
         49,
         "First_49",
         "Last_49",
         60,
         "USA",
         "60",
         "Senior"
        ],
        [
         47,
         "First_47",
         "Last_47",
         60,
         "USA",
         "60",
         "Senior"
        ],
        [
         136,
         "First_136",
         "Last_136",
         60,
         "USA",
         "60",
         "Senior"
        ],
        [
         92,
         "First_92",
         "Last_92",
         60,
         "USA",
         "60",
         "Senior"
        ],
        [
         135,
         "First_135",
         "Last_135",
         60,
         "USA",
         "60",
         "Senior"
        ]
       ],
       "datasetInfos": [],
       "dbfsResultPath": null,
       "isJsonSchema": true,
       "metadata": {},
       "overflow": false,
       "plotOptions": {
        "customPlotOptions": {},
        "displayType": "table",
        "pivotAggregation": null,
        "pivotColumns": null,
        "xColumns": null,
        "yColumns": null
       },
       "removedWidgets": [],
       "schema": [
        {
         "metadata": "{}",
         "name": "customer_id",
         "type": "\"long\""
        },
        {
         "metadata": "{}",
         "name": "fname",
         "type": "\"string\""
        },
        {
         "metadata": "{}",
         "name": "lname",
         "type": "\"string\""
        },
        {
         "metadata": "{}",
         "name": "age",
         "type": "\"long\""
        },
        {
         "metadata": "{}",
         "name": "country",
         "type": "\"string\""
        },
        {
         "metadata": "{}",
         "name": "age_str",
         "type": "\"string\""
        },
        {
         "metadata": "{}",
         "name": "age_group",
         "type": "\"string\""
        }
       ],
       "type": "table"
      }
     },
     "output_type": "display_data"
    }
   ],
   "source": [
    "df_transformed = (\n",
    "    df_customers\n",
    "        .filter(F.col(\"age\") > 30)\n",
    "        .orderBy(F.col(\"age\").desc())\n",
    "        .select(\"customer_id\", \"first_name\", \"last_name\", \"age\", \"country\")\n",
    "        .withColumnRenamed(\"first_name\", \"fname\")\n",
    "        .withColumnRenamed(\"last_name\", \"lname\")\n",
    "        .withColumn(\"age_str\", F.col(\"age\").cast(\"string\"))\n",
    "        .withColumn(\n",
    "            \"age_group\", \n",
    "            F.when(F.col(\"age\") < 30, \"Young\")\n",
    "             .when((F.col(\"age\") >= 30) & (F.col(\"age\") < 50), \"Middle-aged\")\n",
    "             .otherwise(\"Senior\")\n",
    "        )\n",
    ")\n",
    "\n",
    "df_transformed.limit(5).display()"
   ]
  }
 ],
 "metadata": {
  "application/vnd.databricks.v1+notebook": {
   "computePreferences": null,
   "dashboards": [],
   "environmentMetadata": {
    "base_environment": "",
    "environment_version": "2"
   },
   "language": "python",
   "notebookMetadata": {
    "pythonIndentUnit": 2
   },
   "notebookName": "02 - Transforming Data",
   "widgets": {}
  },
  "language_info": {
   "name": "python"
  }
 },
 "nbformat": 4,
 "nbformat_minor": 0
}
{
 "cells": [
  {
   "cell_type": "markdown",
   "metadata": {
    "application/vnd.databricks.v1+cell": {
     "cellMetadata": {},
     "inputWidgets": {},
     "nuid": "4694bb75-0869-4a46-9b9f-75c8fca4db8a",
     "showTitle": false,
     "tableResultSettingsMap": {},
     "title": ""
    },
    "jupyter": {
     "outputs_hidden": true
    }
   },
   "source": [
    "### Setup\n",
    "\n",
    "Make sure you have the files available from previous demos."
   ]
  },
  {
   "cell_type": "code",
   "execution_count": 0,
   "metadata": {
    "application/vnd.databricks.v1+cell": {
     "cellMetadata": {
      "byteLimit": 2048000,
      "rowLimit": 10000
     },
     "collapsed": true,
     "inputWidgets": {},
     "nuid": "e3c255ce-7851-4850-8ccd-f798372e3da9",
     "showTitle": false,
     "tableResultSettingsMap": {},
     "title": ""
    }
   },
   "outputs": [],
   "source": [
     "# This cell sets all the configuration parameters to connect to Azure Data Lake\n",
    "spark.conf.set(\"fs.azure.account.auth.type.<account_name>.dfs.core.windows.net\", \"OAuth\")\n",
    "spark.conf.set(\"fs.azure.account.oauth.provider.type.<account_name>.dfs.core.windows.net\", \"org.apache.hadoop.fs.azurebfs.oauth2.ClientCredsTokenProvider\")\n",
    "spark.conf.set(\"fs.azure.account.oauth2.client.id.<account_name>.dfs.core.windows.net\", \"****************************\")\n",
    "spark.conf.set(\"fs.azure.account.oauth2.client.secret.<account_name>.dfs.core.windows.net\", \"*******************************\")\n",
    "spark.conf.set(\"fs.azure.account.oauth2.client.endpoint.<account_name>.dfs.core.windows.net\", \"https://login.microsoftonline.com/************************/oauth2/token\")"
   ]
  },
  {
   "cell_type": "markdown",
   "metadata": {
    "application/vnd.databricks.v1+cell": {
     "cellMetadata": {},
     "inputWidgets": {},
     "nuid": "05dc8896-caea-4f87-8175-6c80d31c6293",
     "showTitle": false,
     "tableResultSettingsMap": {},
     "title": ""
    }
   },
   "source": [
    "Verify that cloud storage is accessible"
   ]
  },
  {
   "cell_type": "code",
   "execution_count": 0,
   "metadata": {
    "application/vnd.databricks.v1+cell": {
     "cellMetadata": {
      "byteLimit": 2048000,
      "rowLimit": 10000
     },
     "inputWidgets": {},
     "nuid": "950ffc86-3822-465e-8238-ed8860012cbd",
     "showTitle": false,
     "tableResultSettingsMap": {},
     "title": ""
    }
   },
   "outputs": [
    {
     "output_type": "execute_result",
     "data": {
      "text/plain": [
       "[FileInfo(path='abfss://pyspark@warnerdatalake.dfs.core.windows.net/exports/', name='exports/', size=0, modificationTime=1740581924000),\n",
       " FileInfo(path='abfss://pyspark@warnerdatalake.dfs.core.windows.net/imports/', name='imports/', size=0, modificationTime=1740581918000)]"
      ]
     },
     "execution_count": 2,
     "metadata": {},
     "output_type": "execute_result"
    }
   ],
   "source": [
    "dbutils.fs.ls(\"abfss://pyspark@warnerdatalake.dfs.core.windows.net/\")"
   ]
  },
  {
   "cell_type": "markdown",
   "metadata": {
    "application/vnd.databricks.v1+cell": {
     "cellMetadata": {},
     "inputWidgets": {},
     "nuid": "32c9bb70-f135-4c4f-8561-2d487aceb989",
     "showTitle": false,
     "tableResultSettingsMap": {},
     "title": ""
    }
   },
   "source": [
    "Let's load our dataset"
   ]
  },
  {
   "cell_type": "code",
   "execution_count": 0,
   "metadata": {
    "application/vnd.databricks.v1+cell": {
     "cellMetadata": {
      "byteLimit": 2048000,
      "rowLimit": 10000
     },
     "inputWidgets": {},
     "nuid": "141ef88d-e165-4620-ab61-3d96b0bf69b6",
     "showTitle": false,
     "tableResultSettingsMap": {},
     "title": ""
    }
   },
   "outputs": [
    {
     "output_type": "display_data",
     "data": {
      "text/html": [
       "<style scoped>\n",
       "  .table-result-container {\n",
       "    max-height: 300px;\n",
       "    overflow: auto;\n",
       "  }\n",
       "  table, th, td {\n",
       "    border: 1px solid black;\n",
       "    border-collapse: collapse;\n",
       "  }\n",
       "  th, td {\n",
       "    padding: 5px;\n",
       "  }\n",
       "  th {\n",
       "    text-align: left;\n",
       "  }\n",
       "</style><div class='table-result-container'><table class='table-result'><thead style='background-color: white'><tr><th>transaction_id</th><th>customer_id</th><th>transaction_date</th><th>amount</th><th>category</th></tr></thead><tbody><tr><td>1</td><td>3065</td><td>2025-03-17</td><td>76.10</td><td>Clothes</td></tr><tr><td>2</td><td>3274</td><td>2025-02-18</td><td>91.91</td><td>Clothes</td></tr><tr><td>3</td><td>130</td><td>2025-01-10</td><td>11.81</td><td>Accessories</td></tr><tr><td>4</td><td>320</td><td>2025-03-06</td><td>20.37</td><td>Furniture</td></tr><tr><td>5</td><td>6480</td><td>2025-03-22</td><td>12.31</td><td>Beauty</td></tr></tbody></table></div>"
      ]
     },
     "metadata": {
      "application/vnd.databricks.v1+output": {
       "addedWidgets": {},
       "aggData": [],
       "aggError": "",
       "aggOverflow": false,
       "aggSchema": [],
       "aggSeriesLimitReached": false,
       "aggType": "",
       "arguments": {},
       "columnCustomDisplayInfos": {},
       "data": [
        [
         1,
         3065,
         "2025-03-17",
         "76.10",
         "Clothes"
        ],
        [
         2,
         3274,
         "2025-02-18",
         "91.91",
         "Clothes"
        ],
        [
         3,
         130,
         "2025-01-10",
         "11.81",
         "Accessories"
        ],
        [
         4,
         320,
         "2025-03-06",
         "20.37",
         "Furniture"
        ],
        [
         5,
         6480,
         "2025-03-22",
         "12.31",
         "Beauty"
        ]
       ],
       "datasetInfos": [],
       "dbfsResultPath": null,
       "isJsonSchema": true,
       "metadata": {},
       "overflow": false,
       "plotOptions": {
        "customPlotOptions": {},
        "displayType": "table",
        "pivotAggregation": null,
        "pivotColumns": null,
        "xColumns": null,
        "yColumns": null
       },
       "removedWidgets": [],
       "schema": [
        {
         "metadata": "{}",
         "name": "transaction_id",
         "type": "\"long\""
        },
        {
         "metadata": "{}",
         "name": "customer_id",
         "type": "\"integer\""
        },
        {
         "metadata": "{}",
         "name": "transaction_date",
         "type": "\"date\""
        },
        {
         "metadata": "{}",
         "name": "amount",
         "type": "\"decimal(10,2)\""
        },
        {
         "metadata": "{}",
         "name": "category",
         "type": "\"string\""
        }
       ],
       "type": "table"
      }
     },
     "output_type": "display_data"
    },
    {
     "output_type": "display_data",
     "data": {
      "text/html": [
       "<style scoped>\n",
       "  .table-result-container {\n",
       "    max-height: 300px;\n",
       "    overflow: auto;\n",
       "  }\n",
       "  table, th, td {\n",
       "    border: 1px solid black;\n",
       "    border-collapse: collapse;\n",
       "  }\n",
       "  th, td {\n",
       "    padding: 5px;\n",
       "  }\n",
       "  th {\n",
       "    text-align: left;\n",
       "  }\n",
       "</style><div class='table-result-container'><table class='table-result'><thead style='background-color: white'><tr><th>customer_id</th><th>first_name</th><th>last_name</th><th>email</th><th>age</th><th>country</th></tr></thead><tbody><tr><td>1</td><td>First_1</td><td>Last_1</td><td>First_1.Last_1@example.com</td><td>40</td><td>Canada</td></tr><tr><td>2</td><td>First_2</td><td>Last_2</td><td>First_2.Last_2@example.com</td><td>55</td><td>USA</td></tr><tr><td>3</td><td>First_3</td><td>Last_3</td><td>First_3.Last_3@example.com</td><td>59</td><td>USA</td></tr><tr><td>4</td><td>First_4</td><td>Last_4</td><td>First_4.Last_4@example.com</td><td>49</td><td>Canada</td></tr><tr><td>5</td><td>First_5</td><td>Last_5</td><td>First_5.Last_5@example.com</td><td>58</td><td>Canada</td></tr></tbody></table></div>"
      ]
     },
     "metadata": {
      "application/vnd.databricks.v1+output": {
       "addedWidgets": {},
       "aggData": [],
       "aggError": "",
       "aggOverflow": false,
       "aggSchema": [],
       "aggSeriesLimitReached": false,
       "aggType": "",
       "arguments": {},
       "columnCustomDisplayInfos": {},
       "data": [
        [
         1,
         "First_1",
         "Last_1",
         "First_1.Last_1@example.com",
         40,
         "Canada"
        ],
        [
         2,
         "First_2",
         "Last_2",
         "First_2.Last_2@example.com",
         55,
         "USA"
        ],
        [
         3,
         "First_3",
         "Last_3",
         "First_3.Last_3@example.com",
         59,
         "USA"
        ],
        [
         4,
         "First_4",
         "Last_4",
         "First_4.Last_4@example.com",
         49,
         "Canada"
        ],
        [
         5,
         "First_5",
         "Last_5",
         "First_5.Last_5@example.com",
         58,
         "Canada"
        ]
       ],
       "datasetInfos": [],
       "dbfsResultPath": null,
       "isJsonSchema": true,
       "metadata": {},
       "overflow": false,
       "plotOptions": {
        "customPlotOptions": {},
        "displayType": "table",
        "pivotAggregation": null,
        "pivotColumns": null,
        "xColumns": null,
        "yColumns": null
       },
       "removedWidgets": [],
       "schema": [
        {
         "metadata": "{}",
         "name": "customer_id",
         "type": "\"long\""
        },
        {
         "metadata": "{}",
         "name": "first_name",
         "type": "\"string\""
        },
        {
         "metadata": "{}",
         "name": "last_name",
         "type": "\"string\""
        },
        {
         "metadata": "{}",
         "name": "email",
         "type": "\"string\""
        },
        {
         "metadata": "{}",
         "name": "age",
         "type": "\"long\""
        },
        {
         "metadata": "{}",
         "name": "country",
         "type": "\"string\""
        }
       ],
       "type": "table"
      }
     },
     "output_type": "display_data"
    }
   ],
   "source": [
    "from pyspark.sql import functions as F\n",
    "\n",
    "# Paths to datasets\n",
    "transactions_path = \"abfss://pyspark@warnerdatalake.dfs.core.windows.net//imports//transactions_data.parquet\"\n",
    "customers_path = \"abfss://pyspark@warnerdatalake.dfs.core.windows.net//imports//customers_data.parquet\"\n",
    "\n",
    "# Load DataFrames\n",
    "df_transactions = spark.read.parquet(transactions_path)\n",
    "df_customers = spark.read.parquet(customers_path)\n",
    "\n",
    "# Display sample data\n",
    "df_transactions.limit(5).display()\n",
    "df_customers.limit(5).display()\n",
    "\n"
   ]
  },
  {
   "cell_type": "markdown",
   "metadata": {
    "application/vnd.databricks.v1+cell": {
     "cellMetadata": {},
     "inputWidgets": {},
     "nuid": "f15c8ca4-715d-4ce8-90bf-91d583ea6265",
     "showTitle": false,
     "tableResultSettingsMap": {},
     "title": ""
    }
   },
   "source": [
    "Let's join the tables\n"
   ]
  },
  {
   "cell_type": "code",
   "execution_count": 0,
   "metadata": {
    "application/vnd.databricks.v1+cell": {
     "cellMetadata": {
      "byteLimit": 2048000,
      "rowLimit": 10000
     },
     "inputWidgets": {},
     "nuid": "5c3f3509-2b1f-4a75-89a9-c6fcd2170543",
     "showTitle": false,
     "tableResultSettingsMap": {},
     "title": ""
    }
   },
   "outputs": [
    {
     "output_type": "execute_result",
     "data": {
      "text/plain": [
       "1000000"
      ]
     },
     "execution_count": 4,
     "metadata": {},
     "output_type": "execute_result"
    }
   ],
   "source": [
    "df_join = df_transactions.join(df_customers, \"customer_id\", \"inner\")\n",
    "df_join.count()"
   ]
  },
  {
   "cell_type": "code",
   "execution_count": 0,
   "metadata": {
    "application/vnd.databricks.v1+cell": {
     "cellMetadata": {
      "byteLimit": 2048000,
      "rowLimit": 10000
     },
     "inputWidgets": {},
     "nuid": "270a5438-e9b3-43c6-902d-31b289686379",
     "showTitle": false,
     "tableResultSettingsMap": {},
     "title": ""
    }
   },
   "outputs": [
    {
     "output_type": "display_data",
     "data": {
      "text/html": [
       "<style scoped>\n",
       "  .table-result-container {\n",
       "    max-height: 300px;\n",
       "    overflow: auto;\n",
       "  }\n",
       "  table, th, td {\n",
       "    border: 1px solid black;\n",
       "    border-collapse: collapse;\n",
       "  }\n",
       "  th, td {\n",
       "    padding: 5px;\n",
       "  }\n",
       "  th {\n",
       "    text-align: left;\n",
       "  }\n",
       "</style><div class='table-result-container'><table class='table-result'><thead style='background-color: white'><tr><th>country</th><th>total_amount</th></tr></thead><tbody><tr><td>USA</td><td>35188490.35</td></tr><tr><td>UK</td><td>1529744.27</td></tr><tr><td>Canada</td><td>13281149.60</td></tr></tbody></table></div>"
      ]
     },
     "metadata": {
      "application/vnd.databricks.v1+output": {
       "addedWidgets": {},
       "aggData": [],
       "aggError": "",
       "aggOverflow": false,
       "aggSchema": [],
       "aggSeriesLimitReached": false,
       "aggType": "",
       "arguments": {},
       "columnCustomDisplayInfos": {},
       "data": [
        [
         "USA",
         "35188490.35"
        ],
        [
         "UK",
         "1529744.27"
        ],
        [
         "Canada",
         "13281149.60"
        ]
       ],
       "datasetInfos": [],
       "dbfsResultPath": null,
       "isJsonSchema": true,
       "metadata": {},
       "overflow": false,
       "plotOptions": {
        "customPlotOptions": {},
        "displayType": "table",
        "pivotAggregation": null,
        "pivotColumns": null,
        "xColumns": null,
        "yColumns": null
       },
       "removedWidgets": [],
       "schema": [
        {
         "metadata": "{}",
         "name": "country",
         "type": "\"string\""
        },
        {
         "metadata": "{}",
         "name": "total_amount",
         "type": "\"decimal(20,2)\""
        }
       ],
       "type": "table"
      }
     },
     "output_type": "display_data"
    },
    {
     "output_type": "stream",
     "name": "stdout",
     "output_type": "stream",
     "text": [
      "== Physical Plan ==\nAdaptiveSparkPlan (11)\n+- == Initial Plan ==\n   HashAggregate (10)\n   +- Exchange (9)\n      +- HashAggregate (8)\n         +- Project (7)\n            +- BroadcastHashJoin Inner BuildRight (6)\n               :- Filter (2)\n               :  +- Scan parquet  (1)\n               +- Exchange (5)\n                  +- Filter (4)\n                     +- Scan parquet  (3)\n\n\n(1) Scan parquet \nOutput [2]: [customer_id#1458, amount#1460]\nBatched: true\nLocation: InMemoryFileIndex [abfss://pyspark@warnerdatalake.dfs.core.windows.net/imports/transactions_data.parquet]\nPushedFilters: [IsNotNull(customer_id)]\nReadSchema: struct<customer_id:int,amount:decimal(10,2)>\n\n(2) Filter\nInput [2]: [customer_id#1458, amount#1460]\nCondition : isnotnull(customer_id#1458)\n\n(3) Scan parquet \nOutput [2]: [customer_id#1467L, country#1472]\nBatched: true\nLocation: InMemoryFileIndex [abfss://pyspark@warnerdatalake.dfs.core.windows.net/imports/customers_data.parquet]\nPushedFilters: [IsNotNull(customer_id)]\nReadSchema: struct<customer_id:bigint,country:string>\n\n(4) Filter\nInput [2]: [customer_id#1467L, country#1472]\nCondition : isnotnull(customer_id#1467L)\n\n(5) Exchange\nInput [2]: [customer_id#1467L, country#1472]\nArguments: SinglePartition, EXECUTOR_BROADCAST, [plan_id=1286]\n\n(6) BroadcastHashJoin\nLeft keys [1]: [cast(customer_id#1458 as bigint)]\nRight keys [1]: [customer_id#1467L]\nJoin type: Inner\nJoin condition: None\n\n(7) Project\nOutput [2]: [amount#1460, country#1472]\nInput [4]: [customer_id#1458, amount#1460, customer_id#1467L, country#1472]\n\n(8) HashAggregate\nInput [2]: [amount#1460, country#1472]\nKeys [1]: [country#1472]\nFunctions [1]: [partial_sum(amount#1460) AS (sum#1548, isEmpty#1549)]\nAggregate Attributes [2]: [sum#1546, isEmpty#1547]\nResults [3]: [country#1472, sum#1548, isEmpty#1549]\n\n(9) Exchange\nInput [3]: [country#1472, sum#1548, isEmpty#1549]\nArguments: hashpartitioning(country#1472, 200), ENSURE_REQUIREMENTS, [plan_id=1291]\n\n(10) HashAggregate\nInput [3]: [country#1472, sum#1548, isEmpty#1549]\nKeys [1]: [country#1472]\nFunctions [1]: [finalmerge_sum(merge sum#1548, isEmpty#1549) AS sum(amount#1460)#1541]\nAggregate Attributes [1]: [sum(amount#1460)#1541]\nResults [2]: [country#1472, sum(amount#1460)#1541 AS total_amount#1540]\n\n(11) AdaptiveSparkPlan\nOutput [2]: [country#1472, total_amount#1540]\nArguments: isFinalPlan=false\n\n\n"
     ]
    }
   ],
   "source": [
    "df_join_sum = df_join \\\n",
    "    .groupBy(\"country\") \\\n",
    "    .agg(F.sum(\"amount\").alias(\"total_amount\"))\n",
    "\n",
    "# Display the result\n",
    "df_join_sum.display()\n",
    "\n",
    "df_join_sum.explain(mode=\"formatted\")"
   ]
  },
  {
   "cell_type": "markdown",
   "metadata": {
    "application/vnd.databricks.v1+cell": {
     "cellMetadata": {},
     "inputWidgets": {},
     "nuid": "0f7bf6d3-c603-459f-8c6d-503865795c7d",
     "showTitle": false,
     "tableResultSettingsMap": {},
     "title": ""
    }
   },
   "source": [
    "If we are going to keep working with the joined data, we can cache it and avoid the file operations"
   ]
  },
  {
   "cell_type": "code",
   "execution_count": 0,
   "metadata": {
    "application/vnd.databricks.v1+cell": {
     "cellMetadata": {
      "byteLimit": 2048000,
      "rowLimit": 10000
     },
     "inputWidgets": {},
     "nuid": "e269cb73-0a8b-4a6f-9f0c-c69edf74d984",
     "showTitle": false,
     "tableResultSettingsMap": {},
     "title": ""
    }
   },
   "outputs": [
    {
     "output_type": "execute_result",
     "data": {
      "text/plain": [
       "1000000"
      ]
     },
     "execution_count": 6,
     "metadata": {},
     "output_type": "execute_result"
    }
   ],
   "source": [
    "df_join.cache()\n",
    "df_join.count()\n"
   ]
  },
  {
   "cell_type": "markdown",
   "metadata": {
    "application/vnd.databricks.v1+cell": {
     "cellMetadata": {},
     "inputWidgets": {},
     "nuid": "110cff85-a0cc-4e25-9e06-5cffe72579c2",
     "showTitle": false,
     "tableResultSettingsMap": {},
     "title": ""
    }
   },
   "source": [
    "And run the aggregation again"
   ]
  },
  {
   "cell_type": "code",
   "execution_count": 0,
   "metadata": {
    "application/vnd.databricks.v1+cell": {
     "cellMetadata": {
      "byteLimit": 2048000,
      "rowLimit": 10000
     },
     "inputWidgets": {},
     "nuid": "42374658-a193-4324-92ad-091626d66421",
     "showTitle": false,
     "tableResultSettingsMap": {},
     "title": ""
    }
   },
   "outputs": [
    {
     "output_type": "display_data",
     "data": {
      "text/html": [
       "<style scoped>\n",
       "  .table-result-container {\n",
       "    max-height: 300px;\n",
       "    overflow: auto;\n",
       "  }\n",
       "  table, th, td {\n",
       "    border: 1px solid black;\n",
       "    border-collapse: collapse;\n",
       "  }\n",
       "  th, td {\n",
       "    padding: 5px;\n",
       "  }\n",
       "  th {\n",
       "    text-align: left;\n",
       "  }\n",
       "</style><div class='table-result-container'><table class='table-result'><thead style='background-color: white'><tr><th>country</th><th>total_amount</th></tr></thead><tbody><tr><td>USA</td><td>35188490.35</td></tr><tr><td>UK</td><td>1529744.27</td></tr><tr><td>Canada</td><td>13281149.60</td></tr></tbody></table></div>"
      ]
     },
     "metadata": {
      "application/vnd.databricks.v1+output": {
       "addedWidgets": {},
       "aggData": [],
       "aggError": "",
       "aggOverflow": false,
       "aggSchema": [],
       "aggSeriesLimitReached": false,
       "aggType": "",
       "arguments": {},
       "columnCustomDisplayInfos": {},
       "data": [
        [
         "USA",
         "35188490.35"
        ],
        [
         "UK",
         "1529744.27"
        ],
        [
         "Canada",
         "13281149.60"
        ]
       ],
       "datasetInfos": [],
       "dbfsResultPath": null,
       "isJsonSchema": true,
       "metadata": {},
       "overflow": false,
       "plotOptions": {
        "customPlotOptions": {},
        "displayType": "table",
        "pivotAggregation": null,
        "pivotColumns": null,
        "xColumns": null,
        "yColumns": null
       },
       "removedWidgets": [],
       "schema": [
        {
         "metadata": "{}",
         "name": "country",
         "type": "\"string\""
        },
        {
         "metadata": "{}",
         "name": "total_amount",
         "type": "\"decimal(20,2)\""
        }
       ],
       "type": "table"
      }
     },
     "output_type": "display_data"
    },
    {
     "output_type": "stream",
     "name": "stdout",
     "output_type": "stream",
     "text": [
      "== Physical Plan ==\nAdaptiveSparkPlan (14)\n+- == Initial Plan ==\n   HashAggregate (13)\n   +- Exchange (12)\n      +- HashAggregate (11)\n         +- InMemoryTableScan (1)\n               +- InMemoryRelation (2)\n                     +- AdaptiveSparkPlan (10)\n                     +- == Initial Plan ==\n                        Project (9)\n                        +- BroadcastHashJoin Inner BuildRight (8)\n                           :- Filter (4)\n                           :  +- Scan parquet  (3)\n                           +- Exchange (7)\n                              +- Filter (6)\n                                 +- Scan parquet  (5)\n\n\n(1) InMemoryTableScan\nOutput [2]: [amount#1460, country#1472]\nArguments: [amount#1460, country#1472]\n\n(2) InMemoryRelation\nArguments: [customer_id#1458, transaction_id#1457L, transaction_date#1459, amount#1460, category#1461, first_name#1468, last_name#1469, email#1470, age#1471L, country#1472], CachedRDDBuilder(org.apache.spark.sql.execution.columnar.DefaultCachedBatchSerializer@6587a773,StorageLevel(disk, memory, deserialized, 1 replicas),AdaptiveSparkPlan isFinalPlan=true\n+- == Final Plan ==\n   ResultQueryStage 1, Statistics(sizeInBytes=275.4 GiB, ColumnStat: N/A, isRuntime=true)\n   +- *(2) Project [customer_id#1458, transaction_id#1457L, transaction_date#1459, amount#1460, category#1461, first_name#1468, last_name#1469, email#1470, age#1471L, country#1472]\n      +- *(2) BroadcastHashJoin [cast(customer_id#1458 as bigint)], [customer_id#1467L], Inner, BuildRight, false, true\n         :- *(2) Filter isnotnull(customer_id#1458)\n         :  +- *(2) ColumnarToRow\n         :     +- FileScan parquet [transaction_id#1457L,customer_id#1458,transaction_date#1459,amount#1460,category#1461] Batched: true, DataFilters: [isnotnull(customer_id#1458)], Format: Parquet, Location: InMemoryFileIndex(1 paths)[abfss://pyspark@warnerdatalake.dfs.core.windows.net/imports/transactio..., PartitionFilters: [], PushedFilters: [IsNotNull(customer_id)], ReadSchema: struct<transaction_id:bigint,customer_id:int,transaction_date:date,amount:decimal(10,2),category:...\n         +- ShuffleQueryStage 0, Statistics(sizeInBytes=1241.4 KiB, rowCount=1.00E+4, ColumnStat: N/A, isRuntime=true)\n            +- Exchange SinglePartition, EXECUTOR_BROADCAST, [plan_id=1427]\n               +- *(1) Filter isnotnull(customer_id#1467L)\n                  +- *(1) ColumnarToRow\n                     +- FileScan parquet [customer_id#1467L,first_name#1468,last_name#1469,email#1470,age#1471L,country#1472] Batched: true, DataFilters: [isnotnull(customer_id#1467L)], Format: Parquet, Location: InMemoryFileIndex(1 paths)[abfss://pyspark@warnerdatalake.dfs.core.windows.net/imports/customers_..., PartitionFilters: [], PushedFilters: [IsNotNull(customer_id)], ReadSchema: struct<customer_id:bigint,first_name:string,last_name:string,email:string,age:bigint,country:string>\n,None,Project [customer_id#1458, transaction_id#1457L, transaction_date#1459, amount#1460, category#1461, first_name#1468, last_name#1469, email#1470, age#1471L, country#1472]\n+- Join Inner, (cast(customer_id#1458 as bigint) = customer_id#1467L)\n   :- Relation [transaction_id#1457L,customer_id#1458,transaction_date#1459,amount#1460,category#1461] parquet\n   +- Relation [customer_id#1467L,first_name#1468,last_name#1469,email#1470,age#1471L,country#1472] parquet\n)\n\n(3) Scan parquet \nOutput [5]: [transaction_id#1457L, customer_id#1458, transaction_date#1459, amount#1460, category#1461]\nBatched: true\nLocation: InMemoryFileIndex [abfss://pyspark@warnerdatalake.dfs.core.windows.net/imports/transactions_data.parquet]\nPushedFilters: [IsNotNull(customer_id)]\nReadSchema: struct<transaction_id:bigint,customer_id:int,transaction_date:date,amount:decimal(10,2),category:string>\n\n(4) Filter\nInput [5]: [transaction_id#1457L, customer_id#1458, transaction_date#1459, amount#1460, category#1461]\nCondition : isnotnull(customer_id#1458)\n\n(5) Scan parquet \nOutput [6]: [customer_id#1467L, first_name#1468, last_name#1469, email#1470, age#1471L, country#1472]\nBatched: true\nLocation: InMemoryFileIndex [abfss://pyspark@warnerdatalake.dfs.core.windows.net/imports/customers_data.parquet]\nPushedFilters: [IsNotNull(customer_id)]\nReadSchema: struct<customer_id:bigint,first_name:string,last_name:string,email:string,age:bigint,country:string>\n\n(6) Filter\nInput [6]: [customer_id#1467L, first_name#1468, last_name#1469, email#1470, age#1471L, country#1472]\nCondition : isnotnull(customer_id#1467L)\n\n(7) Exchange\nInput [6]: [customer_id#1467L, first_name#1468, last_name#1469, email#1470, age#1471L, country#1472]\nArguments: SinglePartition, EXECUTOR_BROADCAST, [plan_id=1681]\n\n(8) BroadcastHashJoin\nLeft keys [1]: [cast(customer_id#1458 as bigint)]\nRight keys [1]: [customer_id#1467L]\nJoin type: Inner\nJoin condition: None\n\n(9) Project\nOutput [10]: [customer_id#1458, transaction_id#1457L, transaction_date#1459, amount#1460, category#1461, first_name#1468, last_name#1469, email#1470, age#1471L, country#1472]\nInput [11]: [transaction_id#1457L, customer_id#1458, transaction_date#1459, amount#1460, category#1461, customer_id#1467L, first_name#1468, last_name#1469, email#1470, age#1471L, country#1472]\n\n(10) AdaptiveSparkPlan\nOutput [10]: [customer_id#1458, transaction_id#1457L, transaction_date#1459, amount#1460, category#1461, first_name#1468, last_name#1469, email#1470, age#1471L, country#1472]\nArguments: isFinalPlan=false\n\n(11) HashAggregate\nInput [2]: [amount#1460, country#1472]\nKeys [1]: [country#1472]\nFunctions [1]: [partial_sum(amount#1460) AS (sum#2053, isEmpty#2054)]\nAggregate Attributes [2]: [sum#2051, isEmpty#2052]\nResults [3]: [country#1472, sum#2053, isEmpty#2054]\n\n(12) Exchange\nInput [3]: [country#1472, sum#2053, isEmpty#2054]\nArguments: hashpartitioning(country#1472, 200), ENSURE_REQUIREMENTS, [plan_id=1644]\n\n(13) HashAggregate\nInput [3]: [country#1472, sum#2053, isEmpty#2054]\nKeys [1]: [country#1472]\nFunctions [1]: [finalmerge_sum(merge sum#2053, isEmpty#2054) AS sum(amount#1460)#1946]\nAggregate Attributes [1]: [sum(amount#1460)#1946]\nResults [2]: [country#1472, sum(amount#1460)#1946 AS total_amount#1945]\n\n(14) AdaptiveSparkPlan\nOutput [2]: [country#1472, total_amount#1945]\nArguments: isFinalPlan=false\n\n\n"
     ]
    }
   ],
   "source": [
    "df_join_sum = df_join \\\n",
    "    .groupBy(\"country\") \\\n",
    "    .agg(F.sum(\"amount\").alias(\"total_amount\"))\n",
    "\n",
    "# Display the result\n",
    "df_join_sum.display()\n",
    "\n",
    "df_join_sum.explain(mode=\"formatted\")"
   ]
  },
  {
   "cell_type": "markdown",
   "metadata": {
    "application/vnd.databricks.v1+cell": {
     "cellMetadata": {},
     "inputWidgets": {},
     "nuid": "b7f3981e-4786-4a03-a476-baa8b26e6a61",
     "showTitle": false,
     "tableResultSettingsMap": {},
     "title": ""
    }
   },
   "source": []
  }
 ],
 "metadata": {
  "application/vnd.databricks.v1+notebook": {
   "computePreferences": null,
   "dashboards": [],
   "environmentMetadata": {
    "base_environment": "",
    "environment_version": "2"
   },
   "language": "python",
   "notebookMetadata": {
    "pythonIndentUnit": 2
   },
   "notebookName": "08 - Performance Tuning",
   "widgets": {}
  },
  "language_info": {
   "name": "python"
  }
 },
 "nbformat": 4,
 "nbformat_minor": 0
}
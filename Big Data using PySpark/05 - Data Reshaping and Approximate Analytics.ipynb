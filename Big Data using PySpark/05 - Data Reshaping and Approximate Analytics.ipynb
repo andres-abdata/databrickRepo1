{
 "cells": [
  {
   "cell_type": "markdown",
   "metadata": {
    "application/vnd.databricks.v1+cell": {
     "cellMetadata": {},
     "inputWidgets": {},
     "nuid": "4694bb75-0869-4a46-9b9f-75c8fca4db8a",
     "showTitle": false,
     "tableResultSettingsMap": {},
     "title": ""
    },
    "jupyter": {
     "outputs_hidden": true
    }
   },
   "source": [
    "### Setup\n",
    "\n",
    "Make sure you have the files available from previous demos."
   ]
  },
  {
   "cell_type": "code",
   "execution_count": 0,
   "metadata": {
    "application/vnd.databricks.v1+cell": {
     "cellMetadata": {
      "byteLimit": 2048000,
      "rowLimit": 10000
     },
     "collapsed": true,
     "inputWidgets": {},
     "nuid": "e3c255ce-7851-4850-8ccd-f798372e3da9",
     "showTitle": false,
     "tableResultSettingsMap": {},
     "title": ""
    }
   },
   "outputs": [],
   "source": [
     "# This cell sets all the configuration parameters to connect to Azure Data Lake\n",
    "spark.conf.set(\"fs.azure.account.auth.type.<account_name>.dfs.core.windows.net\", \"OAuth\")\n",
    "spark.conf.set(\"fs.azure.account.oauth.provider.type.<account_name>.dfs.core.windows.net\", \"org.apache.hadoop.fs.azurebfs.oauth2.ClientCredsTokenProvider\")\n",
    "spark.conf.set(\"fs.azure.account.oauth2.client.id.<account_name>.dfs.core.windows.net\", \"****************************\")\n",
    "spark.conf.set(\"fs.azure.account.oauth2.client.secret.<account_name>.dfs.core.windows.net\", \"*******************************\")\n",
    "spark.conf.set(\"fs.azure.account.oauth2.client.endpoint.<account_name>.dfs.core.windows.net\", \"https://login.microsoftonline.com/************************/oauth2/token\")"
   ]
  },
  {
   "cell_type": "markdown",
   "metadata": {
    "application/vnd.databricks.v1+cell": {
     "cellMetadata": {},
     "inputWidgets": {},
     "nuid": "05dc8896-caea-4f87-8175-6c80d31c6293",
     "showTitle": false,
     "tableResultSettingsMap": {},
     "title": ""
    }
   },
   "source": [
    "Verify that cloud storage is accessible"
   ]
  },
  {
   "cell_type": "code",
   "execution_count": 0,
   "metadata": {
    "application/vnd.databricks.v1+cell": {
     "cellMetadata": {
      "byteLimit": 2048000,
      "rowLimit": 10000
     },
     "inputWidgets": {},
     "nuid": "950ffc86-3822-465e-8238-ed8860012cbd",
     "showTitle": false,
     "tableResultSettingsMap": {},
     "title": ""
    }
   },
   "outputs": [],
   "source": [
    "dbutils.fs.ls(\"abfss://pyspark@warnerdatalake.dfs.core.windows.net/\")"
   ]
  },
  {
   "cell_type": "markdown",
   "metadata": {
    "application/vnd.databricks.v1+cell": {
     "cellMetadata": {},
     "inputWidgets": {},
     "nuid": "ccc7dda3-b39f-4e0e-bdd7-d8a5c88d5049",
     "showTitle": false,
     "tableResultSettingsMap": {},
     "title": ""
    }
   },
   "source": [
    "Let's load the transactions data"
   ]
  },
  {
   "cell_type": "code",
   "execution_count": 0,
   "metadata": {
    "application/vnd.databricks.v1+cell": {
     "cellMetadata": {
      "byteLimit": 2048000,
      "rowLimit": 10000
     },
     "inputWidgets": {},
     "nuid": "a31e9f00-638a-4b72-9b22-a2642141d2e2",
     "showTitle": false,
     "tableResultSettingsMap": {},
     "title": ""
    }
   },
   "outputs": [
    {
     "output_type": "display_data",
     "data": {
      "text/html": [
       "<style scoped>\n",
       "  .table-result-container {\n",
       "    max-height: 300px;\n",
       "    overflow: auto;\n",
       "  }\n",
       "  table, th, td {\n",
       "    border: 1px solid black;\n",
       "    border-collapse: collapse;\n",
       "  }\n",
       "  th, td {\n",
       "    padding: 5px;\n",
       "  }\n",
       "  th {\n",
       "    text-align: left;\n",
       "  }\n",
       "</style><div class='table-result-container'><table class='table-result'><thead style='background-color: white'><tr><th>transaction_id</th><th>customer_id</th><th>transaction_date</th><th>amount</th><th>category</th></tr></thead><tbody><tr><td>1</td><td>3065</td><td>2025-03-17</td><td>76.10</td><td>Clothes</td></tr><tr><td>2</td><td>3274</td><td>2025-02-18</td><td>91.91</td><td>Clothes</td></tr><tr><td>3</td><td>130</td><td>2025-01-10</td><td>11.81</td><td>Accessories</td></tr><tr><td>4</td><td>320</td><td>2025-03-06</td><td>20.37</td><td>Furniture</td></tr><tr><td>5</td><td>6480</td><td>2025-03-22</td><td>12.31</td><td>Beauty</td></tr></tbody></table></div>"
      ]
     },
     "metadata": {
      "application/vnd.databricks.v1+output": {
       "addedWidgets": {},
       "aggData": [],
       "aggError": "",
       "aggOverflow": false,
       "aggSchema": [],
       "aggSeriesLimitReached": false,
       "aggType": "",
       "arguments": {},
       "columnCustomDisplayInfos": {},
       "data": [
        [
         1,
         3065,
         "2025-03-17",
         "76.10",
         "Clothes"
        ],
        [
         2,
         3274,
         "2025-02-18",
         "91.91",
         "Clothes"
        ],
        [
         3,
         130,
         "2025-01-10",
         "11.81",
         "Accessories"
        ],
        [
         4,
         320,
         "2025-03-06",
         "20.37",
         "Furniture"
        ],
        [
         5,
         6480,
         "2025-03-22",
         "12.31",
         "Beauty"
        ]
       ],
       "datasetInfos": [],
       "dbfsResultPath": null,
       "isJsonSchema": true,
       "metadata": {},
       "overflow": false,
       "plotOptions": {
        "customPlotOptions": {},
        "displayType": "table",
        "pivotAggregation": null,
        "pivotColumns": null,
        "xColumns": null,
        "yColumns": null
       },
       "removedWidgets": [],
       "schema": [
        {
         "metadata": "{}",
         "name": "transaction_id",
         "type": "\"long\""
        },
        {
         "metadata": "{}",
         "name": "customer_id",
         "type": "\"integer\""
        },
        {
         "metadata": "{}",
         "name": "transaction_date",
         "type": "\"date\""
        },
        {
         "metadata": "{}",
         "name": "amount",
         "type": "\"decimal(10,2)\""
        },
        {
         "metadata": "{}",
         "name": "category",
         "type": "\"string\""
        }
       ],
       "type": "table"
      }
     },
     "output_type": "display_data"
    }
   ],
   "source": [
    "from pyspark.sql import functions as F\n",
    "from pyspark.sql import Window\n",
    "\n",
    "# Load transactions data from Azure Data Lake\n",
    "parquet_path = \"abfss://pyspark@warnerdatalake.dfs.core.windows.net//imports//transactions_data.parquet\"\n",
    "\n",
    "df_transactions = spark.read.parquet(parquet_path)\n",
    "\n",
    "# Display sample data\n",
    "df_transactions.limit(5).display()\n"
   ]
  },
  {
   "cell_type": "markdown",
   "metadata": {
    "application/vnd.databricks.v1+cell": {
     "cellMetadata": {},
     "inputWidgets": {},
     "nuid": "47af379a-3547-4e05-84c2-2b60b65b0e0c",
     "showTitle": false,
     "tableResultSettingsMap": {},
     "title": ""
    }
   },
   "source": [
    "Let's try some pivoting to reshape the data"
   ]
  },
  {
   "cell_type": "code",
   "execution_count": 0,
   "metadata": {
    "application/vnd.databricks.v1+cell": {
     "cellMetadata": {
      "byteLimit": 2048000,
      "rowLimit": 10000
     },
     "inputWidgets": {},
     "nuid": "0a93ea44-f66d-4687-a77f-0affd4428ae9",
     "showTitle": false,
     "tableResultSettingsMap": {},
     "title": ""
    }
   },
   "outputs": [
    {
     "output_type": "display_data",
     "data": {
      "text/html": [
       "<style scoped>\n",
       "  .table-result-container {\n",
       "    max-height: 300px;\n",
       "    overflow: auto;\n",
       "  }\n",
       "  table, th, td {\n",
       "    border: 1px solid black;\n",
       "    border-collapse: collapse;\n",
       "  }\n",
       "  th, td {\n",
       "    padding: 5px;\n",
       "  }\n",
       "  th {\n",
       "    text-align: left;\n",
       "  }\n",
       "</style><div class='table-result-container'><table class='table-result'><thead style='background-color: white'><tr><th>customer_id</th><th>Accessories</th><th>Beauty</th><th>Books</th><th>Clothes</th><th>Electronics</th><th>Food</th><th>Furniture</th><th>Gadgets</th><th>Sports</th><th>Toys</th></tr></thead><tbody><tr><td>6336</td><td>237.93</td><td>265.67</td><td>388.71</td><td>543.60</td><td>317.88</td><td>501.65</td><td>256.61</td><td>500.88</td><td>361.65</td><td>1017.56</td></tr><tr><td>1645</td><td>522.79</td><td>346.71</td><td>449.05</td><td>524.83</td><td>525.35</td><td>366.40</td><td>304.46</td><td>639.11</td><td>216.31</td><td>754.29</td></tr><tr><td>8638</td><td>548.80</td><td>313.37</td><td>473.96</td><td>760.00</td><td>317.45</td><td>351.61</td><td>479.45</td><td>702.97</td><td>473.00</td><td>550.14</td></tr><tr><td>5518</td><td>318.13</td><td>218.53</td><td>579.58</td><td>441.95</td><td>918.84</td><td>278.58</td><td>413.52</td><td>331.55</td><td>595.63</td><td>441.42</td></tr><tr><td>9852</td><td>304.21</td><td>335.45</td><td>532.39</td><td>428.12</td><td>704.74</td><td>476.28</td><td>250.78</td><td>663.14</td><td>219.10</td><td>377.75</td></tr></tbody></table></div>"
      ]
     },
     "metadata": {
      "application/vnd.databricks.v1+output": {
       "addedWidgets": {},
       "aggData": [],
       "aggError": "",
       "aggOverflow": false,
       "aggSchema": [],
       "aggSeriesLimitReached": false,
       "aggType": "",
       "arguments": {},
       "columnCustomDisplayInfos": {},
       "data": [
        [
         6336,
         "237.93",
         "265.67",
         "388.71",
         "543.60",
         "317.88",
         "501.65",
         "256.61",
         "500.88",
         "361.65",
         "1017.56"
        ],
        [
         1645,
         "522.79",
         "346.71",
         "449.05",
         "524.83",
         "525.35",
         "366.40",
         "304.46",
         "639.11",
         "216.31",
         "754.29"
        ],
        [
         8638,
         "548.80",
         "313.37",
         "473.96",
         "760.00",
         "317.45",
         "351.61",
         "479.45",
         "702.97",
         "473.00",
         "550.14"
        ],
        [
         5518,
         "318.13",
         "218.53",
         "579.58",
         "441.95",
         "918.84",
         "278.58",
         "413.52",
         "331.55",
         "595.63",
         "441.42"
        ],
        [
         9852,
         "304.21",
         "335.45",
         "532.39",
         "428.12",
         "704.74",
         "476.28",
         "250.78",
         "663.14",
         "219.10",
         "377.75"
        ]
       ],
       "datasetInfos": [],
       "dbfsResultPath": null,
       "isJsonSchema": true,
       "metadata": {},
       "overflow": false,
       "plotOptions": {
        "customPlotOptions": {},
        "displayType": "table",
        "pivotAggregation": null,
        "pivotColumns": null,
        "xColumns": null,
        "yColumns": null
       },
       "removedWidgets": [],
       "schema": [
        {
         "metadata": "{}",
         "name": "customer_id",
         "type": "\"integer\""
        },
        {
         "metadata": "{}",
         "name": "Accessories",
         "type": "\"decimal(20,2)\""
        },
        {
         "metadata": "{}",
         "name": "Beauty",
         "type": "\"decimal(20,2)\""
        },
        {
         "metadata": "{}",
         "name": "Books",
         "type": "\"decimal(20,2)\""
        },
        {
         "metadata": "{}",
         "name": "Clothes",
         "type": "\"decimal(20,2)\""
        },
        {
         "metadata": "{}",
         "name": "Electronics",
         "type": "\"decimal(20,2)\""
        },
        {
         "metadata": "{}",
         "name": "Food",
         "type": "\"decimal(20,2)\""
        },
        {
         "metadata": "{}",
         "name": "Furniture",
         "type": "\"decimal(20,2)\""
        },
        {
         "metadata": "{}",
         "name": "Gadgets",
         "type": "\"decimal(20,2)\""
        },
        {
         "metadata": "{}",
         "name": "Sports",
         "type": "\"decimal(20,2)\""
        },
        {
         "metadata": "{}",
         "name": "Toys",
         "type": "\"decimal(20,2)\""
        }
       ],
       "type": "table"
      }
     },
     "output_type": "display_data"
    }
   ],
   "source": [
    "# Pivot categories into columns\n",
    "\n",
    "df_pivot = (\n",
    "    df_transactions\n",
    "        .groupBy(\"customer_id\")\n",
    "        .pivot(\"category\")\n",
    "        .agg(F.sum(\"amount\").alias(\"total_spent\"))\n",
    ")\n",
    "\n",
    "df_pivot.limit(5).display()\n"
   ]
  },
  {
   "cell_type": "markdown",
   "metadata": {
    "application/vnd.databricks.v1+cell": {
     "cellMetadata": {},
     "inputWidgets": {},
     "nuid": "a0b6887a-6b95-4cb8-a4d6-43cce5a14e9e",
     "showTitle": false,
     "tableResultSettingsMap": {},
     "title": ""
    }
   },
   "source": [
    "We can unpivot as well"
   ]
  },
  {
   "cell_type": "code",
   "execution_count": 0,
   "metadata": {
    "application/vnd.databricks.v1+cell": {
     "cellMetadata": {
      "byteLimit": 2048000,
      "rowLimit": 10000
     },
     "inputWidgets": {},
     "nuid": "98b3a7d9-0dd9-4836-b2eb-4b21ae11f533",
     "showTitle": false,
     "tableResultSettingsMap": {},
     "title": ""
    }
   },
   "outputs": [
    {
     "output_type": "display_data",
     "data": {
      "text/html": [
       "<style scoped>\n",
       "  .table-result-container {\n",
       "    max-height: 300px;\n",
       "    overflow: auto;\n",
       "  }\n",
       "  table, th, td {\n",
       "    border: 1px solid black;\n",
       "    border-collapse: collapse;\n",
       "  }\n",
       "  th, td {\n",
       "    padding: 5px;\n",
       "  }\n",
       "  th {\n",
       "    text-align: left;\n",
       "  }\n",
       "</style><div class='table-result-container'><table class='table-result'><thead style='background-color: white'><tr><th>customer_id</th><th>category</th><th>total_spent</th></tr></thead><tbody><tr><td>6336</td><td>Accessories</td><td>237.93</td></tr><tr><td>6336</td><td>Beauty</td><td>265.67</td></tr><tr><td>6336</td><td>Books</td><td>388.71</td></tr><tr><td>6336</td><td>Clothes</td><td>543.60</td></tr><tr><td>6336</td><td>Electronics</td><td>317.88</td></tr></tbody></table></div>"
      ]
     },
     "metadata": {
      "application/vnd.databricks.v1+output": {
       "addedWidgets": {},
       "aggData": [],
       "aggError": "",
       "aggOverflow": false,
       "aggSchema": [],
       "aggSeriesLimitReached": false,
       "aggType": "",
       "arguments": {},
       "columnCustomDisplayInfos": {},
       "data": [
        [
         6336,
         "Accessories",
         "237.93"
        ],
        [
         6336,
         "Beauty",
         "265.67"
        ],
        [
         6336,
         "Books",
         "388.71"
        ],
        [
         6336,
         "Clothes",
         "543.60"
        ],
        [
         6336,
         "Electronics",
         "317.88"
        ]
       ],
       "datasetInfos": [],
       "dbfsResultPath": null,
       "isJsonSchema": true,
       "metadata": {},
       "overflow": false,
       "plotOptions": {
        "customPlotOptions": {},
        "displayType": "table",
        "pivotAggregation": null,
        "pivotColumns": null,
        "xColumns": null,
        "yColumns": null
       },
       "removedWidgets": [],
       "schema": [
        {
         "metadata": "{}",
         "name": "customer_id",
         "type": "\"integer\""
        },
        {
         "metadata": "{}",
         "name": "category",
         "type": "\"string\""
        },
        {
         "metadata": "{}",
         "name": "total_spent",
         "type": "\"decimal(20,2)\""
        }
       ],
       "type": "table"
      }
     },
     "output_type": "display_data"
    }
   ],
   "source": [
    "# Reshaping data back into rows\n",
    "unpivot_columns = df_pivot.columns[1:]  # Exclude 'customer_id'\n",
    "\n",
    "df_unpivot = df_pivot.selectExpr(\n",
    "    \"customer_id\",\n",
    "    \"stack(\" + str(len(unpivot_columns)) + \", \" +\n",
    "    \", \".join([f\"'{col}', {col}\" for col in unpivot_columns]) +\n",
    "    \") as (category, total_spent)\"\n",
    ")\n",
    "\n",
    "df_unpivot.limit(5).display()\n"
   ]
  },
  {
   "cell_type": "markdown",
   "metadata": {
    "application/vnd.databricks.v1+cell": {
     "cellMetadata": {},
     "inputWidgets": {},
     "nuid": "aa92081d-5c85-475e-a079-f6f38d78083b",
     "showTitle": false,
     "tableResultSettingsMap": {},
     "title": ""
    }
   },
   "source": [
    "We can do approximations on large datasets"
   ]
  },
  {
   "cell_type": "code",
   "execution_count": 0,
   "metadata": {
    "application/vnd.databricks.v1+cell": {
     "cellMetadata": {
      "byteLimit": 2048000,
      "rowLimit": 10000
     },
     "inputWidgets": {},
     "nuid": "b1b75245-2396-4277-8948-6b635604901a",
     "showTitle": false,
     "tableResultSettingsMap": {},
     "title": ""
    }
   },
   "outputs": [
    {
     "output_type": "display_data",
     "data": {
      "text/html": [
       "<style scoped>\n",
       "  .table-result-container {\n",
       "    max-height: 300px;\n",
       "    overflow: auto;\n",
       "  }\n",
       "  table, th, td {\n",
       "    border: 1px solid black;\n",
       "    border-collapse: collapse;\n",
       "  }\n",
       "  th, td {\n",
       "    padding: 5px;\n",
       "  }\n",
       "  th {\n",
       "    text-align: left;\n",
       "  }\n",
       "</style><div class='table-result-container'><table class='table-result'><thead style='background-color: white'><tr><th>category</th><th>approx_unique_customers</th></tr></thead><tbody><tr><td>Food</td><td>9823</td></tr><tr><td>Sports</td><td>9823</td></tr><tr><td>Electronics</td><td>9823</td></tr><tr><td>Books</td><td>9823</td></tr><tr><td>Accessories</td><td>9823</td></tr></tbody></table></div>"
      ]
     },
     "metadata": {
      "application/vnd.databricks.v1+output": {
       "addedWidgets": {},
       "aggData": [],
       "aggError": "",
       "aggOverflow": false,
       "aggSchema": [],
       "aggSeriesLimitReached": false,
       "aggType": "",
       "arguments": {},
       "columnCustomDisplayInfos": {},
       "data": [
        [
         "Food",
         9823
        ],
        [
         "Sports",
         9823
        ],
        [
         "Electronics",
         9823
        ],
        [
         "Books",
         9823
        ],
        [
         "Accessories",
         9823
        ]
       ],
       "datasetInfos": [],
       "dbfsResultPath": null,
       "isJsonSchema": true,
       "metadata": {},
       "overflow": false,
       "plotOptions": {
        "customPlotOptions": {},
        "displayType": "table",
        "pivotAggregation": null,
        "pivotColumns": null,
        "xColumns": null,
        "yColumns": null
       },
       "removedWidgets": [],
       "schema": [
        {
         "metadata": "{}",
         "name": "category",
         "type": "\"string\""
        },
        {
         "metadata": "{}",
         "name": "approx_unique_customers",
         "type": "\"long\""
        }
       ],
       "type": "table"
      }
     },
     "output_type": "display_data"
    }
   ],
   "source": [
    "# HyperLogLog for Approximate Distinct Counting\n",
    "\n",
    "df_hyperloglog = (\n",
    "    df_transactions\n",
    "        .groupBy(\"category\")\n",
    "        .agg(F.approx_count_distinct(\"customer_id\").alias(\"approx_unique_customers\"))\n",
    ")\n",
    "\n",
    "df_hyperloglog.limit(5).display()\n"
   ]
  },
  {
   "cell_type": "code",
   "execution_count": 0,
   "metadata": {
    "application/vnd.databricks.v1+cell": {
     "cellMetadata": {
      "byteLimit": 2048000,
      "rowLimit": 10000
     },
     "inputWidgets": {},
     "nuid": "c7d87618-be30-441b-b795-e134610f9072",
     "showTitle": false,
     "tableResultSettingsMap": {},
     "title": ""
    }
   },
   "outputs": [
    {
     "output_type": "stream",
     "name": "stdout",
     "output_type": "stream",
     "text": [
      "✅ Transactions data written to Parquet with Bloom Filter enabled.\n"
     ]
    }
   ],
   "source": [
    "# Bloom filters for membership testing\n",
    "# Define the output path with Bloom Filters enabled\n",
    "bloom_parquet_path = \"abfss://pyspark@warnerdatalake.dfs.core.windows.net//exports//transactions_bloom\"\n",
    "\n",
    "# Step 1: Specify the Bloom filter options\n",
    "bloom_filter_options = {\n",
    "    \"spark.sql.parquet.bloom.filter.enabled\": \"true\",  # Enable Bloom filter\n",
    "    \"spark.sql.parquet.bloom.filter.column\": \"customer_id\",  # Apply Bloom filter to customer_id\n",
    "    \"spark.sql.parquet.bloom.filter.expected.ndv\": \"10000\",  # Expected unique customer IDs\n",
    "    \"spark.sql.parquet.bloom.filter.fpp\": \"0.01\"  # 1% false positive probability\n",
    "}\n",
    "\n",
    "# Step 2: Write DataFrame to Parquet with Bloom filter enabled\n",
    "df_transactions.write \\\n",
    "    .option(\"parquet.bloom.filter.enabled\", bloom_filter_options[\"spark.sql.parquet.bloom.filter.enabled\"]) \\\n",
    "    .option(\"parquet.bloom.filter.column\", bloom_filter_options[\"spark.sql.parquet.bloom.filter.column\"]) \\\n",
    "    .option(\"parquet.bloom.filter.expected.ndv\", bloom_filter_options[\"spark.sql.parquet.bloom.filter.expected.ndv\"]) \\\n",
    "    .option(\"parquet.bloom.filter.fpp\", bloom_filter_options[\"spark.sql.parquet.bloom.filter.fpp\"]) \\\n",
    "    .mode(\"overwrite\") \\\n",
    "    .parquet(bloom_parquet_path)\n",
    "\n",
    "print(\"✅ Transactions data written to Parquet with Bloom Filter enabled.\")\n"
   ]
  },
  {
   "cell_type": "code",
   "execution_count": 0,
   "metadata": {
    "application/vnd.databricks.v1+cell": {
     "cellMetadata": {
      "byteLimit": 2048000,
      "rowLimit": 10000
     },
     "inputWidgets": {},
     "nuid": "231de672-4e5d-4124-8cd6-afa2eaafa552",
     "showTitle": false,
     "tableResultSettingsMap": {},
     "title": ""
    }
   },
   "outputs": [
    {
     "output_type": "display_data",
     "data": {
      "text/html": [
       "<style scoped>\n",
       "  .table-result-container {\n",
       "    max-height: 300px;\n",
       "    overflow: auto;\n",
       "  }\n",
       "  table, th, td {\n",
       "    border: 1px solid black;\n",
       "    border-collapse: collapse;\n",
       "  }\n",
       "  th, td {\n",
       "    padding: 5px;\n",
       "  }\n",
       "  th {\n",
       "    text-align: left;\n",
       "  }\n",
       "</style><div class='table-result-container'><table class='table-result'><thead style='background-color: white'><tr><th>transaction_id</th><th>customer_id</th><th>transaction_date</th><th>amount</th><th>category</th></tr></thead><tbody></tbody></table></div>"
      ]
     },
     "metadata": {
      "application/vnd.databricks.v1+output": {
       "addedWidgets": {},
       "aggData": [],
       "aggError": "",
       "aggOverflow": false,
       "aggSchema": [],
       "aggSeriesLimitReached": false,
       "aggType": "",
       "arguments": {},
       "columnCustomDisplayInfos": {},
       "data": [],
       "datasetInfos": [],
       "dbfsResultPath": null,
       "isJsonSchema": true,
       "metadata": {},
       "overflow": false,
       "plotOptions": {
        "customPlotOptions": {},
        "displayType": "table",
        "pivotAggregation": null,
        "pivotColumns": null,
        "xColumns": null,
        "yColumns": null
       },
       "removedWidgets": [],
       "schema": [
        {
         "metadata": "{}",
         "name": "transaction_id",
         "type": "\"long\""
        },
        {
         "metadata": "{}",
         "name": "customer_id",
         "type": "\"integer\""
        },
        {
         "metadata": "{}",
         "name": "transaction_date",
         "type": "\"date\""
        },
        {
         "metadata": "{}",
         "name": "amount",
         "type": "\"decimal(10,2)\""
        },
        {
         "metadata": "{}",
         "name": "category",
         "type": "\"string\""
        }
       ],
       "type": "table"
      }
     },
     "output_type": "display_data"
    }
   ],
   "source": [
    "df_bloom = spark.read \\\n",
    "    .option(\"parquet.filter.bloom.enabled\", \"true\") \\\n",
    "    .parquet(bloom_parquet_path)\n",
    "\n",
    "# Apply filter on customer_id to check performance\n",
    "df_filtered = df_bloom.filter(F.col(\"customer_id\") == 12345)\n",
    "\n",
    "df_filtered.limit(5).display()\n"
   ]
  }
 ],
 "metadata": {
  "application/vnd.databricks.v1+notebook": {
   "computePreferences": null,
   "dashboards": [],
   "environmentMetadata": {
    "base_environment": "",
    "environment_version": "2"
   },
   "language": "python",
   "notebookMetadata": {
    "pythonIndentUnit": 2
   },
   "notebookName": "05 - Data Reshaping and Approximate Analytics",
   "widgets": {}
  },
  "language_info": {
   "name": "python"
  }
 },
 "nbformat": 4,
 "nbformat_minor": 0
}
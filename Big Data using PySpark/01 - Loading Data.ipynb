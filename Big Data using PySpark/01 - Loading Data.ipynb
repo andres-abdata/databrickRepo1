{
 "cells": [
  {
   "cell_type": "markdown",
   "metadata": {
    "application/vnd.databricks.v1+cell": {
     "cellMetadata": {},
     "inputWidgets": {},
     "nuid": "4694bb75-0869-4a46-9b9f-75c8fca4db8a",
     "showTitle": false,
     "tableResultSettingsMap": {},
     "title": ""
    },
    "jupyter": {
     "outputs_hidden": true
    }
   },
   "source": [
    "### Setup\n",
    "\n",
    "To get set up, do these tasks first: \n",
    "\n",
    "- Upload the customer_data* and transactions_data* files to a cloud bucket or follow the 00 - Generating Data notebook to generate them.\n",
    "- Regardless of how you get the files into your storage, you will have to replace the paths I use in the code below with the paths that make sense for your environment. The ones I use are for accessing Azure Data Lake Storage."
   ]
  },
  {
   "cell_type": "markdown",
   "metadata": {
    "application/vnd.databricks.v1+cell": {
     "cellMetadata": {},
     "inputWidgets": {},
     "nuid": "1ae0663b-3cdf-470f-88a1-2594a378377c",
     "showTitle": false,
     "tableResultSettingsMap": {},
     "title": ""
    }
   },
   "source": [
    "First I set my Azure storage configs"
   ]
  },
  {
   "cell_type": "code",
   "execution_count": 0,
   "metadata": {
    "application/vnd.databricks.v1+cell": {
     "cellMetadata": {
      "byteLimit": 2048000,
      "rowLimit": 10000
     },
     "collapsed": true,
     "inputWidgets": {},
     "nuid": "e3c255ce-7851-4850-8ccd-f798372e3da9",
     "showTitle": false,
     "tableResultSettingsMap": {},
     "title": ""
    }
   },
   "outputs": [],
   "source": [
    "# This cell sets all the configuration parameters to connect to Azure Data Lake\n",
    "spark.conf.set(\"fs.azure.account.auth.type.<account_name>.dfs.core.windows.net\", \"OAuth\")\n",
    "spark.conf.set(\"fs.azure.account.oauth.provider.type.<account_name>.dfs.core.windows.net\", \"org.apache.hadoop.fs.azurebfs.oauth2.ClientCredsTokenProvider\")\n",
    "spark.conf.set(\"fs.azure.account.oauth2.client.id.<account_name>.dfs.core.windows.net\", \"****************************\")\n",
    "spark.conf.set(\"fs.azure.account.oauth2.client.secret.<account_name>.dfs.core.windows.net\", \"*******************************\")\n",
    "spark.conf.set(\"fs.azure.account.oauth2.client.endpoint.<account_name>.dfs.core.windows.net\", \"https://login.microsoftonline.com/************************/oauth2/token\")"
   ]
  },
  {
   "cell_type": "markdown",
   "metadata": {
    "application/vnd.databricks.v1+cell": {
     "cellMetadata": {},
     "inputWidgets": {},
     "nuid": "05dc8896-caea-4f87-8175-6c80d31c6293",
     "showTitle": false,
     "tableResultSettingsMap": {},
     "title": ""
    }
   },
   "source": [
    "Verify that cloud storage is accessible"
   ]
  },
  {
   "cell_type": "code",
   "execution_count": 0,
   "metadata": {
    "application/vnd.databricks.v1+cell": {
     "cellMetadata": {
      "byteLimit": 2048000,
      "rowLimit": 10000
     },
     "inputWidgets": {},
     "nuid": "950ffc86-3822-465e-8238-ed8860012cbd",
     "showTitle": false,
     "tableResultSettingsMap": {},
     "title": ""
    }
   },
   "outputs": [
    {
     "output_type": "execute_result",
     "data": {
      "text/plain": [
       "[FileInfo(path='abfss://pyspark@warnerdatalake.dfs.core.windows.net/exports/', name='exports/', size=0, modificationTime=1740581924000),\n",
       " FileInfo(path='abfss://pyspark@warnerdatalake.dfs.core.windows.net/imports/', name='imports/', size=0, modificationTime=1740581918000)]"
      ]
     },
     "execution_count": 2,
     "metadata": {},
     "output_type": "execute_result"
    }
   ],
   "source": [
    "dbutils.fs.ls(\"abfss://pyspark@warnerdatalake.dfs.core.windows.net/\")"
   ]
  },
  {
   "cell_type": "markdown",
   "metadata": {
    "application/vnd.databricks.v1+cell": {
     "cellMetadata": {},
     "inputWidgets": {},
     "nuid": "ad3def8e-498f-4e8a-a66a-7fc6a31f3495",
     "showTitle": false,
     "tableResultSettingsMap": {},
     "title": ""
    }
   },
   "source": [
    "- First, define the paths of the files we are reading.\n",
    "- Replace with what is appropriate with your environment."
   ]
  },
  {
   "cell_type": "code",
   "execution_count": 0,
   "metadata": {
    "application/vnd.databricks.v1+cell": {
     "cellMetadata": {
      "byteLimit": 2048000,
      "rowLimit": 10000
     },
     "inputWidgets": {},
     "nuid": "3ca58666-9ed3-4db5-a2f9-252fbe0c7786",
     "showTitle": false,
     "tableResultSettingsMap": {},
     "title": ""
    }
   },
   "outputs": [],
   "source": [
    "# Define paths for each file format in ADLS\n",
    "csv_path = \"abfss://pyspark@warnerdatalake.dfs.core.windows.net//imports//customers_data.csv\"\n",
    "json_path = \"abfss://pyspark@warnerdatalake.dfs.core.windows.net//imports//customers_data.json\"\n",
    "orc_path = \"abfss://pyspark@warnerdatalake.dfs.core.windows.net//imports//customers_data.orc\"\n",
    "parquet_path = \"abfss://pyspark@warnerdatalake.dfs.core.windows.net//imports//customers_data.parquet\""
   ]
  },
  {
   "cell_type": "markdown",
   "metadata": {
    "application/vnd.databricks.v1+cell": {
     "cellMetadata": {},
     "inputWidgets": {},
     "nuid": "1ff0cd29-4a85-425b-9adc-5586f821557a",
     "showTitle": false,
     "tableResultSettingsMap": {},
     "title": ""
    }
   },
   "source": [
    "Let's load and verify the dataframes for each format"
   ]
  },
  {
   "cell_type": "markdown",
   "metadata": {
    "application/vnd.databricks.v1+cell": {
     "cellMetadata": {},
     "inputWidgets": {},
     "nuid": "a04a6709-12ad-43b2-a240-e4aa4c29d104",
     "showTitle": false,
     "tableResultSettingsMap": {},
     "title": ""
    }
   },
   "source": [
    "First, load CVS and use the show command"
   ]
  },
  {
   "cell_type": "code",
   "execution_count": 0,
   "metadata": {
    "application/vnd.databricks.v1+cell": {
     "cellMetadata": {
      "byteLimit": 2048000,
      "rowLimit": 10000
     },
     "inputWidgets": {},
     "nuid": "7d98a573-7081-4a1e-8406-c9e80b827bd7",
     "showTitle": false,
     "tableResultSettingsMap": {},
     "title": ""
    }
   },
   "outputs": [
    {
     "output_type": "stream",
     "name": "stdout",
     "output_type": "stream",
     "text": [
      "CSV Data:\n+-----------+----------+---------+--------------------+---+-------+\n|customer_id|first_name|last_name|               email|age|country|\n+-----------+----------+---------+--------------------+---+-------+\n|          1|   First_1|   Last_1|First_1.Last_1@ex...| 40| Canada|\n|          2|   First_2|   Last_2|First_2.Last_2@ex...| 55|    USA|\n|          3|   First_3|   Last_3|First_3.Last_3@ex...| 59|    USA|\n|          4|   First_4|   Last_4|First_4.Last_4@ex...| 49| Canada|\n|          5|   First_5|   Last_5|First_5.Last_5@ex...| 58| Canada|\n+-----------+----------+---------+--------------------+---+-------+\nonly showing top 5 rows\n"
     ]
    }
   ],
   "source": [
    "df_csv = (\n",
    "    spark.read\n",
    "         .option(\"header\", \"true\")      # Assume first row as header\n",
    "         .option(\"inferSchema\", \"true\") # Infer data types\n",
    "         .csv(csv_path)\n",
    ")\n",
    "print(\"CSV Data:\")\n",
    "df_csv.show(5)"
   ]
  },
  {
   "cell_type": "markdown",
   "metadata": {
    "application/vnd.databricks.v1+cell": {
     "cellMetadata": {},
     "inputWidgets": {},
     "nuid": "6cab4ee7-894b-45fd-9295-f5670d1f81e1",
     "showTitle": false,
     "tableResultSettingsMap": {},
     "title": ""
    }
   },
   "source": [
    "The display function is more user friendly"
   ]
  },
  {
   "cell_type": "code",
   "execution_count": 0,
   "metadata": {
    "application/vnd.databricks.v1+cell": {
     "cellMetadata": {
      "byteLimit": 2048000,
      "rowLimit": 10000
     },
     "inputWidgets": {},
     "nuid": "1d9da885-6af6-4c8d-a25d-60fdb94bd5d0",
     "showTitle": false,
     "tableResultSettingsMap": {},
     "title": ""
    }
   },
   "outputs": [
    {
     "output_type": "stream",
     "name": "stdout",
     "output_type": "stream",
     "text": [
      "CSV Data:\n"
     ]
    },
    {
     "output_type": "display_data",
     "data": {
      "text/html": [
       "<style scoped>\n",
       "  .table-result-container {\n",
       "    max-height: 300px;\n",
       "    overflow: auto;\n",
       "  }\n",
       "  table, th, td {\n",
       "    border: 1px solid black;\n",
       "    border-collapse: collapse;\n",
       "  }\n",
       "  th, td {\n",
       "    padding: 5px;\n",
       "  }\n",
       "  th {\n",
       "    text-align: left;\n",
       "  }\n",
       "</style><div class='table-result-container'><table class='table-result'><thead style='background-color: white'><tr><th>customer_id</th><th>first_name</th><th>last_name</th><th>email</th><th>age</th><th>country</th></tr></thead><tbody><tr><td>1</td><td>First_1</td><td>Last_1</td><td>First_1.Last_1@example.com</td><td>40</td><td>Canada</td></tr><tr><td>2</td><td>First_2</td><td>Last_2</td><td>First_2.Last_2@example.com</td><td>55</td><td>USA</td></tr><tr><td>3</td><td>First_3</td><td>Last_3</td><td>First_3.Last_3@example.com</td><td>59</td><td>USA</td></tr><tr><td>4</td><td>First_4</td><td>Last_4</td><td>First_4.Last_4@example.com</td><td>49</td><td>Canada</td></tr><tr><td>5</td><td>First_5</td><td>Last_5</td><td>First_5.Last_5@example.com</td><td>58</td><td>Canada</td></tr><tr><td>6</td><td>First_6</td><td>Last_6</td><td>First_6.Last_6@example.com</td><td>55</td><td>USA</td></tr><tr><td>7</td><td>First_7</td><td>Last_7</td><td>First_7.Last_7@example.com</td><td>32</td><td>USA</td></tr><tr><td>8</td><td>First_8</td><td>Last_8</td><td>First_8.Last_8@example.com</td><td>56</td><td>USA</td></tr><tr><td>9</td><td>First_9</td><td>Last_9</td><td>First_9.Last_9@example.com</td><td>47</td><td>USA</td></tr><tr><td>10</td><td>First_10</td><td>Last_10</td><td>First_10.Last_10@example.com</td><td>30</td><td>Canada</td></tr><tr><td>11</td><td>First_11</td><td>Last_11</td><td>First_11.Last_11@example.com</td><td>50</td><td>USA</td></tr><tr><td>12</td><td>First_12</td><td>Last_12</td><td>First_12.Last_12@example.com</td><td>51</td><td>USA</td></tr><tr><td>13</td><td>First_13</td><td>Last_13</td><td>First_13.Last_13@example.com</td><td>36</td><td>Canada</td></tr><tr><td>14</td><td>First_14</td><td>Last_14</td><td>First_14.Last_14@example.com</td><td>43</td><td>Canada</td></tr><tr><td>15</td><td>First_15</td><td>Last_15</td><td>First_15.Last_15@example.com</td><td>51</td><td>USA</td></tr><tr><td>16</td><td>First_16</td><td>Last_16</td><td>First_16.Last_16@example.com</td><td>52</td><td>USA</td></tr><tr><td>17</td><td>First_17</td><td>Last_17</td><td>First_17.Last_17@example.com</td><td>44</td><td>USA</td></tr><tr><td>18</td><td>First_18</td><td>Last_18</td><td>First_18.Last_18@example.com</td><td>54</td><td>Canada</td></tr><tr><td>19</td><td>First_19</td><td>Last_19</td><td>First_19.Last_19@example.com</td><td>32</td><td>USA</td></tr><tr><td>20</td><td>First_20</td><td>Last_20</td><td>First_20.Last_20@example.com</td><td>46</td><td>USA</td></tr></tbody></table></div>"
      ]
     },
     "metadata": {
      "application/vnd.databricks.v1+output": {
       "addedWidgets": {},
       "aggData": [],
       "aggError": "",
       "aggOverflow": false,
       "aggSchema": [],
       "aggSeriesLimitReached": false,
       "aggType": "",
       "arguments": {},
       "columnCustomDisplayInfos": {},
       "data": [
        [
         1,
         "First_1",
         "Last_1",
         "First_1.Last_1@example.com",
         40,
         "Canada"
        ],
        [
         2,
         "First_2",
         "Last_2",
         "First_2.Last_2@example.com",
         55,
         "USA"
        ],
        [
         3,
         "First_3",
         "Last_3",
         "First_3.Last_3@example.com",
         59,
         "USA"
        ],
        [
         4,
         "First_4",
         "Last_4",
         "First_4.Last_4@example.com",
         49,
         "Canada"
        ],
        [
         5,
         "First_5",
         "Last_5",
         "First_5.Last_5@example.com",
         58,
         "Canada"
        ],
        [
         6,
         "First_6",
         "Last_6",
         "First_6.Last_6@example.com",
         55,
         "USA"
        ],
        [
         7,
         "First_7",
         "Last_7",
         "First_7.Last_7@example.com",
         32,
         "USA"
        ],
        [
         8,
         "First_8",
         "Last_8",
         "First_8.Last_8@example.com",
         56,
         "USA"
        ],
        [
         9,
         "First_9",
         "Last_9",
         "First_9.Last_9@example.com",
         47,
         "USA"
        ],
        [
         10,
         "First_10",
         "Last_10",
         "First_10.Last_10@example.com",
         30,
         "Canada"
        ],
        [
         11,
         "First_11",
         "Last_11",
         "First_11.Last_11@example.com",
         50,
         "USA"
        ],
        [
         12,
         "First_12",
         "Last_12",
         "First_12.Last_12@example.com",
         51,
         "USA"
        ],
        [
         13,
         "First_13",
         "Last_13",
         "First_13.Last_13@example.com",
         36,
         "Canada"
        ],
        [
         14,
         "First_14",
         "Last_14",
         "First_14.Last_14@example.com",
         43,
         "Canada"
        ],
        [
         15,
         "First_15",
         "Last_15",
         "First_15.Last_15@example.com",
         51,
         "USA"
        ],
        [
         16,
         "First_16",
         "Last_16",
         "First_16.Last_16@example.com",
         52,
         "USA"
        ],
        [
         17,
         "First_17",
         "Last_17",
         "First_17.Last_17@example.com",
         44,
         "USA"
        ],
        [
         18,
         "First_18",
         "Last_18",
         "First_18.Last_18@example.com",
         54,
         "Canada"
        ],
        [
         19,
         "First_19",
         "Last_19",
         "First_19.Last_19@example.com",
         32,
         "USA"
        ],
        [
         20,
         "First_20",
         "Last_20",
         "First_20.Last_20@example.com",
         46,
         "USA"
        ]
       ],
       "datasetInfos": [],
       "dbfsResultPath": null,
       "isJsonSchema": true,
       "metadata": {},
       "overflow": false,
       "plotOptions": {
        "customPlotOptions": {},
        "displayType": "table",
        "pivotAggregation": null,
        "pivotColumns": null,
        "xColumns": null,
        "yColumns": null
       },
       "removedWidgets": [],
       "schema": [
        {
         "metadata": "{}",
         "name": "customer_id",
         "type": "\"integer\""
        },
        {
         "metadata": "{}",
         "name": "first_name",
         "type": "\"string\""
        },
        {
         "metadata": "{}",
         "name": "last_name",
         "type": "\"string\""
        },
        {
         "metadata": "{}",
         "name": "email",
         "type": "\"string\""
        },
        {
         "metadata": "{}",
         "name": "age",
         "type": "\"integer\""
        },
        {
         "metadata": "{}",
         "name": "country",
         "type": "\"string\""
        }
       ],
       "type": "table"
      }
     },
     "output_type": "display_data"
    }
   ],
   "source": [
    "print(\"CSV Data:\")\n",
    "df_csv.limit(20).display()"
   ]
  },
  {
   "cell_type": "markdown",
   "metadata": {
    "application/vnd.databricks.v1+cell": {
     "cellMetadata": {},
     "inputWidgets": {},
     "nuid": "fc85ef58-f89f-4127-bf77-4276c3339547",
     "showTitle": false,
     "tableResultSettingsMap": {},
     "title": ""
    }
   },
   "source": [
    "Load JSON and print the schema"
   ]
  },
  {
   "cell_type": "code",
   "execution_count": 0,
   "metadata": {
    "application/vnd.databricks.v1+cell": {
     "cellMetadata": {
      "byteLimit": 2048000,
      "rowLimit": 10000
     },
     "inputWidgets": {},
     "nuid": "d70ba999-b40a-4c0e-84b4-3cd9b87a4f88",
     "showTitle": false,
     "tableResultSettingsMap": {},
     "title": ""
    }
   },
   "outputs": [
    {
     "output_type": "stream",
     "name": "stdout",
     "output_type": "stream",
     "text": [
      "JSON Schema:\nroot\n |-- age: long (nullable = true)\n |-- country: string (nullable = true)\n |-- customer_id: long (nullable = true)\n |-- email: string (nullable = true)\n |-- first_name: string (nullable = true)\n |-- last_name: string (nullable = true)\n\nJSON Data:\n+---+-------+-----------+--------------------+----------+---------+\n|age|country|customer_id|               email|first_name|last_name|\n+---+-------+-----------+--------------------+----------+---------+\n| 40| Canada|          1|First_1.Last_1@ex...|   First_1|   Last_1|\n| 55|    USA|          2|First_2.Last_2@ex...|   First_2|   Last_2|\n| 59|    USA|          3|First_3.Last_3@ex...|   First_3|   Last_3|\n| 49| Canada|          4|First_4.Last_4@ex...|   First_4|   Last_4|\n| 58| Canada|          5|First_5.Last_5@ex...|   First_5|   Last_5|\n+---+-------+-----------+--------------------+----------+---------+\nonly showing top 5 rows\n"
     ]
    }
   ],
   "source": [
    "df_json = (\n",
    "    spark.read\n",
    "         .json(json_path)\n",
    ")\n",
    "\n",
    "print(\"JSON Schema:\")\n",
    "df_json.printSchema()\n",
    "print(\"JSON Data:\")\n",
    "df_json.show(5)"
   ]
  },
  {
   "cell_type": "markdown",
   "metadata": {
    "application/vnd.databricks.v1+cell": {
     "cellMetadata": {},
     "inputWidgets": {},
     "nuid": "13982fe1-8a3c-408f-9e0b-b162afd7fcba",
     "showTitle": false,
     "tableResultSettingsMap": {},
     "title": ""
    }
   },
   "source": [
    "Load ORC and describe the data"
   ]
  },
  {
   "cell_type": "code",
   "execution_count": 0,
   "metadata": {
    "application/vnd.databricks.v1+cell": {
     "cellMetadata": {
      "byteLimit": 2048000,
      "rowLimit": 10000
     },
     "inputWidgets": {},
     "nuid": "ba174ee4-cc24-4590-9898-b9a09f9a880d",
     "showTitle": false,
     "tableResultSettingsMap": {},
     "title": ""
    }
   },
   "outputs": [
    {
     "output_type": "stream",
     "name": "stdout",
     "output_type": "stream",
     "text": [
      "ORC Description:\n"
     ]
    },
    {
     "output_type": "display_data",
     "data": {
      "text/html": [
       "<style scoped>\n",
       "  .table-result-container {\n",
       "    max-height: 300px;\n",
       "    overflow: auto;\n",
       "  }\n",
       "  table, th, td {\n",
       "    border: 1px solid black;\n",
       "    border-collapse: collapse;\n",
       "  }\n",
       "  th, td {\n",
       "    padding: 5px;\n",
       "  }\n",
       "  th {\n",
       "    text-align: left;\n",
       "  }\n",
       "</style><div class='table-result-container'><table class='table-result'><thead style='background-color: white'><tr><th>summary</th><th>customer_id</th><th>first_name</th><th>last_name</th><th>email</th><th>age</th><th>country</th></tr></thead><tbody><tr><td>count</td><td>10000</td><td>10000</td><td>10000</td><td>10000</td><td>10000</td><td>10000</td></tr><tr><td>mean</td><td>5000.5</td><td>null</td><td>null</td><td>null</td><td>43.622</td><td>null</td></tr><tr><td>stddev</td><td>2886.8956799071675</td><td>null</td><td>null</td><td>null</td><td>11.430808472642441</td><td>null</td></tr><tr><td>min</td><td>1</td><td>First_1</td><td>Last_1</td><td>First_1.Last_1@example.com</td><td>18</td><td>Canada</td></tr><tr><td>max</td><td>10000</td><td>First_9999</td><td>Last_9999</td><td>First_9999.Last_9999@example.com</td><td>60</td><td>USA</td></tr></tbody></table></div>"
      ]
     },
     "metadata": {
      "application/vnd.databricks.v1+output": {
       "addedWidgets": {},
       "aggData": [],
       "aggError": "",
       "aggOverflow": false,
       "aggSchema": [],
       "aggSeriesLimitReached": false,
       "aggType": "",
       "arguments": {},
       "columnCustomDisplayInfos": {},
       "data": [
        [
         "count",
         "10000",
         "10000",
         "10000",
         "10000",
         "10000",
         "10000"
        ],
        [
         "mean",
         "5000.5",
         null,
         null,
         null,
         "43.622",
         null
        ],
        [
         "stddev",
         "2886.8956799071675",
         null,
         null,
         null,
         "11.430808472642441",
         null
        ],
        [
         "min",
         "1",
         "First_1",
         "Last_1",
         "First_1.Last_1@example.com",
         "18",
         "Canada"
        ],
        [
         "max",
         "10000",
         "First_9999",
         "Last_9999",
         "First_9999.Last_9999@example.com",
         "60",
         "USA"
        ]
       ],
       "datasetInfos": [],
       "dbfsResultPath": null,
       "isJsonSchema": true,
       "metadata": {},
       "overflow": false,
       "plotOptions": {
        "customPlotOptions": {},
        "displayType": "table",
        "pivotAggregation": null,
        "pivotColumns": null,
        "xColumns": null,
        "yColumns": null
       },
       "removedWidgets": [],
       "schema": [
        {
         "metadata": "{}",
         "name": "summary",
         "type": "\"string\""
        },
        {
         "metadata": "{}",
         "name": "customer_id",
         "type": "\"string\""
        },
        {
         "metadata": "{}",
         "name": "first_name",
         "type": "\"string\""
        },
        {
         "metadata": "{}",
         "name": "last_name",
         "type": "\"string\""
        },
        {
         "metadata": "{}",
         "name": "email",
         "type": "\"string\""
        },
        {
         "metadata": "{}",
         "name": "age",
         "type": "\"string\""
        },
        {
         "metadata": "{}",
         "name": "country",
         "type": "\"string\""
        }
       ],
       "type": "table"
      }
     },
     "output_type": "display_data"
    }
   ],
   "source": [
    "df_orc = spark.read.orc(orc_path)\n",
    "\n",
    "print(\"ORC Description:\")\n",
    "df_orc.describe().display()"
   ]
  },
  {
   "cell_type": "markdown",
   "metadata": {
    "application/vnd.databricks.v1+cell": {
     "cellMetadata": {},
     "inputWidgets": {},
     "nuid": "554af588-f69b-44a5-ab37-9870738d196a",
     "showTitle": false,
     "tableResultSettingsMap": {},
     "title": ""
    }
   },
   "source": [
    "Finally, load parquet and check the summary"
   ]
  },
  {
   "cell_type": "code",
   "execution_count": 0,
   "metadata": {
    "application/vnd.databricks.v1+cell": {
     "cellMetadata": {
      "byteLimit": 2048000,
      "rowLimit": 10000
     },
     "inputWidgets": {},
     "nuid": "ac61a05f-9fbc-4d47-a725-2ff6ee542ea0",
     "showTitle": false,
     "tableResultSettingsMap": {},
     "title": ""
    }
   },
   "outputs": [
    {
     "output_type": "stream",
     "name": "stdout",
     "output_type": "stream",
     "text": [
      "Parquet Summary:\n"
     ]
    },
    {
     "output_type": "display_data",
     "data": {
      "text/html": [
       "<style scoped>\n",
       "  .table-result-container {\n",
       "    max-height: 300px;\n",
       "    overflow: auto;\n",
       "  }\n",
       "  table, th, td {\n",
       "    border: 1px solid black;\n",
       "    border-collapse: collapse;\n",
       "  }\n",
       "  th, td {\n",
       "    padding: 5px;\n",
       "  }\n",
       "  th {\n",
       "    text-align: left;\n",
       "  }\n",
       "</style><div class='table-result-container'><table class='table-result'><thead style='background-color: white'><tr><th>summary</th><th>customer_id</th><th>first_name</th><th>last_name</th><th>email</th><th>age</th><th>country</th></tr></thead><tbody><tr><td>count</td><td>10000</td><td>10000</td><td>10000</td><td>10000</td><td>10000</td><td>10000</td></tr><tr><td>mean</td><td>5000.5</td><td>null</td><td>null</td><td>null</td><td>43.622</td><td>null</td></tr><tr><td>stddev</td><td>2886.8956799071675</td><td>null</td><td>null</td><td>null</td><td>11.430808472642441</td><td>null</td></tr><tr><td>min</td><td>1</td><td>First_1</td><td>Last_1</td><td>First_1.Last_1@example.com</td><td>18</td><td>Canada</td></tr><tr><td>25%</td><td>2499</td><td>null</td><td>null</td><td>null</td><td>37</td><td>null</td></tr><tr><td>50%</td><td>4999</td><td>null</td><td>null</td><td>null</td><td>46</td><td>null</td></tr><tr><td>75%</td><td>7499</td><td>null</td><td>null</td><td>null</td><td>53</td><td>null</td></tr><tr><td>max</td><td>10000</td><td>First_9999</td><td>Last_9999</td><td>First_9999.Last_9999@example.com</td><td>60</td><td>USA</td></tr></tbody></table></div>"
      ]
     },
     "metadata": {
      "application/vnd.databricks.v1+output": {
       "addedWidgets": {},
       "aggData": [],
       "aggError": "",
       "aggOverflow": false,
       "aggSchema": [],
       "aggSeriesLimitReached": false,
       "aggType": "",
       "arguments": {},
       "columnCustomDisplayInfos": {},
       "data": [
        [
         "count",
         "10000",
         "10000",
         "10000",
         "10000",
         "10000",
         "10000"
        ],
        [
         "mean",
         "5000.5",
         null,
         null,
         null,
         "43.622",
         null
        ],
        [
         "stddev",
         "2886.8956799071675",
         null,
         null,
         null,
         "11.430808472642441",
         null
        ],
        [
         "min",
         "1",
         "First_1",
         "Last_1",
         "First_1.Last_1@example.com",
         "18",
         "Canada"
        ],
        [
         "25%",
         "2499",
         null,
         null,
         null,
         "37",
         null
        ],
        [
         "50%",
         "4999",
         null,
         null,
         null,
         "46",
         null
        ],
        [
         "75%",
         "7499",
         null,
         null,
         null,
         "53",
         null
        ],
        [
         "max",
         "10000",
         "First_9999",
         "Last_9999",
         "First_9999.Last_9999@example.com",
         "60",
         "USA"
        ]
       ],
       "datasetInfos": [],
       "dbfsResultPath": null,
       "isJsonSchema": true,
       "metadata": {},
       "overflow": false,
       "plotOptions": {
        "customPlotOptions": {},
        "displayType": "table",
        "pivotAggregation": null,
        "pivotColumns": null,
        "xColumns": null,
        "yColumns": null
       },
       "removedWidgets": [],
       "schema": [
        {
         "metadata": "{}",
         "name": "summary",
         "type": "\"string\""
        },
        {
         "metadata": "{}",
         "name": "customer_id",
         "type": "\"string\""
        },
        {
         "metadata": "{}",
         "name": "first_name",
         "type": "\"string\""
        },
        {
         "metadata": "{}",
         "name": "last_name",
         "type": "\"string\""
        },
        {
         "metadata": "{}",
         "name": "email",
         "type": "\"string\""
        },
        {
         "metadata": "{}",
         "name": "age",
         "type": "\"string\""
        },
        {
         "metadata": "{}",
         "name": "country",
         "type": "\"string\""
        }
       ],
       "type": "table"
      }
     },
     "output_type": "display_data"
    }
   ],
   "source": [
    "df_parquet = spark.read.parquet(parquet_path)\n",
    "\n",
    "print(\"Parquet Summary:\")\n",
    "df_parquet.summary().display()"
   ]
  }
 ],
 "metadata": {
  "application/vnd.databricks.v1+notebook": {
   "computePreferences": null,
   "dashboards": [],
   "environmentMetadata": {
    "base_environment": "",
    "environment_version": "2"
   },
   "language": "python",
   "notebookMetadata": {
    "pythonIndentUnit": 2
   },
   "notebookName": "01 - Loading Data",
   "widgets": {}
  },
  "language_info": {
   "name": "python"
  }
 },
 "nbformat": 4,
 "nbformat_minor": 0
}
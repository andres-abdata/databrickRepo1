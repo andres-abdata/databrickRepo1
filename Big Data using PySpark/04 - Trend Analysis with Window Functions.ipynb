{
 "cells": [
  {
   "cell_type": "markdown",
   "metadata": {
    "application/vnd.databricks.v1+cell": {
     "cellMetadata": {},
     "inputWidgets": {},
     "nuid": "4694bb75-0869-4a46-9b9f-75c8fca4db8a",
     "showTitle": false,
     "tableResultSettingsMap": {},
     "title": ""
    },
    "jupyter": {
     "outputs_hidden": true
    }
   },
   "source": [
    "### Setup\n",
    "\n",
    "Make sure you have the files available from previous demos."
   ]
  },
  {
   "cell_type": "code",
   "execution_count": 0,
   "metadata": {
    "application/vnd.databricks.v1+cell": {
     "cellMetadata": {
      "byteLimit": 2048000,
      "rowLimit": 10000
     },
     "collapsed": true,
     "inputWidgets": {},
     "nuid": "e3c255ce-7851-4850-8ccd-f798372e3da9",
     "showTitle": false,
     "tableResultSettingsMap": {},
     "title": ""
    }
   },
   "outputs": [],
   "source": [
    "# This cell sets all the configuration parameters to connect to Azure Data Lake\n",
    "spark.conf.set(\"fs.azure.account.auth.type.<account_name>.dfs.core.windows.net\", \"OAuth\")\n",
    "spark.conf.set(\"fs.azure.account.oauth.provider.type.<account_name>.dfs.core.windows.net\", \"org.apache.hadoop.fs.azurebfs.oauth2.ClientCredsTokenProvider\")\n",
    "spark.conf.set(\"fs.azure.account.oauth2.client.id.<account_name>.dfs.core.windows.net\", \"****************************\")\n",
    "spark.conf.set(\"fs.azure.account.oauth2.client.secret.<account_name>.dfs.core.windows.net\", \"*******************************\")\n",
    "spark.conf.set(\"fs.azure.account.oauth2.client.endpoint.<account_name>.dfs.core.windows.net\", \"https://login.microsoftonline.com/************************/oauth2/token\")"
   ]
  },
  {
   "cell_type": "markdown",
   "metadata": {
    "application/vnd.databricks.v1+cell": {
     "cellMetadata": {},
     "inputWidgets": {},
     "nuid": "05dc8896-caea-4f87-8175-6c80d31c6293",
     "showTitle": false,
     "tableResultSettingsMap": {},
     "title": ""
    }
   },
   "source": [
    "Verify that cloud storage is accessible"
   ]
  },
  {
   "cell_type": "code",
   "execution_count": 0,
   "metadata": {
    "application/vnd.databricks.v1+cell": {
     "cellMetadata": {
      "byteLimit": 2048000,
      "rowLimit": 10000
     },
     "inputWidgets": {},
     "nuid": "950ffc86-3822-465e-8238-ed8860012cbd",
     "showTitle": false,
     "tableResultSettingsMap": {},
     "title": ""
    }
   },
   "outputs": [],
   "source": [
    "dbutils.fs.ls(\"abfss://pyspark@warnerdatalake.dfs.core.windows.net/\")"
   ]
  },
  {
   "cell_type": "markdown",
   "metadata": {
    "application/vnd.databricks.v1+cell": {
     "cellMetadata": {},
     "inputWidgets": {},
     "nuid": "e5ba8c1d-8318-47f6-9ff7-8ed30b6f464d",
     "showTitle": false,
     "tableResultSettingsMap": {},
     "title": ""
    }
   },
   "source": [
    "Let's load the transaction data"
   ]
  },
  {
   "cell_type": "code",
   "execution_count": 0,
   "metadata": {
    "application/vnd.databricks.v1+cell": {
     "cellMetadata": {
      "byteLimit": 2048000,
      "rowLimit": 10000
     },
     "inputWidgets": {},
     "nuid": "110d9410-36cc-43cd-b150-c27cdc7ed8ea",
     "showTitle": false,
     "tableResultSettingsMap": {},
     "title": ""
    }
   },
   "outputs": [
    {
     "output_type": "display_data",
     "data": {
      "text/html": [
       "<style scoped>\n",
       "  .table-result-container {\n",
       "    max-height: 300px;\n",
       "    overflow: auto;\n",
       "  }\n",
       "  table, th, td {\n",
       "    border: 1px solid black;\n",
       "    border-collapse: collapse;\n",
       "  }\n",
       "  th, td {\n",
       "    padding: 5px;\n",
       "  }\n",
       "  th {\n",
       "    text-align: left;\n",
       "  }\n",
       "</style><div class='table-result-container'><table class='table-result'><thead style='background-color: white'><tr><th>transaction_id</th><th>customer_id</th><th>transaction_date</th><th>amount</th><th>category</th></tr></thead><tbody><tr><td>1</td><td>3065</td><td>2025-03-17</td><td>76.10</td><td>Clothes</td></tr><tr><td>2</td><td>3274</td><td>2025-02-18</td><td>91.91</td><td>Clothes</td></tr><tr><td>3</td><td>130</td><td>2025-01-10</td><td>11.81</td><td>Accessories</td></tr><tr><td>4</td><td>320</td><td>2025-03-06</td><td>20.37</td><td>Furniture</td></tr><tr><td>5</td><td>6480</td><td>2025-03-22</td><td>12.31</td><td>Beauty</td></tr></tbody></table></div>"
      ]
     },
     "metadata": {
      "application/vnd.databricks.v1+output": {
       "addedWidgets": {},
       "aggData": [],
       "aggError": "",
       "aggOverflow": false,
       "aggSchema": [],
       "aggSeriesLimitReached": false,
       "aggType": "",
       "arguments": {},
       "columnCustomDisplayInfos": {},
       "data": [
        [
         1,
         3065,
         "2025-03-17",
         "76.10",
         "Clothes"
        ],
        [
         2,
         3274,
         "2025-02-18",
         "91.91",
         "Clothes"
        ],
        [
         3,
         130,
         "2025-01-10",
         "11.81",
         "Accessories"
        ],
        [
         4,
         320,
         "2025-03-06",
         "20.37",
         "Furniture"
        ],
        [
         5,
         6480,
         "2025-03-22",
         "12.31",
         "Beauty"
        ]
       ],
       "datasetInfos": [],
       "dbfsResultPath": null,
       "isJsonSchema": true,
       "metadata": {},
       "overflow": false,
       "plotOptions": {
        "customPlotOptions": {},
        "displayType": "table",
        "pivotAggregation": null,
        "pivotColumns": null,
        "xColumns": null,
        "yColumns": null
       },
       "removedWidgets": [],
       "schema": [
        {
         "metadata": "{}",
         "name": "transaction_id",
         "type": "\"long\""
        },
        {
         "metadata": "{}",
         "name": "customer_id",
         "type": "\"integer\""
        },
        {
         "metadata": "{}",
         "name": "transaction_date",
         "type": "\"date\""
        },
        {
         "metadata": "{}",
         "name": "amount",
         "type": "\"decimal(10,2)\""
        },
        {
         "metadata": "{}",
         "name": "category",
         "type": "\"string\""
        }
       ],
       "type": "table"
      }
     },
     "output_type": "display_data"
    }
   ],
   "source": [
    "from pyspark.sql import Window\n",
    "from pyspark.sql import functions as F\n",
    "\n",
    "# Path to transactions data\n",
    "parquet_path = \"abfss://pyspark@warnerdatalake.dfs.core.windows.net//imports//transactions_data.parquet\"\n",
    "\n",
    "# Load the transactions data\n",
    "df_transactions = spark.read.parquet(parquet_path)\n",
    "\n",
    "# Display the first few rows\n",
    "df_transactions.limit(5).display()\n"
   ]
  },
  {
   "cell_type": "markdown",
   "metadata": {
    "application/vnd.databricks.v1+cell": {
     "cellMetadata": {},
     "inputWidgets": {},
     "nuid": "0ce1c1a3-b4a5-4e1f-9f13-928433a1c1f7",
     "showTitle": false,
     "tableResultSettingsMap": {},
     "title": ""
    }
   },
   "source": [
    "Let's do a ranking operation"
   ]
  },
  {
   "cell_type": "code",
   "execution_count": 0,
   "metadata": {
    "application/vnd.databricks.v1+cell": {
     "cellMetadata": {
      "byteLimit": 2048000,
      "rowLimit": 10000
     },
     "inputWidgets": {},
     "nuid": "70dd160f-79c6-451d-8701-3f8427fc3539",
     "showTitle": false,
     "tableResultSettingsMap": {},
     "title": ""
    }
   },
   "outputs": [
    {
     "output_type": "display_data",
     "data": {
      "text/html": [
       "<style scoped>\n",
       "  .table-result-container {\n",
       "    max-height: 300px;\n",
       "    overflow: auto;\n",
       "  }\n",
       "  table, th, td {\n",
       "    border: 1px solid black;\n",
       "    border-collapse: collapse;\n",
       "  }\n",
       "  th, td {\n",
       "    padding: 5px;\n",
       "  }\n",
       "  th {\n",
       "    text-align: left;\n",
       "  }\n",
       "</style><div class='table-result-container'><table class='table-result'><thead style='background-color: white'><tr><th>transaction_id</th><th>customer_id</th><th>transaction_date</th><th>amount</th><th>category</th><th>row_number</th><th>rank</th><th>dense_rank</th></tr></thead><tbody><tr><td>587479</td><td>1</td><td>2025-01-01</td><td>67.07</td><td>Accessories</td><td>1</td><td>1</td><td>1</td></tr><tr><td>619033</td><td>1</td><td>2025-01-01</td><td>9.05</td><td>Toys</td><td>2</td><td>1</td><td>1</td></tr><tr><td>766739</td><td>1</td><td>2025-01-02</td><td>76.63</td><td>Sports</td><td>3</td><td>3</td><td>2</td></tr><tr><td>910648</td><td>1</td><td>2025-01-02</td><td>3.41</td><td>Books</td><td>4</td><td>3</td><td>2</td></tr><tr><td>836549</td><td>1</td><td>2025-01-03</td><td>77.07</td><td>Toys</td><td>5</td><td>5</td><td>3</td></tr></tbody></table></div>"
      ]
     },
     "metadata": {
      "application/vnd.databricks.v1+output": {
       "addedWidgets": {},
       "aggData": [],
       "aggError": "",
       "aggOverflow": false,
       "aggSchema": [],
       "aggSeriesLimitReached": false,
       "aggType": "",
       "arguments": {},
       "columnCustomDisplayInfos": {},
       "data": [
        [
         587479,
         1,
         "2025-01-01",
         "67.07",
         "Accessories",
         1,
         1,
         1
        ],
        [
         619033,
         1,
         "2025-01-01",
         "9.05",
         "Toys",
         2,
         1,
         1
        ],
        [
         766739,
         1,
         "2025-01-02",
         "76.63",
         "Sports",
         3,
         3,
         2
        ],
        [
         910648,
         1,
         "2025-01-02",
         "3.41",
         "Books",
         4,
         3,
         2
        ],
        [
         836549,
         1,
         "2025-01-03",
         "77.07",
         "Toys",
         5,
         5,
         3
        ]
       ],
       "datasetInfos": [],
       "dbfsResultPath": null,
       "isJsonSchema": true,
       "metadata": {},
       "overflow": false,
       "plotOptions": {
        "customPlotOptions": {},
        "displayType": "table",
        "pivotAggregation": null,
        "pivotColumns": null,
        "xColumns": null,
        "yColumns": null
       },
       "removedWidgets": [],
       "schema": [
        {
         "metadata": "{}",
         "name": "transaction_id",
         "type": "\"long\""
        },
        {
         "metadata": "{}",
         "name": "customer_id",
         "type": "\"integer\""
        },
        {
         "metadata": "{}",
         "name": "transaction_date",
         "type": "\"date\""
        },
        {
         "metadata": "{}",
         "name": "amount",
         "type": "\"decimal(10,2)\""
        },
        {
         "metadata": "{}",
         "name": "category",
         "type": "\"string\""
        },
        {
         "metadata": "{}",
         "name": "row_number",
         "type": "\"integer\""
        },
        {
         "metadata": "{}",
         "name": "rank",
         "type": "\"integer\""
        },
        {
         "metadata": "{}",
         "name": "dense_rank",
         "type": "\"integer\""
        }
       ],
       "type": "table"
      }
     },
     "output_type": "display_data"
    }
   ],
   "source": [
    "# Ranking transactions within each customer\n",
    "\n",
    "# Define a window specification for ranking transactions per customer\n",
    "window_spec = Window.partitionBy(\"customer_id\").orderBy(F.col(\"transaction_date\").asc())\n",
    "\n",
    "df_ranked = (\n",
    "    df_transactions\n",
    "        .withColumn(\"row_number\", F.row_number().over(window_spec))\n",
    "        .withColumn(\"rank\", F.rank().over(window_spec))\n",
    "        .withColumn(\"dense_rank\", F.dense_rank().over(window_spec))\n",
    ")\n",
    "\n",
    "df_ranked.limit(5).display()\n"
   ]
  },
  {
   "cell_type": "markdown",
   "metadata": {
    "application/vnd.databricks.v1+cell": {
     "cellMetadata": {},
     "inputWidgets": {},
     "nuid": "3085c7c9-adb7-426a-8259-aa3619bafa2c",
     "showTitle": false,
     "tableResultSettingsMap": {},
     "title": ""
    }
   },
   "source": [
    "Let's calculate a rolling average"
   ]
  },
  {
   "cell_type": "code",
   "execution_count": 0,
   "metadata": {
    "application/vnd.databricks.v1+cell": {
     "cellMetadata": {
      "byteLimit": 2048000,
      "rowLimit": 10000
     },
     "inputWidgets": {},
     "nuid": "542800a2-d95a-4f01-a896-fe664c5ed6f8",
     "showTitle": false,
     "tableResultSettingsMap": {},
     "title": ""
    }
   },
   "outputs": [
    {
     "output_type": "display_data",
     "data": {
      "text/html": [
       "<style scoped>\n",
       "  .table-result-container {\n",
       "    max-height: 300px;\n",
       "    overflow: auto;\n",
       "  }\n",
       "  table, th, td {\n",
       "    border: 1px solid black;\n",
       "    border-collapse: collapse;\n",
       "  }\n",
       "  th, td {\n",
       "    padding: 5px;\n",
       "  }\n",
       "  th {\n",
       "    text-align: left;\n",
       "  }\n",
       "</style><div class='table-result-container'><table class='table-result'><thead style='background-color: white'><tr><th>transaction_id</th><th>customer_id</th><th>transaction_date</th><th>amount</th><th>category</th><th>rolling_avg_amount</th></tr></thead><tbody><tr><td>587479</td><td>1</td><td>2025-01-01</td><td>67.07</td><td>Accessories</td><td>67.070000</td></tr><tr><td>619033</td><td>1</td><td>2025-01-01</td><td>9.05</td><td>Toys</td><td>38.060000</td></tr><tr><td>766739</td><td>1</td><td>2025-01-02</td><td>76.63</td><td>Sports</td><td>50.916667</td></tr><tr><td>910648</td><td>1</td><td>2025-01-02</td><td>3.41</td><td>Books</td><td>39.040000</td></tr><tr><td>836549</td><td>1</td><td>2025-01-03</td><td>77.07</td><td>Toys</td><td>46.646000</td></tr></tbody></table></div>"
      ]
     },
     "metadata": {
      "application/vnd.databricks.v1+output": {
       "addedWidgets": {},
       "aggData": [],
       "aggError": "",
       "aggOverflow": false,
       "aggSchema": [],
       "aggSeriesLimitReached": false,
       "aggType": "",
       "arguments": {},
       "columnCustomDisplayInfos": {},
       "data": [
        [
         587479,
         1,
         "2025-01-01",
         "67.07",
         "Accessories",
         "67.070000"
        ],
        [
         619033,
         1,
         "2025-01-01",
         "9.05",
         "Toys",
         "38.060000"
        ],
        [
         766739,
         1,
         "2025-01-02",
         "76.63",
         "Sports",
         "50.916667"
        ],
        [
         910648,
         1,
         "2025-01-02",
         "3.41",
         "Books",
         "39.040000"
        ],
        [
         836549,
         1,
         "2025-01-03",
         "77.07",
         "Toys",
         "46.646000"
        ]
       ],
       "datasetInfos": [],
       "dbfsResultPath": null,
       "isJsonSchema": true,
       "metadata": {},
       "overflow": false,
       "plotOptions": {
        "customPlotOptions": {},
        "displayType": "table",
        "pivotAggregation": null,
        "pivotColumns": null,
        "xColumns": null,
        "yColumns": null
       },
       "removedWidgets": [],
       "schema": [
        {
         "metadata": "{}",
         "name": "transaction_id",
         "type": "\"long\""
        },
        {
         "metadata": "{}",
         "name": "customer_id",
         "type": "\"integer\""
        },
        {
         "metadata": "{}",
         "name": "transaction_date",
         "type": "\"date\""
        },
        {
         "metadata": "{}",
         "name": "amount",
         "type": "\"decimal(10,2)\""
        },
        {
         "metadata": "{}",
         "name": "category",
         "type": "\"string\""
        },
        {
         "metadata": "{}",
         "name": "rolling_avg_amount",
         "type": "\"decimal(14,6)\""
        }
       ],
       "type": "table"
      }
     },
     "output_type": "display_data"
    }
   ],
   "source": [
    "# Moving average of transaction amount\n",
    "\n",
    "# Define a window for a rolling average (7-day window per customer)\n",
    "rolling_window = Window.partitionBy(\"customer_id\").orderBy(F.col(\"transaction_date\")).rowsBetween(-6, 0)\n",
    "\n",
    "df_rolling_avg = (\n",
    "    df_transactions\n",
    "        .withColumn(\"rolling_avg_amount\", F.avg(\"amount\").over(rolling_window))\n",
    ")\n",
    "\n",
    "df_rolling_avg.limit(5).display()\n"
   ]
  },
  {
   "cell_type": "markdown",
   "metadata": {
    "application/vnd.databricks.v1+cell": {
     "cellMetadata": {},
     "inputWidgets": {},
     "nuid": "0cc59625-f8da-4a47-a05e-99f14cd5d13a",
     "showTitle": false,
     "tableResultSettingsMap": {},
     "title": ""
    }
   },
   "source": [
    "Let's calculate a running total"
   ]
  },
  {
   "cell_type": "code",
   "execution_count": 0,
   "metadata": {
    "application/vnd.databricks.v1+cell": {
     "cellMetadata": {
      "byteLimit": 2048000,
      "rowLimit": 10000
     },
     "inputWidgets": {},
     "nuid": "c9da7fc5-c6ea-402d-92fb-f81d7cef3210",
     "showTitle": false,
     "tableResultSettingsMap": {},
     "title": ""
    }
   },
   "outputs": [
    {
     "output_type": "display_data",
     "data": {
      "text/html": [
       "<style scoped>\n",
       "  .table-result-container {\n",
       "    max-height: 300px;\n",
       "    overflow: auto;\n",
       "  }\n",
       "  table, th, td {\n",
       "    border: 1px solid black;\n",
       "    border-collapse: collapse;\n",
       "  }\n",
       "  th, td {\n",
       "    padding: 5px;\n",
       "  }\n",
       "  th {\n",
       "    text-align: left;\n",
       "  }\n",
       "</style><div class='table-result-container'><table class='table-result'><thead style='background-color: white'><tr><th>transaction_id</th><th>customer_id</th><th>transaction_date</th><th>amount</th><th>category</th><th>cumulative_total</th></tr></thead><tbody><tr><td>587479</td><td>1</td><td>2025-01-01</td><td>67.07</td><td>Accessories</td><td>67.07</td></tr><tr><td>619033</td><td>1</td><td>2025-01-01</td><td>9.05</td><td>Toys</td><td>76.12</td></tr><tr><td>766739</td><td>1</td><td>2025-01-02</td><td>76.63</td><td>Sports</td><td>152.75</td></tr><tr><td>910648</td><td>1</td><td>2025-01-02</td><td>3.41</td><td>Books</td><td>156.16</td></tr><tr><td>836549</td><td>1</td><td>2025-01-03</td><td>77.07</td><td>Toys</td><td>233.23</td></tr></tbody></table></div>"
      ]
     },
     "metadata": {
      "application/vnd.databricks.v1+output": {
       "addedWidgets": {},
       "aggData": [],
       "aggError": "",
       "aggOverflow": false,
       "aggSchema": [],
       "aggSeriesLimitReached": false,
       "aggType": "",
       "arguments": {},
       "columnCustomDisplayInfos": {},
       "data": [
        [
         587479,
         1,
         "2025-01-01",
         "67.07",
         "Accessories",
         "67.07"
        ],
        [
         619033,
         1,
         "2025-01-01",
         "9.05",
         "Toys",
         "76.12"
        ],
        [
         766739,
         1,
         "2025-01-02",
         "76.63",
         "Sports",
         "152.75"
        ],
        [
         910648,
         1,
         "2025-01-02",
         "3.41",
         "Books",
         "156.16"
        ],
        [
         836549,
         1,
         "2025-01-03",
         "77.07",
         "Toys",
         "233.23"
        ]
       ],
       "datasetInfos": [],
       "dbfsResultPath": null,
       "isJsonSchema": true,
       "metadata": {},
       "overflow": false,
       "plotOptions": {
        "customPlotOptions": {},
        "displayType": "table",
        "pivotAggregation": null,
        "pivotColumns": null,
        "xColumns": null,
        "yColumns": null
       },
       "removedWidgets": [],
       "schema": [
        {
         "metadata": "{}",
         "name": "transaction_id",
         "type": "\"long\""
        },
        {
         "metadata": "{}",
         "name": "customer_id",
         "type": "\"integer\""
        },
        {
         "metadata": "{}",
         "name": "transaction_date",
         "type": "\"date\""
        },
        {
         "metadata": "{}",
         "name": "amount",
         "type": "\"decimal(10,2)\""
        },
        {
         "metadata": "{}",
         "name": "category",
         "type": "\"string\""
        },
        {
         "metadata": "{}",
         "name": "cumulative_total",
         "type": "\"decimal(20,2)\""
        }
       ],
       "type": "table"
      }
     },
     "output_type": "display_data"
    }
   ],
   "source": [
    "# Running total of transaction amounts per customer\n",
    "\n",
    "# Define a window for cumulative sum per customer\n",
    "cumulative_window = Window.partitionBy(\"customer_id\").orderBy(F.col(\"transaction_date\")).rowsBetween(Window.unboundedPreceding, 0)\n",
    "\n",
    "df_running_total = (\n",
    "    df_transactions\n",
    "        .withColumn(\"cumulative_total\", F.sum(\"amount\").over(cumulative_window))\n",
    ")\n",
    "\n",
    "df_running_total.limit(5).display()\n"
   ]
  },
  {
   "cell_type": "markdown",
   "metadata": {
    "application/vnd.databricks.v1+cell": {
     "cellMetadata": {},
     "inputWidgets": {},
     "nuid": "922413a5-5081-4f8f-90b4-5de48d5af5ce",
     "showTitle": false,
     "tableResultSettingsMap": {},
     "title": ""
    }
   },
   "source": [
    "Let's look at lagging and leading indicators"
   ]
  },
  {
   "cell_type": "code",
   "execution_count": 0,
   "metadata": {
    "application/vnd.databricks.v1+cell": {
     "cellMetadata": {
      "byteLimit": 2048000,
      "rowLimit": 10000
     },
     "inputWidgets": {},
     "nuid": "29da6451-bdf1-49ff-8b8d-99cf4a0eb50b",
     "showTitle": false,
     "tableResultSettingsMap": {},
     "title": ""
    }
   },
   "outputs": [
    {
     "output_type": "display_data",
     "data": {
      "text/html": [
       "<style scoped>\n",
       "  .table-result-container {\n",
       "    max-height: 300px;\n",
       "    overflow: auto;\n",
       "  }\n",
       "  table, th, td {\n",
       "    border: 1px solid black;\n",
       "    border-collapse: collapse;\n",
       "  }\n",
       "  th, td {\n",
       "    padding: 5px;\n",
       "  }\n",
       "  th {\n",
       "    text-align: left;\n",
       "  }\n",
       "</style><div class='table-result-container'><table class='table-result'><thead style='background-color: white'><tr><th>transaction_id</th><th>customer_id</th><th>transaction_date</th><th>amount</th><th>category</th><th>previous_transaction_amount</th><th>next_transaction_amount</th></tr></thead><tbody><tr><td>587479</td><td>1</td><td>2025-01-01</td><td>67.07</td><td>Accessories</td><td>null</td><td>9.05</td></tr><tr><td>619033</td><td>1</td><td>2025-01-01</td><td>9.05</td><td>Toys</td><td>67.07</td><td>76.63</td></tr><tr><td>766739</td><td>1</td><td>2025-01-02</td><td>76.63</td><td>Sports</td><td>9.05</td><td>3.41</td></tr><tr><td>910648</td><td>1</td><td>2025-01-02</td><td>3.41</td><td>Books</td><td>76.63</td><td>77.07</td></tr><tr><td>836549</td><td>1</td><td>2025-01-03</td><td>77.07</td><td>Toys</td><td>3.41</td><td>93.73</td></tr></tbody></table></div>"
      ]
     },
     "metadata": {
      "application/vnd.databricks.v1+output": {
       "addedWidgets": {},
       "aggData": [],
       "aggError": "",
       "aggOverflow": false,
       "aggSchema": [],
       "aggSeriesLimitReached": false,
       "aggType": "",
       "arguments": {},
       "columnCustomDisplayInfos": {},
       "data": [
        [
         587479,
         1,
         "2025-01-01",
         "67.07",
         "Accessories",
         null,
         "9.05"
        ],
        [
         619033,
         1,
         "2025-01-01",
         "9.05",
         "Toys",
         "67.07",
         "76.63"
        ],
        [
         766739,
         1,
         "2025-01-02",
         "76.63",
         "Sports",
         "9.05",
         "3.41"
        ],
        [
         910648,
         1,
         "2025-01-02",
         "3.41",
         "Books",
         "76.63",
         "77.07"
        ],
        [
         836549,
         1,
         "2025-01-03",
         "77.07",
         "Toys",
         "3.41",
         "93.73"
        ]
       ],
       "datasetInfos": [],
       "dbfsResultPath": null,
       "isJsonSchema": true,
       "metadata": {},
       "overflow": false,
       "plotOptions": {
        "customPlotOptions": {},
        "displayType": "table",
        "pivotAggregation": null,
        "pivotColumns": null,
        "xColumns": null,
        "yColumns": null
       },
       "removedWidgets": [],
       "schema": [
        {
         "metadata": "{}",
         "name": "transaction_id",
         "type": "\"long\""
        },
        {
         "metadata": "{}",
         "name": "customer_id",
         "type": "\"integer\""
        },
        {
         "metadata": "{}",
         "name": "transaction_date",
         "type": "\"date\""
        },
        {
         "metadata": "{}",
         "name": "amount",
         "type": "\"decimal(10,2)\""
        },
        {
         "metadata": "{}",
         "name": "category",
         "type": "\"string\""
        },
        {
         "metadata": "{}",
         "name": "previous_transaction_amount",
         "type": "\"decimal(10,2)\""
        },
        {
         "metadata": "{}",
         "name": "next_transaction_amount",
         "type": "\"decimal(10,2)\""
        }
       ],
       "type": "table"
      }
     },
     "output_type": "display_data"
    }
   ],
   "source": [
    "# Compare each transaction to the previous one (lag) and the next one (lead)\n",
    "\n",
    "df_lag_lead = (\n",
    "    df_transactions\n",
    "        .withColumn(\"previous_transaction_amount\", F.lag(\"amount\", 1).over(window_spec))\n",
    "        .withColumn(\"next_transaction_amount\", F.lead(\"amount\", 1).over(window_spec))\n",
    ")\n",
    "\n",
    "df_lag_lead.limit(5).display()\n"
   ]
  },
  {
   "cell_type": "markdown",
   "metadata": {
    "application/vnd.databricks.v1+cell": {
     "cellMetadata": {},
     "inputWidgets": {},
     "nuid": "11e39a38-aea2-418a-be1d-311899720bd3",
     "showTitle": false,
     "tableResultSettingsMap": {},
     "title": ""
    }
   },
   "source": [
    "And we can combine these approaches as well"
   ]
  },
  {
   "cell_type": "code",
   "execution_count": 0,
   "metadata": {
    "application/vnd.databricks.v1+cell": {
     "cellMetadata": {
      "byteLimit": 2048000,
      "rowLimit": 10000
     },
     "inputWidgets": {},
     "nuid": "47218a27-f363-4828-9d73-bdda7eb29d05",
     "showTitle": false,
     "tableResultSettingsMap": {},
     "title": ""
    }
   },
   "outputs": [
    {
     "output_type": "display_data",
     "data": {
      "text/html": [
       "<style scoped>\n",
       "  .table-result-container {\n",
       "    max-height: 300px;\n",
       "    overflow: auto;\n",
       "  }\n",
       "  table, th, td {\n",
       "    border: 1px solid black;\n",
       "    border-collapse: collapse;\n",
       "  }\n",
       "  th, td {\n",
       "    padding: 5px;\n",
       "  }\n",
       "  th {\n",
       "    text-align: left;\n",
       "  }\n",
       "</style><div class='table-result-container'><table class='table-result'><thead style='background-color: white'><tr><th>transaction_id</th><th>customer_id</th><th>transaction_date</th><th>amount</th><th>category</th><th>row_number</th><th>rolling_avg_amount</th><th>cumulative_total</th><th>previous_transaction_amount</th><th>next_transaction_amount</th></tr></thead><tbody><tr><td>587479</td><td>1</td><td>2025-01-01</td><td>67.07</td><td>Accessories</td><td>1</td><td>67.070000</td><td>67.07</td><td>null</td><td>9.05</td></tr><tr><td>619033</td><td>1</td><td>2025-01-01</td><td>9.05</td><td>Toys</td><td>2</td><td>38.060000</td><td>76.12</td><td>67.07</td><td>76.63</td></tr><tr><td>766739</td><td>1</td><td>2025-01-02</td><td>76.63</td><td>Sports</td><td>3</td><td>50.916667</td><td>152.75</td><td>9.05</td><td>3.41</td></tr><tr><td>910648</td><td>1</td><td>2025-01-02</td><td>3.41</td><td>Books</td><td>4</td><td>39.040000</td><td>156.16</td><td>76.63</td><td>77.07</td></tr><tr><td>836549</td><td>1</td><td>2025-01-03</td><td>77.07</td><td>Toys</td><td>5</td><td>46.646000</td><td>233.23</td><td>3.41</td><td>93.73</td></tr></tbody></table></div>"
      ]
     },
     "metadata": {
      "application/vnd.databricks.v1+output": {
       "addedWidgets": {},
       "aggData": [],
       "aggError": "",
       "aggOverflow": false,
       "aggSchema": [],
       "aggSeriesLimitReached": false,
       "aggType": "",
       "arguments": {},
       "columnCustomDisplayInfos": {},
       "data": [
        [
         587479,
         1,
         "2025-01-01",
         "67.07",
         "Accessories",
         1,
         "67.070000",
         "67.07",
         null,
         "9.05"
        ],
        [
         619033,
         1,
         "2025-01-01",
         "9.05",
         "Toys",
         2,
         "38.060000",
         "76.12",
         "67.07",
         "76.63"
        ],
        [
         766739,
         1,
         "2025-01-02",
         "76.63",
         "Sports",
         3,
         "50.916667",
         "152.75",
         "9.05",
         "3.41"
        ],
        [
         910648,
         1,
         "2025-01-02",
         "3.41",
         "Books",
         4,
         "39.040000",
         "156.16",
         "76.63",
         "77.07"
        ],
        [
         836549,
         1,
         "2025-01-03",
         "77.07",
         "Toys",
         5,
         "46.646000",
         "233.23",
         "3.41",
         "93.73"
        ]
       ],
       "datasetInfos": [],
       "dbfsResultPath": null,
       "isJsonSchema": true,
       "metadata": {},
       "overflow": false,
       "plotOptions": {
        "customPlotOptions": {},
        "displayType": "table",
        "pivotAggregation": null,
        "pivotColumns": null,
        "xColumns": null,
        "yColumns": null
       },
       "removedWidgets": [],
       "schema": [
        {
         "metadata": "{}",
         "name": "transaction_id",
         "type": "\"long\""
        },
        {
         "metadata": "{}",
         "name": "customer_id",
         "type": "\"integer\""
        },
        {
         "metadata": "{}",
         "name": "transaction_date",
         "type": "\"date\""
        },
        {
         "metadata": "{}",
         "name": "amount",
         "type": "\"decimal(10,2)\""
        },
        {
         "metadata": "{}",
         "name": "category",
         "type": "\"string\""
        },
        {
         "metadata": "{}",
         "name": "row_number",
         "type": "\"integer\""
        },
        {
         "metadata": "{}",
         "name": "rolling_avg_amount",
         "type": "\"decimal(14,6)\""
        },
        {
         "metadata": "{}",
         "name": "cumulative_total",
         "type": "\"decimal(20,2)\""
        },
        {
         "metadata": "{}",
         "name": "previous_transaction_amount",
         "type": "\"decimal(10,2)\""
        },
        {
         "metadata": "{}",
         "name": "next_transaction_amount",
         "type": "\"decimal(10,2)\""
        }
       ],
       "type": "table"
      }
     },
     "output_type": "display_data"
    }
   ],
   "source": [
    "# Combining Multiple Window Functions for Trend Analysis\n",
    "\n",
    "df_trend_analysis = (\n",
    "    df_transactions\n",
    "        .withColumn(\"row_number\", F.row_number().over(window_spec))\n",
    "        .withColumn(\"rolling_avg_amount\", F.avg(\"amount\").over(rolling_window))\n",
    "        .withColumn(\"cumulative_total\", F.sum(\"amount\").over(cumulative_window))\n",
    "        .withColumn(\"previous_transaction_amount\", F.lag(\"amount\", 1).over(window_spec))\n",
    "        .withColumn(\"next_transaction_amount\", F.lead(\"amount\", 1).over(window_spec))\n",
    ")\n",
    "\n",
    "df_trend_analysis.limit(5).display()\n"
   ]
  }
 ],
 "metadata": {
  "application/vnd.databricks.v1+notebook": {
   "computePreferences": null,
   "dashboards": [],
   "environmentMetadata": {
    "base_environment": "",
    "environment_version": "2"
   },
   "language": "python",
   "notebookMetadata": {
    "pythonIndentUnit": 2
   },
   "notebookName": "04 - Trend Analysis with Window Functions",
   "widgets": {}
  },
  "language_info": {
   "name": "python"
  }
 },
 "nbformat": 4,
 "nbformat_minor": 0
}
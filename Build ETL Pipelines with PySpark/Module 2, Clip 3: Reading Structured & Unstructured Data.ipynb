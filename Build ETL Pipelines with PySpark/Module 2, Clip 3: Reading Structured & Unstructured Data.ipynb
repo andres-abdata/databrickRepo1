{
 "cells": [
  {
   "cell_type": "code",
   "execution_count": 0,
   "metadata": {
    "application/vnd.databricks.v1+cell": {
     "cellMetadata": {
      "byteLimit": 2048000,
      "rowLimit": 10000
     },
     "inputWidgets": {},
     "nuid": "15f38bd1-ba87-4953-bf4a-ad77d3efc265",
     "showTitle": false,
     "tableResultSettingsMap": {},
     "title": ""
    }
   },
   "outputs": [],
   "source": [
    "from pyspark.sql.types import StructType,StructField, StringType, IntegerType,DoubleType,TimestampType\n"
   ]
  },
  {
   "cell_type": "markdown",
   "metadata": {
    "application/vnd.databricks.v1+cell": {
     "cellMetadata": {
      "byteLimit": 2048000,
      "rowLimit": 10000
     },
     "inputWidgets": {},
     "nuid": "d2f8f1b7-be59-495e-821b-3b1b7f1ea0f6",
     "showTitle": false,
     "tableResultSettingsMap": {},
     "title": ""
    }
   },
   "source": [
    "# CSV"
   ]
  },
  {
   "cell_type": "code",
   "execution_count": 0,
   "metadata": {
    "application/vnd.databricks.v1+cell": {
     "cellMetadata": {
      "byteLimit": 2048000,
      "rowLimit": 10000
     },
     "inputWidgets": {},
     "nuid": "060eadb3-dff0-434c-9f3e-5d63c789a8d3",
     "showTitle": false,
     "tableResultSettingsMap": {},
     "title": ""
    }
   },
   "outputs": [],
   "source": [
    "files_path = 'abfss://etl1@dbstoragebbpbs73u57xmm.dfs.core.windows.net/Exercise2/file_formats/'\n",
    "\n",
    "display(dbutils.fs.ls(files_path))\n",
    "\n",
    "csv_path = 'abfss://etl1@dbstoragebbpbs73u57xmm.dfs.core.windows.net/Exercise2/file_formats/streaming_events.csv'\n",
    "csv_df = spark.read.format('csv').option(\"header\", \"true\").option(\"inferschema\", \"true\").load(csv_path)\n",
    "\n",
    "csv_df.printSchema()\n",
    "\n",
    "csv_df.limit(500).display()\n"
   ]
  },
  {
   "cell_type": "code",
   "execution_count": 0,
   "metadata": {
    "application/vnd.databricks.v1+cell": {
     "cellMetadata": {
      "byteLimit": 2048000,
      "rowLimit": 10000
     },
     "inputWidgets": {},
     "nuid": "1b8500ce-b2aa-4630-b48e-1593d5150bd6",
     "showTitle": false,
     "tableResultSettingsMap": {},
     "title": ""
    }
   },
   "outputs": [],
   "source": [
    "# to define the schema\n",
    "\n",
    "streaming_events_schema = StructType([\n",
    "    StructField(\"event_id\", StringType(), False),\n",
    "    StructField(\"user_id\", StringType(), False),\n",
    "    StructField(\"content_id\", StringType(), False),\n",
    "    StructField(\"timestamp\", TimestampType(), False),\n",
    "    StructField(\"duration_seconds\", IntegerType(), True),\n",
    "    StructField(\"device_type\", StringType(), True),\n",
    "    StructField(\"quality\", StringType(), True),\n",
    "    StructField(\"buffering_count\", IntegerType(), True),\n",
    "    StructField(\"error_type\", StringType(), True),\n",
    "    StructField(\"ip_address\", StringType(), True),\n",
    "    StructField(\"country\", StringType(), True),\n",
    "    StructField(\"session_id\", StringType(), True)\n",
    "])\n",
    "\n",
    "csv_exsplicit_df = (\n",
    "    spark.read.format('csv')\n",
    "    .schema(streaming_events_schema)\n",
    "    .option(\"header\", \"true\")\n",
    "    .load(csv_path)\n",
    ")\n",
    "    \n",
    "csv_exsplicit_df.limit(500).display()\n"
   ]
  },
  {
   "cell_type": "markdown",
   "metadata": {
    "application/vnd.databricks.v1+cell": {
     "cellMetadata": {
      "byteLimit": 2048000,
      "rowLimit": 10000
     },
     "inputWidgets": {},
     "nuid": "6f515127-c8d2-461a-89c3-de764b9e00b5",
     "showTitle": false,
     "tableResultSettingsMap": {},
     "title": ""
    }
   },
   "source": [
    "# JSON"
   ]
  },
  {
   "cell_type": "code",
   "execution_count": 0,
   "metadata": {
    "application/vnd.databricks.v1+cell": {
     "cellMetadata": {
      "byteLimit": 2048000,
      "rowLimit": 10000
     },
     "inputWidgets": {},
     "nuid": "169e9fa0-075a-40c8-9245-21ef53e6d684",
     "showTitle": false,
     "tableResultSettingsMap": {},
     "title": ""
    }
   },
   "outputs": [],
   "source": [
    "json_path = 'abfss://etl1@dbstoragebbpbs73u57xmm.dfs.core.windows.net/Exercise2/file_formats/streaming_events.json'\n",
    "json_df = (\n",
    "    spark.read.format('json').option('multiline','false').load(json_path)\n",
    ")\n",
    "json_df.printSchema()\n",
    "json_df.limit(500).display()"
   ]
  },
  {
   "cell_type": "code",
   "execution_count": 0,
   "metadata": {
    "application/vnd.databricks.v1+cell": {
     "cellMetadata": {
      "byteLimit": 2048000,
      "rowLimit": 10000
     },
     "inputWidgets": {},
     "nuid": "8ba88952-a26a-4493-a48a-b8d65314a686",
     "showTitle": false,
     "tableResultSettingsMap": {},
     "title": ""
    }
   },
   "outputs": [],
   "source": [
    "json_explicit_df = (\n",
    "    spark.read.format('json').schema(streaming_events_schema).load(json_path)\n",
    ")\n",
    "\n",
    "json_explicit_df.limit(500).display()"
   ]
  },
  {
   "cell_type": "code",
   "execution_count": 0,
   "metadata": {
    "application/vnd.databricks.v1+cell": {
     "cellMetadata": {
      "byteLimit": 2048000,
      "rowLimit": 10000
     },
     "inputWidgets": {},
     "nuid": "dac4cf32-0975-4af8-9482-95f702313920",
     "showTitle": false,
     "tableResultSettingsMap": {},
     "title": ""
    }
   },
   "outputs": [],
   "source": [
    "parquet_path = 'abfss://etl1@dbstoragebbpbs73u57xmm.dfs.core.windows.net/Exercise2/file_formats/streaming_events.parquet'\n",
    "\n",
    "parquet_df = (\n",
    "    spark.read.format('parquet').load(parquet_path)\n",
    ")\n",
    "\n",
    "parquet_df.limit(500).display()\n"
   ]
  },
  {
   "cell_type": "markdown",
   "metadata": {
    "application/vnd.databricks.v1+cell": {
     "cellMetadata": {
      "byteLimit": 2048000,
      "rowLimit": 10000
     },
     "inputWidgets": {},
     "nuid": "87d1eabc-cb12-458d-ad24-f0f8ddf2bc48",
     "showTitle": false,
     "tableResultSettingsMap": {},
     "title": ""
    }
   },
   "source": [
    "# ORC"
   ]
  },
  {
   "cell_type": "code",
   "execution_count": 0,
   "metadata": {
    "application/vnd.databricks.v1+cell": {
     "cellMetadata": {
      "byteLimit": 2048000,
      "rowLimit": 10000
     },
     "inputWidgets": {},
     "nuid": "4d76c511-f515-4ac2-aa74-ef79960f366b",
     "showTitle": false,
     "tableResultSettingsMap": {},
     "title": ""
    }
   },
   "outputs": [],
   "source": [
    "orc_path = 'abfss://etl1@dbstoragebbpbs73u57xmm.dfs.core.windows.net/Exercise2/file_formats/streaming_events.orc'\n",
    "\n",
    "csv_df.write.mode('overwrite').orc(orc_path)\n",
    "\n",
    "orc_df = (\n",
    "    spark.read.format('orc').load(orc_path)    \n",
    ")\n",
    "\n",
    "orc_df.limit(500).display()\n",
    "\n"
   ]
  },
  {
   "cell_type": "markdown",
   "metadata": {
    "application/vnd.databricks.v1+cell": {
     "cellMetadata": {
      "byteLimit": 2048000,
      "rowLimit": 10000
     },
     "inputWidgets": {},
     "nuid": "30671ea7-b2c9-4cbe-adf3-fe4df798ad53",
     "showTitle": false,
     "tableResultSettingsMap": {},
     "title": ""
    }
   },
   "source": [
    "# DELTA"
   ]
  },
  {
   "cell_type": "code",
   "execution_count": 0,
   "metadata": {
    "application/vnd.databricks.v1+cell": {
     "cellMetadata": {
      "byteLimit": 2048000,
      "rowLimit": 10000
     },
     "inputWidgets": {},
     "nuid": "8e4644ae-8549-42de-b13d-52ca8e9945ed",
     "showTitle": false,
     "tableResultSettingsMap": {},
     "title": ""
    }
   },
   "outputs": [],
   "source": [
    "delta_path = 'abfss://etl1@dbstoragebbpbs73u57xmm.dfs.core.windows.net/Exercise2/file_formats/streaming_events_delta'\n",
    "\n",
    "csv_df.write.format('delta').mode('overwrite').save(delta_path)\n",
    "\n",
    "delta_df = (\n",
    "    spark.read.format('delta').load(delta_path)    \n",
    ")\n",
    "\n",
    "orc_df.limit(500).display()"
   ]
  }
 ],
 "metadata": {
  "application/vnd.databricks.v1+notebook": {
   "computePreferences": null,
   "dashboards": [],
   "environmentMetadata": {
    "base_environment": "",
    "environment_version": "2"
   },
   "inputWidgetPreferences": null,
   "language": "python",
   "notebookMetadata": {
    "pythonIndentUnit": 4
   },
   "notebookName": "Module 2, Clip 3: Reading Structured & Unstructured Data",
   "widgets": {}
  },
  "language_info": {
   "name": "python"
  }
 },
 "nbformat": 4,
 "nbformat_minor": 0
}

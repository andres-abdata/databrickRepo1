{
 "cells": [
  {
   "cell_type": "markdown",
   "metadata": {
    "application/vnd.databricks.v1+cell": {
     "cellMetadata": {},
     "inputWidgets": {},
     "nuid": "521ffd6e-3f86-40ec-91a0-f6adf1f54374",
     "showTitle": false,
     "tableResultSettingsMap": {},
     "title": ""
    }
   },
   "source": [
    "# Transforming Data with Joins & Aggregations"
   ]
  },
  {
   "cell_type": "code",
   "execution_count": 0,
   "metadata": {
    "application/vnd.databricks.v1+cell": {
     "cellMetadata": {
      "byteLimit": 2048000,
      "rowLimit": 10000
     },
     "inputWidgets": {},
     "nuid": "4d978611-8f49-4129-ad7c-90cfcd05b917",
     "showTitle": false,
     "tableResultSettingsMap": {},
     "title": ""
    }
   },
   "outputs": [],
   "source": [
    "# Import the necessary libraries\n",
    "from pyspark.sql import SparkSession\n",
    "from pyspark.sql.functions import col, count, sum, avg, round, countDistinct"
   ]
  },
  {
   "cell_type": "code",
   "execution_count": 0,
   "metadata": {
    "application/vnd.databricks.v1+cell": {
     "cellMetadata": {
      "byteLimit": 2048000,
      "rowLimit": 10000
     },
     "inputWidgets": {},
     "nuid": "ab49087e-9a6e-4d3d-9299-3c83a4d377ab",
     "showTitle": false,
     "tableResultSettingsMap": {},
     "title": ""
    }
   },
   "outputs": [],
   "source": [
    "\n",
    "# Load our streaming events dataset\n",
    "events_path = \"/pyspark/video-streaming-data/module3-transform/joins_aggregations/streaming_events.csv\"\n",
    "events_df = spark.read.option(\"header\", \"true\").option(\"inferSchema\", \"true\").csv(events_path)\n",
    "\n",
    "# Load our reference datasets\n",
    "users_path = \"/pyspark/video-streaming-data/module3-transform/joins_aggregations/users.csv\"\n",
    "users_df = spark.read.option(\"header\", \"true\").option(\"inferSchema\", \"true\").csv(users_path)\n",
    "\n",
    "content_path = \"/pyspark/video-streaming-data/module3-transform/joins_aggregations/content_catalog.csv\"\n",
    "content_df = spark.read.option(\"header\", \"true\").option(\"inferSchema\", \"true\").csv(content_path)"
   ]
  },
  {
   "cell_type": "code",
   "execution_count": 0,
   "metadata": {
    "application/vnd.databricks.v1+cell": {
     "cellMetadata": {
      "byteLimit": 2048000,
      "rowLimit": 10000
     },
     "inputWidgets": {},
     "nuid": "d84ab517-c278-4faf-bb14-8f0eee5c3fa9",
     "showTitle": false,
     "tableResultSettingsMap": {},
     "title": ""
    }
   },
   "outputs": [
    {
     "output_type": "stream",
     "name": "stdout",
     "output_type": "stream",
     "text": [
      "Events Schema (preview):\nroot\n |-- event_id: string (nullable = true)\n |-- user_id: string (nullable = true)\n |-- content_id: string (nullable = true)\n |-- timestamp: timestamp (nullable = true)\n |-- duration_seconds: integer (nullable = true)\n |-- device_type: string (nullable = true)\n |-- quality: string (nullable = true)\n |-- buffering_count: integer (nullable = true)\n |-- error_type: string (nullable = true)\n |-- ip_address: string (nullable = true)\n |-- country: string (nullable = true)\n |-- session_id: string (nullable = true)\n\n\nUsers Schema (preview):\nroot\n |-- user_id: string (nullable = true)\n |-- signup_date: date (nullable = true)\n |-- subscription_tier: string (nullable = true)\n |-- last_billing_date: date (nullable = true)\n |-- account_status: string (nullable = true)\n |-- preferred_genres: string (nullable = true)\n |-- age_group: string (nullable = true)\n |-- gender: string (nullable = true)\n |-- language: string (nullable = true)\n\n\nContent Schema (preview):\nroot\n |-- content_id: string (nullable = true)\n |-- title: string (nullable = true)\n |-- type: string (nullable = true)\n |-- genre: string (nullable = true)\n |-- sub_genres: string (nullable = true)\n |-- release_year: string (nullable = true)\n |-- director: string (nullable = true)\n |-- duration_minutes: string (nullable = true)\n |-- rating: string (nullable = true)\n |-- description: string (nullable = true)\n |-- tags: string (nullable = true)\n |-- popularity_score: string (nullable = true)\n\n"
     ]
    }
   ],
   "source": [
    "# Look at the schema of our datasets to understand the join keys\n",
    "print(\"Events Schema (preview):\")\n",
    "events_df.printSchema()\n",
    "\n",
    "print(\"\\nUsers Schema (preview):\")\n",
    "users_df.printSchema()\n",
    "\n",
    "print(\"\\nContent Schema (preview):\")\n",
    "content_df.printSchema()"
   ]
  },
  {
   "cell_type": "markdown",
   "metadata": {
    "application/vnd.databricks.v1+cell": {
     "cellMetadata": {},
     "inputWidgets": {},
     "nuid": "1fda2e5e-0848-4456-b23b-f01f42a48582",
     "showTitle": false,
     "tableResultSettingsMap": {},
     "title": ""
    }
   },
   "source": [
    "### Joins"
   ]
  },
  {
   "cell_type": "code",
   "execution_count": 0,
   "metadata": {
    "application/vnd.databricks.v1+cell": {
     "cellMetadata": {
      "byteLimit": 2048000,
      "rowLimit": 10000
     },
     "inputWidgets": {},
     "nuid": "89225401-d469-422f-809c-02056336b70b",
     "showTitle": false,
     "tableResultSettingsMap": {},
     "title": ""
    }
   },
   "outputs": [
    {
     "output_type": "stream",
     "name": "stdout",
     "output_type": "stream",
     "text": [
      "Events joined with Users:\n"
     ]
    },
    {
     "output_type": "display_data",
     "data": {
      "text/html": [
       "<style scoped>\n",
       "  .table-result-container {\n",
       "    max-height: 300px;\n",
       "    overflow: auto;\n",
       "  }\n",
       "  table, th, td {\n",
       "    border: 1px solid black;\n",
       "    border-collapse: collapse;\n",
       "  }\n",
       "  th, td {\n",
       "    padding: 5px;\n",
       "  }\n",
       "  th {\n",
       "    text-align: left;\n",
       "  }\n",
       "</style><div class='table-result-container'><table class='table-result'><thead style='background-color: white'><tr><th>event_id</th><th>user_id</th><th>subscription_tier</th><th>age_group</th></tr></thead><tbody><tr><td>EVT10019</td><td>USR11535</td><td>Standard</td><td>18-24</td></tr><tr><td>EVT10022</td><td>USR11351</td><td>Basic</td><td>55-64</td></tr><tr><td>EVT10043</td><td>USR11021</td><td>Basic</td><td> \"\"romance\"\"</td></tr></tbody></table></div>"
      ]
     },
     "metadata": {
      "application/vnd.databricks.v1+output": {
       "addedWidgets": {},
       "aggData": [],
       "aggError": "",
       "aggOverflow": false,
       "aggSchema": [],
       "aggSeriesLimitReached": false,
       "aggType": "",
       "arguments": {},
       "columnCustomDisplayInfos": {},
       "data": [
        [
         "EVT10019",
         "USR11535",
         "Standard",
         "18-24"
        ],
        [
         "EVT10022",
         "USR11351",
         "Basic",
         "55-64"
        ],
        [
         "EVT10043",
         "USR11021",
         "Basic",
         " \"\"romance\"\""
        ]
       ],
       "datasetInfos": [],
       "dbfsResultPath": null,
       "isJsonSchema": true,
       "metadata": {},
       "overflow": false,
       "plotOptions": {
        "customPlotOptions": {},
        "displayType": "table",
        "pivotAggregation": null,
        "pivotColumns": null,
        "xColumns": null,
        "yColumns": null
       },
       "removedWidgets": [],
       "schema": [
        {
         "metadata": "{}",
         "name": "event_id",
         "type": "\"string\""
        },
        {
         "metadata": "{}",
         "name": "user_id",
         "type": "\"string\""
        },
        {
         "metadata": "{}",
         "name": "subscription_tier",
         "type": "\"string\""
        },
        {
         "metadata": "{}",
         "name": "age_group",
         "type": "\"string\""
        }
       ],
       "type": "table"
      }
     },
     "output_type": "display_data"
    },
    {
     "output_type": "stream",
     "name": "stdout",
     "output_type": "stream",
     "text": [
      "Events before join: 50000\nEvents after inner join with users: 5054\n"
     ]
    }
   ],
   "source": [
    "# Basic INNER JOIN to bring user information to our events\n",
    "events_with_users = events_df.join(\n",
    "    users_df,\n",
    "    on=\"user_id\",\n",
    "    how=\"inner\"\n",
    ")\n",
    "\n",
    "print(\"Events joined with Users:\")\n",
    "events_with_users.select(\"event_id\", \"user_id\", \"subscription_tier\", \"age_group\").limit(3).display()\n",
    "\n",
    "# Check how many events we have before and after the join\n",
    "print(f\"Events before join: {events_df.count()}\")\n",
    "print(f\"Events after inner join with users: {events_with_users.count()}\")"
   ]
  },
  {
   "cell_type": "code",
   "execution_count": 0,
   "metadata": {
    "application/vnd.databricks.v1+cell": {
     "cellMetadata": {
      "byteLimit": 2048000,
      "rowLimit": 10000
     },
     "inputWidgets": {},
     "nuid": "eebe1926-1982-440a-844b-b4462b33a5c5",
     "showTitle": false,
     "tableResultSettingsMap": {},
     "title": ""
    }
   },
   "outputs": [
    {
     "output_type": "stream",
     "name": "stdout",
     "output_type": "stream",
     "text": [
      "Events after left join with users: 50000\nFully enriched events:\n"
     ]
    },
    {
     "output_type": "display_data",
     "data": {
      "text/html": [
       "<style scoped>\n",
       "  .table-result-container {\n",
       "    max-height: 300px;\n",
       "    overflow: auto;\n",
       "  }\n",
       "  table, th, td {\n",
       "    border: 1px solid black;\n",
       "    border-collapse: collapse;\n",
       "  }\n",
       "  th, td {\n",
       "    padding: 5px;\n",
       "  }\n",
       "  th {\n",
       "    text-align: left;\n",
       "  }\n",
       "</style><div class='table-result-container'><table class='table-result'><thead style='background-color: white'><tr><th>event_id</th><th>user_id</th><th>subscription_tier</th><th>content_id</th><th>title</th><th>genre</th></tr></thead><tbody><tr><td>EVT10000</td><td>USR41813</td><td>null</td><td>CON10763</td><td>Business-focused even-keeled data-warehouse</td><td>Thriller</td></tr><tr><td>EVT10001</td><td>USR46484</td><td>null</td><td>CON12784</td><td>null</td><td>null</td></tr><tr><td>EVT10002</td><td>USR37573</td><td>null</td><td>CON16367</td><td>null</td><td>null</td></tr></tbody></table></div>"
      ]
     },
     "metadata": {
      "application/vnd.databricks.v1+output": {
       "addedWidgets": {},
       "aggData": [],
       "aggError": "",
       "aggOverflow": false,
       "aggSchema": [],
       "aggSeriesLimitReached": false,
       "aggType": "",
       "arguments": {},
       "columnCustomDisplayInfos": {},
       "data": [
        [
         "EVT10000",
         "USR41813",
         null,
         "CON10763",
         "Business-focused even-keeled data-warehouse",
         "Thriller"
        ],
        [
         "EVT10001",
         "USR46484",
         null,
         "CON12784",
         null,
         null
        ],
        [
         "EVT10002",
         "USR37573",
         null,
         "CON16367",
         null,
         null
        ]
       ],
       "datasetInfos": [],
       "dbfsResultPath": null,
       "isJsonSchema": true,
       "metadata": {},
       "overflow": false,
       "plotOptions": {
        "customPlotOptions": {},
        "displayType": "table",
        "pivotAggregation": null,
        "pivotColumns": null,
        "xColumns": null,
        "yColumns": null
       },
       "removedWidgets": [],
       "schema": [
        {
         "metadata": "{}",
         "name": "event_id",
         "type": "\"string\""
        },
        {
         "metadata": "{}",
         "name": "user_id",
         "type": "\"string\""
        },
        {
         "metadata": "{}",
         "name": "subscription_tier",
         "type": "\"string\""
        },
        {
         "metadata": "{}",
         "name": "content_id",
         "type": "\"string\""
        },
        {
         "metadata": "{}",
         "name": "title",
         "type": "\"string\""
        },
        {
         "metadata": "{}",
         "name": "genre",
         "type": "\"string\""
        }
       ],
       "type": "table"
      }
     },
     "output_type": "display_data"
    }
   ],
   "source": [
    "# LEFT JOIN to keep all events, even if the user isn't in our users table\n",
    "events_with_users_left = events_df.join(\n",
    "    users_df,\n",
    "    on=\"user_id\",\n",
    "    how=\"left\"\n",
    ")\n",
    "\n",
    "print(f\"Events after left join with users: {events_with_users_left.count()}\")\n",
    "\n",
    "# Join with the content catalog to get content details\n",
    "events_enriched = events_with_users_left.join(\n",
    "    content_df,\n",
    "    on=\"content_id\",\n",
    "    how=\"left\"\n",
    ")\n",
    "\n",
    "print(\"Fully enriched events:\")\n",
    "events_enriched.select(\"event_id\", \"user_id\", \"subscription_tier\", \"content_id\", \"title\", \"genre\").limit(3).display()\n"
   ]
  },
  {
   "cell_type": "markdown",
   "metadata": {
    "application/vnd.databricks.v1+cell": {
     "cellMetadata": {},
     "inputWidgets": {},
     "nuid": "9b674954-f317-4f61-aee6-178092d1aa81",
     "showTitle": false,
     "tableResultSettingsMap": {},
     "title": ""
    }
   },
   "source": [
    "### Aggregations"
   ]
  },
  {
   "cell_type": "code",
   "execution_count": 0,
   "metadata": {
    "application/vnd.databricks.v1+cell": {
     "cellMetadata": {
      "byteLimit": 2048000,
      "rowLimit": 10000
     },
     "inputWidgets": {},
     "nuid": "5547b84a-1f16-44d3-bd02-7bde53ceedc9",
     "showTitle": false,
     "tableResultSettingsMap": {},
     "title": ""
    }
   },
   "outputs": [
    {
     "output_type": "stream",
     "name": "stdout",
     "output_type": "stream",
     "text": [
      "Events by subscription tier:\n"
     ]
    },
    {
     "output_type": "display_data",
     "data": {
      "text/html": [
       "<style scoped>\n",
       "  .table-result-container {\n",
       "    max-height: 300px;\n",
       "    overflow: auto;\n",
       "  }\n",
       "  table, th, td {\n",
       "    border: 1px solid black;\n",
       "    border-collapse: collapse;\n",
       "  }\n",
       "  th, td {\n",
       "    padding: 5px;\n",
       "  }\n",
       "  th {\n",
       "    text-align: left;\n",
       "  }\n",
       "</style><div class='table-result-container'><table class='table-result'><thead style='background-color: white'><tr><th>subscription_tier</th><th>event_count</th></tr></thead><tbody><tr><td>null</td><td>44946</td></tr><tr><td>Premium</td><td>1711</td></tr><tr><td>Standard</td><td>1693</td></tr><tr><td>Basic</td><td>1650</td></tr></tbody></table></div>"
      ]
     },
     "metadata": {
      "application/vnd.databricks.v1+output": {
       "addedWidgets": {},
       "aggData": [],
       "aggError": "",
       "aggOverflow": false,
       "aggSchema": [],
       "aggSeriesLimitReached": false,
       "aggType": "",
       "arguments": {},
       "columnCustomDisplayInfos": {},
       "data": [
        [
         null,
         44946
        ],
        [
         "Premium",
         1711
        ],
        [
         "Standard",
         1693
        ],
        [
         "Basic",
         1650
        ]
       ],
       "datasetInfos": [],
       "dbfsResultPath": null,
       "isJsonSchema": true,
       "metadata": {},
       "overflow": false,
       "plotOptions": {
        "customPlotOptions": {},
        "displayType": "table",
        "pivotAggregation": null,
        "pivotColumns": null,
        "xColumns": null,
        "yColumns": null
       },
       "removedWidgets": [],
       "schema": [
        {
         "metadata": "{}",
         "name": "subscription_tier",
         "type": "\"string\""
        },
        {
         "metadata": "{}",
         "name": "event_count",
         "type": "\"long\""
        }
       ],
       "type": "table"
      }
     },
     "output_type": "display_data"
    }
   ],
   "source": [
    "# Basic aggregation: Count events by subscription tier\n",
    "events_by_tier = events_enriched.groupBy(\"subscription_tier\") \\\n",
    "    .agg(count(\"*\").alias(\"event_count\")) \\\n",
    "    .orderBy(col(\"event_count\").desc())\n",
    "\n",
    "print(\"Events by subscription tier:\")\n",
    "events_by_tier.display()"
   ]
  },
  {
   "cell_type": "code",
   "execution_count": 0,
   "metadata": {
    "application/vnd.databricks.v1+cell": {
     "cellMetadata": {
      "byteLimit": 2048000,
      "rowLimit": 10000
     },
     "inputWidgets": {},
     "nuid": "d9b5802d-304e-4c6e-8980-3007ec126a8f",
     "showTitle": false,
     "tableResultSettingsMap": {},
     "title": ""
    }
   },
   "outputs": [
    {
     "output_type": "stream",
     "name": "stdout",
     "output_type": "stream",
     "text": [
      "Average streaming duration by content genre:\n"
     ]
    },
    {
     "output_type": "display_data",
     "data": {
      "text/html": [
       "<style scoped>\n",
       "  .table-result-container {\n",
       "    max-height: 300px;\n",
       "    overflow: auto;\n",
       "  }\n",
       "  table, th, td {\n",
       "    border: 1px solid black;\n",
       "    border-collapse: collapse;\n",
       "  }\n",
       "  th, td {\n",
       "    padding: 5px;\n",
       "  }\n",
       "  th {\n",
       "    text-align: left;\n",
       "  }\n",
       "</style><div class='table-result-container'><table class='table-result'><thead style='background-color: white'><tr><th>genre</th><th>event_count</th><th>avg_duration_seconds</th></tr></thead><tbody><tr><td>Sci-Fi</td><td>342</td><td>5137.73</td></tr><tr><td>Comedy</td><td>261</td><td>5024.74</td></tr><tr><td>Thriller</td><td>408</td><td>4601.58</td></tr><tr><td>Documentary</td><td>349</td><td>4563.66</td></tr><tr><td>Family</td><td>373</td><td>4474.03</td></tr></tbody></table></div>"
      ]
     },
     "metadata": {
      "application/vnd.databricks.v1+output": {
       "addedWidgets": {},
       "aggData": [],
       "aggError": "",
       "aggOverflow": false,
       "aggSchema": [],
       "aggSeriesLimitReached": false,
       "aggType": "",
       "arguments": {},
       "columnCustomDisplayInfos": {},
       "data": [
        [
         "Sci-Fi",
         342,
         5137.73
        ],
        [
         "Comedy",
         261,
         5024.74
        ],
        [
         "Thriller",
         408,
         4601.58
        ],
        [
         "Documentary",
         349,
         4563.66
        ],
        [
         "Family",
         373,
         4474.03
        ]
       ],
       "datasetInfos": [],
       "dbfsResultPath": null,
       "isJsonSchema": true,
       "metadata": {},
       "overflow": false,
       "plotOptions": {
        "customPlotOptions": {},
        "displayType": "table",
        "pivotAggregation": null,
        "pivotColumns": null,
        "xColumns": null,
        "yColumns": null
       },
       "removedWidgets": [],
       "schema": [
        {
         "metadata": "{}",
         "name": "genre",
         "type": "\"string\""
        },
        {
         "metadata": "{}",
         "name": "event_count",
         "type": "\"long\""
        },
        {
         "metadata": "{}",
         "name": "avg_duration_seconds",
         "type": "\"double\""
        }
       ],
       "type": "table"
      }
     },
     "output_type": "display_data"
    }
   ],
   "source": [
    "# Average streaming duration by content genre\n",
    "avg_duration_by_genre = events_enriched.groupBy(\"genre\") \\\n",
    "    .agg(\n",
    "        count(\"*\").alias(\"event_count\"),\n",
    "        round(avg(\"duration_seconds\"), 2).alias(\"avg_duration_seconds\")\n",
    "    ) \\\n",
    "    .orderBy(col(\"avg_duration_seconds\").desc())\n",
    "\n",
    "print(\"Average streaming duration by content genre:\")\n",
    "avg_duration_by_genre.limit(5).display()"
   ]
  },
  {
   "cell_type": "code",
   "execution_count": 0,
   "metadata": {
    "application/vnd.databricks.v1+cell": {
     "cellMetadata": {
      "byteLimit": 2048000,
      "rowLimit": 10000
     },
     "inputWidgets": {},
     "nuid": "6a6f9fd0-1c39-4a61-9f34-87bc8eead8cd",
     "showTitle": false,
     "tableResultSettingsMap": {},
     "title": ""
    }
   },
   "outputs": [
    {
     "output_type": "stream",
     "name": "stdout",
     "output_type": "stream",
     "text": [
      "Content performance by subscription tier and genre:\n"
     ]
    },
    {
     "output_type": "display_data",
     "data": {
      "text/html": [
       "<style scoped>\n",
       "  .table-result-container {\n",
       "    max-height: 300px;\n",
       "    overflow: auto;\n",
       "  }\n",
       "  table, th, td {\n",
       "    border: 1px solid black;\n",
       "    border-collapse: collapse;\n",
       "  }\n",
       "  th, td {\n",
       "    padding: 5px;\n",
       "  }\n",
       "  th {\n",
       "    text-align: left;\n",
       "  }\n",
       "</style><div class='table-result-container'><table class='table-result'><thead style='background-color: white'><tr><th>subscription_tier</th><th>genre</th><th>unique_viewers</th><th>avg_minutes_per_view</th><th>total_hours_watched</th></tr></thead><tbody><tr><td>null</td><td>null</td><td>26624</td><td>71.64</td><td>48266.94</td></tr><tr><td>null</td><td>Thriller</td><td>370</td><td>77.24</td><td>477.58</td></tr><tr><td>null</td><td>Sci-Fi</td><td>292</td><td>85.99</td><td>419.94</td></tr><tr><td>null</td><td>Family</td><td>342</td><td>73.12</td><td>419.23</td></tr><tr><td>null</td><td>Animation</td><td>350</td><td>71.18</td><td>417.58</td></tr></tbody></table></div>"
      ]
     },
     "metadata": {
      "application/vnd.databricks.v1+output": {
       "addedWidgets": {},
       "aggData": [],
       "aggError": "",
       "aggOverflow": false,
       "aggSchema": [],
       "aggSeriesLimitReached": false,
       "aggType": "",
       "arguments": {},
       "columnCustomDisplayInfos": {},
       "data": [
        [
         null,
         null,
         26624,
         71.64,
         48266.94
        ],
        [
         null,
         "Thriller",
         370,
         77.24,
         477.58
        ],
        [
         null,
         "Sci-Fi",
         292,
         85.99,
         419.94
        ],
        [
         null,
         "Family",
         342,
         73.12,
         419.23
        ],
        [
         null,
         "Animation",
         350,
         71.18,
         417.58
        ]
       ],
       "datasetInfos": [],
       "dbfsResultPath": null,
       "isJsonSchema": true,
       "metadata": {},
       "overflow": false,
       "plotOptions": {
        "customPlotOptions": {},
        "displayType": "table",
        "pivotAggregation": null,
        "pivotColumns": null,
        "xColumns": null,
        "yColumns": null
       },
       "removedWidgets": [],
       "schema": [
        {
         "metadata": "{}",
         "name": "subscription_tier",
         "type": "\"string\""
        },
        {
         "metadata": "{}",
         "name": "genre",
         "type": "\"string\""
        },
        {
         "metadata": "{}",
         "name": "unique_viewers",
         "type": "\"long\""
        },
        {
         "metadata": "{}",
         "name": "avg_minutes_per_view",
         "type": "\"double\""
        },
        {
         "metadata": "{}",
         "name": "total_hours_watched",
         "type": "\"double\""
        }
       ],
       "type": "table"
      }
     },
     "output_type": "display_data"
    }
   ],
   "source": [
    "# Complex aggregation: Content performance by subscription tier and genre\n",
    "content_performance = events_enriched.groupBy(\"subscription_tier\", \"genre\") \\\n",
    "    .agg(\n",
    "        countDistinct(\"user_id\").alias(\"unique_viewers\"),\n",
    "        round(avg(\"duration_seconds\") / 60, 2).alias(\"avg_minutes_per_view\"),\n",
    "        round(sum(\"duration_seconds\") / 3600, 2).alias(\"total_hours_watched\")\n",
    "    ) \\\n",
    "    .orderBy(col(\"subscription_tier\"), col(\"total_hours_watched\").desc())\n",
    "\n",
    "print(\"Content performance by subscription tier and genre:\")\n",
    "content_performance.limit(5).display()"
   ]
  },
  {
   "cell_type": "code",
   "execution_count": 0,
   "metadata": {
    "application/vnd.databricks.v1+cell": {
     "cellMetadata": {
      "byteLimit": 2048000,
      "rowLimit": 10000
     },
     "inputWidgets": {},
     "nuid": "54454a11-5e7c-441f-9c12-d4db4f4ebc18",
     "showTitle": false,
     "tableResultSettingsMap": {},
     "title": ""
    }
   },
   "outputs": [
    {
     "output_type": "stream",
     "name": "stdout",
     "output_type": "stream",
     "text": [
      "Enriched data saved to pyspark/video-streaming-data/module3-transform/joins_aggregations/enriched_events\n"
     ]
    }
   ],
   "source": [
    "# Save our enriched dataset for downstream analytics\n",
    "output_path = \"pyspark/video-streaming-data/module3-transform/joins_aggregations/enriched_events\"\n",
    "\n",
    "# Save as Parquet (columnar format)\n",
    "events_enriched.write.mode(\"overwrite\").parquet(output_path)\n",
    "\n",
    "print(f\"Enriched data saved to {output_path}\")"
   ]
  }
 ],
 "metadata": {
  "application/vnd.databricks.v1+notebook": {
   "computePreferences": null,
   "dashboards": [],
   "environmentMetadata": {
    "base_environment": "",
    "environment_version": "2"
   },
   "inputWidgetPreferences": null,
   "language": "python",
   "notebookMetadata": {
    "pythonIndentUnit": 4
   },
   "notebookName": "Module 3, Clip 7 - Transforming Data with Joins & Aggregations",
   "widgets": {}
  },
  "language_info": {
   "name": "python"
  }
 },
 "nbformat": 4,
 "nbformat_minor": 0
}
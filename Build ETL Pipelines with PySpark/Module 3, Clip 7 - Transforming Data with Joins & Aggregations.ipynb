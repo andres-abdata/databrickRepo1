{
 "cells": [
  {
   "cell_type": "markdown",
   "metadata": {
    "application/vnd.databricks.v1+cell": {
     "cellMetadata": {},
     "inputWidgets": {},
     "nuid": "521ffd6e-3f86-40ec-91a0-f6adf1f54374",
     "showTitle": false,
     "tableResultSettingsMap": {},
     "title": ""
    }
   },
   "source": [
    "# Transforming Data with Joins & Aggregations"
   ]
  },
  {
   "cell_type": "code",
   "execution_count": 0,
   "metadata": {
    "application/vnd.databricks.v1+cell": {
     "cellMetadata": {
      "byteLimit": 2048000,
      "rowLimit": 10000
     },
     "inputWidgets": {},
     "nuid": "4d978611-8f49-4129-ad7c-90cfcd05b917",
     "showTitle": false,
     "tableResultSettingsMap": {},
     "title": ""
    }
   },
   "outputs": [],
   "source": [
    "# Import the necessary libraries\n",
    "from pyspark.sql import SparkSession\n",
    "from pyspark.sql.functions import col, count, sum, avg, round, countDistinct"
   ]
  },
  {
   "cell_type": "code",
   "execution_count": 0,
   "metadata": {
    "application/vnd.databricks.v1+cell": {
     "cellMetadata": {
      "byteLimit": 2048000,
      "rowLimit": 10000
     },
     "inputWidgets": {},
     "nuid": "ab49087e-9a6e-4d3d-9299-3c83a4d377ab",
     "showTitle": false,
     "tableResultSettingsMap": {},
     "title": ""
    }
   },
   "outputs": [],
   "source": [
    "display(dbutils.fs.ls(\"abfss://etl1@dbstoragebbpbs73u57xmm.dfs.core.windows.net/Exercise2/\"))\n",
    "# Load our streaming events dataset\n",
    "events_path = \"abfss://etl1@dbstoragebbpbs73u57xmm.dfs.core.windows.net/Exercise2/streaming_events.csv\"\n",
    "events_df = spark.read.option(\"header\", \"true\").option(\"inferSchema\", \"true\").csv(events_path)\n",
    "\n",
    "# Load our reference datasets\n",
    "users_path = \"abfss://etl1@dbstoragebbpbs73u57xmm.dfs.core.windows.net/Exercise2/users.csv\"\n",
    "users_df = spark.read.option(\"header\", \"true\").option(\"inferSchema\", \"true\").csv(users_path)\n",
    "\n",
    "content_path = \"abfss://etl1@dbstoragebbpbs73u57xmm.dfs.core.windows.net/Exercise2/content_catalog.csv\"\n",
    "content_df = spark.read.option(\"header\", \"true\").option(\"inferSchema\", \"true\").csv(content_path)"
   ]
  },
  {
   "cell_type": "code",
   "execution_count": 0,
   "metadata": {
    "application/vnd.databricks.v1+cell": {
     "cellMetadata": {
      "byteLimit": 2048000,
      "rowLimit": 10000
     },
     "inputWidgets": {},
     "nuid": "d84ab517-c278-4faf-bb14-8f0eee5c3fa9",
     "showTitle": false,
     "tableResultSettingsMap": {},
     "title": ""
    }
   },
   "outputs": [],
   "source": [
    "# Look at the schema of our datasets to understand the join keys\n",
    "print(\"Events Schema (preview):\")\n",
    "events_df.printSchema()\n",
    "\n",
    "print(\"\\nUsers Schema (preview):\")\n",
    "users_df.printSchema()\n",
    "\n",
    "print(\"\\nContent Schema (preview):\")\n",
    "content_df.printSchema()"
   ]
  },
  {
   "cell_type": "markdown",
   "metadata": {
    "application/vnd.databricks.v1+cell": {
     "cellMetadata": {},
     "inputWidgets": {},
     "nuid": "1fda2e5e-0848-4456-b23b-f01f42a48582",
     "showTitle": false,
     "tableResultSettingsMap": {},
     "title": ""
    }
   },
   "source": [
    "### Joins"
   ]
  },
  {
   "cell_type": "code",
   "execution_count": 0,
   "metadata": {
    "application/vnd.databricks.v1+cell": {
     "cellMetadata": {
      "byteLimit": 2048000,
      "rowLimit": 10000
     },
     "inputWidgets": {},
     "nuid": "89225401-d469-422f-809c-02056336b70b",
     "showTitle": false,
     "tableResultSettingsMap": {},
     "title": ""
    }
   },
   "outputs": [],
   "source": [
    "# Basic INNER JOIN to bring user information to our events\n",
    "events_with_users = events_df.join(\n",
    "    users_df,\n",
    "    on=\"user_id\",\n",
    "    how=\"inner\"\n",
    ")\n",
    "\n",
    "print(\"Events joined with Users:\")\n",
    "events_with_users.select(\"event_id\", \"user_id\", \"subscription_tier\", \"age_group\").limit(3).display()\n",
    "\n",
    "# Check how many events we have before and after the join\n",
    "print(f\"Events before join: {events_df.count()}\")\n",
    "print(f\"Events after inner join with users: {events_with_users.count()}\")"
   ]
  },
  {
   "cell_type": "code",
   "execution_count": 0,
   "metadata": {
    "application/vnd.databricks.v1+cell": {
     "cellMetadata": {
      "byteLimit": 2048000,
      "rowLimit": 10000
     },
     "inputWidgets": {},
     "nuid": "eebe1926-1982-440a-844b-b4462b33a5c5",
     "showTitle": false,
     "tableResultSettingsMap": {},
     "title": ""
    }
   },
   "outputs": [],
   "source": [
    "# LEFT JOIN to keep all events, even if the user isn't in our users table\n",
    "events_with_users_left = events_df.join(\n",
    "    users_df,\n",
    "    on=\"user_id\",\n",
    "    how=\"left\"\n",
    ")\n",
    "\n",
    "print(f\"Events after left join with users: {events_with_users_left.count()}\")\n",
    "\n",
    "# Join with the content catalog to get content details\n",
    "events_enriched = events_with_users_left.join(\n",
    "    content_df,\n",
    "    on=\"content_id\",\n",
    "    how=\"left\"\n",
    ")\n",
    "\n",
    "print(\"Fully enriched events:\")\n",
    "events_enriched.select(\"event_id\", \"user_id\", \"subscription_tier\", \"content_id\", \"title\", \"genre\").limit(3).display()\n"
   ]
  },
  {
   "cell_type": "markdown",
   "metadata": {
    "application/vnd.databricks.v1+cell": {
     "cellMetadata": {},
     "inputWidgets": {},
     "nuid": "9b674954-f317-4f61-aee6-178092d1aa81",
     "showTitle": false,
     "tableResultSettingsMap": {},
     "title": ""
    }
   },
   "source": [
    "### Aggregations"
   ]
  },
  {
   "cell_type": "code",
   "execution_count": 0,
   "metadata": {
    "application/vnd.databricks.v1+cell": {
     "cellMetadata": {
      "byteLimit": 2048000,
      "rowLimit": 10000
     },
     "inputWidgets": {},
     "nuid": "5547b84a-1f16-44d3-bd02-7bde53ceedc9",
     "showTitle": false,
     "tableResultSettingsMap": {},
     "title": ""
    }
   },
   "outputs": [],
   "source": [
    "# Basic aggregation: Count events by subscription tier\n",
    "events_by_tier = events_enriched.groupBy(\"subscription_tier\") \\\n",
    "    .agg(count(\"*\").alias(\"event_count\")) \\\n",
    "    .orderBy(col(\"event_count\").desc())\n",
    "\n",
    "print(\"Events by subscription tier:\")\n",
    "events_by_tier.display()"
   ]
  },
  {
   "cell_type": "code",
   "execution_count": 0,
   "metadata": {
    "application/vnd.databricks.v1+cell": {
     "cellMetadata": {
      "byteLimit": 2048000,
      "rowLimit": 10000
     },
     "inputWidgets": {},
     "nuid": "d9b5802d-304e-4c6e-8980-3007ec126a8f",
     "showTitle": false,
     "tableResultSettingsMap": {},
     "title": ""
    }
   },
   "outputs": [],
   "source": [
    "# Average streaming duration by content genre\n",
    "avg_duration_by_genre = events_enriched.groupBy(\"genre\") \\\n",
    "    .agg(\n",
    "        count(\"*\").alias(\"event_count\"),\n",
    "        round(avg(\"duration_seconds\"), 2).alias(\"avg_duration_seconds\")\n",
    "    ) \\\n",
    "    .orderBy(col(\"avg_duration_seconds\").desc())\n",
    "\n",
    "print(\"Average streaming duration by content genre:\")\n",
    "avg_duration_by_genre.limit(5).display()"
   ]
  },
  {
   "cell_type": "code",
   "execution_count": 0,
   "metadata": {
    "application/vnd.databricks.v1+cell": {
     "cellMetadata": {
      "byteLimit": 2048000,
      "rowLimit": 10000
     },
     "inputWidgets": {},
     "nuid": "6a6f9fd0-1c39-4a61-9f34-87bc8eead8cd",
     "showTitle": false,
     "tableResultSettingsMap": {},
     "title": ""
    }
   },
   "outputs": [],
   "source": [
    "# Complex aggregation: Content performance by subscription tier and genre\n",
    "content_performance = events_enriched.groupBy(\"subscription_tier\", \"genre\") \\\n",
    "    .agg(\n",
    "        countDistinct(\"user_id\").alias(\"unique_viewers\"),\n",
    "        round(avg(\"duration_seconds\") / 60, 2).alias(\"avg_minutes_per_view\"),\n",
    "        round(sum(\"duration_seconds\") / 3600, 2).alias(\"total_hours_watched\")\n",
    "    ) \\\n",
    "    .orderBy(col(\"subscription_tier\"), col(\"total_hours_watched\").desc())\n",
    "\n",
    "print(\"Content performance by subscription tier and genre:\")\n",
    "content_performance.limit(5).display()"
   ]
  },
  {
   "cell_type": "code",
   "execution_count": 0,
   "metadata": {
    "application/vnd.databricks.v1+cell": {
     "cellMetadata": {
      "byteLimit": 2048000,
      "rowLimit": 10000
     },
     "inputWidgets": {},
     "nuid": "54454a11-5e7c-441f-9c12-d4db4f4ebc18",
     "showTitle": false,
     "tableResultSettingsMap": {},
     "title": ""
    }
   },
   "outputs": [],
   "source": [
    "# Save our enriched dataset for downstream analytics\n",
    "output_path = \"pyspark/video-streaming-data/module3-transform/joins_aggregations/enriched_events\"\n",
    "\n",
    "# Save as Parquet (columnar format)\n",
    "events_enriched.write.mode(\"overwrite\").parquet(output_path)\n",
    "\n",
    "print(f\"Enriched data saved to {output_path}\")"
   ]
  }
 ],
 "metadata": {
  "application/vnd.databricks.v1+notebook": {
   "computePreferences": null,
   "dashboards": [],
   "environmentMetadata": {
    "base_environment": "",
    "environment_version": "2"
   },
   "inputWidgetPreferences": null,
   "language": "python",
   "notebookMetadata": {
    "pythonIndentUnit": 4
   },
   "notebookName": "Module 3, Clip 7 - Transforming Data with Joins & Aggregations",
   "widgets": {}
  },
  "language_info": {
   "name": "python"
  }
 },
 "nbformat": 4,
 "nbformat_minor": 0
}

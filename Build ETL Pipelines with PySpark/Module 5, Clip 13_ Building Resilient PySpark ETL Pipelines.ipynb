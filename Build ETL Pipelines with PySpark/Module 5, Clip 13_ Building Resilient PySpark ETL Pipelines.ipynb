{
 "cells": [
  {
   "cell_type": "markdown",
   "metadata": {
    "application/vnd.databricks.v1+cell": {
     "cellMetadata": {},
     "inputWidgets": {},
     "nuid": "5a66cc71-fc84-4f1a-b29d-e69e07ef0616",
     "showTitle": false,
     "tableResultSettingsMap": {},
     "title": ""
    }
   },
   "source": [
    "# Building Resilient Pipelines"
   ]
  },
  {
   "cell_type": "code",
   "execution_count": 0,
   "metadata": {
    "application/vnd.databricks.v1+cell": {
     "cellMetadata": {
      "byteLimit": 2048000,
      "rowLimit": 10000
     },
     "inputWidgets": {},
     "nuid": "d855a461-94c4-4b8b-9a78-e55e9d13e832",
     "showTitle": false,
     "tableResultSettingsMap": {},
     "title": ""
    }
   },
   "outputs": [],
   "source": [
    "# Let's start by importing the necessary libraries\n",
    "from pyspark.sql.functions import col, when, lit\n",
    "import time"
   ]
  },
  {
   "cell_type": "code",
   "execution_count": 0,
   "metadata": {
    "application/vnd.databricks.v1+cell": {
     "cellMetadata": {
      "byteLimit": 2048000,
      "rowLimit": 10000
     },
     "inputWidgets": {},
     "nuid": "eeec1fdf-0537-43e0-9646-93f345978d2e",
     "showTitle": false,
     "tableResultSettingsMap": {},
     "title": ""
    }
   },
   "outputs": [],
   "source": [
    "# Define our data paths\n",
    "checkpoint_dir = \"/pyspark/video-streaming-data/module5-orchestration/resilience/checkpoint_demo/checkpoints\"\n",
    "input_path = \"/pyspark/video-streaming-data/module5-orchestration/resilience/checkpoint_demo/events_for_checkpoint.csv\"\n",
    "output_path = \"/pyspark/video-streaming-data/module5-orchestration/resilience/checkpoint_demo/processed_output\"\n",
    "\n",
    "# Let's also load some problematic data to demonstrate error handling\n",
    "problem_data_path = \"/pyspark/video-streaming-data/module5-orchestration/resilience/failure_scenarios/problematic_data.csv\""
   ]
  },
  {
   "cell_type": "markdown",
   "metadata": {
    "application/vnd.databricks.v1+cell": {
     "cellMetadata": {},
     "inputWidgets": {},
     "nuid": "637f6aa4-c6c9-4e12-b4d6-699315caa662",
     "showTitle": false,
     "tableResultSettingsMap": {},
     "title": ""
    }
   },
   "source": [
    "### CHECKPOINT FOR RECOVERY"
   ]
  },
  {
   "cell_type": "code",
   "execution_count": 0,
   "metadata": {
    "application/vnd.databricks.v1+cell": {
     "cellMetadata": {
      "byteLimit": 2048000,
      "rowLimit": 10000
     },
     "inputWidgets": {},
     "nuid": "7b8f839e-7efe-4f67-9471-09c12768348e",
     "showTitle": false,
     "tableResultSettingsMap": {},
     "title": ""
    }
   },
   "outputs": [
    {
     "output_type": "stream",
     "name": "stdout",
     "output_type": "stream",
     "text": [
      "Source data loaded with schema:\nroot\n |-- event_id: string (nullable = true)\n |-- user_id: string (nullable = true)\n |-- content_id: string (nullable = true)\n |-- timestamp: timestamp (nullable = true)\n |-- duration_seconds: integer (nullable = true)\n |-- device_type: string (nullable = true)\n |-- quality: string (nullable = true)\n |-- buffering_count: integer (nullable = true)\n |-- error_type: string (nullable = true)\n |-- ip_address: string (nullable = true)\n |-- country: string (nullable = true)\n |-- session_id: string (nullable = true)\n\nSample of streaming events data:\n"
     ]
    },
    {
     "output_type": "display_data",
     "data": {
      "text/html": [
       "<style scoped>\n",
       "  .table-result-container {\n",
       "    max-height: 300px;\n",
       "    overflow: auto;\n",
       "  }\n",
       "  table, th, td {\n",
       "    border: 1px solid black;\n",
       "    border-collapse: collapse;\n",
       "  }\n",
       "  th, td {\n",
       "    padding: 5px;\n",
       "  }\n",
       "  th {\n",
       "    text-align: left;\n",
       "  }\n",
       "</style><div class='table-result-container'><table class='table-result'><thead style='background-color: white'><tr><th>event_id</th><th>user_id</th><th>content_id</th><th>timestamp</th><th>duration_seconds</th><th>device_type</th><th>quality</th><th>buffering_count</th><th>error_type</th><th>ip_address</th><th>country</th><th>session_id</th></tr></thead><tbody><tr><td>EVT10000</td><td>USR41813</td><td>CON10763</td><td>2023-09-03T09:18:59Z</td><td>565</td><td>Web</td><td>HD</td><td>4</td><td>null</td><td>72.119.240.124</td><td>ES</td><td>SES10000</td></tr><tr><td>EVT10001</td><td>USR46484</td><td>CON12784</td><td>2023-09-09T11:44:27Z</td><td>2018</td><td>Web</td><td>HD</td><td>1</td><td>null</td><td>156.3.251.123</td><td>FR</td><td>SES10001</td></tr><tr><td>EVT10002</td><td>USR37573</td><td>CON16367</td><td>2023-09-09T16:51:53Z</td><td>2900</td><td>TV</td><td>4K</td><td>3</td><td>null</td><td>182.53.26.241</td><td>AU</td><td>SES10002</td></tr><tr><td>EVT10003</td><td>USR46584</td><td>CON18916</td><td>2023-09-13T08:03:13Z</td><td>3242</td><td>Tablet</td><td>4K</td><td>3</td><td>null</td><td>9.203.70.180</td><td>FR</td><td>SES10003</td></tr><tr><td>EVT10004</td><td>USR52241</td><td>CON18924</td><td>2023-09-04T13:07:20Z</td><td>4248</td><td>TV</td><td>4K</td><td>1</td><td>null</td><td>152.202.251.124</td><td>NL</td><td>SES10004</td></tr><tr><td>EVT10005</td><td>USR26888</td><td>CON13567</td><td>2023-09-13T22:44:28Z</td><td>885</td><td>TV</td><td>HD</td><td>2</td><td>null</td><td>12.248.203.140</td><td>DE</td><td>SES10005</td></tr><tr><td>EVT10006</td><td>USR58686</td><td>CON13571</td><td>2023-09-13T21:54:05Z</td><td>594</td><td>Web</td><td>HD</td><td>1</td><td>null</td><td>118.180.35.136</td><td>FR</td><td>SES10006</td></tr><tr><td>EVT10007</td><td>USR59173</td><td>CON19019</td><td>2023-09-14T12:36:36Z</td><td>21955</td><td>TV</td><td>4K</td><td>1</td><td>null</td><td>53.80.37.14</td><td>CA</td><td>SES10007</td></tr><tr><td>EVT10008</td><td>USR33266</td><td>CON15649</td><td>2023-09-04T03:11:27Z</td><td>9039</td><td>TV</td><td>HD</td><td>2</td><td>null</td><td>123.155.41.53</td><td>UK</td><td>SES10008</td></tr><tr><td>EVT10009</td><td>USR56453</td><td>CON19816</td><td>2023-09-03T02:02:33Z</td><td>2262</td><td>Mobile</td><td>SD</td><td>2</td><td>null</td><td>67.182.148.182</td><td>IT</td><td>SES10009</td></tr><tr><td>EVT10010</td><td>USR20454</td><td>CON14426</td><td>2023-09-06T09:16:48Z</td><td>11332</td><td>Mobile</td><td>HD</td><td>1</td><td>null</td><td>95.14.191.161</td><td>CA</td><td>SES10010</td></tr><tr><td>EVT10011</td><td>USR25422</td><td>CON10527</td><td>2023-09-02T07:42:35Z</td><td>1591</td><td>TV</td><td>4K</td><td>0</td><td>network_error</td><td>46.247.199.70</td><td>ES</td><td>SES10011</td></tr><tr><td>EVT10012</td><td>USR44607</td><td>CON13125</td><td>2023-09-10T19:31:59Z</td><td>2674</td><td>TV</td><td>4K</td><td>4</td><td>null</td><td>79.236.29.41</td><td>AU</td><td>SES10012</td></tr><tr><td>EVT10013</td><td>USR43589</td><td>CON19200</td><td>2023-09-11T02:31:45Z</td><td>2016</td><td>Web</td><td>HD</td><td>2</td><td>null</td><td>118.236.130.132</td><td>MX</td><td>SES10013</td></tr><tr><td>EVT10014</td><td>USR42089</td><td>CON10815</td><td>2023-09-02T06:59:54Z</td><td>1849</td><td>Tablet</td><td>HD</td><td>1</td><td>null</td><td>212.156.236.142</td><td>UK</td><td>SES10014</td></tr><tr><td>EVT10015</td><td>USR36996</td><td>CON10882</td><td>2023-09-02T10:17:24Z</td><td>3900</td><td>Tablet</td><td>HD</td><td>3</td><td>null</td><td>140.141.149.122</td><td>MX</td><td>SES10015</td></tr><tr><td>EVT10016</td><td>USR26990</td><td>CON13135</td><td>2023-09-01T07:18:31Z</td><td>2622</td><td>Tablet</td><td>HD</td><td>2</td><td>null</td><td>125.115.59.5</td><td>FR</td><td>SES10016</td></tr><tr><td>EVT10017</td><td>USR47542</td><td>CON15474</td><td>2023-09-10T11:50:18Z</td><td>3771</td><td>TV</td><td>4K</td><td>6</td><td>null</td><td>218.153.134.228</td><td>IT</td><td>SES10017</td></tr><tr><td>EVT10018</td><td>USR45730</td><td>CON15130</td><td>2023-09-08T15:44:37Z</td><td>5425</td><td>Mobile</td><td>HD</td><td>1</td><td>null</td><td>156.18.207.226</td><td>FR</td><td>SES10018</td></tr><tr><td>EVT10019</td><td>USR11535</td><td>CON18010</td><td>2023-09-05T08:56:23Z</td><td>1855</td><td>Tablet</td><td>HD</td><td>1</td><td>null</td><td>174.215.247.65</td><td>UK</td><td>SES10019</td></tr></tbody></table></div>"
      ]
     },
     "metadata": {
      "application/vnd.databricks.v1+output": {
       "addedWidgets": {},
       "aggData": [],
       "aggError": "",
       "aggOverflow": false,
       "aggSchema": [],
       "aggSeriesLimitReached": false,
       "aggType": "",
       "arguments": {},
       "columnCustomDisplayInfos": {},
       "data": [
        [
         "EVT10000",
         "USR41813",
         "CON10763",
         "2023-09-03T09:18:59Z",
         565,
         "Web",
         "HD",
         4,
         null,
         "72.119.240.124",
         "ES",
         "SES10000"
        ],
        [
         "EVT10001",
         "USR46484",
         "CON12784",
         "2023-09-09T11:44:27Z",
         2018,
         "Web",
         "HD",
         1,
         null,
         "156.3.251.123",
         "FR",
         "SES10001"
        ],
        [
         "EVT10002",
         "USR37573",
         "CON16367",
         "2023-09-09T16:51:53Z",
         2900,
         "TV",
         "4K",
         3,
         null,
         "182.53.26.241",
         "AU",
         "SES10002"
        ],
        [
         "EVT10003",
         "USR46584",
         "CON18916",
         "2023-09-13T08:03:13Z",
         3242,
         "Tablet",
         "4K",
         3,
         null,
         "9.203.70.180",
         "FR",
         "SES10003"
        ],
        [
         "EVT10004",
         "USR52241",
         "CON18924",
         "2023-09-04T13:07:20Z",
         4248,
         "TV",
         "4K",
         1,
         null,
         "152.202.251.124",
         "NL",
         "SES10004"
        ],
        [
         "EVT10005",
         "USR26888",
         "CON13567",
         "2023-09-13T22:44:28Z",
         885,
         "TV",
         "HD",
         2,
         null,
         "12.248.203.140",
         "DE",
         "SES10005"
        ],
        [
         "EVT10006",
         "USR58686",
         "CON13571",
         "2023-09-13T21:54:05Z",
         594,
         "Web",
         "HD",
         1,
         null,
         "118.180.35.136",
         "FR",
         "SES10006"
        ],
        [
         "EVT10007",
         "USR59173",
         "CON19019",
         "2023-09-14T12:36:36Z",
         21955,
         "TV",
         "4K",
         1,
         null,
         "53.80.37.14",
         "CA",
         "SES10007"
        ],
        [
         "EVT10008",
         "USR33266",
         "CON15649",
         "2023-09-04T03:11:27Z",
         9039,
         "TV",
         "HD",
         2,
         null,
         "123.155.41.53",
         "UK",
         "SES10008"
        ],
        [
         "EVT10009",
         "USR56453",
         "CON19816",
         "2023-09-03T02:02:33Z",
         2262,
         "Mobile",
         "SD",
         2,
         null,
         "67.182.148.182",
         "IT",
         "SES10009"
        ],
        [
         "EVT10010",
         "USR20454",
         "CON14426",
         "2023-09-06T09:16:48Z",
         11332,
         "Mobile",
         "HD",
         1,
         null,
         "95.14.191.161",
         "CA",
         "SES10010"
        ],
        [
         "EVT10011",
         "USR25422",
         "CON10527",
         "2023-09-02T07:42:35Z",
         1591,
         "TV",
         "4K",
         0,
         "network_error",
         "46.247.199.70",
         "ES",
         "SES10011"
        ],
        [
         "EVT10012",
         "USR44607",
         "CON13125",
         "2023-09-10T19:31:59Z",
         2674,
         "TV",
         "4K",
         4,
         null,
         "79.236.29.41",
         "AU",
         "SES10012"
        ],
        [
         "EVT10013",
         "USR43589",
         "CON19200",
         "2023-09-11T02:31:45Z",
         2016,
         "Web",
         "HD",
         2,
         null,
         "118.236.130.132",
         "MX",
         "SES10013"
        ],
        [
         "EVT10014",
         "USR42089",
         "CON10815",
         "2023-09-02T06:59:54Z",
         1849,
         "Tablet",
         "HD",
         1,
         null,
         "212.156.236.142",
         "UK",
         "SES10014"
        ],
        [
         "EVT10015",
         "USR36996",
         "CON10882",
         "2023-09-02T10:17:24Z",
         3900,
         "Tablet",
         "HD",
         3,
         null,
         "140.141.149.122",
         "MX",
         "SES10015"
        ],
        [
         "EVT10016",
         "USR26990",
         "CON13135",
         "2023-09-01T07:18:31Z",
         2622,
         "Tablet",
         "HD",
         2,
         null,
         "125.115.59.5",
         "FR",
         "SES10016"
        ],
        [
         "EVT10017",
         "USR47542",
         "CON15474",
         "2023-09-10T11:50:18Z",
         3771,
         "TV",
         "4K",
         6,
         null,
         "218.153.134.228",
         "IT",
         "SES10017"
        ],
        [
         "EVT10018",
         "USR45730",
         "CON15130",
         "2023-09-08T15:44:37Z",
         5425,
         "Mobile",
         "HD",
         1,
         null,
         "156.18.207.226",
         "FR",
         "SES10018"
        ],
        [
         "EVT10019",
         "USR11535",
         "CON18010",
         "2023-09-05T08:56:23Z",
         1855,
         "Tablet",
         "HD",
         1,
         null,
         "174.215.247.65",
         "UK",
         "SES10019"
        ]
       ],
       "datasetInfos": [],
       "dbfsResultPath": null,
       "isJsonSchema": true,
       "metadata": {},
       "overflow": false,
       "plotOptions": {
        "customPlotOptions": {},
        "displayType": "table",
        "pivotAggregation": null,
        "pivotColumns": null,
        "xColumns": null,
        "yColumns": null
       },
       "removedWidgets": [],
       "schema": [
        {
         "metadata": "{}",
         "name": "event_id",
         "type": "\"string\""
        },
        {
         "metadata": "{}",
         "name": "user_id",
         "type": "\"string\""
        },
        {
         "metadata": "{}",
         "name": "content_id",
         "type": "\"string\""
        },
        {
         "metadata": "{}",
         "name": "timestamp",
         "type": "\"timestamp\""
        },
        {
         "metadata": "{}",
         "name": "duration_seconds",
         "type": "\"integer\""
        },
        {
         "metadata": "{}",
         "name": "device_type",
         "type": "\"string\""
        },
        {
         "metadata": "{}",
         "name": "quality",
         "type": "\"string\""
        },
        {
         "metadata": "{}",
         "name": "buffering_count",
         "type": "\"integer\""
        },
        {
         "metadata": "{}",
         "name": "error_type",
         "type": "\"string\""
        },
        {
         "metadata": "{}",
         "name": "ip_address",
         "type": "\"string\""
        },
        {
         "metadata": "{}",
         "name": "country",
         "type": "\"string\""
        },
        {
         "metadata": "{}",
         "name": "session_id",
         "type": "\"string\""
        }
       ],
       "type": "table"
      }
     },
     "output_type": "display_data"
    }
   ],
   "source": [
    "# Load our source data\n",
    "df = spark.read.option(\"header\", \"true\").option(\"inferSchema\", \"true\").csv(input_path)\n",
    "print(\"Source data loaded with schema:\")\n",
    "df.printSchema()\n",
    "\n",
    "# Let's see a sample of our data\n",
    "print(\"Sample of streaming events data:\")\n",
    "df.limit(20).display()"
   ]
  },
  {
   "cell_type": "code",
   "execution_count": 0,
   "metadata": {
    "application/vnd.databricks.v1+cell": {
     "cellMetadata": {
      "byteLimit": 2048000,
      "rowLimit": 10000
     },
     "inputWidgets": {},
     "nuid": "128ba17d-03bb-4f4c-b445-db1533eabead",
     "showTitle": false,
     "tableResultSettingsMap": {},
     "title": ""
    }
   },
   "outputs": [
    {
     "output_type": "stream",
     "name": "stdout",
     "output_type": "stream",
     "text": [
      "Checkpoint 1 saved!\n"
     ]
    }
   ],
   "source": [
    "# Step 1: Filter and add some derived columns\n",
    "df_step1 = df.filter(col(\"duration_seconds\") > 60) \\\n",
    "             .withColumn(\"duration_minutes\", col(\"duration_seconds\") / 60) \\\n",
    "             .withColumn(\"is_mobile\", when(col(\"device_type\") == \"Mobile\", True).otherwise(False))\n",
    "\n",
    "# Checkpoint to save this intermediate state\n",
    "df_step1.write.format(\"parquet\").mode(\"overwrite\").save(f\"{checkpoint_dir}/step1\")\n",
    "print(\"Checkpoint 1 saved!\")"
   ]
  },
  {
   "cell_type": "code",
   "execution_count": 0,
   "metadata": {
    "application/vnd.databricks.v1+cell": {
     "cellMetadata": {
      "byteLimit": 2048000,
      "rowLimit": 10000
     },
     "inputWidgets": {},
     "nuid": "3296b44d-eced-427d-a24e-7f00d2d22ae6",
     "showTitle": false,
     "tableResultSettingsMap": {},
     "title": ""
    }
   },
   "outputs": [
    {
     "output_type": "display_data",
     "data": {
      "text/html": [
       "<style scoped>\n",
       "  .table-result-container {\n",
       "    max-height: 300px;\n",
       "    overflow: auto;\n",
       "  }\n",
       "  table, th, td {\n",
       "    border: 1px solid black;\n",
       "    border-collapse: collapse;\n",
       "  }\n",
       "  th, td {\n",
       "    padding: 5px;\n",
       "  }\n",
       "  th {\n",
       "    text-align: left;\n",
       "  }\n",
       "</style><div class='table-result-container'><table class='table-result'><thead style='background-color: white'><tr><th>path</th><th>name</th><th>size</th><th>modificationTime</th></tr></thead><tbody><tr><td>dbfs:/pyspark/video-streaming-data/module5-orchestration/resilience/checkpoint_demo/checkpoints/step1/_SUCCESS</td><td>_SUCCESS</td><td>0</td><td>1746715521000</td></tr><tr><td>dbfs:/pyspark/video-streaming-data/module5-orchestration/resilience/checkpoint_demo/checkpoints/step1/_committed_903913305672060829</td><td>_committed_903913305672060829</td><td>121</td><td>1746715520000</td></tr><tr><td>dbfs:/pyspark/video-streaming-data/module5-orchestration/resilience/checkpoint_demo/checkpoints/step1/_started_903913305672060829</td><td>_started_903913305672060829</td><td>0</td><td>1746715516000</td></tr><tr><td>dbfs:/pyspark/video-streaming-data/module5-orchestration/resilience/checkpoint_demo/checkpoints/step1/part-00000-tid-903913305672060829-f005ff6d-775a-4140-9b52-179a521700ee-3-1-c000.snappy.parquet</td><td>part-00000-tid-903913305672060829-f005ff6d-775a-4140-9b52-179a521700ee-3-1-c000.snappy.parquet</td><td>497138</td><td>1746715520000</td></tr></tbody></table></div>"
      ]
     },
     "metadata": {
      "application/vnd.databricks.v1+output": {
       "addedWidgets": {},
       "aggData": [],
       "aggError": "",
       "aggOverflow": false,
       "aggSchema": [],
       "aggSeriesLimitReached": false,
       "aggType": "",
       "arguments": {},
       "columnCustomDisplayInfos": {},
       "data": [
        [
         "dbfs:/pyspark/video-streaming-data/module5-orchestration/resilience/checkpoint_demo/checkpoints/step1/_SUCCESS",
         "_SUCCESS",
         0,
         1746715521000
        ],
        [
         "dbfs:/pyspark/video-streaming-data/module5-orchestration/resilience/checkpoint_demo/checkpoints/step1/_committed_903913305672060829",
         "_committed_903913305672060829",
         121,
         1746715520000
        ],
        [
         "dbfs:/pyspark/video-streaming-data/module5-orchestration/resilience/checkpoint_demo/checkpoints/step1/_started_903913305672060829",
         "_started_903913305672060829",
         0,
         1746715516000
        ],
        [
         "dbfs:/pyspark/video-streaming-data/module5-orchestration/resilience/checkpoint_demo/checkpoints/step1/part-00000-tid-903913305672060829-f005ff6d-775a-4140-9b52-179a521700ee-3-1-c000.snappy.parquet",
         "part-00000-tid-903913305672060829-f005ff6d-775a-4140-9b52-179a521700ee-3-1-c000.snappy.parquet",
         497138,
         1746715520000
        ]
       ],
       "datasetInfos": [],
       "dbfsResultPath": null,
       "isJsonSchema": true,
       "metadata": {},
       "overflow": false,
       "plotOptions": {
        "customPlotOptions": {},
        "displayType": "table",
        "pivotAggregation": null,
        "pivotColumns": null,
        "xColumns": null,
        "yColumns": null
       },
       "removedWidgets": [],
       "schema": [
        {
         "metadata": "{}",
         "name": "path",
         "type": "\"string\""
        },
        {
         "metadata": "{}",
         "name": "name",
         "type": "\"string\""
        },
        {
         "metadata": "{}",
         "name": "size",
         "type": "\"long\""
        },
        {
         "metadata": "{}",
         "name": "modificationTime",
         "type": "\"long\""
        }
       ],
       "type": "table"
      }
     },
     "output_type": "display_data"
    }
   ],
   "source": [
    "display(dbutils.fs.ls(f\"{checkpoint_dir}/step1\"))"
   ]
  },
  {
   "cell_type": "code",
   "execution_count": 0,
   "metadata": {
    "application/vnd.databricks.v1+cell": {
     "cellMetadata": {
      "byteLimit": 2048000,
      "rowLimit": 10000
     },
     "inputWidgets": {},
     "nuid": "5003b3b0-8a78-4152-935a-272034874fd6",
     "showTitle": false,
     "tableResultSettingsMap": {},
     "title": ""
    }
   },
   "outputs": [
    {
     "output_type": "stream",
     "name": "stdout",
     "output_type": "stream",
     "text": [
      "Simulating recovery from checkpoint...\nData successfully recovered from checkpoint!\n"
     ]
    },
    {
     "output_type": "display_data",
     "data": {
      "text/html": [
       "<style scoped>\n",
       "  .table-result-container {\n",
       "    max-height: 300px;\n",
       "    overflow: auto;\n",
       "  }\n",
       "  table, th, td {\n",
       "    border: 1px solid black;\n",
       "    border-collapse: collapse;\n",
       "  }\n",
       "  th, td {\n",
       "    padding: 5px;\n",
       "  }\n",
       "  th {\n",
       "    text-align: left;\n",
       "  }\n",
       "</style><div class='table-result-container'><table class='table-result'><thead style='background-color: white'><tr><th>event_id</th><th>user_id</th><th>content_id</th><th>timestamp</th><th>duration_seconds</th><th>device_type</th><th>quality</th><th>buffering_count</th><th>error_type</th><th>ip_address</th><th>country</th><th>session_id</th><th>duration_minutes</th><th>is_mobile</th></tr></thead><tbody><tr><td>EVT10000</td><td>USR41813</td><td>CON10763</td><td>2023-09-03T09:18:59Z</td><td>565</td><td>Web</td><td>HD</td><td>4</td><td>null</td><td>72.119.240.124</td><td>ES</td><td>SES10000</td><td>9.416666666666666</td><td>false</td></tr><tr><td>EVT10001</td><td>USR46484</td><td>CON12784</td><td>2023-09-09T11:44:27Z</td><td>2018</td><td>Web</td><td>HD</td><td>1</td><td>null</td><td>156.3.251.123</td><td>FR</td><td>SES10001</td><td>33.63333333333333</td><td>false</td></tr><tr><td>EVT10002</td><td>USR37573</td><td>CON16367</td><td>2023-09-09T16:51:53Z</td><td>2900</td><td>TV</td><td>4K</td><td>3</td><td>null</td><td>182.53.26.241</td><td>AU</td><td>SES10002</td><td>48.333333333333336</td><td>false</td></tr><tr><td>EVT10003</td><td>USR46584</td><td>CON18916</td><td>2023-09-13T08:03:13Z</td><td>3242</td><td>Tablet</td><td>4K</td><td>3</td><td>null</td><td>9.203.70.180</td><td>FR</td><td>SES10003</td><td>54.03333333333333</td><td>false</td></tr><tr><td>EVT10004</td><td>USR52241</td><td>CON18924</td><td>2023-09-04T13:07:20Z</td><td>4248</td><td>TV</td><td>4K</td><td>1</td><td>null</td><td>152.202.251.124</td><td>NL</td><td>SES10004</td><td>70.8</td><td>false</td></tr></tbody></table></div>"
      ]
     },
     "metadata": {
      "application/vnd.databricks.v1+output": {
       "addedWidgets": {},
       "aggData": [],
       "aggError": "",
       "aggOverflow": false,
       "aggSchema": [],
       "aggSeriesLimitReached": false,
       "aggType": "",
       "arguments": {},
       "columnCustomDisplayInfos": {},
       "data": [
        [
         "EVT10000",
         "USR41813",
         "CON10763",
         "2023-09-03T09:18:59Z",
         565,
         "Web",
         "HD",
         4,
         null,
         "72.119.240.124",
         "ES",
         "SES10000",
         9.416666666666666,
         false
        ],
        [
         "EVT10001",
         "USR46484",
         "CON12784",
         "2023-09-09T11:44:27Z",
         2018,
         "Web",
         "HD",
         1,
         null,
         "156.3.251.123",
         "FR",
         "SES10001",
         33.63333333333333,
         false
        ],
        [
         "EVT10002",
         "USR37573",
         "CON16367",
         "2023-09-09T16:51:53Z",
         2900,
         "TV",
         "4K",
         3,
         null,
         "182.53.26.241",
         "AU",
         "SES10002",
         48.333333333333336,
         false
        ],
        [
         "EVT10003",
         "USR46584",
         "CON18916",
         "2023-09-13T08:03:13Z",
         3242,
         "Tablet",
         "4K",
         3,
         null,
         "9.203.70.180",
         "FR",
         "SES10003",
         54.03333333333333,
         false
        ],
        [
         "EVT10004",
         "USR52241",
         "CON18924",
         "2023-09-04T13:07:20Z",
         4248,
         "TV",
         "4K",
         1,
         null,
         "152.202.251.124",
         "NL",
         "SES10004",
         70.8,
         false
        ]
       ],
       "datasetInfos": [],
       "dbfsResultPath": null,
       "isJsonSchema": true,
       "metadata": {},
       "overflow": false,
       "plotOptions": {
        "customPlotOptions": {},
        "displayType": "table",
        "pivotAggregation": null,
        "pivotColumns": null,
        "xColumns": null,
        "yColumns": null
       },
       "removedWidgets": [],
       "schema": [
        {
         "metadata": "{}",
         "name": "event_id",
         "type": "\"string\""
        },
        {
         "metadata": "{}",
         "name": "user_id",
         "type": "\"string\""
        },
        {
         "metadata": "{}",
         "name": "content_id",
         "type": "\"string\""
        },
        {
         "metadata": "{}",
         "name": "timestamp",
         "type": "\"timestamp\""
        },
        {
         "metadata": "{}",
         "name": "duration_seconds",
         "type": "\"integer\""
        },
        {
         "metadata": "{}",
         "name": "device_type",
         "type": "\"string\""
        },
        {
         "metadata": "{}",
         "name": "quality",
         "type": "\"string\""
        },
        {
         "metadata": "{}",
         "name": "buffering_count",
         "type": "\"integer\""
        },
        {
         "metadata": "{}",
         "name": "error_type",
         "type": "\"string\""
        },
        {
         "metadata": "{}",
         "name": "ip_address",
         "type": "\"string\""
        },
        {
         "metadata": "{}",
         "name": "country",
         "type": "\"string\""
        },
        {
         "metadata": "{}",
         "name": "session_id",
         "type": "\"string\""
        },
        {
         "metadata": "{}",
         "name": "duration_minutes",
         "type": "\"double\""
        },
        {
         "metadata": "{}",
         "name": "is_mobile",
         "type": "\"boolean\""
        }
       ],
       "type": "table"
      }
     },
     "output_type": "display_data"
    }
   ],
   "source": [
    "# Demonstrate checkpoint recovery\n",
    "# In a real scenario after a failure, we'd reload from checkpoint:\n",
    "print(\"Simulating recovery from checkpoint...\")\n",
    "recovered_df = spark.read.parquet(f\"{checkpoint_dir}/step1\")\n",
    "print(\"Data successfully recovered from checkpoint!\")\n",
    "recovered_df.limit(5).display()"
   ]
  },
  {
   "cell_type": "code",
   "execution_count": 0,
   "metadata": {
    "application/vnd.databricks.v1+cell": {
     "cellMetadata": {
      "byteLimit": 2048000,
      "rowLimit": 10000
     },
     "inputWidgets": {},
     "nuid": "86b5aa47-9b49-423f-a3f0-b2ed817e37a1",
     "showTitle": false,
     "tableResultSettingsMap": {},
     "title": ""
    }
   },
   "outputs": [
    {
     "output_type": "stream",
     "name": "stdout",
     "output_type": "stream",
     "text": [
      "Processing complex transformation...\nCheckpoint 2 saved after complex transformation!\n"
     ]
    },
    {
     "output_type": "display_data",
     "data": {
      "text/html": [
       "<style scoped>\n",
       "  .table-result-container {\n",
       "    max-height: 300px;\n",
       "    overflow: auto;\n",
       "  }\n",
       "  table, th, td {\n",
       "    border: 1px solid black;\n",
       "    border-collapse: collapse;\n",
       "  }\n",
       "  th, td {\n",
       "    padding: 5px;\n",
       "  }\n",
       "  th {\n",
       "    text-align: left;\n",
       "  }\n",
       "</style><div class='table-result-container'><table class='table-result'><thead style='background-color: white'><tr><th>device_type</th><th>country</th><th>avg_duration</th><th>event_count</th></tr></thead><tbody><tr><td>Tablet</td><td>JP</td><td>4095.0476190476193</td><td>210</td></tr><tr><td>Web</td><td>UK</td><td>3668.3582089552237</td><td>201</td></tr><tr><td>TV</td><td>JP</td><td>4589.661835748792</td><td>207</td></tr><tr><td>Tablet</td><td>DE</td><td>4064.951690821256</td><td>207</td></tr><tr><td>Tablet</td><td>UK</td><td>3810.337398373984</td><td>246</td></tr></tbody></table></div>"
      ]
     },
     "metadata": {
      "application/vnd.databricks.v1+output": {
       "addedWidgets": {},
       "aggData": [],
       "aggError": "",
       "aggOverflow": false,
       "aggSchema": [],
       "aggSeriesLimitReached": false,
       "aggType": "",
       "arguments": {},
       "columnCustomDisplayInfos": {},
       "data": [
        [
         "Tablet",
         "JP",
         4095.0476190476193,
         210
        ],
        [
         "Web",
         "UK",
         3668.3582089552237,
         201
        ],
        [
         "TV",
         "JP",
         4589.661835748792,
         207
        ],
        [
         "Tablet",
         "DE",
         4064.951690821256,
         207
        ],
        [
         "Tablet",
         "UK",
         3810.337398373984,
         246
        ]
       ],
       "datasetInfos": [],
       "dbfsResultPath": null,
       "isJsonSchema": true,
       "metadata": {},
       "overflow": false,
       "plotOptions": {
        "customPlotOptions": {},
        "displayType": "table",
        "pivotAggregation": null,
        "pivotColumns": null,
        "xColumns": null,
        "yColumns": null
       },
       "removedWidgets": [],
       "schema": [
        {
         "metadata": "{}",
         "name": "device_type",
         "type": "\"string\""
        },
        {
         "metadata": "{}",
         "name": "country",
         "type": "\"string\""
        },
        {
         "metadata": "{}",
         "name": "avg_duration",
         "type": "\"double\""
        },
        {
         "metadata": "{}",
         "name": "event_count",
         "type": "\"long\""
        }
       ],
       "type": "table"
      }
     },
     "output_type": "display_data"
    }
   ],
   "source": [
    "print(\"Processing complex transformation...\")\n",
    "\n",
    "# Perform a more complex transformation\n",
    "df_step2 = recovered_df.groupBy(\"device_type\", \"country\") \\\n",
    "                     .agg({\"duration_seconds\": \"sum\", \"duration_seconds\": \"avg\", \"event_id\": \"count\"}) \\\n",
    "                     .withColumnRenamed(\"sum(duration_seconds)\", \"total_duration\") \\\n",
    "                     .withColumnRenamed(\"avg(duration_seconds)\", \"avg_duration\") \\\n",
    "                     .withColumnRenamed(\"count(event_id)\", \"event_count\")\n",
    "\n",
    "# Checkpoint again\n",
    "df_step2.write.format(\"parquet\").mode(\"overwrite\").save(f\"{checkpoint_dir}/step2\")\n",
    "print(\"Checkpoint 2 saved after complex transformation!\")\n",
    "df_step2.limit(5).display()"
   ]
  },
  {
   "cell_type": "markdown",
   "metadata": {
    "application/vnd.databricks.v1+cell": {
     "cellMetadata": {},
     "inputWidgets": {},
     "nuid": "f1849e06-e4d9-4a56-af54-a6ed21dc30a9",
     "showTitle": false,
     "tableResultSettingsMap": {},
     "title": ""
    }
   },
   "source": [
    "### ERROR HANDLING FOR PROBLEMATIC DATA"
   ]
  },
  {
   "cell_type": "code",
   "execution_count": 0,
   "metadata": {
    "application/vnd.databricks.v1+cell": {
     "cellMetadata": {
      "byteLimit": 2048000,
      "rowLimit": 10000
     },
     "inputWidgets": {},
     "nuid": "f1c59438-39d7-4df8-8bf3-96e0ae2ea7a4",
     "showTitle": false,
     "tableResultSettingsMap": {},
     "title": ""
    }
   },
   "outputs": [
    {
     "output_type": "stream",
     "name": "stdout",
     "output_type": "stream",
     "text": [
      "Demonstrating error handling with problematic data...\nProblematic data loaded. Let's examine some issues:\n"
     ]
    },
    {
     "output_type": "display_data",
     "data": {
      "text/html": [
       "<style scoped>\n",
       "  .table-result-container {\n",
       "    max-height: 300px;\n",
       "    overflow: auto;\n",
       "  }\n",
       "  table, th, td {\n",
       "    border: 1px solid black;\n",
       "    border-collapse: collapse;\n",
       "  }\n",
       "  th, td {\n",
       "    padding: 5px;\n",
       "  }\n",
       "  th {\n",
       "    text-align: left;\n",
       "  }\n",
       "</style><div class='table-result-container'><table class='table-result'><thead style='background-color: white'><tr><th>event_id</th><th>timestamp</th><th>duration_seconds</th></tr></thead><tbody><tr><td>EVT10000</td><td>2023-09-03T09:18:59Z</td><td>565</td></tr><tr><td>EVT10001</td><td>2023-09-09T11:44:27Z</td><td>2018</td></tr><tr><td>EVT10002</td><td>2023-09-09T16:51:53Z</td><td>2900</td></tr><tr><td>EVT10003</td><td>2023-09-13T08:03:13Z</td><td>3242</td></tr><tr><td>EVT10004</td><td>2023-09-04T13:07:20Z</td><td>4248</td></tr><tr><td>EVT10005</td><td>2023-09-13T22:44:28Z</td><td>885</td></tr><tr><td>EVT10006</td><td>2023-09-13T21:54:05Z</td><td>594</td></tr><tr><td>EVT10007</td><td>2023-09-14T12:36:36Z</td><td>21955</td></tr><tr><td>EVT10008</td><td>2023-09-04T03:11:27Z</td><td>9039</td></tr><tr><td>EVT10009</td><td>2023-09-03T02:02:33Z</td><td>2262</td></tr><tr><td>EVT10010</td><td>2023-09-06T09:16:48Z</td><td>invalid_duration</td></tr><tr><td>EVT10011</td><td>2023-09-02T07:42:35Z</td><td>invalid_duration</td></tr><tr><td>EVT10012</td><td>2023-09-10T19:31:59Z</td><td>invalid_duration</td></tr><tr><td>EVT10013</td><td>2023-09-11T02:31:45Z</td><td>invalid_duration</td></tr><tr><td>EVT10014</td><td>2023-09-02T06:59:54Z</td><td>invalid_duration</td></tr><tr><td>EVT10015</td><td>2023-09-02T10:17:24Z</td><td>invalid_duration</td></tr><tr><td>EVT10016</td><td>2023-09-01T07:18:31Z</td><td>invalid_duration</td></tr><tr><td>EVT10017</td><td>2023-09-10T11:50:18Z</td><td>invalid_duration</td></tr><tr><td>EVT10018</td><td>2023-09-08T15:44:37Z</td><td>invalid_duration</td></tr><tr><td>EVT10019</td><td>2023-09-05T08:56:23Z</td><td>invalid_duration</td></tr><tr><td>EVT10020</td><td>2023-09-05T15:45:43Z</td><td>invalid_duration</td></tr><tr><td>EVT10021</td><td>2023-09-04T14:10:59Z</td><td>2672</td></tr><tr><td>EVT10022</td><td>2023-09-13T23:37:14Z</td><td>3639</td></tr><tr><td>EVT10023</td><td>2023-09-05T14:32:12Z</td><td>4347</td></tr><tr><td>EVT10024</td><td>2023-09-09T21:51:44Z</td><td>975</td></tr><tr><td>EVT10025</td><td>2023-09-06T13:34:59Z</td><td>2597</td></tr><tr><td>EVT10026</td><td>2023-09-10T04:57:21Z</td><td>1068</td></tr><tr><td>EVT10027</td><td>2023-09-12T20:00:54Z</td><td>2801</td></tr><tr><td>EVT10028</td><td>2023-09-06T21:12:18Z</td><td>4227</td></tr><tr><td>EVT10029</td><td>2023-09-09T16:34:37Z</td><td>2590</td></tr><tr><td>EVT10030</td><td>null</td><td>4993</td></tr><tr><td>EVT10031</td><td>null</td><td>1155</td></tr><tr><td>EVT10032</td><td>null</td><td>3993</td></tr><tr><td>EVT10033</td><td>null</td><td>1095</td></tr><tr><td>EVT10034</td><td>null</td><td>1375</td></tr><tr><td>EVT10035</td><td>null</td><td>292</td></tr><tr><td>EVT10036</td><td>null</td><td>1232</td></tr><tr><td>EVT10037</td><td>null</td><td>16987</td></tr><tr><td>EVT10038</td><td>null</td><td>1815</td></tr><tr><td>EVT10039</td><td>null</td><td>1569</td></tr><tr><td>EVT10040</td><td>null</td><td>10883</td></tr><tr><td>EVT10041</td><td>2023-09-12T07:25:35Z</td><td>412</td></tr><tr><td>EVT10042</td><td>2023-09-11T18:24:30Z</td><td>21888</td></tr><tr><td>EVT10043</td><td>2023-09-11T19:36:48Z</td><td>12220</td></tr><tr><td>EVT10044</td><td>2023-09-06T12:42:13Z</td><td>4216</td></tr><tr><td>EVT10045</td><td>2023-09-07T17:09:48Z</td><td>2211</td></tr><tr><td>EVT10046</td><td>2023-09-07T08:27:21Z</td><td>736</td></tr><tr><td>EVT10047</td><td>2023-09-04T18:52:36Z</td><td>3276</td></tr><tr><td>EVT10048</td><td>2023-09-05T14:48:35Z</td><td>5579</td></tr><tr><td>EVT10049</td><td>2023-09-07T14:51:28Z</td><td>6779</td></tr><tr><td>EVT10050</td><td>2023-09-14T13:35:26Z</td><td>13871</td></tr><tr><td>EVT10051</td><td>2023-09-06T08:01:36Z</td><td>14787</td></tr><tr><td>EVT10052</td><td>2023-09-10T16:44:18Z</td><td>6865</td></tr><tr><td>EVT10053</td><td>2023-09-12T09:49:56Z</td><td>27730</td></tr><tr><td>EVT10054</td><td>2023-09-01T09:36:15Z</td><td>1524</td></tr><tr><td>EVT10055</td><td>2023-09-11T09:15:08Z</td><td>3337</td></tr><tr><td>EVT10056</td><td>2023-09-01T04:31:17Z</td><td>6475</td></tr><tr><td>EVT10057</td><td>2023-09-13T09:27:46Z</td><td>9710</td></tr><tr><td>EVT10058</td><td>2023-09-11T11:02:53Z</td><td>980</td></tr><tr><td>EVT10059</td><td>2023-09-14T21:30:09Z</td><td>973</td></tr><tr><td>EVT10060</td><td>2023-09-01T15:07:18Z</td><td>23388</td></tr><tr><td>EVT10061</td><td>2023-09-04T14:30:37Z</td><td>256</td></tr><tr><td>EVT10062</td><td>2023-09-04T17:12:15Z</td><td>3875</td></tr><tr><td>EVT10063</td><td>2023-09-12T12:44:32Z</td><td>1299</td></tr><tr><td>EVT10064</td><td>2023-09-04T23:40:28Z</td><td>1660</td></tr><tr><td>EVT10065</td><td>2023-09-07T22:58:20Z</td><td>8308</td></tr><tr><td>EVT10066</td><td>2023-09-13T00:29:41Z</td><td>15889</td></tr><tr><td>EVT10067</td><td>2023-09-10T05:25:40Z</td><td>704</td></tr><tr><td>EVT10068</td><td>2023-09-05T05:33:00Z</td><td>8309</td></tr><tr><td>EVT10069</td><td>2023-09-03T05:51:18Z</td><td>485</td></tr><tr><td>EVT10070</td><td>2023-09-11T14:43:45Z</td><td>22374</td></tr><tr><td>EVT10071</td><td>2023-09-03T23:01:50Z</td><td>3849</td></tr><tr><td>EVT10072</td><td>2023-09-06T05:50:54Z</td><td>24726</td></tr><tr><td>EVT10073</td><td>2023-09-09T23:39:25Z</td><td>2165</td></tr><tr><td>EVT10074</td><td>2023-09-01T07:39:05Z</td><td>1933</td></tr><tr><td>EVT10075</td><td>2023-09-11T10:53:30Z</td><td>4576</td></tr><tr><td>EVT10076</td><td>2023-09-05T23:05:20Z</td><td>17175</td></tr><tr><td>EVT10077</td><td>2023-09-03T07:28:45Z</td><td>4300</td></tr><tr><td>EVT10078</td><td>2023-09-12T23:29:55Z</td><td>4192</td></tr><tr><td>EVT10079</td><td>2023-09-11T20:30:13Z</td><td>990</td></tr><tr><td>EVT10080</td><td>2023-09-08T11:51:44Z</td><td>1636</td></tr><tr><td>EVT10081</td><td>2023-09-01T21:09:15Z</td><td>2652</td></tr><tr><td>EVT10082</td><td>2023-09-03T08:58:12Z</td><td>586</td></tr><tr><td>EVT10083</td><td>2023-09-13T09:59:44Z</td><td>1695</td></tr><tr><td>EVT10084</td><td>2023-09-13T00:42:27Z</td><td>499</td></tr><tr><td>EVT10085</td><td>2023-09-05T19:07:54Z</td><td>9264</td></tr><tr><td>EVT10086</td><td>2023-09-03T20:24:17Z</td><td>22918</td></tr><tr><td>EVT10087</td><td>2023-09-10T11:57:08Z</td><td>2919</td></tr><tr><td>EVT10088</td><td>2023-09-04T19:06:14Z</td><td>731</td></tr><tr><td>EVT10089</td><td>2023-09-08T17:38:24Z</td><td>1544</td></tr><tr><td>EVT10090</td><td>2023-09-12T06:59:09Z</td><td>1406</td></tr><tr><td>EVT10091</td><td>2023-09-05T15:58:35Z</td><td>810</td></tr><tr><td>EVT10092</td><td>2023-09-11T00:04:52Z</td><td>14900</td></tr><tr><td>EVT10093</td><td>2023-09-06T23:06:18Z</td><td>556</td></tr><tr><td>EVT10094</td><td>2023-09-09T13:16:42Z</td><td>2233</td></tr><tr><td>EVT10095</td><td>2023-09-12T13:43:48Z</td><td>2161</td></tr><tr><td>EVT10096</td><td>2023-09-03T10:39:36Z</td><td>1365</td></tr><tr><td>EVT10097</td><td>2023-09-02T09:44:49Z</td><td>3856</td></tr><tr><td>EVT10098</td><td>2023-09-11T10:36:48Z</td><td>2661</td></tr><tr><td>EVT10099</td><td>2023-09-12T16:16:20Z</td><td>2761</td></tr><tr><td>EVT10100</td><td>2023-09-07T11:46:10Z</td><td>3691</td></tr><tr><td>EVT10101</td><td>2023-09-09T17:39:20Z</td><td>6123</td></tr><tr><td>EVT10102</td><td>2023-09-07T12:35:12Z</td><td>1459</td></tr><tr><td>EVT10103</td><td>2023-09-03T12:52:08Z</td><td>2101</td></tr><tr><td>EVT10104</td><td>2023-09-14T21:39:40Z</td><td>4251</td></tr><tr><td>EVT10105</td><td>2023-09-07T11:38:31Z</td><td>1201</td></tr><tr><td>EVT10106</td><td>2023-09-06T00:27:37Z</td><td>2153</td></tr><tr><td>EVT10107</td><td>2023-09-03T22:31:20Z</td><td>475</td></tr><tr><td>EVT10108</td><td>2023-09-14T06:20:09Z</td><td>2346</td></tr><tr><td>EVT10109</td><td>2023-09-13T06:26:15Z</td><td>3494</td></tr><tr><td>EVT10110</td><td>2023-09-05T23:03:03Z</td><td>981</td></tr><tr><td>EVT10111</td><td>2023-09-03T09:03:39Z</td><td>1582</td></tr><tr><td>EVT10112</td><td>2023-09-06T08:15:38Z</td><td>2527</td></tr><tr><td>EVT10113</td><td>2023-09-10T09:39:09Z</td><td>31383</td></tr><tr><td>EVT10114</td><td>2023-09-02T04:52:57Z</td><td>8476</td></tr><tr><td>EVT10115</td><td>2023-09-10T16:19:12Z</td><td>3507</td></tr><tr><td>EVT10116</td><td>2023-09-10T10:01:58Z</td><td>7418</td></tr><tr><td>EVT10117</td><td>2023-09-09T06:07:30Z</td><td>3440</td></tr><tr><td>EVT10118</td><td>2023-09-13T13:18:43Z</td><td>4870</td></tr><tr><td>EVT10119</td><td>2023-09-07T19:05:19Z</td><td>1586</td></tr><tr><td>EVT10120</td><td>2023-09-12T04:47:45Z</td><td>723</td></tr><tr><td>EVT10121</td><td>2023-09-04T02:26:44Z</td><td>16867</td></tr><tr><td>EVT10122</td><td>2023-09-07T10:19:14Z</td><td>536</td></tr><tr><td>EVT10123</td><td>2023-09-09T08:48:29Z</td><td>287</td></tr><tr><td>EVT10124</td><td>2023-09-14T01:25:55Z</td><td>1221</td></tr><tr><td>EVT10125</td><td>2023-09-01T15:13:05Z</td><td>4419</td></tr><tr><td>EVT10126</td><td>2023-09-04T15:36:00Z</td><td>677</td></tr><tr><td>EVT10127</td><td>2023-09-13T19:57:36Z</td><td>1396</td></tr><tr><td>EVT10128</td><td>2023-09-11T05:12:21Z</td><td>4486</td></tr><tr><td>EVT10129</td><td>2023-09-10T02:11:09Z</td><td>2511</td></tr><tr><td>EVT10130</td><td>2023-09-14T10:33:32Z</td><td>631</td></tr><tr><td>EVT10131</td><td>2023-09-10T04:41:22Z</td><td>4423</td></tr><tr><td>EVT10132</td><td>2023-09-04T12:42:13Z</td><td>3154</td></tr><tr><td>EVT10133</td><td>2023-09-05T09:09:13Z</td><td>1502</td></tr><tr><td>EVT10134</td><td>2023-09-11T07:23:19Z</td><td>21187</td></tr><tr><td>EVT10135</td><td>2023-09-06T15:02:03Z</td><td>237</td></tr><tr><td>EVT10136</td><td>2023-09-10T19:05:09Z</td><td>5047</td></tr><tr><td>EVT10137</td><td>2023-09-14T15:42:30Z</td><td>4042</td></tr><tr><td>EVT10138</td><td>2023-09-04T12:14:44Z</td><td>2979</td></tr><tr><td>EVT10139</td><td>2023-09-08T18:56:59Z</td><td>3985</td></tr><tr><td>EVT10140</td><td>2023-09-07T03:14:52Z</td><td>1219</td></tr><tr><td>EVT10141</td><td>2023-09-14T07:26:52Z</td><td>14176</td></tr><tr><td>EVT10142</td><td>2023-09-08T17:26:16Z</td><td>1318</td></tr><tr><td>EVT10143</td><td>2023-09-08T16:36:05Z</td><td>1982</td></tr><tr><td>EVT10144</td><td>2023-09-02T06:36:09Z</td><td>27373</td></tr><tr><td>EVT10145</td><td>2023-09-13T03:08:03Z</td><td>951</td></tr><tr><td>EVT10146</td><td>2023-09-14T11:27:24Z</td><td>1667</td></tr><tr><td>EVT10147</td><td>2023-09-09T11:56:21Z</td><td>2561</td></tr><tr><td>EVT10148</td><td>2023-09-11T16:37:51Z</td><td>880</td></tr><tr><td>EVT10149</td><td>2023-09-06T17:36:22Z</td><td>769</td></tr><tr><td>EVT10150</td><td>2023-09-07T02:30:08Z</td><td>1375</td></tr><tr><td>EVT10151</td><td>2023-09-11T20:32:47Z</td><td>870</td></tr><tr><td>EVT10152</td><td>2023-09-09T22:58:00Z</td><td>601</td></tr><tr><td>EVT10153</td><td>2023-09-14T11:05:04Z</td><td>717</td></tr><tr><td>EVT10154</td><td>2023-09-03T22:22:57Z</td><td>4076</td></tr><tr><td>EVT10155</td><td>2023-09-11T17:16:20Z</td><td>1912</td></tr><tr><td>EVT10156</td><td>2023-09-03T08:52:33Z</td><td>1782</td></tr><tr><td>EVT10157</td><td>2023-09-01T19:23:34Z</td><td>12500</td></tr><tr><td>EVT10158</td><td>2023-09-10T03:00:33Z</td><td>12974</td></tr><tr><td>EVT10159</td><td>2023-09-05T04:51:35Z</td><td>881</td></tr><tr><td>EVT10160</td><td>2023-09-02T13:24:59Z</td><td>10692</td></tr><tr><td>EVT10161</td><td>2023-09-10T19:26:50Z</td><td>1210</td></tr><tr><td>EVT10162</td><td>2023-09-08T09:59:54Z</td><td>6408</td></tr><tr><td>EVT10163</td><td>2023-09-05T05:29:40Z</td><td>5547</td></tr><tr><td>EVT10164</td><td>2023-09-03T03:50:41Z</td><td>1405</td></tr><tr><td>EVT10165</td><td>2023-09-02T05:37:55Z</td><td>1176</td></tr><tr><td>EVT10166</td><td>2023-09-14T15:18:31Z</td><td>4467</td></tr><tr><td>EVT10167</td><td>2023-09-05T22:26:12Z</td><td>4761</td></tr><tr><td>EVT10168</td><td>2023-09-05T20:25:39Z</td><td>2269</td></tr><tr><td>EVT10169</td><td>2023-09-10T08:00:06Z</td><td>4181</td></tr><tr><td>EVT10170</td><td>2023-09-07T22:50:37Z</td><td>22351</td></tr><tr><td>EVT10171</td><td>2023-09-11T03:18:23Z</td><td>1960</td></tr><tr><td>EVT10172</td><td>2023-09-13T14:45:22Z</td><td>792</td></tr><tr><td>EVT10173</td><td>2023-09-11T17:46:06Z</td><td>3028</td></tr><tr><td>EVT10174</td><td>2023-09-02T16:22:21Z</td><td>3223</td></tr><tr><td>EVT10175</td><td>2023-09-06T02:24:27Z</td><td>741</td></tr><tr><td>EVT10176</td><td>2023-09-12T23:54:06Z</td><td>2686</td></tr><tr><td>EVT10177</td><td>2023-09-01T21:07:52Z</td><td>2904</td></tr><tr><td>EVT10178</td><td>2023-09-09T15:08:11Z</td><td>1283</td></tr><tr><td>EVT10179</td><td>2023-09-13T14:43:13Z</td><td>9230</td></tr><tr><td>EVT10180</td><td>2023-09-02T15:08:20Z</td><td>3442</td></tr><tr><td>EVT10181</td><td>2023-09-05T11:26:24Z</td><td>15082</td></tr><tr><td>EVT10182</td><td>2023-09-11T00:33:02Z</td><td>2094</td></tr><tr><td>EVT10183</td><td>2023-09-08T18:22:52Z</td><td>4670</td></tr><tr><td>EVT10184</td><td>2023-09-07T20:33:37Z</td><td>4029</td></tr><tr><td>EVT10185</td><td>2023-09-05T07:16:12Z</td><td>2315</td></tr><tr><td>EVT10186</td><td>2023-09-09T15:34:07Z</td><td>2993</td></tr><tr><td>EVT10187</td><td>2023-09-11T22:06:59Z</td><td>804</td></tr><tr><td>EVT10188</td><td>2023-09-08T16:19:55Z</td><td>1090</td></tr><tr><td>EVT10189</td><td>2023-09-13T09:54:20Z</td><td>4908</td></tr><tr><td>EVT10190</td><td>2023-09-02T00:13:13Z</td><td>4839</td></tr><tr><td>EVT10191</td><td>2023-09-06T17:05:56Z</td><td>3971</td></tr><tr><td>EVT10192</td><td>2023-09-09T23:07:19Z</td><td>753</td></tr><tr><td>EVT10193</td><td>2023-09-07T08:23:38Z</td><td>2528</td></tr><tr><td>EVT10194</td><td>2023-09-14T22:23:57Z</td><td>5819</td></tr><tr><td>EVT10195</td><td>2023-09-12T03:28:37Z</td><td>9395</td></tr><tr><td>EVT10196</td><td>2023-09-11T03:31:39Z</td><td>1780</td></tr><tr><td>EVT10197</td><td>2023-09-06T18:10:49Z</td><td>6890</td></tr><tr><td>EVT10198</td><td>2023-09-06T08:35:19Z</td><td>792</td></tr><tr><td>EVT10199</td><td>2023-09-06T17:58:15Z</td><td>4717</td></tr><tr><td>EVT10200</td><td>2023-09-09T10:13:32Z</td><td>24663</td></tr><tr><td>EVT10201</td><td>2023-09-10T08:06:41Z</td><td>6183</td></tr><tr><td>EVT10202</td><td>2023-09-07T09:10:01Z</td><td>20980</td></tr><tr><td>EVT10203</td><td>2023-09-08T10:35:42Z</td><td>34134</td></tr><tr><td>EVT10204</td><td>2023-09-06T21:27:52Z</td><td>3518</td></tr><tr><td>EVT10205</td><td>2023-09-06T06:41:06Z</td><td>902</td></tr><tr><td>EVT10206</td><td>2023-09-02T06:35:18Z</td><td>4002</td></tr><tr><td>EVT10207</td><td>2023-09-08T11:05:09Z</td><td>1221</td></tr><tr><td>EVT10208</td><td>2023-09-06T23:16:39Z</td><td>189</td></tr><tr><td>EVT10209</td><td>2023-09-02T23:55:25Z</td><td>298</td></tr><tr><td>EVT10210</td><td>2023-09-11T20:42:46Z</td><td>2206</td></tr><tr><td>EVT10211</td><td>2023-09-13T11:58:15Z</td><td>7823</td></tr><tr><td>EVT10212</td><td>2023-09-10T12:13:40Z</td><td>17534</td></tr><tr><td>EVT10213</td><td>2023-09-09T22:25:51Z</td><td>1463</td></tr><tr><td>EVT10214</td><td>2023-09-03T18:34:11Z</td><td>1599</td></tr><tr><td>EVT10215</td><td>2023-09-03T15:39:47Z</td><td>4870</td></tr><tr><td>EVT10216</td><td>2023-09-09T08:32:01Z</td><td>3251</td></tr><tr><td>EVT10217</td><td>2023-09-03T13:06:14Z</td><td>1194</td></tr><tr><td>EVT10218</td><td>2023-09-01T10:20:38Z</td><td>499</td></tr><tr><td>EVT10219</td><td>2023-09-12T21:22:54Z</td><td>1094</td></tr><tr><td>EVT10220</td><td>2023-09-02T01:39:11Z</td><td>3780</td></tr><tr><td>EVT10221</td><td>2023-09-06T07:18:02Z</td><td>2460</td></tr><tr><td>EVT10222</td><td>2023-09-14T08:29:40Z</td><td>5460</td></tr><tr><td>EVT10223</td><td>2023-09-05T03:07:36Z</td><td>4934</td></tr><tr><td>EVT10224</td><td>2023-09-03T13:10:32Z</td><td>420</td></tr><tr><td>EVT10225</td><td>2023-09-04T04:39:31Z</td><td>1440</td></tr><tr><td>EVT10226</td><td>2023-09-11T14:55:15Z</td><td>1176</td></tr><tr><td>EVT10227</td><td>2023-09-05T01:02:11Z</td><td>799</td></tr><tr><td>EVT10228</td><td>2023-09-08T19:18:46Z</td><td>3024</td></tr><tr><td>EVT10229</td><td>2023-09-07T21:55:11Z</td><td>511</td></tr><tr><td>EVT10230</td><td>2023-09-02T17:26:50Z</td><td>5457</td></tr><tr><td>EVT10231</td><td>2023-09-08T17:08:49Z</td><td>2140</td></tr><tr><td>EVT10232</td><td>2023-09-07T01:20:24Z</td><td>972</td></tr><tr><td>EVT10233</td><td>2023-09-05T05:38:31Z</td><td>6521</td></tr><tr><td>EVT10234</td><td>2023-09-08T11:48:51Z</td><td>1693</td></tr><tr><td>EVT10235</td><td>2023-09-03T18:49:29Z</td><td>764</td></tr><tr><td>EVT10236</td><td>2023-09-14T15:10:01Z</td><td>1865</td></tr><tr><td>EVT10237</td><td>2023-09-12T10:44:18Z</td><td>1655</td></tr><tr><td>EVT10238</td><td>2023-09-01T14:34:16Z</td><td>4773</td></tr><tr><td>EVT10239</td><td>2023-09-06T21:34:47Z</td><td>13009</td></tr><tr><td>EVT10240</td><td>2023-09-01T20:04:54Z</td><td>11352</td></tr><tr><td>EVT10241</td><td>2023-09-02T11:48:20Z</td><td>10943</td></tr><tr><td>EVT10242</td><td>2023-09-05T02:28:44Z</td><td>433</td></tr><tr><td>EVT10243</td><td>2023-09-10T05:58:28Z</td><td>3448</td></tr><tr><td>EVT10244</td><td>2023-09-12T12:20:12Z</td><td>362</td></tr><tr><td>EVT10245</td><td>2023-09-05T16:58:25Z</td><td>1228</td></tr><tr><td>EVT10246</td><td>2023-09-09T19:55:24Z</td><td>3754</td></tr><tr><td>EVT10247</td><td>2023-09-06T16:31:42Z</td><td>1329</td></tr><tr><td>EVT10248</td><td>2023-09-11T19:02:09Z</td><td>620</td></tr><tr><td>EVT10249</td><td>2023-09-11T19:06:50Z</td><td>1014</td></tr><tr><td>EVT10250</td><td>2023-09-03T06:22:19Z</td><td>512</td></tr><tr><td>EVT10251</td><td>2023-09-09T10:26:28Z</td><td>585</td></tr><tr><td>EVT10252</td><td>2023-09-11T10:02:57Z</td><td>4801</td></tr><tr><td>EVT10253</td><td>2023-09-11T01:16:35Z</td><td>587</td></tr><tr><td>EVT10254</td><td>2023-09-06T14:50:15Z</td><td>2930</td></tr><tr><td>EVT10255</td><td>2023-09-11T09:17:39Z</td><td>608</td></tr><tr><td>EVT10256</td><td>2023-09-09T14:21:25Z</td><td>1557</td></tr><tr><td>EVT10257</td><td>2023-09-11T18:47:18Z</td><td>1154</td></tr><tr><td>EVT10258</td><td>2023-09-12T14:31:43Z</td><td>1393</td></tr><tr><td>EVT10259</td><td>2023-09-13T12:00:30Z</td><td>2236</td></tr><tr><td>EVT10260</td><td>2023-09-12T01:31:44Z</td><td>1289</td></tr><tr><td>EVT10261</td><td>2023-09-12T20:55:12Z</td><td>815</td></tr><tr><td>EVT10262</td><td>2023-09-14T17:08:51Z</td><td>712</td></tr><tr><td>EVT10263</td><td>2023-09-09T17:50:31Z</td><td>1277</td></tr><tr><td>EVT10264</td><td>2023-09-09T01:42:29Z</td><td>1103</td></tr><tr><td>EVT10265</td><td>2023-09-06T18:26:27Z</td><td>9320</td></tr><tr><td>EVT10266</td><td>2023-09-14T16:54:48Z</td><td>1997</td></tr><tr><td>EVT10267</td><td>2023-09-02T15:02:40Z</td><td>1672</td></tr><tr><td>EVT10268</td><td>2023-09-06T07:06:36Z</td><td>1056</td></tr><tr><td>EVT10269</td><td>2023-09-09T21:02:08Z</td><td>5441</td></tr><tr><td>EVT10270</td><td>2023-09-05T10:25:41Z</td><td>6780</td></tr><tr><td>EVT10271</td><td>2023-09-13T21:50:12Z</td><td>1125</td></tr><tr><td>EVT10272</td><td>2023-09-04T11:00:05Z</td><td>247</td></tr><tr><td>EVT10273</td><td>2023-09-08T09:39:16Z</td><td>2378</td></tr><tr><td>EVT10274</td><td>2023-09-11T19:58:42Z</td><td>1626</td></tr><tr><td>EVT10275</td><td>2023-09-13T23:09:27Z</td><td>1926</td></tr><tr><td>EVT10276</td><td>2023-09-12T06:41:37Z</td><td>5146</td></tr><tr><td>EVT10277</td><td>2023-09-06T14:11:39Z</td><td>1155</td></tr><tr><td>EVT10278</td><td>2023-09-03T05:34:48Z</td><td>3051</td></tr><tr><td>EVT10279</td><td>2023-09-05T15:07:02Z</td><td>1659</td></tr><tr><td>EVT10280</td><td>2023-09-08T13:53:20Z</td><td>3303</td></tr><tr><td>EVT10281</td><td>2023-09-09T00:41:00Z</td><td>836</td></tr><tr><td>EVT10282</td><td>2023-09-05T22:13:46Z</td><td>2634</td></tr><tr><td>EVT10283</td><td>2023-09-11T18:32:12Z</td><td>1851</td></tr><tr><td>EVT10284</td><td>2023-09-02T18:56:39Z</td><td>4853</td></tr><tr><td>EVT10285</td><td>2023-09-07T14:38:26Z</td><td>3084</td></tr><tr><td>EVT10286</td><td>2023-09-07T13:32:18Z</td><td>1564</td></tr><tr><td>EVT10287</td><td>2023-09-05T09:41:13Z</td><td>2813</td></tr><tr><td>EVT10288</td><td>2023-09-04T05:50:42Z</td><td>3207</td></tr><tr><td>EVT10289</td><td>2023-09-03T18:21:12Z</td><td>2094</td></tr><tr><td>EVT10290</td><td>2023-09-12T14:40:25Z</td><td>603</td></tr><tr><td>EVT10291</td><td>2023-09-12T06:34:02Z</td><td>526</td></tr><tr><td>EVT10292</td><td>2023-09-12T19:22:47Z</td><td>27223</td></tr><tr><td>EVT10293</td><td>2023-09-07T15:41:29Z</td><td>300</td></tr><tr><td>EVT10294</td><td>2023-09-14T11:13:09Z</td><td>813</td></tr><tr><td>EVT10295</td><td>2023-09-01T20:34:35Z</td><td>4747</td></tr><tr><td>EVT10296</td><td>2023-09-13T15:21:25Z</td><td>417</td></tr><tr><td>EVT10297</td><td>2023-09-13T11:58:32Z</td><td>23587</td></tr><tr><td>EVT10298</td><td>2023-09-11T22:17:30Z</td><td>1122</td></tr><tr><td>EVT10299</td><td>2023-09-10T21:05:35Z</td><td>11764</td></tr><tr><td>EVT10300</td><td>2023-09-05T11:55:44Z</td><td>932</td></tr><tr><td>EVT10301</td><td>2023-09-01T02:06:07Z</td><td>601</td></tr><tr><td>EVT10302</td><td>2023-09-03T17:15:53Z</td><td>4215</td></tr><tr><td>EVT10303</td><td>2023-09-01T07:13:37Z</td><td>1926</td></tr><tr><td>EVT10304</td><td>2023-09-11T06:28:31Z</td><td>5667</td></tr><tr><td>EVT10305</td><td>2023-09-12T15:18:11Z</td><td>3373</td></tr><tr><td>EVT10306</td><td>2023-09-04T05:34:36Z</td><td>9986</td></tr><tr><td>EVT10307</td><td>2023-09-11T17:03:53Z</td><td>260</td></tr><tr><td>EVT10308</td><td>2023-09-13T06:39:52Z</td><td>586</td></tr><tr><td>EVT10309</td><td>2023-09-07T04:16:55Z</td><td>730</td></tr><tr><td>EVT10310</td><td>2023-09-02T14:27:28Z</td><td>1926</td></tr><tr><td>EVT10311</td><td>2023-09-06T07:09:55Z</td><td>5751</td></tr><tr><td>EVT10312</td><td>2023-09-14T00:26:41Z</td><td>1476</td></tr><tr><td>EVT10313</td><td>2023-09-06T19:13:06Z</td><td>4447</td></tr><tr><td>EVT10314</td><td>2023-09-03T22:10:40Z</td><td>15991</td></tr><tr><td>EVT10315</td><td>2023-09-06T03:55:44Z</td><td>10524</td></tr><tr><td>EVT10316</td><td>2023-09-12T13:21:56Z</td><td>8248</td></tr><tr><td>EVT10317</td><td>2023-09-10T22:26:19Z</td><td>6693</td></tr><tr><td>EVT10318</td><td>2023-09-10T05:37:04Z</td><td>2192</td></tr><tr><td>EVT10319</td><td>2023-09-09T15:18:17Z</td><td>3181</td></tr><tr><td>EVT10320</td><td>2023-09-10T13:07:32Z</td><td>3143</td></tr><tr><td>EVT10321</td><td>2023-09-11T13:15:18Z</td><td>1922</td></tr><tr><td>EVT10322</td><td>2023-09-10T23:27:29Z</td><td>4126</td></tr><tr><td>EVT10323</td><td>2023-09-12T23:42:42Z</td><td>1417</td></tr><tr><td>EVT10324</td><td>2023-09-03T18:42:03Z</td><td>3423</td></tr><tr><td>EVT10325</td><td>2023-09-13T01:48:20Z</td><td>1585</td></tr><tr><td>EVT10326</td><td>2023-09-10T14:00:40Z</td><td>3844</td></tr><tr><td>EVT10327</td><td>2023-09-14T23:19:15Z</td><td>2908</td></tr><tr><td>EVT10328</td><td>2023-09-11T01:37:02Z</td><td>172</td></tr><tr><td>EVT10329</td><td>2023-09-10T21:13:16Z</td><td>1696</td></tr><tr><td>EVT10330</td><td>2023-09-03T05:45:54Z</td><td>1077</td></tr><tr><td>EVT10331</td><td>2023-09-08T06:16:31Z</td><td>1972</td></tr><tr><td>EVT10332</td><td>2023-09-13T12:02:38Z</td><td>20390</td></tr><tr><td>EVT10333</td><td>2023-09-14T13:12:35Z</td><td>3685</td></tr><tr><td>EVT10334</td><td>2023-09-02T10:19:37Z</td><td>382</td></tr><tr><td>EVT10335</td><td>2023-09-10T13:36:57Z</td><td>376</td></tr><tr><td>EVT10336</td><td>2023-09-02T03:12:21Z</td><td>20920</td></tr><tr><td>EVT10337</td><td>2023-09-14T01:20:33Z</td><td>22685</td></tr><tr><td>EVT10338</td><td>2023-09-02T22:52:45Z</td><td>4473</td></tr><tr><td>EVT10339</td><td>2023-09-09T08:13:38Z</td><td>1437</td></tr><tr><td>EVT10340</td><td>2023-09-11T08:27:09Z</td><td>1549</td></tr><tr><td>EVT10341</td><td>2023-09-07T17:32:08Z</td><td>787</td></tr><tr><td>EVT10342</td><td>2023-09-01T07:56:13Z</td><td>3434</td></tr><tr><td>EVT10343</td><td>2023-09-04T02:18:00Z</td><td>372</td></tr><tr><td>EVT10344</td><td>2023-09-03T14:43:17Z</td><td>4324</td></tr><tr><td>EVT10345</td><td>2023-09-07T23:55:21Z</td><td>4529</td></tr><tr><td>EVT10346</td><td>2023-09-01T10:50:20Z</td><td>9310</td></tr><tr><td>EVT10347</td><td>2023-09-09T18:27:26Z</td><td>16737</td></tr><tr><td>EVT10348</td><td>2023-09-05T22:02:45Z</td><td>2700</td></tr><tr><td>EVT10349</td><td>2023-09-03T15:46:28Z</td><td>3232</td></tr><tr><td>EVT10350</td><td>2023-09-04T18:25:56Z</td><td>15516</td></tr><tr><td>EVT10351</td><td>2023-09-07T03:07:03Z</td><td>16186</td></tr><tr><td>EVT10352</td><td>2023-09-12T11:37:16Z</td><td>3133</td></tr><tr><td>EVT10353</td><td>2023-09-08T15:53:22Z</td><td>7804</td></tr><tr><td>EVT10354</td><td>2023-09-11T17:33:20Z</td><td>1557</td></tr><tr><td>EVT10355</td><td>2023-09-06T10:15:35Z</td><td>124</td></tr><tr><td>EVT10356</td><td>2023-09-13T09:06:48Z</td><td>3599</td></tr><tr><td>EVT10357</td><td>2023-09-04T11:09:09Z</td><td>5023</td></tr><tr><td>EVT10358</td><td>2023-09-10T00:15:26Z</td><td>919</td></tr><tr><td>EVT10359</td><td>2023-09-02T05:54:08Z</td><td>2256</td></tr><tr><td>EVT10360</td><td>2023-09-03T14:18:11Z</td><td>3276</td></tr><tr><td>EVT10361</td><td>2023-09-10T10:12:34Z</td><td>1725</td></tr><tr><td>EVT10362</td><td>2023-09-02T21:03:29Z</td><td>710</td></tr><tr><td>EVT10363</td><td>2023-09-01T23:59:44Z</td><td>1376</td></tr><tr><td>EVT10364</td><td>2023-09-06T19:52:03Z</td><td>3175</td></tr><tr><td>EVT10365</td><td>2023-09-06T15:39:51Z</td><td>6533</td></tr><tr><td>EVT10366</td><td>2023-09-01T00:24:29Z</td><td>1687</td></tr><tr><td>EVT10367</td><td>2023-09-13T02:12:10Z</td><td>17167</td></tr><tr><td>EVT10368</td><td>2023-09-09T00:56:36Z</td><td>3032</td></tr><tr><td>EVT10369</td><td>2023-09-12T02:22:51Z</td><td>4516</td></tr><tr><td>EVT10370</td><td>2023-09-07T07:45:10Z</td><td>476</td></tr><tr><td>EVT10371</td><td>2023-09-05T17:27:22Z</td><td>1881</td></tr><tr><td>EVT10372</td><td>2023-09-08T03:26:08Z</td><td>2327</td></tr><tr><td>EVT10373</td><td>2023-09-02T22:02:13Z</td><td>2999</td></tr><tr><td>EVT10374</td><td>2023-09-02T13:37:17Z</td><td>5901</td></tr><tr><td>EVT10375</td><td>2023-09-03T19:49:04Z</td><td>2347</td></tr><tr><td>EVT10376</td><td>2023-09-01T16:22:17Z</td><td>4985</td></tr><tr><td>EVT10377</td><td>2023-09-04T11:35:07Z</td><td>918</td></tr><tr><td>EVT10378</td><td>2023-09-01T18:35:16Z</td><td>20920</td></tr><tr><td>EVT10379</td><td>2023-09-12T00:25:14Z</td><td>3738</td></tr><tr><td>EVT10380</td><td>2023-09-12T10:39:10Z</td><td>6348</td></tr><tr><td>EVT10381</td><td>2023-09-10T23:30:58Z</td><td>1171</td></tr><tr><td>EVT10382</td><td>2023-09-11T02:20:18Z</td><td>249</td></tr><tr><td>EVT10383</td><td>2023-09-13T07:09:53Z</td><td>7786</td></tr><tr><td>EVT10384</td><td>2023-09-02T14:16:10Z</td><td>7494</td></tr><tr><td>EVT10385</td><td>2023-09-08T18:09:18Z</td><td>6318</td></tr><tr><td>EVT10386</td><td>2023-09-10T17:04:24Z</td><td>2960</td></tr><tr><td>EVT10387</td><td>2023-09-07T14:24:19Z</td><td>1421</td></tr><tr><td>EVT10388</td><td>2023-09-14T16:19:30Z</td><td>5850</td></tr><tr><td>EVT10389</td><td>2023-09-05T22:43:56Z</td><td>1854</td></tr><tr><td>EVT10390</td><td>2023-09-05T17:07:20Z</td><td>1917</td></tr><tr><td>EVT10391</td><td>2023-09-04T03:50:05Z</td><td>10184</td></tr><tr><td>EVT10392</td><td>2023-09-02T08:41:21Z</td><td>1887</td></tr><tr><td>EVT10393</td><td>2023-09-04T03:06:14Z</td><td>1153</td></tr><tr><td>EVT10394</td><td>2023-09-10T01:06:42Z</td><td>3346</td></tr><tr><td>EVT10395</td><td>2023-09-07T06:11:24Z</td><td>2171</td></tr><tr><td>EVT10396</td><td>2023-09-08T01:28:31Z</td><td>2543</td></tr><tr><td>EVT10397</td><td>2023-09-07T22:45:22Z</td><td>91</td></tr><tr><td>EVT10398</td><td>2023-09-14T05:21:06Z</td><td>2717</td></tr><tr><td>EVT10399</td><td>2023-09-10T11:31:01Z</td><td>4483</td></tr><tr><td>EVT10400</td><td>2023-09-06T12:58:51Z</td><td>5030</td></tr><tr><td>EVT10401</td><td>2023-09-11T23:58:07Z</td><td>23920</td></tr><tr><td>EVT10402</td><td>2023-09-14T19:00:06Z</td><td>14264</td></tr><tr><td>EVT10403</td><td>2023-09-13T23:11:16Z</td><td>8358</td></tr><tr><td>EVT10404</td><td>2023-09-04T04:00:19Z</td><td>2314</td></tr><tr><td>EVT10405</td><td>2023-09-05T12:06:26Z</td><td>2158</td></tr><tr><td>EVT10406</td><td>2023-09-10T17:55:32Z</td><td>957</td></tr><tr><td>EVT10407</td><td>2023-09-05T01:59:11Z</td><td>369</td></tr><tr><td>EVT10408</td><td>2023-09-06T07:52:05Z</td><td>1234</td></tr><tr><td>EVT10409</td><td>2023-09-06T00:23:18Z</td><td>20415</td></tr><tr><td>EVT10410</td><td>2023-09-02T14:57:21Z</td><td>7972</td></tr><tr><td>EVT10411</td><td>2023-09-04T22:53:32Z</td><td>7146</td></tr><tr><td>EVT10412</td><td>2023-09-11T14:33:55Z</td><td>3076</td></tr><tr><td>EVT10413</td><td>2023-09-03T16:29:47Z</td><td>946</td></tr><tr><td>EVT10414</td><td>2023-09-04T01:26:20Z</td><td>865</td></tr><tr><td>EVT10415</td><td>2023-09-05T17:26:49Z</td><td>22011</td></tr><tr><td>EVT10416</td><td>2023-09-01T18:59:51Z</td><td>501</td></tr><tr><td>EVT10417</td><td>2023-09-09T05:03:18Z</td><td>1686</td></tr><tr><td>EVT10418</td><td>2023-09-08T16:35:48Z</td><td>4060</td></tr><tr><td>EVT10419</td><td>2023-09-06T03:28:53Z</td><td>2925</td></tr><tr><td>EVT10420</td><td>2023-09-06T19:52:25Z</td><td>1376</td></tr><tr><td>EVT10421</td><td>2023-09-09T14:34:06Z</td><td>2452</td></tr><tr><td>EVT10422</td><td>2023-09-09T15:51:51Z</td><td>584</td></tr><tr><td>EVT10423</td><td>2023-09-02T02:34:24Z</td><td>6238</td></tr><tr><td>EVT10424</td><td>2023-09-08T01:46:32Z</td><td>3542</td></tr><tr><td>EVT10425</td><td>2023-09-14T04:44:26Z</td><td>4385</td></tr><tr><td>EVT10426</td><td>2023-09-08T13:32:10Z</td><td>3152</td></tr><tr><td>EVT10427</td><td>2023-09-06T13:06:10Z</td><td>7516</td></tr><tr><td>EVT10428</td><td>2023-09-02T14:26:03Z</td><td>686</td></tr><tr><td>EVT10429</td><td>2023-09-03T03:30:35Z</td><td>6316</td></tr><tr><td>EVT10430</td><td>2023-09-07T16:30:02Z</td><td>7260</td></tr><tr><td>EVT10431</td><td>2023-09-10T05:36:59Z</td><td>1892</td></tr><tr><td>EVT10432</td><td>2023-09-07T14:51:18Z</td><td>1913</td></tr><tr><td>EVT10433</td><td>2023-09-02T02:54:26Z</td><td>662</td></tr><tr><td>EVT10434</td><td>2023-09-10T05:20:13Z</td><td>1126</td></tr><tr><td>EVT10435</td><td>2023-09-04T23:50:42Z</td><td>9550</td></tr><tr><td>EVT10436</td><td>2023-09-05T09:41:45Z</td><td>1711</td></tr><tr><td>EVT10437</td><td>2023-09-03T19:37:07Z</td><td>4720</td></tr><tr><td>EVT10438</td><td>2023-09-03T01:02:39Z</td><td>32203</td></tr><tr><td>EVT10439</td><td>2023-09-12T23:00:59Z</td><td>1565</td></tr><tr><td>EVT10440</td><td>2023-09-12T12:30:35Z</td><td>3107</td></tr><tr><td>EVT10441</td><td>2023-09-04T14:50:20Z</td><td>6646</td></tr><tr><td>EVT10442</td><td>2023-09-09T02:03:44Z</td><td>3895</td></tr><tr><td>EVT10443</td><td>2023-09-01T12:29:49Z</td><td>1566</td></tr><tr><td>EVT10444</td><td>2023-09-08T10:18:21Z</td><td>1863</td></tr><tr><td>EVT10445</td><td>2023-09-03T08:33:22Z</td><td>4574</td></tr><tr><td>EVT10446</td><td>2023-09-12T13:39:48Z</td><td>4342</td></tr><tr><td>EVT10447</td><td>2023-09-02T08:08:10Z</td><td>2851</td></tr><tr><td>EVT10448</td><td>2023-09-08T11:24:15Z</td><td>1544</td></tr><tr><td>EVT10449</td><td>2023-09-04T21:38:50Z</td><td>697</td></tr><tr><td>EVT10450</td><td>2023-09-07T06:00:14Z</td><td>1089</td></tr><tr><td>EVT10451</td><td>2023-09-02T23:09:01Z</td><td>187</td></tr><tr><td>EVT10452</td><td>2023-09-13T03:52:08Z</td><td>2090</td></tr><tr><td>EVT10453</td><td>2023-09-03T22:24:21Z</td><td>3318</td></tr><tr><td>EVT10454</td><td>2023-09-08T06:22:13Z</td><td>4874</td></tr><tr><td>EVT10455</td><td>2023-09-08T19:03:48Z</td><td>404</td></tr><tr><td>EVT10456</td><td>2023-09-05T08:55:55Z</td><td>1447</td></tr><tr><td>EVT10457</td><td>2023-09-03T22:16:36Z</td><td>384</td></tr><tr><td>EVT10458</td><td>2023-09-04T18:01:26Z</td><td>15864</td></tr><tr><td>EVT10459</td><td>2023-09-08T05:05:51Z</td><td>117</td></tr><tr><td>EVT10460</td><td>2023-09-14T08:58:43Z</td><td>3552</td></tr><tr><td>EVT10461</td><td>2023-09-01T11:31:45Z</td><td>876</td></tr><tr><td>EVT10462</td><td>2023-09-13T16:50:02Z</td><td>570</td></tr><tr><td>EVT10463</td><td>2023-09-09T08:19:06Z</td><td>12380</td></tr><tr><td>EVT10464</td><td>2023-09-14T20:03:54Z</td><td>2351</td></tr><tr><td>EVT10465</td><td>2023-09-13T09:46:26Z</td><td>920</td></tr><tr><td>EVT10466</td><td>2023-09-07T11:31:13Z</td><td>425</td></tr><tr><td>EVT10467</td><td>2023-09-01T17:17:48Z</td><td>1038</td></tr><tr><td>EVT10468</td><td>2023-09-03T14:16:03Z</td><td>1243</td></tr><tr><td>EVT10469</td><td>2023-09-07T22:40:38Z</td><td>3376</td></tr><tr><td>EVT10470</td><td>2023-09-07T11:33:46Z</td><td>10616</td></tr><tr><td>EVT10471</td><td>2023-09-13T13:13:40Z</td><td>4406</td></tr><tr><td>EVT10472</td><td>2023-09-09T18:07:38Z</td><td>6806</td></tr><tr><td>EVT10473</td><td>2023-09-07T16:37:24Z</td><td>4127</td></tr><tr><td>EVT10474</td><td>2023-09-01T13:43:35Z</td><td>5711</td></tr><tr><td>EVT10475</td><td>2023-09-06T14:53:45Z</td><td>2068</td></tr><tr><td>EVT10476</td><td>2023-09-03T10:02:06Z</td><td>1954</td></tr><tr><td>EVT10477</td><td>2023-09-02T16:42:47Z</td><td>2904</td></tr><tr><td>EVT10478</td><td>2023-09-10T20:18:11Z</td><td>9071</td></tr><tr><td>EVT10479</td><td>2023-09-05T08:43:49Z</td><td>524</td></tr><tr><td>EVT10480</td><td>2023-09-06T06:16:57Z</td><td>8453</td></tr><tr><td>EVT10481</td><td>2023-09-01T15:12:21Z</td><td>2523</td></tr><tr><td>EVT10482</td><td>2023-09-12T12:46:30Z</td><td>867</td></tr><tr><td>EVT10483</td><td>2023-09-13T12:19:07Z</td><td>2938</td></tr><tr><td>EVT10484</td><td>2023-09-07T03:20:31Z</td><td>353</td></tr><tr><td>EVT10485</td><td>2023-09-01T22:14:40Z</td><td>1645</td></tr><tr><td>EVT10486</td><td>2023-09-08T19:52:43Z</td><td>11943</td></tr><tr><td>EVT10487</td><td>2023-09-08T09:03:41Z</td><td>6383</td></tr><tr><td>EVT10488</td><td>2023-09-01T00:56:54Z</td><td>531</td></tr><tr><td>EVT10489</td><td>2023-09-12T05:41:02Z</td><td>1155</td></tr><tr><td>EVT10490</td><td>2023-09-09T00:48:39Z</td><td>1232</td></tr><tr><td>EVT10491</td><td>2023-09-02T08:30:46Z</td><td>4490</td></tr><tr><td>EVT10492</td><td>2023-09-09T13:38:51Z</td><td>10683</td></tr><tr><td>EVT10493</td><td>2023-09-01T06:03:20Z</td><td>14903</td></tr><tr><td>EVT10494</td><td>2023-09-14T06:44:02Z</td><td>2410</td></tr><tr><td>EVT10495</td><td>2023-09-08T03:42:24Z</td><td>3523</td></tr><tr><td>EVT10496</td><td>2023-09-06T07:46:24Z</td><td>4517</td></tr><tr><td>EVT10497</td><td>2023-09-11T15:38:28Z</td><td>2988</td></tr><tr><td>EVT10498</td><td>2023-09-14T07:16:33Z</td><td>792</td></tr><tr><td>EVT10499</td><td>2023-09-06T19:49:51Z</td><td>281</td></tr><tr><td>EVT10500</td><td>2023-09-08T20:14:02Z</td><td>1015</td></tr><tr><td>EVT10501</td><td>2023-09-13T22:38:51Z</td><td>293</td></tr><tr><td>EVT10502</td><td>2023-09-03T08:44:14Z</td><td>8768</td></tr><tr><td>EVT10503</td><td>2023-09-11T06:56:55Z</td><td>4068</td></tr><tr><td>EVT10504</td><td>2023-09-07T07:35:31Z</td><td>4291</td></tr><tr><td>EVT10505</td><td>2023-09-03T02:17:04Z</td><td>1379</td></tr><tr><td>EVT10506</td><td>2023-09-13T00:03:43Z</td><td>4344</td></tr><tr><td>EVT10507</td><td>2023-09-13T22:34:33Z</td><td>2280</td></tr><tr><td>EVT10508</td><td>2023-09-05T15:41:14Z</td><td>354</td></tr><tr><td>EVT10509</td><td>2023-09-07T16:40:31Z</td><td>800</td></tr><tr><td>EVT10510</td><td>2023-09-06T01:34:53Z</td><td>1445</td></tr><tr><td>EVT10511</td><td>2023-09-14T18:08:14Z</td><td>3029</td></tr><tr><td>EVT10512</td><td>2023-09-09T10:29:23Z</td><td>12757</td></tr><tr><td>EVT10513</td><td>2023-09-10T12:38:15Z</td><td>10085</td></tr><tr><td>EVT10514</td><td>2023-09-14T21:32:11Z</td><td>3024</td></tr><tr><td>EVT10515</td><td>2023-09-12T05:48:52Z</td><td>4242</td></tr><tr><td>EVT10516</td><td>2023-09-09T22:09:41Z</td><td>468</td></tr><tr><td>EVT10517</td><td>2023-09-06T05:14:09Z</td><td>1523</td></tr><tr><td>EVT10518</td><td>2023-09-14T10:41:39Z</td><td>560</td></tr><tr><td>EVT10519</td><td>2023-09-08T08:17:25Z</td><td>1505</td></tr><tr><td>EVT10520</td><td>2023-09-13T03:01:51Z</td><td>331</td></tr><tr><td>EVT10521</td><td>2023-09-04T03:21:55Z</td><td>4081</td></tr><tr><td>EVT10522</td><td>2023-09-14T18:22:14Z</td><td>5309</td></tr><tr><td>EVT10523</td><td>2023-09-02T06:43:33Z</td><td>5497</td></tr><tr><td>EVT10524</td><td>2023-09-14T01:11:27Z</td><td>1885</td></tr><tr><td>EVT10525</td><td>2023-09-01T07:27:18Z</td><td>3431</td></tr><tr><td>EVT10526</td><td>2023-09-09T16:16:03Z</td><td>6275</td></tr><tr><td>EVT10527</td><td>2023-09-04T07:36:13Z</td><td>1011</td></tr><tr><td>EVT10528</td><td>2023-09-05T08:44:09Z</td><td>2506</td></tr><tr><td>EVT10529</td><td>2023-09-06T09:36:37Z</td><td>10591</td></tr><tr><td>EVT10530</td><td>2023-09-03T01:40:55Z</td><td>3204</td></tr><tr><td>EVT10531</td><td>2023-09-01T01:58:40Z</td><td>2511</td></tr><tr><td>EVT10532</td><td>2023-09-13T03:01:53Z</td><td>369</td></tr><tr><td>EVT10533</td><td>2023-09-14T21:43:53Z</td><td>554</td></tr><tr><td>EVT10534</td><td>2023-09-05T03:00:00Z</td><td>3610</td></tr><tr><td>EVT10535</td><td>2023-09-11T16:56:28Z</td><td>2223</td></tr><tr><td>EVT10536</td><td>2023-09-13T19:54:06Z</td><td>4049</td></tr><tr><td>EVT10537</td><td>2023-09-12T01:19:02Z</td><td>2183</td></tr><tr><td>EVT10538</td><td>2023-09-03T17:22:07Z</td><td>2663</td></tr><tr><td>EVT10539</td><td>2023-09-04T04:44:41Z</td><td>3386</td></tr><tr><td>EVT10540</td><td>2023-09-02T09:54:42Z</td><td>3195</td></tr><tr><td>EVT10541</td><td>2023-09-09T05:30:16Z</td><td>3396</td></tr><tr><td>EVT10542</td><td>2023-09-02T07:57:34Z</td><td>3418</td></tr><tr><td>EVT10543</td><td>2023-09-05T06:05:23Z</td><td>1219</td></tr><tr><td>EVT10544</td><td>2023-09-11T10:37:05Z</td><td>782</td></tr><tr><td>EVT10545</td><td>2023-09-02T04:05:19Z</td><td>24140</td></tr><tr><td>EVT10546</td><td>2023-09-09T05:03:05Z</td><td>577</td></tr><tr><td>EVT10547</td><td>2023-09-06T10:10:03Z</td><td>691</td></tr><tr><td>EVT10548</td><td>2023-09-08T03:07:38Z</td><td>1064</td></tr><tr><td>EVT10549</td><td>2023-09-01T16:17:22Z</td><td>897</td></tr><tr><td>EVT10550</td><td>2023-09-09T21:21:37Z</td><td>1880</td></tr><tr><td>EVT10551</td><td>2023-09-11T20:26:49Z</td><td>1066</td></tr><tr><td>EVT10552</td><td>2023-09-11T19:29:45Z</td><td>5564</td></tr><tr><td>EVT10553</td><td>2023-09-08T06:44:06Z</td><td>3990</td></tr><tr><td>EVT10554</td><td>2023-09-09T11:14:14Z</td><td>1425</td></tr><tr><td>EVT10555</td><td>2023-09-13T04:18:44Z</td><td>28248</td></tr><tr><td>EVT10556</td><td>2023-09-09T10:54:39Z</td><td>11494</td></tr><tr><td>EVT10557</td><td>2023-09-12T16:27:54Z</td><td>3772</td></tr><tr><td>EVT10558</td><td>2023-09-12T13:31:58Z</td><td>1939</td></tr><tr><td>EVT10559</td><td>2023-09-14T21:09:54Z</td><td>8226</td></tr><tr><td>EVT10560</td><td>2023-09-09T05:18:30Z</td><td>4652</td></tr><tr><td>EVT10561</td><td>2023-09-10T11:39:38Z</td><td>2331</td></tr><tr><td>EVT10562</td><td>2023-09-08T00:49:59Z</td><td>16330</td></tr><tr><td>EVT10563</td><td>2023-09-06T19:32:11Z</td><td>817</td></tr><tr><td>EVT10564</td><td>2023-09-08T13:14:37Z</td><td>467</td></tr><tr><td>EVT10565</td><td>2023-09-05T04:26:19Z</td><td>2152</td></tr><tr><td>EVT10566</td><td>2023-09-06T07:00:36Z</td><td>6827</td></tr><tr><td>EVT10567</td><td>2023-09-01T16:02:17Z</td><td>921</td></tr><tr><td>EVT10568</td><td>2023-09-14T03:16:26Z</td><td>911</td></tr><tr><td>EVT10569</td><td>2023-09-06T05:54:41Z</td><td>2045</td></tr><tr><td>EVT10570</td><td>2023-09-01T02:47:58Z</td><td>1071</td></tr><tr><td>EVT10571</td><td>2023-09-01T00:28:10Z</td><td>3793</td></tr><tr><td>EVT10572</td><td>2023-09-09T02:53:50Z</td><td>17943</td></tr><tr><td>EVT10573</td><td>2023-09-13T09:35:33Z</td><td>1652</td></tr><tr><td>EVT10574</td><td>2023-09-13T09:03:47Z</td><td>2227</td></tr><tr><td>EVT10575</td><td>2023-09-02T13:33:24Z</td><td>671</td></tr><tr><td>EVT10576</td><td>2023-09-10T08:37:34Z</td><td>1194</td></tr><tr><td>EVT10577</td><td>2023-09-01T06:52:57Z</td><td>3283</td></tr><tr><td>EVT10578</td><td>2023-09-08T04:16:19Z</td><td>7989</td></tr><tr><td>EVT10579</td><td>2023-09-02T20:19:42Z</td><td>1928</td></tr><tr><td>EVT10580</td><td>2023-09-13T01:41:45Z</td><td>11326</td></tr><tr><td>EVT10581</td><td>2023-09-11T15:24:28Z</td><td>7675</td></tr><tr><td>EVT10582</td><td>2023-09-13T20:12:06Z</td><td>164</td></tr><tr><td>EVT10583</td><td>2023-09-08T22:21:17Z</td><td>4325</td></tr><tr><td>EVT10584</td><td>2023-09-01T00:26:21Z</td><td>1807</td></tr><tr><td>EVT10585</td><td>2023-09-13T15:21:41Z</td><td>7797</td></tr><tr><td>EVT10586</td><td>2023-09-13T03:31:24Z</td><td>3211</td></tr><tr><td>EVT10587</td><td>2023-09-13T16:28:12Z</td><td>5141</td></tr><tr><td>EVT10588</td><td>2023-09-09T18:31:22Z</td><td>2057</td></tr><tr><td>EVT10589</td><td>2023-09-13T03:20:50Z</td><td>7544</td></tr><tr><td>EVT10590</td><td>2023-09-10T00:21:21Z</td><td>5366</td></tr><tr><td>EVT10591</td><td>2023-09-12T04:59:51Z</td><td>4733</td></tr><tr><td>EVT10592</td><td>2023-09-10T23:18:34Z</td><td>1963</td></tr><tr><td>EVT10593</td><td>2023-09-07T04:27:53Z</td><td>882</td></tr><tr><td>EVT10594</td><td>2023-09-03T14:52:15Z</td><td>21301</td></tr><tr><td>EVT10595</td><td>2023-09-02T00:12:44Z</td><td>16211</td></tr><tr><td>EVT10596</td><td>2023-09-01T12:14:13Z</td><td>1901</td></tr><tr><td>EVT10597</td><td>2023-09-05T18:35:47Z</td><td>14537</td></tr><tr><td>EVT10598</td><td>2023-09-14T23:13:10Z</td><td>1320</td></tr><tr><td>EVT10599</td><td>2023-09-09T09:37:28Z</td><td>2513</td></tr><tr><td>EVT10600</td><td>2023-09-01T08:50:18Z</td><td>3979</td></tr><tr><td>EVT10601</td><td>2023-09-05T21:10:48Z</td><td>5993</td></tr><tr><td>EVT10602</td><td>2023-09-01T07:46:58Z</td><td>1051</td></tr><tr><td>EVT10603</td><td>2023-09-03T02:53:19Z</td><td>1429</td></tr><tr><td>EVT10604</td><td>2023-09-06T22:01:05Z</td><td>728</td></tr><tr><td>EVT10605</td><td>2023-09-03T04:33:10Z</td><td>4417</td></tr><tr><td>EVT10606</td><td>2023-09-14T21:33:29Z</td><td>8486</td></tr><tr><td>EVT10607</td><td>2023-09-03T00:17:21Z</td><td>6511</td></tr><tr><td>EVT10608</td><td>2023-09-01T21:35:05Z</td><td>2556</td></tr><tr><td>EVT10609</td><td>2023-09-12T20:46:13Z</td><td>265</td></tr><tr><td>EVT10610</td><td>2023-09-02T01:02:04Z</td><td>3819</td></tr><tr><td>EVT10611</td><td>2023-09-06T18:41:31Z</td><td>3263</td></tr><tr><td>EVT10612</td><td>2023-09-07T18:03:37Z</td><td>1792</td></tr><tr><td>EVT10613</td><td>2023-09-13T20:55:06Z</td><td>965</td></tr><tr><td>EVT10614</td><td>2023-09-03T03:15:32Z</td><td>1590</td></tr><tr><td>EVT10615</td><td>2023-09-09T09:16:40Z</td><td>2261</td></tr><tr><td>EVT10616</td><td>2023-09-04T09:36:20Z</td><td>382</td></tr><tr><td>EVT10617</td><td>2023-09-03T18:41:01Z</td><td>1454</td></tr><tr><td>EVT10618</td><td>2023-09-03T04:44:14Z</td><td>169</td></tr><tr><td>EVT10619</td><td>2023-09-06T21:55:11Z</td><td>1916</td></tr><tr><td>EVT10620</td><td>2023-09-01T10:15:12Z</td><td>473</td></tr><tr><td>EVT10621</td><td>2023-09-04T19:44:34Z</td><td>3043</td></tr><tr><td>EVT10622</td><td>2023-09-10T08:25:29Z</td><td>15404</td></tr><tr><td>EVT10623</td><td>2023-09-03T00:24:07Z</td><td>23339</td></tr><tr><td>EVT10624</td><td>2023-09-04T03:38:24Z</td><td>1655</td></tr><tr><td>EVT10625</td><td>2023-09-13T22:36:30Z</td><td>175</td></tr><tr><td>EVT10626</td><td>2023-09-13T11:30:06Z</td><td>1804</td></tr><tr><td>EVT10627</td><td>2023-09-10T06:08:41Z</td><td>9779</td></tr><tr><td>EVT10628</td><td>2023-09-10T22:18:54Z</td><td>1572</td></tr><tr><td>EVT10629</td><td>2023-09-13T05:37:40Z</td><td>34157</td></tr><tr><td>EVT10630</td><td>2023-09-03T10:31:49Z</td><td>6834</td></tr><tr><td>EVT10631</td><td>2023-09-05T22:43:52Z</td><td>2829</td></tr><tr><td>EVT10632</td><td>2023-09-01T19:55:14Z</td><td>14429</td></tr><tr><td>EVT10633</td><td>2023-09-03T19:57:34Z</td><td>626</td></tr><tr><td>EVT10634</td><td>2023-09-08T16:10:07Z</td><td>754</td></tr><tr><td>EVT10635</td><td>2023-09-05T12:15:09Z</td><td>3155</td></tr><tr><td>EVT10636</td><td>2023-09-03T21:44:10Z</td><td>400</td></tr><tr><td>EVT10637</td><td>2023-09-04T13:27:57Z</td><td>6359</td></tr><tr><td>EVT10638</td><td>2023-09-05T15:29:34Z</td><td>3527</td></tr><tr><td>EVT10639</td><td>2023-09-07T16:47:26Z</td><td>3879</td></tr><tr><td>EVT10640</td><td>2023-09-14T19:56:55Z</td><td>2752</td></tr><tr><td>EVT10641</td><td>2023-09-09T13:28:19Z</td><td>755</td></tr><tr><td>EVT10642</td><td>2023-09-11T20:03:19Z</td><td>1261</td></tr><tr><td>EVT10643</td><td>2023-09-14T13:40:14Z</td><td>13099</td></tr><tr><td>EVT10644</td><td>2023-09-01T10:06:52Z</td><td>3571</td></tr><tr><td>EVT10645</td><td>2023-09-09T15:29:21Z</td><td>3089</td></tr><tr><td>EVT10646</td><td>2023-09-02T02:41:25Z</td><td>1979</td></tr><tr><td>EVT10647</td><td>2023-09-02T16:27:34Z</td><td>4803</td></tr><tr><td>EVT10648</td><td>2023-09-09T11:33:48Z</td><td>2321</td></tr><tr><td>EVT10649</td><td>2023-09-01T13:37:14Z</td><td>4219</td></tr><tr><td>EVT10650</td><td>2023-09-13T00:48:00Z</td><td>171</td></tr><tr><td>EVT10651</td><td>2023-09-13T14:13:26Z</td><td>3838</td></tr><tr><td>EVT10652</td><td>2023-09-11T06:33:10Z</td><td>4758</td></tr><tr><td>EVT10653</td><td>2023-09-12T12:11:00Z</td><td>1750</td></tr><tr><td>EVT10654</td><td>2023-09-10T00:20:48Z</td><td>3241</td></tr><tr><td>EVT10655</td><td>2023-09-04T15:46:04Z</td><td>14358</td></tr><tr><td>EVT10656</td><td>2023-09-01T06:04:34Z</td><td>18555</td></tr><tr><td>EVT10657</td><td>2023-09-05T03:56:51Z</td><td>4059</td></tr><tr><td>EVT10658</td><td>2023-09-08T19:25:23Z</td><td>2306</td></tr><tr><td>EVT10659</td><td>2023-09-04T03:31:26Z</td><td>3631</td></tr><tr><td>EVT10660</td><td>2023-09-12T12:06:59Z</td><td>1041</td></tr><tr><td>EVT10661</td><td>2023-09-10T17:03:06Z</td><td>6660</td></tr><tr><td>EVT10662</td><td>2023-09-03T16:18:58Z</td><td>276</td></tr><tr><td>EVT10663</td><td>2023-09-06T22:14:56Z</td><td>1167</td></tr><tr><td>EVT10664</td><td>2023-09-11T20:00:18Z</td><td>4314</td></tr><tr><td>EVT10665</td><td>2023-09-04T22:07:24Z</td><td>2530</td></tr><tr><td>EVT10666</td><td>2023-09-13T00:54:05Z</td><td>2018</td></tr><tr><td>EVT10667</td><td>2023-09-01T15:05:06Z</td><td>2085</td></tr><tr><td>EVT10668</td><td>2023-09-09T01:56:20Z</td><td>4469</td></tr><tr><td>EVT10669</td><td>2023-09-08T14:23:49Z</td><td>2065</td></tr><tr><td>EVT10670</td><td>2023-09-05T03:15:10Z</td><td>3159</td></tr><tr><td>EVT10671</td><td>2023-09-10T12:27:14Z</td><td>3208</td></tr><tr><td>EVT10672</td><td>2023-09-10T07:34:06Z</td><td>653</td></tr><tr><td>EVT10673</td><td>2023-09-12T14:08:24Z</td><td>4675</td></tr><tr><td>EVT10674</td><td>2023-09-13T13:57:49Z</td><td>8897</td></tr><tr><td>EVT10675</td><td>2023-09-13T14:58:44Z</td><td>1788</td></tr><tr><td>EVT10676</td><td>2023-09-08T20:32:08Z</td><td>1296</td></tr><tr><td>EVT10677</td><td>2023-09-03T22:42:36Z</td><td>30865</td></tr><tr><td>EVT10678</td><td>2023-09-05T12:13:40Z</td><td>5485</td></tr><tr><td>EVT10679</td><td>2023-09-11T00:50:58Z</td><td>481</td></tr><tr><td>EVT10680</td><td>2023-09-05T08:27:26Z</td><td>504</td></tr><tr><td>EVT10681</td><td>2023-09-08T09:41:41Z</td><td>3808</td></tr><tr><td>EVT10682</td><td>2023-09-14T19:04:31Z</td><td>4161</td></tr><tr><td>EVT10683</td><td>2023-09-06T08:49:38Z</td><td>436</td></tr><tr><td>EVT10684</td><td>2023-09-02T15:02:06Z</td><td>4071</td></tr><tr><td>EVT10685</td><td>2023-09-04T16:33:42Z</td><td>9824</td></tr><tr><td>EVT10686</td><td>2023-09-07T11:36:10Z</td><td>297</td></tr><tr><td>EVT10687</td><td>2023-09-13T12:18:50Z</td><td>3563</td></tr><tr><td>EVT10688</td><td>2023-09-11T05:15:46Z</td><td>690</td></tr><tr><td>EVT10689</td><td>2023-09-05T15:37:07Z</td><td>4265</td></tr><tr><td>EVT10690</td><td>2023-09-01T10:36:28Z</td><td>9470</td></tr><tr><td>EVT10691</td><td>2023-09-13T08:41:34Z</td><td>4766</td></tr><tr><td>EVT10692</td><td>2023-09-01T13:57:58Z</td><td>18114</td></tr><tr><td>EVT10693</td><td>2023-09-11T05:04:53Z</td><td>736</td></tr><tr><td>EVT10694</td><td>2023-09-02T09:15:24Z</td><td>561</td></tr><tr><td>EVT10695</td><td>2023-09-09T00:31:01Z</td><td>4191</td></tr><tr><td>EVT10696</td><td>2023-09-12T21:45:55Z</td><td>3164</td></tr><tr><td>EVT10697</td><td>2023-09-03T04:51:41Z</td><td>653</td></tr><tr><td>EVT10698</td><td>2023-09-12T15:17:36Z</td><td>3851</td></tr><tr><td>EVT10699</td><td>2023-09-04T09:12:17Z</td><td>15146</td></tr><tr><td>EVT10700</td><td>2023-09-08T12:33:15Z</td><td>279</td></tr><tr><td>EVT10701</td><td>2023-09-09T01:52:15Z</td><td>7261</td></tr><tr><td>EVT10702</td><td>2023-09-08T18:39:09Z</td><td>3922</td></tr><tr><td>EVT10703</td><td>2023-09-09T07:27:52Z</td><td>2568</td></tr><tr><td>EVT10704</td><td>2023-09-12T19:46:02Z</td><td>2605</td></tr><tr><td>EVT10705</td><td>2023-09-01T18:21:37Z</td><td>4429</td></tr><tr><td>EVT10706</td><td>2023-09-01T12:17:03Z</td><td>6682</td></tr><tr><td>EVT10707</td><td>2023-09-06T09:57:38Z</td><td>2328</td></tr><tr><td>EVT10708</td><td>2023-09-12T10:42:39Z</td><td>4841</td></tr><tr><td>EVT10709</td><td>2023-09-13T09:17:13Z</td><td>3311</td></tr><tr><td>EVT10710</td><td>2023-09-07T05:25:13Z</td><td>1127</td></tr><tr><td>EVT10711</td><td>2023-09-03T05:58:49Z</td><td>5150</td></tr><tr><td>EVT10712</td><td>2023-09-02T11:56:04Z</td><td>2467</td></tr><tr><td>EVT10713</td><td>2023-09-01T16:34:02Z</td><td>7256</td></tr><tr><td>EVT10714</td><td>2023-09-08T10:21:39Z</td><td>1314</td></tr><tr><td>EVT10715</td><td>2023-09-12T15:48:34Z</td><td>2292</td></tr><tr><td>EVT10716</td><td>2023-09-09T00:47:29Z</td><td>2070</td></tr><tr><td>EVT10717</td><td>2023-09-02T06:05:49Z</td><td>15420</td></tr><tr><td>EVT10718</td><td>2023-09-14T17:18:19Z</td><td>534</td></tr><tr><td>EVT10719</td><td>2023-09-14T02:10:26Z</td><td>2173</td></tr><tr><td>EVT10720</td><td>2023-09-02T21:36:24Z</td><td>677</td></tr><tr><td>EVT10721</td><td>2023-09-13T13:57:02Z</td><td>2326</td></tr><tr><td>EVT10722</td><td>2023-09-14T17:43:26Z</td><td>900</td></tr><tr><td>EVT10723</td><td>2023-09-08T20:31:36Z</td><td>7785</td></tr><tr><td>EVT10724</td><td>2023-09-13T10:20:15Z</td><td>1637</td></tr><tr><td>EVT10725</td><td>2023-09-06T11:14:14Z</td><td>1132</td></tr><tr><td>EVT10726</td><td>2023-09-05T22:18:43Z</td><td>1555</td></tr><tr><td>EVT10727</td><td>2023-09-03T03:35:56Z</td><td>3306</td></tr><tr><td>EVT10728</td><td>2023-09-03T12:15:59Z</td><td>1865</td></tr><tr><td>EVT10729</td><td>2023-09-14T13:56:57Z</td><td>6992</td></tr><tr><td>EVT10730</td><td>2023-09-14T21:42:17Z</td><td>3176</td></tr><tr><td>EVT10731</td><td>2023-09-01T08:45:16Z</td><td>689</td></tr><tr><td>EVT10732</td><td>2023-09-09T23:11:34Z</td><td>220</td></tr><tr><td>EVT10733</td><td>2023-09-03T01:58:19Z</td><td>15083</td></tr><tr><td>EVT10734</td><td>2023-09-06T07:42:51Z</td><td>8657</td></tr><tr><td>EVT10735</td><td>2023-09-14T22:04:24Z</td><td>7921</td></tr><tr><td>EVT10736</td><td>2023-09-10T14:50:00Z</td><td>3370</td></tr><tr><td>EVT10737</td><td>2023-09-13T18:06:14Z</td><td>81</td></tr><tr><td>EVT10738</td><td>2023-09-14T17:23:28Z</td><td>3013</td></tr><tr><td>EVT10739</td><td>2023-09-14T04:22:53Z</td><td>4073</td></tr><tr><td>EVT10740</td><td>2023-09-01T01:54:22Z</td><td>511</td></tr><tr><td>EVT10741</td><td>2023-09-06T05:32:40Z</td><td>7250</td></tr><tr><td>EVT10742</td><td>2023-09-04T19:27:38Z</td><td>1175</td></tr><tr><td>EVT10743</td><td>2023-09-04T13:38:27Z</td><td>1187</td></tr><tr><td>EVT10744</td><td>2023-09-08T07:28:16Z</td><td>1280</td></tr><tr><td>EVT10745</td><td>2023-09-08T13:37:03Z</td><td>13121</td></tr><tr><td>EVT10746</td><td>2023-09-05T16:05:38Z</td><td>949</td></tr><tr><td>EVT10747</td><td>2023-09-08T20:34:22Z</td><td>486</td></tr><tr><td>EVT10748</td><td>2023-09-01T14:28:18Z</td><td>7741</td></tr><tr><td>EVT10749</td><td>2023-09-10T21:36:33Z</td><td>5324</td></tr><tr><td>EVT10750</td><td>2023-09-14T04:02:12Z</td><td>842</td></tr><tr><td>EVT10751</td><td>2023-09-05T12:53:47Z</td><td>15754</td></tr><tr><td>EVT10752</td><td>2023-09-08T15:44:08Z</td><td>556</td></tr><tr><td>EVT10753</td><td>2023-09-02T22:58:32Z</td><td>1285</td></tr><tr><td>EVT10754</td><td>2023-09-14T19:19:27Z</td><td>4469</td></tr><tr><td>EVT10755</td><td>2023-09-04T14:58:50Z</td><td>6157</td></tr><tr><td>EVT10756</td><td>2023-09-14T08:51:40Z</td><td>1667</td></tr><tr><td>EVT10757</td><td>2023-09-02T09:16:18Z</td><td>5574</td></tr><tr><td>EVT10758</td><td>2023-09-03T11:52:04Z</td><td>12443</td></tr><tr><td>EVT10759</td><td>2023-09-03T19:43:25Z</td><td>1502</td></tr><tr><td>EVT10760</td><td>2023-09-03T09:06:39Z</td><td>14558</td></tr><tr><td>EVT10761</td><td>2023-09-05T23:39:45Z</td><td>5832</td></tr><tr><td>EVT10762</td><td>2023-09-07T19:12:58Z</td><td>7207</td></tr><tr><td>EVT10763</td><td>2023-09-04T10:44:56Z</td><td>955</td></tr><tr><td>EVT10764</td><td>2023-09-03T15:04:22Z</td><td>557</td></tr><tr><td>EVT10765</td><td>2023-09-12T03:17:19Z</td><td>1094</td></tr><tr><td>EVT10766</td><td>2023-09-01T14:41:56Z</td><td>729</td></tr><tr><td>EVT10767</td><td>2023-09-01T11:17:10Z</td><td>3729</td></tr><tr><td>EVT10768</td><td>2023-09-02T22:46:35Z</td><td>3931</td></tr><tr><td>EVT10769</td><td>2023-09-06T02:41:46Z</td><td>1346</td></tr><tr><td>EVT10770</td><td>2023-09-04T08:38:12Z</td><td>6361</td></tr><tr><td>EVT10771</td><td>2023-09-06T23:49:42Z</td><td>1516</td></tr><tr><td>EVT10772</td><td>2023-09-11T01:13:29Z</td><td>1872</td></tr><tr><td>EVT10773</td><td>2023-09-08T10:15:07Z</td><td>393</td></tr><tr><td>EVT10774</td><td>2023-09-13T17:06:12Z</td><td>5974</td></tr><tr><td>EVT10775</td><td>2023-09-04T10:42:02Z</td><td>5931</td></tr><tr><td>EVT10776</td><td>2023-09-07T21:35:58Z</td><td>843</td></tr><tr><td>EVT10777</td><td>2023-09-06T05:21:14Z</td><td>1125</td></tr><tr><td>EVT10778</td><td>2023-09-05T23:18:27Z</td><td>4765</td></tr><tr><td>EVT10779</td><td>2023-09-08T13:23:26Z</td><td>21598</td></tr><tr><td>EVT10780</td><td>2023-09-08T20:57:03Z</td><td>3412</td></tr><tr><td>EVT10781</td><td>2023-09-13T06:16:21Z</td><td>2736</td></tr><tr><td>EVT10782</td><td>2023-09-06T08:06:03Z</td><td>431</td></tr><tr><td>EVT10783</td><td>2023-09-09T19:33:45Z</td><td>18835</td></tr><tr><td>EVT10784</td><td>2023-09-13T05:06:28Z</td><td>695</td></tr><tr><td>EVT10785</td><td>2023-09-11T14:28:18Z</td><td>6362</td></tr><tr><td>EVT10786</td><td>2023-09-12T23:03:01Z</td><td>16295</td></tr><tr><td>EVT10787</td><td>2023-09-13T05:47:26Z</td><td>631</td></tr><tr><td>EVT10788</td><td>2023-09-07T17:28:38Z</td><td>10056</td></tr><tr><td>EVT10789</td><td>2023-09-09T07:38:59Z</td><td>442</td></tr><tr><td>EVT10790</td><td>2023-09-08T18:54:00Z</td><td>438</td></tr><tr><td>EVT10791</td><td>2023-09-14T20:08:24Z</td><td>422</td></tr><tr><td>EVT10792</td><td>2023-09-10T07:10:06Z</td><td>2276</td></tr><tr><td>EVT10793</td><td>2023-09-11T06:21:51Z</td><td>747</td></tr><tr><td>EVT10794</td><td>2023-09-07T14:21:17Z</td><td>746</td></tr><tr><td>EVT10795</td><td>2023-09-13T16:08:30Z</td><td>6066</td></tr><tr><td>EVT10796</td><td>2023-09-10T14:17:57Z</td><td>769</td></tr><tr><td>EVT10797</td><td>2023-09-09T00:23:59Z</td><td>3734</td></tr><tr><td>EVT10798</td><td>2023-09-08T06:32:18Z</td><td>489</td></tr><tr><td>EVT10799</td><td>2023-09-09T21:08:44Z</td><td>2700</td></tr><tr><td>EVT10800</td><td>2023-09-04T08:58:03Z</td><td>4702</td></tr><tr><td>EVT10801</td><td>2023-09-13T15:15:49Z</td><td>675</td></tr><tr><td>EVT10802</td><td>2023-09-05T04:06:49Z</td><td>145</td></tr><tr><td>EVT10803</td><td>2023-09-12T02:15:44Z</td><td>1078</td></tr><tr><td>EVT10804</td><td>2023-09-05T16:36:49Z</td><td>14837</td></tr><tr><td>EVT10805</td><td>2023-09-10T23:06:00Z</td><td>673</td></tr><tr><td>EVT10806</td><td>2023-09-06T17:12:45Z</td><td>8998</td></tr><tr><td>EVT10807</td><td>2023-09-01T16:16:26Z</td><td>2617</td></tr><tr><td>EVT10808</td><td>2023-09-04T03:10:49Z</td><td>5394</td></tr><tr><td>EVT10809</td><td>2023-09-12T04:34:32Z</td><td>1809</td></tr><tr><td>EVT10810</td><td>2023-09-08T00:17:32Z</td><td>2125</td></tr><tr><td>EVT10811</td><td>2023-09-02T20:23:33Z</td><td>2395</td></tr><tr><td>EVT10812</td><td>2023-09-10T03:11:28Z</td><td>1913</td></tr><tr><td>EVT10813</td><td>2023-09-11T22:35:31Z</td><td>474</td></tr><tr><td>EVT10814</td><td>2023-09-01T00:43:47Z</td><td>2379</td></tr><tr><td>EVT10815</td><td>2023-09-07T14:09:37Z</td><td>332</td></tr><tr><td>EVT10816</td><td>2023-09-14T16:45:48Z</td><td>831</td></tr><tr><td>EVT10817</td><td>2023-09-05T20:19:59Z</td><td>3149</td></tr><tr><td>EVT10818</td><td>2023-09-12T11:57:06Z</td><td>899</td></tr><tr><td>EVT10819</td><td>2023-09-04T07:25:33Z</td><td>8638</td></tr><tr><td>EVT10820</td><td>2023-09-11T08:08:07Z</td><td>1178</td></tr><tr><td>EVT10821</td><td>2023-09-07T03:29:18Z</td><td>10489</td></tr><tr><td>EVT10822</td><td>2023-09-06T22:45:00Z</td><td>2553</td></tr><tr><td>EVT10823</td><td>2023-09-09T09:29:45Z</td><td>244</td></tr><tr><td>EVT10824</td><td>2023-09-01T07:09:01Z</td><td>74</td></tr><tr><td>EVT10825</td><td>2023-09-14T16:18:12Z</td><td>2087</td></tr><tr><td>EVT10826</td><td>2023-09-13T16:15:02Z</td><td>6811</td></tr><tr><td>EVT10827</td><td>2023-09-11T01:48:00Z</td><td>392</td></tr><tr><td>EVT10828</td><td>2023-09-11T10:22:03Z</td><td>6090</td></tr><tr><td>EVT10829</td><td>2023-09-12T17:56:53Z</td><td>1361</td></tr><tr><td>EVT10830</td><td>2023-09-06T09:14:07Z</td><td>2752</td></tr><tr><td>EVT10831</td><td>2023-09-03T02:47:11Z</td><td>11279</td></tr><tr><td>EVT10832</td><td>2023-09-05T20:11:26Z</td><td>3202</td></tr><tr><td>EVT10833</td><td>2023-09-11T13:39:29Z</td><td>3274</td></tr><tr><td>EVT10834</td><td>2023-09-04T18:57:01Z</td><td>1440</td></tr><tr><td>EVT10835</td><td>2023-09-01T15:09:30Z</td><td>11887</td></tr><tr><td>EVT10836</td><td>2023-09-14T15:37:49Z</td><td>1281</td></tr><tr><td>EVT10837</td><td>2023-09-14T07:07:44Z</td><td>25011</td></tr><tr><td>EVT10838</td><td>2023-09-03T07:58:23Z</td><td>407</td></tr><tr><td>EVT10839</td><td>2023-09-02T10:48:47Z</td><td>1137</td></tr><tr><td>EVT10840</td><td>2023-09-11T14:09:45Z</td><td>6360</td></tr><tr><td>EVT10841</td><td>2023-09-13T05:12:43Z</td><td>3234</td></tr><tr><td>EVT10842</td><td>2023-09-07T20:38:28Z</td><td>5151</td></tr><tr><td>EVT10843</td><td>2023-09-12T14:21:58Z</td><td>2351</td></tr><tr><td>EVT10844</td><td>2023-09-11T22:42:01Z</td><td>1675</td></tr><tr><td>EVT10845</td><td>2023-09-01T10:15:42Z</td><td>6153</td></tr><tr><td>EVT10846</td><td>2023-09-03T10:33:14Z</td><td>2221</td></tr><tr><td>EVT10847</td><td>2023-09-07T15:11:11Z</td><td>3907</td></tr><tr><td>EVT10848</td><td>2023-09-02T21:25:07Z</td><td>4171</td></tr><tr><td>EVT10849</td><td>2023-09-08T21:02:44Z</td><td>1340</td></tr><tr><td>EVT10850</td><td>2023-09-01T12:54:58Z</td><td>2974</td></tr><tr><td>EVT10851</td><td>2023-09-11T20:39:21Z</td><td>2187</td></tr><tr><td>EVT10852</td><td>2023-09-14T04:34:40Z</td><td>4325</td></tr><tr><td>EVT10853</td><td>2023-09-06T18:59:30Z</td><td>257</td></tr><tr><td>EVT10854</td><td>2023-09-05T18:33:02Z</td><td>1182</td></tr><tr><td>EVT10855</td><td>2023-09-04T21:55:53Z</td><td>8271</td></tr><tr><td>EVT10856</td><td>2023-09-06T07:38:36Z</td><td>12098</td></tr><tr><td>EVT10857</td><td>2023-09-06T03:37:43Z</td><td>1275</td></tr><tr><td>EVT10858</td><td>2023-09-03T12:23:32Z</td><td>2683</td></tr><tr><td>EVT10859</td><td>2023-09-06T01:11:49Z</td><td>988</td></tr><tr><td>EVT10860</td><td>2023-09-14T02:10:43Z</td><td>2489</td></tr><tr><td>EVT10861</td><td>2023-09-05T01:27:04Z</td><td>1288</td></tr><tr><td>EVT10862</td><td>2023-09-10T19:39:07Z</td><td>2025</td></tr><tr><td>EVT10863</td><td>2023-09-11T22:30:53Z</td><td>1412</td></tr><tr><td>EVT10864</td><td>2023-09-07T07:26:00Z</td><td>4110</td></tr><tr><td>EVT10865</td><td>2023-09-04T01:28:53Z</td><td>2451</td></tr><tr><td>EVT10866</td><td>2023-09-06T16:09:52Z</td><td>6498</td></tr><tr><td>EVT10867</td><td>2023-09-14T05:50:16Z</td><td>2464</td></tr><tr><td>EVT10868</td><td>2023-09-02T08:31:15Z</td><td>376</td></tr><tr><td>EVT10869</td><td>2023-09-14T06:01:49Z</td><td>5483</td></tr><tr><td>EVT10870</td><td>2023-09-09T10:31:51Z</td><td>9239</td></tr><tr><td>EVT10871</td><td>2023-09-09T20:30:52Z</td><td>3663</td></tr><tr><td>EVT10872</td><td>2023-09-09T05:40:05Z</td><td>5456</td></tr><tr><td>EVT10873</td><td>2023-09-04T16:26:30Z</td><td>283</td></tr><tr><td>EVT10874</td><td>2023-09-12T02:53:57Z</td><td>1467</td></tr><tr><td>EVT10875</td><td>2023-09-06T23:11:54Z</td><td>10204</td></tr><tr><td>EVT10876</td><td>2023-09-04T01:00:15Z</td><td>2280</td></tr><tr><td>EVT10877</td><td>2023-09-10T23:47:54Z</td><td>5092</td></tr><tr><td>EVT10878</td><td>2023-09-12T23:10:25Z</td><td>2150</td></tr><tr><td>EVT10879</td><td>2023-09-10T08:46:12Z</td><td>3187</td></tr><tr><td>EVT10880</td><td>2023-09-05T04:16:00Z</td><td>3443</td></tr><tr><td>EVT10881</td><td>2023-09-14T22:42:14Z</td><td>582</td></tr><tr><td>EVT10882</td><td>2023-09-11T22:50:50Z</td><td>12598</td></tr><tr><td>EVT10883</td><td>2023-09-05T09:56:20Z</td><td>11295</td></tr><tr><td>EVT10884</td><td>2023-09-10T19:51:48Z</td><td>1835</td></tr><tr><td>EVT10885</td><td>2023-09-11T18:02:18Z</td><td>1145</td></tr><tr><td>EVT10886</td><td>2023-09-14T11:12:17Z</td><td>929</td></tr><tr><td>EVT10887</td><td>2023-09-01T04:50:49Z</td><td>2848</td></tr><tr><td>EVT10888</td><td>2023-09-05T02:20:42Z</td><td>2641</td></tr><tr><td>EVT10889</td><td>2023-09-09T05:56:42Z</td><td>4500</td></tr><tr><td>EVT10890</td><td>2023-09-11T16:26:46Z</td><td>5632</td></tr><tr><td>EVT10891</td><td>2023-09-04T07:50:47Z</td><td>4769</td></tr><tr><td>EVT10892</td><td>2023-09-02T18:55:32Z</td><td>4726</td></tr><tr><td>EVT10893</td><td>2023-09-10T10:14:23Z</td><td>8332</td></tr><tr><td>EVT10894</td><td>2023-09-10T04:16:01Z</td><td>32273</td></tr><tr><td>EVT10895</td><td>2023-09-03T22:04:50Z</td><td>2115</td></tr><tr><td>EVT10896</td><td>2023-09-03T13:03:52Z</td><td>1889</td></tr><tr><td>EVT10897</td><td>2023-09-11T05:49:51Z</td><td>2183</td></tr><tr><td>EVT10898</td><td>2023-09-04T07:04:01Z</td><td>7754</td></tr><tr><td>EVT10899</td><td>2023-09-10T20:11:18Z</td><td>10260</td></tr><tr><td>EVT10900</td><td>2023-09-03T20:28:24Z</td><td>1211</td></tr><tr><td>EVT10901</td><td>2023-09-14T01:04:32Z</td><td>2194</td></tr><tr><td>EVT10902</td><td>2023-09-10T02:40:09Z</td><td>1914</td></tr><tr><td>EVT10903</td><td>2023-09-01T06:47:13Z</td><td>1202</td></tr><tr><td>EVT10904</td><td>2023-09-11T01:32:36Z</td><td>3146</td></tr><tr><td>EVT10905</td><td>2023-09-06T10:29:34Z</td><td>761</td></tr><tr><td>EVT10906</td><td>2023-09-13T05:33:42Z</td><td>410</td></tr><tr><td>EVT10907</td><td>2023-09-06T14:08:00Z</td><td>22441</td></tr><tr><td>EVT10908</td><td>2023-09-13T10:20:49Z</td><td>597</td></tr><tr><td>EVT10909</td><td>2023-09-06T17:53:59Z</td><td>135</td></tr><tr><td>EVT10910</td><td>2023-09-01T10:27:10Z</td><td>5541</td></tr><tr><td>EVT10911</td><td>2023-09-12T13:43:32Z</td><td>1977</td></tr><tr><td>EVT10912</td><td>2023-09-08T14:17:33Z</td><td>5385</td></tr><tr><td>EVT10913</td><td>2023-09-09T13:59:53Z</td><td>1082</td></tr><tr><td>EVT10914</td><td>2023-09-07T23:10:45Z</td><td>10467</td></tr><tr><td>EVT10915</td><td>2023-09-12T08:43:21Z</td><td>2164</td></tr><tr><td>EVT10916</td><td>2023-09-14T08:01:27Z</td><td>4636</td></tr><tr><td>EVT10917</td><td>2023-09-06T19:45:52Z</td><td>1661</td></tr><tr><td>EVT10918</td><td>2023-09-10T01:24:16Z</td><td>861</td></tr><tr><td>EVT10919</td><td>2023-09-12T21:09:36Z</td><td>3392</td></tr><tr><td>EVT10920</td><td>2023-09-02T00:35:19Z</td><td>193</td></tr><tr><td>EVT10921</td><td>2023-09-03T13:55:16Z</td><td>765</td></tr><tr><td>EVT10922</td><td>2023-09-12T04:48:21Z</td><td>1251</td></tr><tr><td>EVT10923</td><td>2023-09-12T01:30:20Z</td><td>4324</td></tr><tr><td>EVT10924</td><td>2023-09-03T19:56:25Z</td><td>1845</td></tr><tr><td>EVT10925</td><td>2023-09-07T09:14:38Z</td><td>110</td></tr><tr><td>EVT10926</td><td>2023-09-14T23:34:14Z</td><td>4386</td></tr><tr><td>EVT10927</td><td>2023-09-05T06:28:42Z</td><td>16047</td></tr><tr><td>EVT10928</td><td>2023-09-11T02:56:49Z</td><td>977</td></tr><tr><td>EVT10929</td><td>2023-09-02T00:47:39Z</td><td>2567</td></tr><tr><td>EVT10930</td><td>2023-09-02T03:04:01Z</td><td>20421</td></tr><tr><td>EVT10931</td><td>2023-09-12T00:12:56Z</td><td>1005</td></tr><tr><td>EVT10932</td><td>2023-09-06T22:17:12Z</td><td>4154</td></tr><tr><td>EVT10933</td><td>2023-09-01T01:51:24Z</td><td>2017</td></tr><tr><td>EVT10934</td><td>2023-09-01T19:11:25Z</td><td>786</td></tr><tr><td>EVT10935</td><td>2023-09-06T20:20:44Z</td><td>1079</td></tr><tr><td>EVT10936</td><td>2023-09-08T11:28:57Z</td><td>359</td></tr><tr><td>EVT10937</td><td>2023-09-05T08:28:46Z</td><td>5145</td></tr><tr><td>EVT10938</td><td>2023-09-13T01:02:33Z</td><td>276</td></tr><tr><td>EVT10939</td><td>2023-09-01T18:33:23Z</td><td>4904</td></tr><tr><td>EVT10940</td><td>2023-09-12T22:34:19Z</td><td>2621</td></tr><tr><td>EVT10941</td><td>2023-09-09T01:16:20Z</td><td>4050</td></tr><tr><td>EVT10942</td><td>2023-09-07T11:41:32Z</td><td>1110</td></tr><tr><td>EVT10943</td><td>2023-09-04T20:00:20Z</td><td>17943</td></tr><tr><td>EVT10944</td><td>2023-09-12T10:01:36Z</td><td>5785</td></tr><tr><td>EVT10945</td><td>2023-09-10T05:14:09Z</td><td>27236</td></tr><tr><td>EVT10946</td><td>2023-09-14T15:02:34Z</td><td>20960</td></tr><tr><td>EVT10947</td><td>2023-09-01T05:56:44Z</td><td>1311</td></tr><tr><td>EVT10948</td><td>2023-09-12T01:56:18Z</td><td>5947</td></tr><tr><td>EVT10949</td><td>2023-09-14T15:17:00Z</td><td>818</td></tr><tr><td>EVT10950</td><td>2023-09-04T22:04:17Z</td><td>33999</td></tr><tr><td>EVT10951</td><td>2023-09-10T09:00:30Z</td><td>14060</td></tr><tr><td>EVT10952</td><td>2023-09-02T04:19:59Z</td><td>16776</td></tr><tr><td>EVT10953</td><td>2023-09-09T05:30:01Z</td><td>291</td></tr><tr><td>EVT10954</td><td>2023-09-02T16:31:37Z</td><td>7241</td></tr><tr><td>EVT10955</td><td>2023-09-10T02:24:31Z</td><td>1369</td></tr><tr><td>EVT10956</td><td>2023-09-03T16:22:21Z</td><td>740</td></tr><tr><td>EVT10957</td><td>2023-09-03T18:16:51Z</td><td>1362</td></tr><tr><td>EVT10958</td><td>2023-09-04T12:12:11Z</td><td>2168</td></tr><tr><td>EVT10959</td><td>2023-09-07T23:44:47Z</td><td>833</td></tr><tr><td>EVT10960</td><td>2023-09-10T11:52:01Z</td><td>2477</td></tr><tr><td>EVT10961</td><td>2023-09-13T04:24:47Z</td><td>2722</td></tr><tr><td>EVT10962</td><td>2023-09-09T18:08:57Z</td><td>549</td></tr><tr><td>EVT10963</td><td>2023-09-02T05:32:48Z</td><td>1017</td></tr><tr><td>EVT10964</td><td>2023-09-02T21:35:52Z</td><td>989</td></tr><tr><td>EVT10965</td><td>2023-09-12T07:34:48Z</td><td>5448</td></tr><tr><td>EVT10966</td><td>2023-09-14T20:20:37Z</td><td>8415</td></tr><tr><td>EVT10967</td><td>2023-09-12T11:16:25Z</td><td>458</td></tr><tr><td>EVT10968</td><td>2023-09-01T06:39:48Z</td><td>8930</td></tr><tr><td>EVT10969</td><td>2023-09-05T18:27:02Z</td><td>5348</td></tr><tr><td>EVT10970</td><td>2023-09-07T03:48:05Z</td><td>3156</td></tr><tr><td>EVT10971</td><td>2023-09-02T20:46:02Z</td><td>478</td></tr><tr><td>EVT10972</td><td>2023-09-07T13:39:14Z</td><td>594</td></tr><tr><td>EVT10973</td><td>2023-09-12T01:02:52Z</td><td>920</td></tr><tr><td>EVT10974</td><td>2023-09-02T05:19:34Z</td><td>3842</td></tr><tr><td>EVT10975</td><td>2023-09-06T22:27:58Z</td><td>21444</td></tr><tr><td>EVT10976</td><td>2023-09-09T07:02:08Z</td><td>4121</td></tr><tr><td>EVT10977</td><td>2023-09-06T22:31:29Z</td><td>1970</td></tr><tr><td>EVT10978</td><td>2023-09-07T17:15:38Z</td><td>2496</td></tr><tr><td>EVT10979</td><td>2023-09-05T01:19:33Z</td><td>579</td></tr><tr><td>EVT10980</td><td>2023-09-13T11:25:37Z</td><td>1812</td></tr><tr><td>EVT10981</td><td>2023-09-03T08:44:39Z</td><td>3058</td></tr><tr><td>EVT10982</td><td>2023-09-10T02:09:46Z</td><td>604</td></tr><tr><td>EVT10983</td><td>2023-09-06T03:28:35Z</td><td>493</td></tr><tr><td>EVT10984</td><td>2023-09-14T17:34:05Z</td><td>1935</td></tr><tr><td>EVT10985</td><td>2023-09-12T02:36:54Z</td><td>4742</td></tr><tr><td>EVT10986</td><td>2023-09-07T23:46:07Z</td><td>2735</td></tr><tr><td>EVT10987</td><td>2023-09-01T17:21:37Z</td><td>1306</td></tr><tr><td>EVT10988</td><td>2023-09-01T04:31:12Z</td><td>314</td></tr><tr><td>EVT10989</td><td>2023-09-08T11:37:21Z</td><td>3820</td></tr><tr><td>EVT10990</td><td>2023-09-13T04:17:38Z</td><td>4921</td></tr><tr><td>EVT10991</td><td>2023-09-03T09:43:17Z</td><td>4907</td></tr><tr><td>EVT10992</td><td>2023-09-10T17:24:16Z</td><td>2557</td></tr><tr><td>EVT10993</td><td>2023-09-08T11:37:15Z</td><td>817</td></tr><tr><td>EVT10994</td><td>2023-09-02T03:45:52Z</td><td>1185</td></tr><tr><td>EVT10995</td><td>2023-09-11T23:27:21Z</td><td>5561</td></tr><tr><td>EVT10996</td><td>2023-09-08T11:11:06Z</td><td>4652</td></tr><tr><td>EVT10997</td><td>2023-09-09T20:52:47Z</td><td>5540</td></tr><tr><td>EVT10998</td><td>2023-09-01T21:58:49Z</td><td>3897</td></tr><tr><td>EVT10999</td><td>2023-09-14T18:48:34Z</td><td>2661</td></tr></tbody></table></div>"
      ]
     },
     "metadata": {
      "application/vnd.databricks.v1+output": {
       "addedWidgets": {},
       "aggData": [],
       "aggError": "",
       "aggOverflow": false,
       "aggSchema": [],
       "aggSeriesLimitReached": false,
       "aggType": "",
       "arguments": {},
       "columnCustomDisplayInfos": {},
       "data": [
        [
         "EVT10000",
         "2023-09-03T09:18:59Z",
         "565"
        ],
        [
         "EVT10001",
         "2023-09-09T11:44:27Z",
         "2018"
        ],
        [
         "EVT10002",
         "2023-09-09T16:51:53Z",
         "2900"
        ],
        [
         "EVT10003",
         "2023-09-13T08:03:13Z",
         "3242"
        ],
        [
         "EVT10004",
         "2023-09-04T13:07:20Z",
         "4248"
        ],
        [
         "EVT10005",
         "2023-09-13T22:44:28Z",
         "885"
        ],
        [
         "EVT10006",
         "2023-09-13T21:54:05Z",
         "594"
        ],
        [
         "EVT10007",
         "2023-09-14T12:36:36Z",
         "21955"
        ],
        [
         "EVT10008",
         "2023-09-04T03:11:27Z",
         "9039"
        ],
        [
         "EVT10009",
         "2023-09-03T02:02:33Z",
         "2262"
        ],
        [
         "EVT10010",
         "2023-09-06T09:16:48Z",
         "invalid_duration"
        ],
        [
         "EVT10011",
         "2023-09-02T07:42:35Z",
         "invalid_duration"
        ],
        [
         "EVT10012",
         "2023-09-10T19:31:59Z",
         "invalid_duration"
        ],
        [
         "EVT10013",
         "2023-09-11T02:31:45Z",
         "invalid_duration"
        ],
        [
         "EVT10014",
         "2023-09-02T06:59:54Z",
         "invalid_duration"
        ],
        [
         "EVT10015",
         "2023-09-02T10:17:24Z",
         "invalid_duration"
        ],
        [
         "EVT10016",
         "2023-09-01T07:18:31Z",
         "invalid_duration"
        ],
        [
         "EVT10017",
         "2023-09-10T11:50:18Z",
         "invalid_duration"
        ],
        [
         "EVT10018",
         "2023-09-08T15:44:37Z",
         "invalid_duration"
        ],
        [
         "EVT10019",
         "2023-09-05T08:56:23Z",
         "invalid_duration"
        ],
        [
         "EVT10020",
         "2023-09-05T15:45:43Z",
         "invalid_duration"
        ],
        [
         "EVT10021",
         "2023-09-04T14:10:59Z",
         "2672"
        ],
        [
         "EVT10022",
         "2023-09-13T23:37:14Z",
         "3639"
        ],
        [
         "EVT10023",
         "2023-09-05T14:32:12Z",
         "4347"
        ],
        [
         "EVT10024",
         "2023-09-09T21:51:44Z",
         "975"
        ],
        [
         "EVT10025",
         "2023-09-06T13:34:59Z",
         "2597"
        ],
        [
         "EVT10026",
         "2023-09-10T04:57:21Z",
         "1068"
        ],
        [
         "EVT10027",
         "2023-09-12T20:00:54Z",
         "2801"
        ],
        [
         "EVT10028",
         "2023-09-06T21:12:18Z",
         "4227"
        ],
        [
         "EVT10029",
         "2023-09-09T16:34:37Z",
         "2590"
        ],
        [
         "EVT10030",
         null,
         "4993"
        ],
        [
         "EVT10031",
         null,
         "1155"
        ],
        [
         "EVT10032",
         null,
         "3993"
        ],
        [
         "EVT10033",
         null,
         "1095"
        ],
        [
         "EVT10034",
         null,
         "1375"
        ],
        [
         "EVT10035",
         null,
         "292"
        ],
        [
         "EVT10036",
         null,
         "1232"
        ],
        [
         "EVT10037",
         null,
         "16987"
        ],
        [
         "EVT10038",
         null,
         "1815"
        ],
        [
         "EVT10039",
         null,
         "1569"
        ],
        [
         "EVT10040",
         null,
         "10883"
        ],
        [
         "EVT10041",
         "2023-09-12T07:25:35Z",
         "412"
        ],
        [
         "EVT10042",
         "2023-09-11T18:24:30Z",
         "21888"
        ],
        [
         "EVT10043",
         "2023-09-11T19:36:48Z",
         "12220"
        ],
        [
         "EVT10044",
         "2023-09-06T12:42:13Z",
         "4216"
        ],
        [
         "EVT10045",
         "2023-09-07T17:09:48Z",
         "2211"
        ],
        [
         "EVT10046",
         "2023-09-07T08:27:21Z",
         "736"
        ],
        [
         "EVT10047",
         "2023-09-04T18:52:36Z",
         "3276"
        ],
        [
         "EVT10048",
         "2023-09-05T14:48:35Z",
         "5579"
        ],
        [
         "EVT10049",
         "2023-09-07T14:51:28Z",
         "6779"
        ],
        [
         "EVT10050",
         "2023-09-14T13:35:26Z",
         "13871"
        ],
        [
         "EVT10051",
         "2023-09-06T08:01:36Z",
         "14787"
        ],
        [
         "EVT10052",
         "2023-09-10T16:44:18Z",
         "6865"
        ],
        [
         "EVT10053",
         "2023-09-12T09:49:56Z",
         "27730"
        ],
        [
         "EVT10054",
         "2023-09-01T09:36:15Z",
         "1524"
        ],
        [
         "EVT10055",
         "2023-09-11T09:15:08Z",
         "3337"
        ],
        [
         "EVT10056",
         "2023-09-01T04:31:17Z",
         "6475"
        ],
        [
         "EVT10057",
         "2023-09-13T09:27:46Z",
         "9710"
        ],
        [
         "EVT10058",
         "2023-09-11T11:02:53Z",
         "980"
        ],
        [
         "EVT10059",
         "2023-09-14T21:30:09Z",
         "973"
        ],
        [
         "EVT10060",
         "2023-09-01T15:07:18Z",
         "23388"
        ],
        [
         "EVT10061",
         "2023-09-04T14:30:37Z",
         "256"
        ],
        [
         "EVT10062",
         "2023-09-04T17:12:15Z",
         "3875"
        ],
        [
         "EVT10063",
         "2023-09-12T12:44:32Z",
         "1299"
        ],
        [
         "EVT10064",
         "2023-09-04T23:40:28Z",
         "1660"
        ],
        [
         "EVT10065",
         "2023-09-07T22:58:20Z",
         "8308"
        ],
        [
         "EVT10066",
         "2023-09-13T00:29:41Z",
         "15889"
        ],
        [
         "EVT10067",
         "2023-09-10T05:25:40Z",
         "704"
        ],
        [
         "EVT10068",
         "2023-09-05T05:33:00Z",
         "8309"
        ],
        [
         "EVT10069",
         "2023-09-03T05:51:18Z",
         "485"
        ],
        [
         "EVT10070",
         "2023-09-11T14:43:45Z",
         "22374"
        ],
        [
         "EVT10071",
         "2023-09-03T23:01:50Z",
         "3849"
        ],
        [
         "EVT10072",
         "2023-09-06T05:50:54Z",
         "24726"
        ],
        [
         "EVT10073",
         "2023-09-09T23:39:25Z",
         "2165"
        ],
        [
         "EVT10074",
         "2023-09-01T07:39:05Z",
         "1933"
        ],
        [
         "EVT10075",
         "2023-09-11T10:53:30Z",
         "4576"
        ],
        [
         "EVT10076",
         "2023-09-05T23:05:20Z",
         "17175"
        ],
        [
         "EVT10077",
         "2023-09-03T07:28:45Z",
         "4300"
        ],
        [
         "EVT10078",
         "2023-09-12T23:29:55Z",
         "4192"
        ],
        [
         "EVT10079",
         "2023-09-11T20:30:13Z",
         "990"
        ],
        [
         "EVT10080",
         "2023-09-08T11:51:44Z",
         "1636"
        ],
        [
         "EVT10081",
         "2023-09-01T21:09:15Z",
         "2652"
        ],
        [
         "EVT10082",
         "2023-09-03T08:58:12Z",
         "586"
        ],
        [
         "EVT10083",
         "2023-09-13T09:59:44Z",
         "1695"
        ],
        [
         "EVT10084",
         "2023-09-13T00:42:27Z",
         "499"
        ],
        [
         "EVT10085",
         "2023-09-05T19:07:54Z",
         "9264"
        ],
        [
         "EVT10086",
         "2023-09-03T20:24:17Z",
         "22918"
        ],
        [
         "EVT10087",
         "2023-09-10T11:57:08Z",
         "2919"
        ],
        [
         "EVT10088",
         "2023-09-04T19:06:14Z",
         "731"
        ],
        [
         "EVT10089",
         "2023-09-08T17:38:24Z",
         "1544"
        ],
        [
         "EVT10090",
         "2023-09-12T06:59:09Z",
         "1406"
        ],
        [
         "EVT10091",
         "2023-09-05T15:58:35Z",
         "810"
        ],
        [
         "EVT10092",
         "2023-09-11T00:04:52Z",
         "14900"
        ],
        [
         "EVT10093",
         "2023-09-06T23:06:18Z",
         "556"
        ],
        [
         "EVT10094",
         "2023-09-09T13:16:42Z",
         "2233"
        ],
        [
         "EVT10095",
         "2023-09-12T13:43:48Z",
         "2161"
        ],
        [
         "EVT10096",
         "2023-09-03T10:39:36Z",
         "1365"
        ],
        [
         "EVT10097",
         "2023-09-02T09:44:49Z",
         "3856"
        ],
        [
         "EVT10098",
         "2023-09-11T10:36:48Z",
         "2661"
        ],
        [
         "EVT10099",
         "2023-09-12T16:16:20Z",
         "2761"
        ],
        [
         "EVT10100",
         "2023-09-07T11:46:10Z",
         "3691"
        ],
        [
         "EVT10101",
         "2023-09-09T17:39:20Z",
         "6123"
        ],
        [
         "EVT10102",
         "2023-09-07T12:35:12Z",
         "1459"
        ],
        [
         "EVT10103",
         "2023-09-03T12:52:08Z",
         "2101"
        ],
        [
         "EVT10104",
         "2023-09-14T21:39:40Z",
         "4251"
        ],
        [
         "EVT10105",
         "2023-09-07T11:38:31Z",
         "1201"
        ],
        [
         "EVT10106",
         "2023-09-06T00:27:37Z",
         "2153"
        ],
        [
         "EVT10107",
         "2023-09-03T22:31:20Z",
         "475"
        ],
        [
         "EVT10108",
         "2023-09-14T06:20:09Z",
         "2346"
        ],
        [
         "EVT10109",
         "2023-09-13T06:26:15Z",
         "3494"
        ],
        [
         "EVT10110",
         "2023-09-05T23:03:03Z",
         "981"
        ],
        [
         "EVT10111",
         "2023-09-03T09:03:39Z",
         "1582"
        ],
        [
         "EVT10112",
         "2023-09-06T08:15:38Z",
         "2527"
        ],
        [
         "EVT10113",
         "2023-09-10T09:39:09Z",
         "31383"
        ],
        [
         "EVT10114",
         "2023-09-02T04:52:57Z",
         "8476"
        ],
        [
         "EVT10115",
         "2023-09-10T16:19:12Z",
         "3507"
        ],
        [
         "EVT10116",
         "2023-09-10T10:01:58Z",
         "7418"
        ],
        [
         "EVT10117",
         "2023-09-09T06:07:30Z",
         "3440"
        ],
        [
         "EVT10118",
         "2023-09-13T13:18:43Z",
         "4870"
        ],
        [
         "EVT10119",
         "2023-09-07T19:05:19Z",
         "1586"
        ],
        [
         "EVT10120",
         "2023-09-12T04:47:45Z",
         "723"
        ],
        [
         "EVT10121",
         "2023-09-04T02:26:44Z",
         "16867"
        ],
        [
         "EVT10122",
         "2023-09-07T10:19:14Z",
         "536"
        ],
        [
         "EVT10123",
         "2023-09-09T08:48:29Z",
         "287"
        ],
        [
         "EVT10124",
         "2023-09-14T01:25:55Z",
         "1221"
        ],
        [
         "EVT10125",
         "2023-09-01T15:13:05Z",
         "4419"
        ],
        [
         "EVT10126",
         "2023-09-04T15:36:00Z",
         "677"
        ],
        [
         "EVT10127",
         "2023-09-13T19:57:36Z",
         "1396"
        ],
        [
         "EVT10128",
         "2023-09-11T05:12:21Z",
         "4486"
        ],
        [
         "EVT10129",
         "2023-09-10T02:11:09Z",
         "2511"
        ],
        [
         "EVT10130",
         "2023-09-14T10:33:32Z",
         "631"
        ],
        [
         "EVT10131",
         "2023-09-10T04:41:22Z",
         "4423"
        ],
        [
         "EVT10132",
         "2023-09-04T12:42:13Z",
         "3154"
        ],
        [
         "EVT10133",
         "2023-09-05T09:09:13Z",
         "1502"
        ],
        [
         "EVT10134",
         "2023-09-11T07:23:19Z",
         "21187"
        ],
        [
         "EVT10135",
         "2023-09-06T15:02:03Z",
         "237"
        ],
        [
         "EVT10136",
         "2023-09-10T19:05:09Z",
         "5047"
        ],
        [
         "EVT10137",
         "2023-09-14T15:42:30Z",
         "4042"
        ],
        [
         "EVT10138",
         "2023-09-04T12:14:44Z",
         "2979"
        ],
        [
         "EVT10139",
         "2023-09-08T18:56:59Z",
         "3985"
        ],
        [
         "EVT10140",
         "2023-09-07T03:14:52Z",
         "1219"
        ],
        [
         "EVT10141",
         "2023-09-14T07:26:52Z",
         "14176"
        ],
        [
         "EVT10142",
         "2023-09-08T17:26:16Z",
         "1318"
        ],
        [
         "EVT10143",
         "2023-09-08T16:36:05Z",
         "1982"
        ],
        [
         "EVT10144",
         "2023-09-02T06:36:09Z",
         "27373"
        ],
        [
         "EVT10145",
         "2023-09-13T03:08:03Z",
         "951"
        ],
        [
         "EVT10146",
         "2023-09-14T11:27:24Z",
         "1667"
        ],
        [
         "EVT10147",
         "2023-09-09T11:56:21Z",
         "2561"
        ],
        [
         "EVT10148",
         "2023-09-11T16:37:51Z",
         "880"
        ],
        [
         "EVT10149",
         "2023-09-06T17:36:22Z",
         "769"
        ],
        [
         "EVT10150",
         "2023-09-07T02:30:08Z",
         "1375"
        ],
        [
         "EVT10151",
         "2023-09-11T20:32:47Z",
         "870"
        ],
        [
         "EVT10152",
         "2023-09-09T22:58:00Z",
         "601"
        ],
        [
         "EVT10153",
         "2023-09-14T11:05:04Z",
         "717"
        ],
        [
         "EVT10154",
         "2023-09-03T22:22:57Z",
         "4076"
        ],
        [
         "EVT10155",
         "2023-09-11T17:16:20Z",
         "1912"
        ],
        [
         "EVT10156",
         "2023-09-03T08:52:33Z",
         "1782"
        ],
        [
         "EVT10157",
         "2023-09-01T19:23:34Z",
         "12500"
        ],
        [
         "EVT10158",
         "2023-09-10T03:00:33Z",
         "12974"
        ],
        [
         "EVT10159",
         "2023-09-05T04:51:35Z",
         "881"
        ],
        [
         "EVT10160",
         "2023-09-02T13:24:59Z",
         "10692"
        ],
        [
         "EVT10161",
         "2023-09-10T19:26:50Z",
         "1210"
        ],
        [
         "EVT10162",
         "2023-09-08T09:59:54Z",
         "6408"
        ],
        [
         "EVT10163",
         "2023-09-05T05:29:40Z",
         "5547"
        ],
        [
         "EVT10164",
         "2023-09-03T03:50:41Z",
         "1405"
        ],
        [
         "EVT10165",
         "2023-09-02T05:37:55Z",
         "1176"
        ],
        [
         "EVT10166",
         "2023-09-14T15:18:31Z",
         "4467"
        ],
        [
         "EVT10167",
         "2023-09-05T22:26:12Z",
         "4761"
        ],
        [
         "EVT10168",
         "2023-09-05T20:25:39Z",
         "2269"
        ],
        [
         "EVT10169",
         "2023-09-10T08:00:06Z",
         "4181"
        ],
        [
         "EVT10170",
         "2023-09-07T22:50:37Z",
         "22351"
        ],
        [
         "EVT10171",
         "2023-09-11T03:18:23Z",
         "1960"
        ],
        [
         "EVT10172",
         "2023-09-13T14:45:22Z",
         "792"
        ],
        [
         "EVT10173",
         "2023-09-11T17:46:06Z",
         "3028"
        ],
        [
         "EVT10174",
         "2023-09-02T16:22:21Z",
         "3223"
        ],
        [
         "EVT10175",
         "2023-09-06T02:24:27Z",
         "741"
        ],
        [
         "EVT10176",
         "2023-09-12T23:54:06Z",
         "2686"
        ],
        [
         "EVT10177",
         "2023-09-01T21:07:52Z",
         "2904"
        ],
        [
         "EVT10178",
         "2023-09-09T15:08:11Z",
         "1283"
        ],
        [
         "EVT10179",
         "2023-09-13T14:43:13Z",
         "9230"
        ],
        [
         "EVT10180",
         "2023-09-02T15:08:20Z",
         "3442"
        ],
        [
         "EVT10181",
         "2023-09-05T11:26:24Z",
         "15082"
        ],
        [
         "EVT10182",
         "2023-09-11T00:33:02Z",
         "2094"
        ],
        [
         "EVT10183",
         "2023-09-08T18:22:52Z",
         "4670"
        ],
        [
         "EVT10184",
         "2023-09-07T20:33:37Z",
         "4029"
        ],
        [
         "EVT10185",
         "2023-09-05T07:16:12Z",
         "2315"
        ],
        [
         "EVT10186",
         "2023-09-09T15:34:07Z",
         "2993"
        ],
        [
         "EVT10187",
         "2023-09-11T22:06:59Z",
         "804"
        ],
        [
         "EVT10188",
         "2023-09-08T16:19:55Z",
         "1090"
        ],
        [
         "EVT10189",
         "2023-09-13T09:54:20Z",
         "4908"
        ],
        [
         "EVT10190",
         "2023-09-02T00:13:13Z",
         "4839"
        ],
        [
         "EVT10191",
         "2023-09-06T17:05:56Z",
         "3971"
        ],
        [
         "EVT10192",
         "2023-09-09T23:07:19Z",
         "753"
        ],
        [
         "EVT10193",
         "2023-09-07T08:23:38Z",
         "2528"
        ],
        [
         "EVT10194",
         "2023-09-14T22:23:57Z",
         "5819"
        ],
        [
         "EVT10195",
         "2023-09-12T03:28:37Z",
         "9395"
        ],
        [
         "EVT10196",
         "2023-09-11T03:31:39Z",
         "1780"
        ],
        [
         "EVT10197",
         "2023-09-06T18:10:49Z",
         "6890"
        ],
        [
         "EVT10198",
         "2023-09-06T08:35:19Z",
         "792"
        ],
        [
         "EVT10199",
         "2023-09-06T17:58:15Z",
         "4717"
        ],
        [
         "EVT10200",
         "2023-09-09T10:13:32Z",
         "24663"
        ],
        [
         "EVT10201",
         "2023-09-10T08:06:41Z",
         "6183"
        ],
        [
         "EVT10202",
         "2023-09-07T09:10:01Z",
         "20980"
        ],
        [
         "EVT10203",
         "2023-09-08T10:35:42Z",
         "34134"
        ],
        [
         "EVT10204",
         "2023-09-06T21:27:52Z",
         "3518"
        ],
        [
         "EVT10205",
         "2023-09-06T06:41:06Z",
         "902"
        ],
        [
         "EVT10206",
         "2023-09-02T06:35:18Z",
         "4002"
        ],
        [
         "EVT10207",
         "2023-09-08T11:05:09Z",
         "1221"
        ],
        [
         "EVT10208",
         "2023-09-06T23:16:39Z",
         "189"
        ],
        [
         "EVT10209",
         "2023-09-02T23:55:25Z",
         "298"
        ],
        [
         "EVT10210",
         "2023-09-11T20:42:46Z",
         "2206"
        ],
        [
         "EVT10211",
         "2023-09-13T11:58:15Z",
         "7823"
        ],
        [
         "EVT10212",
         "2023-09-10T12:13:40Z",
         "17534"
        ],
        [
         "EVT10213",
         "2023-09-09T22:25:51Z",
         "1463"
        ],
        [
         "EVT10214",
         "2023-09-03T18:34:11Z",
         "1599"
        ],
        [
         "EVT10215",
         "2023-09-03T15:39:47Z",
         "4870"
        ],
        [
         "EVT10216",
         "2023-09-09T08:32:01Z",
         "3251"
        ],
        [
         "EVT10217",
         "2023-09-03T13:06:14Z",
         "1194"
        ],
        [
         "EVT10218",
         "2023-09-01T10:20:38Z",
         "499"
        ],
        [
         "EVT10219",
         "2023-09-12T21:22:54Z",
         "1094"
        ],
        [
         "EVT10220",
         "2023-09-02T01:39:11Z",
         "3780"
        ],
        [
         "EVT10221",
         "2023-09-06T07:18:02Z",
         "2460"
        ],
        [
         "EVT10222",
         "2023-09-14T08:29:40Z",
         "5460"
        ],
        [
         "EVT10223",
         "2023-09-05T03:07:36Z",
         "4934"
        ],
        [
         "EVT10224",
         "2023-09-03T13:10:32Z",
         "420"
        ],
        [
         "EVT10225",
         "2023-09-04T04:39:31Z",
         "1440"
        ],
        [
         "EVT10226",
         "2023-09-11T14:55:15Z",
         "1176"
        ],
        [
         "EVT10227",
         "2023-09-05T01:02:11Z",
         "799"
        ],
        [
         "EVT10228",
         "2023-09-08T19:18:46Z",
         "3024"
        ],
        [
         "EVT10229",
         "2023-09-07T21:55:11Z",
         "511"
        ],
        [
         "EVT10230",
         "2023-09-02T17:26:50Z",
         "5457"
        ],
        [
         "EVT10231",
         "2023-09-08T17:08:49Z",
         "2140"
        ],
        [
         "EVT10232",
         "2023-09-07T01:20:24Z",
         "972"
        ],
        [
         "EVT10233",
         "2023-09-05T05:38:31Z",
         "6521"
        ],
        [
         "EVT10234",
         "2023-09-08T11:48:51Z",
         "1693"
        ],
        [
         "EVT10235",
         "2023-09-03T18:49:29Z",
         "764"
        ],
        [
         "EVT10236",
         "2023-09-14T15:10:01Z",
         "1865"
        ],
        [
         "EVT10237",
         "2023-09-12T10:44:18Z",
         "1655"
        ],
        [
         "EVT10238",
         "2023-09-01T14:34:16Z",
         "4773"
        ],
        [
         "EVT10239",
         "2023-09-06T21:34:47Z",
         "13009"
        ],
        [
         "EVT10240",
         "2023-09-01T20:04:54Z",
         "11352"
        ],
        [
         "EVT10241",
         "2023-09-02T11:48:20Z",
         "10943"
        ],
        [
         "EVT10242",
         "2023-09-05T02:28:44Z",
         "433"
        ],
        [
         "EVT10243",
         "2023-09-10T05:58:28Z",
         "3448"
        ],
        [
         "EVT10244",
         "2023-09-12T12:20:12Z",
         "362"
        ],
        [
         "EVT10245",
         "2023-09-05T16:58:25Z",
         "1228"
        ],
        [
         "EVT10246",
         "2023-09-09T19:55:24Z",
         "3754"
        ],
        [
         "EVT10247",
         "2023-09-06T16:31:42Z",
         "1329"
        ],
        [
         "EVT10248",
         "2023-09-11T19:02:09Z",
         "620"
        ],
        [
         "EVT10249",
         "2023-09-11T19:06:50Z",
         "1014"
        ],
        [
         "EVT10250",
         "2023-09-03T06:22:19Z",
         "512"
        ],
        [
         "EVT10251",
         "2023-09-09T10:26:28Z",
         "585"
        ],
        [
         "EVT10252",
         "2023-09-11T10:02:57Z",
         "4801"
        ],
        [
         "EVT10253",
         "2023-09-11T01:16:35Z",
         "587"
        ],
        [
         "EVT10254",
         "2023-09-06T14:50:15Z",
         "2930"
        ],
        [
         "EVT10255",
         "2023-09-11T09:17:39Z",
         "608"
        ],
        [
         "EVT10256",
         "2023-09-09T14:21:25Z",
         "1557"
        ],
        [
         "EVT10257",
         "2023-09-11T18:47:18Z",
         "1154"
        ],
        [
         "EVT10258",
         "2023-09-12T14:31:43Z",
         "1393"
        ],
        [
         "EVT10259",
         "2023-09-13T12:00:30Z",
         "2236"
        ],
        [
         "EVT10260",
         "2023-09-12T01:31:44Z",
         "1289"
        ],
        [
         "EVT10261",
         "2023-09-12T20:55:12Z",
         "815"
        ],
        [
         "EVT10262",
         "2023-09-14T17:08:51Z",
         "712"
        ],
        [
         "EVT10263",
         "2023-09-09T17:50:31Z",
         "1277"
        ],
        [
         "EVT10264",
         "2023-09-09T01:42:29Z",
         "1103"
        ],
        [
         "EVT10265",
         "2023-09-06T18:26:27Z",
         "9320"
        ],
        [
         "EVT10266",
         "2023-09-14T16:54:48Z",
         "1997"
        ],
        [
         "EVT10267",
         "2023-09-02T15:02:40Z",
         "1672"
        ],
        [
         "EVT10268",
         "2023-09-06T07:06:36Z",
         "1056"
        ],
        [
         "EVT10269",
         "2023-09-09T21:02:08Z",
         "5441"
        ],
        [
         "EVT10270",
         "2023-09-05T10:25:41Z",
         "6780"
        ],
        [
         "EVT10271",
         "2023-09-13T21:50:12Z",
         "1125"
        ],
        [
         "EVT10272",
         "2023-09-04T11:00:05Z",
         "247"
        ],
        [
         "EVT10273",
         "2023-09-08T09:39:16Z",
         "2378"
        ],
        [
         "EVT10274",
         "2023-09-11T19:58:42Z",
         "1626"
        ],
        [
         "EVT10275",
         "2023-09-13T23:09:27Z",
         "1926"
        ],
        [
         "EVT10276",
         "2023-09-12T06:41:37Z",
         "5146"
        ],
        [
         "EVT10277",
         "2023-09-06T14:11:39Z",
         "1155"
        ],
        [
         "EVT10278",
         "2023-09-03T05:34:48Z",
         "3051"
        ],
        [
         "EVT10279",
         "2023-09-05T15:07:02Z",
         "1659"
        ],
        [
         "EVT10280",
         "2023-09-08T13:53:20Z",
         "3303"
        ],
        [
         "EVT10281",
         "2023-09-09T00:41:00Z",
         "836"
        ],
        [
         "EVT10282",
         "2023-09-05T22:13:46Z",
         "2634"
        ],
        [
         "EVT10283",
         "2023-09-11T18:32:12Z",
         "1851"
        ],
        [
         "EVT10284",
         "2023-09-02T18:56:39Z",
         "4853"
        ],
        [
         "EVT10285",
         "2023-09-07T14:38:26Z",
         "3084"
        ],
        [
         "EVT10286",
         "2023-09-07T13:32:18Z",
         "1564"
        ],
        [
         "EVT10287",
         "2023-09-05T09:41:13Z",
         "2813"
        ],
        [
         "EVT10288",
         "2023-09-04T05:50:42Z",
         "3207"
        ],
        [
         "EVT10289",
         "2023-09-03T18:21:12Z",
         "2094"
        ],
        [
         "EVT10290",
         "2023-09-12T14:40:25Z",
         "603"
        ],
        [
         "EVT10291",
         "2023-09-12T06:34:02Z",
         "526"
        ],
        [
         "EVT10292",
         "2023-09-12T19:22:47Z",
         "27223"
        ],
        [
         "EVT10293",
         "2023-09-07T15:41:29Z",
         "300"
        ],
        [
         "EVT10294",
         "2023-09-14T11:13:09Z",
         "813"
        ],
        [
         "EVT10295",
         "2023-09-01T20:34:35Z",
         "4747"
        ],
        [
         "EVT10296",
         "2023-09-13T15:21:25Z",
         "417"
        ],
        [
         "EVT10297",
         "2023-09-13T11:58:32Z",
         "23587"
        ],
        [
         "EVT10298",
         "2023-09-11T22:17:30Z",
         "1122"
        ],
        [
         "EVT10299",
         "2023-09-10T21:05:35Z",
         "11764"
        ],
        [
         "EVT10300",
         "2023-09-05T11:55:44Z",
         "932"
        ],
        [
         "EVT10301",
         "2023-09-01T02:06:07Z",
         "601"
        ],
        [
         "EVT10302",
         "2023-09-03T17:15:53Z",
         "4215"
        ],
        [
         "EVT10303",
         "2023-09-01T07:13:37Z",
         "1926"
        ],
        [
         "EVT10304",
         "2023-09-11T06:28:31Z",
         "5667"
        ],
        [
         "EVT10305",
         "2023-09-12T15:18:11Z",
         "3373"
        ],
        [
         "EVT10306",
         "2023-09-04T05:34:36Z",
         "9986"
        ],
        [
         "EVT10307",
         "2023-09-11T17:03:53Z",
         "260"
        ],
        [
         "EVT10308",
         "2023-09-13T06:39:52Z",
         "586"
        ],
        [
         "EVT10309",
         "2023-09-07T04:16:55Z",
         "730"
        ],
        [
         "EVT10310",
         "2023-09-02T14:27:28Z",
         "1926"
        ],
        [
         "EVT10311",
         "2023-09-06T07:09:55Z",
         "5751"
        ],
        [
         "EVT10312",
         "2023-09-14T00:26:41Z",
         "1476"
        ],
        [
         "EVT10313",
         "2023-09-06T19:13:06Z",
         "4447"
        ],
        [
         "EVT10314",
         "2023-09-03T22:10:40Z",
         "15991"
        ],
        [
         "EVT10315",
         "2023-09-06T03:55:44Z",
         "10524"
        ],
        [
         "EVT10316",
         "2023-09-12T13:21:56Z",
         "8248"
        ],
        [
         "EVT10317",
         "2023-09-10T22:26:19Z",
         "6693"
        ],
        [
         "EVT10318",
         "2023-09-10T05:37:04Z",
         "2192"
        ],
        [
         "EVT10319",
         "2023-09-09T15:18:17Z",
         "3181"
        ],
        [
         "EVT10320",
         "2023-09-10T13:07:32Z",
         "3143"
        ],
        [
         "EVT10321",
         "2023-09-11T13:15:18Z",
         "1922"
        ],
        [
         "EVT10322",
         "2023-09-10T23:27:29Z",
         "4126"
        ],
        [
         "EVT10323",
         "2023-09-12T23:42:42Z",
         "1417"
        ],
        [
         "EVT10324",
         "2023-09-03T18:42:03Z",
         "3423"
        ],
        [
         "EVT10325",
         "2023-09-13T01:48:20Z",
         "1585"
        ],
        [
         "EVT10326",
         "2023-09-10T14:00:40Z",
         "3844"
        ],
        [
         "EVT10327",
         "2023-09-14T23:19:15Z",
         "2908"
        ],
        [
         "EVT10328",
         "2023-09-11T01:37:02Z",
         "172"
        ],
        [
         "EVT10329",
         "2023-09-10T21:13:16Z",
         "1696"
        ],
        [
         "EVT10330",
         "2023-09-03T05:45:54Z",
         "1077"
        ],
        [
         "EVT10331",
         "2023-09-08T06:16:31Z",
         "1972"
        ],
        [
         "EVT10332",
         "2023-09-13T12:02:38Z",
         "20390"
        ],
        [
         "EVT10333",
         "2023-09-14T13:12:35Z",
         "3685"
        ],
        [
         "EVT10334",
         "2023-09-02T10:19:37Z",
         "382"
        ],
        [
         "EVT10335",
         "2023-09-10T13:36:57Z",
         "376"
        ],
        [
         "EVT10336",
         "2023-09-02T03:12:21Z",
         "20920"
        ],
        [
         "EVT10337",
         "2023-09-14T01:20:33Z",
         "22685"
        ],
        [
         "EVT10338",
         "2023-09-02T22:52:45Z",
         "4473"
        ],
        [
         "EVT10339",
         "2023-09-09T08:13:38Z",
         "1437"
        ],
        [
         "EVT10340",
         "2023-09-11T08:27:09Z",
         "1549"
        ],
        [
         "EVT10341",
         "2023-09-07T17:32:08Z",
         "787"
        ],
        [
         "EVT10342",
         "2023-09-01T07:56:13Z",
         "3434"
        ],
        [
         "EVT10343",
         "2023-09-04T02:18:00Z",
         "372"
        ],
        [
         "EVT10344",
         "2023-09-03T14:43:17Z",
         "4324"
        ],
        [
         "EVT10345",
         "2023-09-07T23:55:21Z",
         "4529"
        ],
        [
         "EVT10346",
         "2023-09-01T10:50:20Z",
         "9310"
        ],
        [
         "EVT10347",
         "2023-09-09T18:27:26Z",
         "16737"
        ],
        [
         "EVT10348",
         "2023-09-05T22:02:45Z",
         "2700"
        ],
        [
         "EVT10349",
         "2023-09-03T15:46:28Z",
         "3232"
        ],
        [
         "EVT10350",
         "2023-09-04T18:25:56Z",
         "15516"
        ],
        [
         "EVT10351",
         "2023-09-07T03:07:03Z",
         "16186"
        ],
        [
         "EVT10352",
         "2023-09-12T11:37:16Z",
         "3133"
        ],
        [
         "EVT10353",
         "2023-09-08T15:53:22Z",
         "7804"
        ],
        [
         "EVT10354",
         "2023-09-11T17:33:20Z",
         "1557"
        ],
        [
         "EVT10355",
         "2023-09-06T10:15:35Z",
         "124"
        ],
        [
         "EVT10356",
         "2023-09-13T09:06:48Z",
         "3599"
        ],
        [
         "EVT10357",
         "2023-09-04T11:09:09Z",
         "5023"
        ],
        [
         "EVT10358",
         "2023-09-10T00:15:26Z",
         "919"
        ],
        [
         "EVT10359",
         "2023-09-02T05:54:08Z",
         "2256"
        ],
        [
         "EVT10360",
         "2023-09-03T14:18:11Z",
         "3276"
        ],
        [
         "EVT10361",
         "2023-09-10T10:12:34Z",
         "1725"
        ],
        [
         "EVT10362",
         "2023-09-02T21:03:29Z",
         "710"
        ],
        [
         "EVT10363",
         "2023-09-01T23:59:44Z",
         "1376"
        ],
        [
         "EVT10364",
         "2023-09-06T19:52:03Z",
         "3175"
        ],
        [
         "EVT10365",
         "2023-09-06T15:39:51Z",
         "6533"
        ],
        [
         "EVT10366",
         "2023-09-01T00:24:29Z",
         "1687"
        ],
        [
         "EVT10367",
         "2023-09-13T02:12:10Z",
         "17167"
        ],
        [
         "EVT10368",
         "2023-09-09T00:56:36Z",
         "3032"
        ],
        [
         "EVT10369",
         "2023-09-12T02:22:51Z",
         "4516"
        ],
        [
         "EVT10370",
         "2023-09-07T07:45:10Z",
         "476"
        ],
        [
         "EVT10371",
         "2023-09-05T17:27:22Z",
         "1881"
        ],
        [
         "EVT10372",
         "2023-09-08T03:26:08Z",
         "2327"
        ],
        [
         "EVT10373",
         "2023-09-02T22:02:13Z",
         "2999"
        ],
        [
         "EVT10374",
         "2023-09-02T13:37:17Z",
         "5901"
        ],
        [
         "EVT10375",
         "2023-09-03T19:49:04Z",
         "2347"
        ],
        [
         "EVT10376",
         "2023-09-01T16:22:17Z",
         "4985"
        ],
        [
         "EVT10377",
         "2023-09-04T11:35:07Z",
         "918"
        ],
        [
         "EVT10378",
         "2023-09-01T18:35:16Z",
         "20920"
        ],
        [
         "EVT10379",
         "2023-09-12T00:25:14Z",
         "3738"
        ],
        [
         "EVT10380",
         "2023-09-12T10:39:10Z",
         "6348"
        ],
        [
         "EVT10381",
         "2023-09-10T23:30:58Z",
         "1171"
        ],
        [
         "EVT10382",
         "2023-09-11T02:20:18Z",
         "249"
        ],
        [
         "EVT10383",
         "2023-09-13T07:09:53Z",
         "7786"
        ],
        [
         "EVT10384",
         "2023-09-02T14:16:10Z",
         "7494"
        ],
        [
         "EVT10385",
         "2023-09-08T18:09:18Z",
         "6318"
        ],
        [
         "EVT10386",
         "2023-09-10T17:04:24Z",
         "2960"
        ],
        [
         "EVT10387",
         "2023-09-07T14:24:19Z",
         "1421"
        ],
        [
         "EVT10388",
         "2023-09-14T16:19:30Z",
         "5850"
        ],
        [
         "EVT10389",
         "2023-09-05T22:43:56Z",
         "1854"
        ],
        [
         "EVT10390",
         "2023-09-05T17:07:20Z",
         "1917"
        ],
        [
         "EVT10391",
         "2023-09-04T03:50:05Z",
         "10184"
        ],
        [
         "EVT10392",
         "2023-09-02T08:41:21Z",
         "1887"
        ],
        [
         "EVT10393",
         "2023-09-04T03:06:14Z",
         "1153"
        ],
        [
         "EVT10394",
         "2023-09-10T01:06:42Z",
         "3346"
        ],
        [
         "EVT10395",
         "2023-09-07T06:11:24Z",
         "2171"
        ],
        [
         "EVT10396",
         "2023-09-08T01:28:31Z",
         "2543"
        ],
        [
         "EVT10397",
         "2023-09-07T22:45:22Z",
         "91"
        ],
        [
         "EVT10398",
         "2023-09-14T05:21:06Z",
         "2717"
        ],
        [
         "EVT10399",
         "2023-09-10T11:31:01Z",
         "4483"
        ],
        [
         "EVT10400",
         "2023-09-06T12:58:51Z",
         "5030"
        ],
        [
         "EVT10401",
         "2023-09-11T23:58:07Z",
         "23920"
        ],
        [
         "EVT10402",
         "2023-09-14T19:00:06Z",
         "14264"
        ],
        [
         "EVT10403",
         "2023-09-13T23:11:16Z",
         "8358"
        ],
        [
         "EVT10404",
         "2023-09-04T04:00:19Z",
         "2314"
        ],
        [
         "EVT10405",
         "2023-09-05T12:06:26Z",
         "2158"
        ],
        [
         "EVT10406",
         "2023-09-10T17:55:32Z",
         "957"
        ],
        [
         "EVT10407",
         "2023-09-05T01:59:11Z",
         "369"
        ],
        [
         "EVT10408",
         "2023-09-06T07:52:05Z",
         "1234"
        ],
        [
         "EVT10409",
         "2023-09-06T00:23:18Z",
         "20415"
        ],
        [
         "EVT10410",
         "2023-09-02T14:57:21Z",
         "7972"
        ],
        [
         "EVT10411",
         "2023-09-04T22:53:32Z",
         "7146"
        ],
        [
         "EVT10412",
         "2023-09-11T14:33:55Z",
         "3076"
        ],
        [
         "EVT10413",
         "2023-09-03T16:29:47Z",
         "946"
        ],
        [
         "EVT10414",
         "2023-09-04T01:26:20Z",
         "865"
        ],
        [
         "EVT10415",
         "2023-09-05T17:26:49Z",
         "22011"
        ],
        [
         "EVT10416",
         "2023-09-01T18:59:51Z",
         "501"
        ],
        [
         "EVT10417",
         "2023-09-09T05:03:18Z",
         "1686"
        ],
        [
         "EVT10418",
         "2023-09-08T16:35:48Z",
         "4060"
        ],
        [
         "EVT10419",
         "2023-09-06T03:28:53Z",
         "2925"
        ],
        [
         "EVT10420",
         "2023-09-06T19:52:25Z",
         "1376"
        ],
        [
         "EVT10421",
         "2023-09-09T14:34:06Z",
         "2452"
        ],
        [
         "EVT10422",
         "2023-09-09T15:51:51Z",
         "584"
        ],
        [
         "EVT10423",
         "2023-09-02T02:34:24Z",
         "6238"
        ],
        [
         "EVT10424",
         "2023-09-08T01:46:32Z",
         "3542"
        ],
        [
         "EVT10425",
         "2023-09-14T04:44:26Z",
         "4385"
        ],
        [
         "EVT10426",
         "2023-09-08T13:32:10Z",
         "3152"
        ],
        [
         "EVT10427",
         "2023-09-06T13:06:10Z",
         "7516"
        ],
        [
         "EVT10428",
         "2023-09-02T14:26:03Z",
         "686"
        ],
        [
         "EVT10429",
         "2023-09-03T03:30:35Z",
         "6316"
        ],
        [
         "EVT10430",
         "2023-09-07T16:30:02Z",
         "7260"
        ],
        [
         "EVT10431",
         "2023-09-10T05:36:59Z",
         "1892"
        ],
        [
         "EVT10432",
         "2023-09-07T14:51:18Z",
         "1913"
        ],
        [
         "EVT10433",
         "2023-09-02T02:54:26Z",
         "662"
        ],
        [
         "EVT10434",
         "2023-09-10T05:20:13Z",
         "1126"
        ],
        [
         "EVT10435",
         "2023-09-04T23:50:42Z",
         "9550"
        ],
        [
         "EVT10436",
         "2023-09-05T09:41:45Z",
         "1711"
        ],
        [
         "EVT10437",
         "2023-09-03T19:37:07Z",
         "4720"
        ],
        [
         "EVT10438",
         "2023-09-03T01:02:39Z",
         "32203"
        ],
        [
         "EVT10439",
         "2023-09-12T23:00:59Z",
         "1565"
        ],
        [
         "EVT10440",
         "2023-09-12T12:30:35Z",
         "3107"
        ],
        [
         "EVT10441",
         "2023-09-04T14:50:20Z",
         "6646"
        ],
        [
         "EVT10442",
         "2023-09-09T02:03:44Z",
         "3895"
        ],
        [
         "EVT10443",
         "2023-09-01T12:29:49Z",
         "1566"
        ],
        [
         "EVT10444",
         "2023-09-08T10:18:21Z",
         "1863"
        ],
        [
         "EVT10445",
         "2023-09-03T08:33:22Z",
         "4574"
        ],
        [
         "EVT10446",
         "2023-09-12T13:39:48Z",
         "4342"
        ],
        [
         "EVT10447",
         "2023-09-02T08:08:10Z",
         "2851"
        ],
        [
         "EVT10448",
         "2023-09-08T11:24:15Z",
         "1544"
        ],
        [
         "EVT10449",
         "2023-09-04T21:38:50Z",
         "697"
        ],
        [
         "EVT10450",
         "2023-09-07T06:00:14Z",
         "1089"
        ],
        [
         "EVT10451",
         "2023-09-02T23:09:01Z",
         "187"
        ],
        [
         "EVT10452",
         "2023-09-13T03:52:08Z",
         "2090"
        ],
        [
         "EVT10453",
         "2023-09-03T22:24:21Z",
         "3318"
        ],
        [
         "EVT10454",
         "2023-09-08T06:22:13Z",
         "4874"
        ],
        [
         "EVT10455",
         "2023-09-08T19:03:48Z",
         "404"
        ],
        [
         "EVT10456",
         "2023-09-05T08:55:55Z",
         "1447"
        ],
        [
         "EVT10457",
         "2023-09-03T22:16:36Z",
         "384"
        ],
        [
         "EVT10458",
         "2023-09-04T18:01:26Z",
         "15864"
        ],
        [
         "EVT10459",
         "2023-09-08T05:05:51Z",
         "117"
        ],
        [
         "EVT10460",
         "2023-09-14T08:58:43Z",
         "3552"
        ],
        [
         "EVT10461",
         "2023-09-01T11:31:45Z",
         "876"
        ],
        [
         "EVT10462",
         "2023-09-13T16:50:02Z",
         "570"
        ],
        [
         "EVT10463",
         "2023-09-09T08:19:06Z",
         "12380"
        ],
        [
         "EVT10464",
         "2023-09-14T20:03:54Z",
         "2351"
        ],
        [
         "EVT10465",
         "2023-09-13T09:46:26Z",
         "920"
        ],
        [
         "EVT10466",
         "2023-09-07T11:31:13Z",
         "425"
        ],
        [
         "EVT10467",
         "2023-09-01T17:17:48Z",
         "1038"
        ],
        [
         "EVT10468",
         "2023-09-03T14:16:03Z",
         "1243"
        ],
        [
         "EVT10469",
         "2023-09-07T22:40:38Z",
         "3376"
        ],
        [
         "EVT10470",
         "2023-09-07T11:33:46Z",
         "10616"
        ],
        [
         "EVT10471",
         "2023-09-13T13:13:40Z",
         "4406"
        ],
        [
         "EVT10472",
         "2023-09-09T18:07:38Z",
         "6806"
        ],
        [
         "EVT10473",
         "2023-09-07T16:37:24Z",
         "4127"
        ],
        [
         "EVT10474",
         "2023-09-01T13:43:35Z",
         "5711"
        ],
        [
         "EVT10475",
         "2023-09-06T14:53:45Z",
         "2068"
        ],
        [
         "EVT10476",
         "2023-09-03T10:02:06Z",
         "1954"
        ],
        [
         "EVT10477",
         "2023-09-02T16:42:47Z",
         "2904"
        ],
        [
         "EVT10478",
         "2023-09-10T20:18:11Z",
         "9071"
        ],
        [
         "EVT10479",
         "2023-09-05T08:43:49Z",
         "524"
        ],
        [
         "EVT10480",
         "2023-09-06T06:16:57Z",
         "8453"
        ],
        [
         "EVT10481",
         "2023-09-01T15:12:21Z",
         "2523"
        ],
        [
         "EVT10482",
         "2023-09-12T12:46:30Z",
         "867"
        ],
        [
         "EVT10483",
         "2023-09-13T12:19:07Z",
         "2938"
        ],
        [
         "EVT10484",
         "2023-09-07T03:20:31Z",
         "353"
        ],
        [
         "EVT10485",
         "2023-09-01T22:14:40Z",
         "1645"
        ],
        [
         "EVT10486",
         "2023-09-08T19:52:43Z",
         "11943"
        ],
        [
         "EVT10487",
         "2023-09-08T09:03:41Z",
         "6383"
        ],
        [
         "EVT10488",
         "2023-09-01T00:56:54Z",
         "531"
        ],
        [
         "EVT10489",
         "2023-09-12T05:41:02Z",
         "1155"
        ],
        [
         "EVT10490",
         "2023-09-09T00:48:39Z",
         "1232"
        ],
        [
         "EVT10491",
         "2023-09-02T08:30:46Z",
         "4490"
        ],
        [
         "EVT10492",
         "2023-09-09T13:38:51Z",
         "10683"
        ],
        [
         "EVT10493",
         "2023-09-01T06:03:20Z",
         "14903"
        ],
        [
         "EVT10494",
         "2023-09-14T06:44:02Z",
         "2410"
        ],
        [
         "EVT10495",
         "2023-09-08T03:42:24Z",
         "3523"
        ],
        [
         "EVT10496",
         "2023-09-06T07:46:24Z",
         "4517"
        ],
        [
         "EVT10497",
         "2023-09-11T15:38:28Z",
         "2988"
        ],
        [
         "EVT10498",
         "2023-09-14T07:16:33Z",
         "792"
        ],
        [
         "EVT10499",
         "2023-09-06T19:49:51Z",
         "281"
        ],
        [
         "EVT10500",
         "2023-09-08T20:14:02Z",
         "1015"
        ],
        [
         "EVT10501",
         "2023-09-13T22:38:51Z",
         "293"
        ],
        [
         "EVT10502",
         "2023-09-03T08:44:14Z",
         "8768"
        ],
        [
         "EVT10503",
         "2023-09-11T06:56:55Z",
         "4068"
        ],
        [
         "EVT10504",
         "2023-09-07T07:35:31Z",
         "4291"
        ],
        [
         "EVT10505",
         "2023-09-03T02:17:04Z",
         "1379"
        ],
        [
         "EVT10506",
         "2023-09-13T00:03:43Z",
         "4344"
        ],
        [
         "EVT10507",
         "2023-09-13T22:34:33Z",
         "2280"
        ],
        [
         "EVT10508",
         "2023-09-05T15:41:14Z",
         "354"
        ],
        [
         "EVT10509",
         "2023-09-07T16:40:31Z",
         "800"
        ],
        [
         "EVT10510",
         "2023-09-06T01:34:53Z",
         "1445"
        ],
        [
         "EVT10511",
         "2023-09-14T18:08:14Z",
         "3029"
        ],
        [
         "EVT10512",
         "2023-09-09T10:29:23Z",
         "12757"
        ],
        [
         "EVT10513",
         "2023-09-10T12:38:15Z",
         "10085"
        ],
        [
         "EVT10514",
         "2023-09-14T21:32:11Z",
         "3024"
        ],
        [
         "EVT10515",
         "2023-09-12T05:48:52Z",
         "4242"
        ],
        [
         "EVT10516",
         "2023-09-09T22:09:41Z",
         "468"
        ],
        [
         "EVT10517",
         "2023-09-06T05:14:09Z",
         "1523"
        ],
        [
         "EVT10518",
         "2023-09-14T10:41:39Z",
         "560"
        ],
        [
         "EVT10519",
         "2023-09-08T08:17:25Z",
         "1505"
        ],
        [
         "EVT10520",
         "2023-09-13T03:01:51Z",
         "331"
        ],
        [
         "EVT10521",
         "2023-09-04T03:21:55Z",
         "4081"
        ],
        [
         "EVT10522",
         "2023-09-14T18:22:14Z",
         "5309"
        ],
        [
         "EVT10523",
         "2023-09-02T06:43:33Z",
         "5497"
        ],
        [
         "EVT10524",
         "2023-09-14T01:11:27Z",
         "1885"
        ],
        [
         "EVT10525",
         "2023-09-01T07:27:18Z",
         "3431"
        ],
        [
         "EVT10526",
         "2023-09-09T16:16:03Z",
         "6275"
        ],
        [
         "EVT10527",
         "2023-09-04T07:36:13Z",
         "1011"
        ],
        [
         "EVT10528",
         "2023-09-05T08:44:09Z",
         "2506"
        ],
        [
         "EVT10529",
         "2023-09-06T09:36:37Z",
         "10591"
        ],
        [
         "EVT10530",
         "2023-09-03T01:40:55Z",
         "3204"
        ],
        [
         "EVT10531",
         "2023-09-01T01:58:40Z",
         "2511"
        ],
        [
         "EVT10532",
         "2023-09-13T03:01:53Z",
         "369"
        ],
        [
         "EVT10533",
         "2023-09-14T21:43:53Z",
         "554"
        ],
        [
         "EVT10534",
         "2023-09-05T03:00:00Z",
         "3610"
        ],
        [
         "EVT10535",
         "2023-09-11T16:56:28Z",
         "2223"
        ],
        [
         "EVT10536",
         "2023-09-13T19:54:06Z",
         "4049"
        ],
        [
         "EVT10537",
         "2023-09-12T01:19:02Z",
         "2183"
        ],
        [
         "EVT10538",
         "2023-09-03T17:22:07Z",
         "2663"
        ],
        [
         "EVT10539",
         "2023-09-04T04:44:41Z",
         "3386"
        ],
        [
         "EVT10540",
         "2023-09-02T09:54:42Z",
         "3195"
        ],
        [
         "EVT10541",
         "2023-09-09T05:30:16Z",
         "3396"
        ],
        [
         "EVT10542",
         "2023-09-02T07:57:34Z",
         "3418"
        ],
        [
         "EVT10543",
         "2023-09-05T06:05:23Z",
         "1219"
        ],
        [
         "EVT10544",
         "2023-09-11T10:37:05Z",
         "782"
        ],
        [
         "EVT10545",
         "2023-09-02T04:05:19Z",
         "24140"
        ],
        [
         "EVT10546",
         "2023-09-09T05:03:05Z",
         "577"
        ],
        [
         "EVT10547",
         "2023-09-06T10:10:03Z",
         "691"
        ],
        [
         "EVT10548",
         "2023-09-08T03:07:38Z",
         "1064"
        ],
        [
         "EVT10549",
         "2023-09-01T16:17:22Z",
         "897"
        ],
        [
         "EVT10550",
         "2023-09-09T21:21:37Z",
         "1880"
        ],
        [
         "EVT10551",
         "2023-09-11T20:26:49Z",
         "1066"
        ],
        [
         "EVT10552",
         "2023-09-11T19:29:45Z",
         "5564"
        ],
        [
         "EVT10553",
         "2023-09-08T06:44:06Z",
         "3990"
        ],
        [
         "EVT10554",
         "2023-09-09T11:14:14Z",
         "1425"
        ],
        [
         "EVT10555",
         "2023-09-13T04:18:44Z",
         "28248"
        ],
        [
         "EVT10556",
         "2023-09-09T10:54:39Z",
         "11494"
        ],
        [
         "EVT10557",
         "2023-09-12T16:27:54Z",
         "3772"
        ],
        [
         "EVT10558",
         "2023-09-12T13:31:58Z",
         "1939"
        ],
        [
         "EVT10559",
         "2023-09-14T21:09:54Z",
         "8226"
        ],
        [
         "EVT10560",
         "2023-09-09T05:18:30Z",
         "4652"
        ],
        [
         "EVT10561",
         "2023-09-10T11:39:38Z",
         "2331"
        ],
        [
         "EVT10562",
         "2023-09-08T00:49:59Z",
         "16330"
        ],
        [
         "EVT10563",
         "2023-09-06T19:32:11Z",
         "817"
        ],
        [
         "EVT10564",
         "2023-09-08T13:14:37Z",
         "467"
        ],
        [
         "EVT10565",
         "2023-09-05T04:26:19Z",
         "2152"
        ],
        [
         "EVT10566",
         "2023-09-06T07:00:36Z",
         "6827"
        ],
        [
         "EVT10567",
         "2023-09-01T16:02:17Z",
         "921"
        ],
        [
         "EVT10568",
         "2023-09-14T03:16:26Z",
         "911"
        ],
        [
         "EVT10569",
         "2023-09-06T05:54:41Z",
         "2045"
        ],
        [
         "EVT10570",
         "2023-09-01T02:47:58Z",
         "1071"
        ],
        [
         "EVT10571",
         "2023-09-01T00:28:10Z",
         "3793"
        ],
        [
         "EVT10572",
         "2023-09-09T02:53:50Z",
         "17943"
        ],
        [
         "EVT10573",
         "2023-09-13T09:35:33Z",
         "1652"
        ],
        [
         "EVT10574",
         "2023-09-13T09:03:47Z",
         "2227"
        ],
        [
         "EVT10575",
         "2023-09-02T13:33:24Z",
         "671"
        ],
        [
         "EVT10576",
         "2023-09-10T08:37:34Z",
         "1194"
        ],
        [
         "EVT10577",
         "2023-09-01T06:52:57Z",
         "3283"
        ],
        [
         "EVT10578",
         "2023-09-08T04:16:19Z",
         "7989"
        ],
        [
         "EVT10579",
         "2023-09-02T20:19:42Z",
         "1928"
        ],
        [
         "EVT10580",
         "2023-09-13T01:41:45Z",
         "11326"
        ],
        [
         "EVT10581",
         "2023-09-11T15:24:28Z",
         "7675"
        ],
        [
         "EVT10582",
         "2023-09-13T20:12:06Z",
         "164"
        ],
        [
         "EVT10583",
         "2023-09-08T22:21:17Z",
         "4325"
        ],
        [
         "EVT10584",
         "2023-09-01T00:26:21Z",
         "1807"
        ],
        [
         "EVT10585",
         "2023-09-13T15:21:41Z",
         "7797"
        ],
        [
         "EVT10586",
         "2023-09-13T03:31:24Z",
         "3211"
        ],
        [
         "EVT10587",
         "2023-09-13T16:28:12Z",
         "5141"
        ],
        [
         "EVT10588",
         "2023-09-09T18:31:22Z",
         "2057"
        ],
        [
         "EVT10589",
         "2023-09-13T03:20:50Z",
         "7544"
        ],
        [
         "EVT10590",
         "2023-09-10T00:21:21Z",
         "5366"
        ],
        [
         "EVT10591",
         "2023-09-12T04:59:51Z",
         "4733"
        ],
        [
         "EVT10592",
         "2023-09-10T23:18:34Z",
         "1963"
        ],
        [
         "EVT10593",
         "2023-09-07T04:27:53Z",
         "882"
        ],
        [
         "EVT10594",
         "2023-09-03T14:52:15Z",
         "21301"
        ],
        [
         "EVT10595",
         "2023-09-02T00:12:44Z",
         "16211"
        ],
        [
         "EVT10596",
         "2023-09-01T12:14:13Z",
         "1901"
        ],
        [
         "EVT10597",
         "2023-09-05T18:35:47Z",
         "14537"
        ],
        [
         "EVT10598",
         "2023-09-14T23:13:10Z",
         "1320"
        ],
        [
         "EVT10599",
         "2023-09-09T09:37:28Z",
         "2513"
        ],
        [
         "EVT10600",
         "2023-09-01T08:50:18Z",
         "3979"
        ],
        [
         "EVT10601",
         "2023-09-05T21:10:48Z",
         "5993"
        ],
        [
         "EVT10602",
         "2023-09-01T07:46:58Z",
         "1051"
        ],
        [
         "EVT10603",
         "2023-09-03T02:53:19Z",
         "1429"
        ],
        [
         "EVT10604",
         "2023-09-06T22:01:05Z",
         "728"
        ],
        [
         "EVT10605",
         "2023-09-03T04:33:10Z",
         "4417"
        ],
        [
         "EVT10606",
         "2023-09-14T21:33:29Z",
         "8486"
        ],
        [
         "EVT10607",
         "2023-09-03T00:17:21Z",
         "6511"
        ],
        [
         "EVT10608",
         "2023-09-01T21:35:05Z",
         "2556"
        ],
        [
         "EVT10609",
         "2023-09-12T20:46:13Z",
         "265"
        ],
        [
         "EVT10610",
         "2023-09-02T01:02:04Z",
         "3819"
        ],
        [
         "EVT10611",
         "2023-09-06T18:41:31Z",
         "3263"
        ],
        [
         "EVT10612",
         "2023-09-07T18:03:37Z",
         "1792"
        ],
        [
         "EVT10613",
         "2023-09-13T20:55:06Z",
         "965"
        ],
        [
         "EVT10614",
         "2023-09-03T03:15:32Z",
         "1590"
        ],
        [
         "EVT10615",
         "2023-09-09T09:16:40Z",
         "2261"
        ],
        [
         "EVT10616",
         "2023-09-04T09:36:20Z",
         "382"
        ],
        [
         "EVT10617",
         "2023-09-03T18:41:01Z",
         "1454"
        ],
        [
         "EVT10618",
         "2023-09-03T04:44:14Z",
         "169"
        ],
        [
         "EVT10619",
         "2023-09-06T21:55:11Z",
         "1916"
        ],
        [
         "EVT10620",
         "2023-09-01T10:15:12Z",
         "473"
        ],
        [
         "EVT10621",
         "2023-09-04T19:44:34Z",
         "3043"
        ],
        [
         "EVT10622",
         "2023-09-10T08:25:29Z",
         "15404"
        ],
        [
         "EVT10623",
         "2023-09-03T00:24:07Z",
         "23339"
        ],
        [
         "EVT10624",
         "2023-09-04T03:38:24Z",
         "1655"
        ],
        [
         "EVT10625",
         "2023-09-13T22:36:30Z",
         "175"
        ],
        [
         "EVT10626",
         "2023-09-13T11:30:06Z",
         "1804"
        ],
        [
         "EVT10627",
         "2023-09-10T06:08:41Z",
         "9779"
        ],
        [
         "EVT10628",
         "2023-09-10T22:18:54Z",
         "1572"
        ],
        [
         "EVT10629",
         "2023-09-13T05:37:40Z",
         "34157"
        ],
        [
         "EVT10630",
         "2023-09-03T10:31:49Z",
         "6834"
        ],
        [
         "EVT10631",
         "2023-09-05T22:43:52Z",
         "2829"
        ],
        [
         "EVT10632",
         "2023-09-01T19:55:14Z",
         "14429"
        ],
        [
         "EVT10633",
         "2023-09-03T19:57:34Z",
         "626"
        ],
        [
         "EVT10634",
         "2023-09-08T16:10:07Z",
         "754"
        ],
        [
         "EVT10635",
         "2023-09-05T12:15:09Z",
         "3155"
        ],
        [
         "EVT10636",
         "2023-09-03T21:44:10Z",
         "400"
        ],
        [
         "EVT10637",
         "2023-09-04T13:27:57Z",
         "6359"
        ],
        [
         "EVT10638",
         "2023-09-05T15:29:34Z",
         "3527"
        ],
        [
         "EVT10639",
         "2023-09-07T16:47:26Z",
         "3879"
        ],
        [
         "EVT10640",
         "2023-09-14T19:56:55Z",
         "2752"
        ],
        [
         "EVT10641",
         "2023-09-09T13:28:19Z",
         "755"
        ],
        [
         "EVT10642",
         "2023-09-11T20:03:19Z",
         "1261"
        ],
        [
         "EVT10643",
         "2023-09-14T13:40:14Z",
         "13099"
        ],
        [
         "EVT10644",
         "2023-09-01T10:06:52Z",
         "3571"
        ],
        [
         "EVT10645",
         "2023-09-09T15:29:21Z",
         "3089"
        ],
        [
         "EVT10646",
         "2023-09-02T02:41:25Z",
         "1979"
        ],
        [
         "EVT10647",
         "2023-09-02T16:27:34Z",
         "4803"
        ],
        [
         "EVT10648",
         "2023-09-09T11:33:48Z",
         "2321"
        ],
        [
         "EVT10649",
         "2023-09-01T13:37:14Z",
         "4219"
        ],
        [
         "EVT10650",
         "2023-09-13T00:48:00Z",
         "171"
        ],
        [
         "EVT10651",
         "2023-09-13T14:13:26Z",
         "3838"
        ],
        [
         "EVT10652",
         "2023-09-11T06:33:10Z",
         "4758"
        ],
        [
         "EVT10653",
         "2023-09-12T12:11:00Z",
         "1750"
        ],
        [
         "EVT10654",
         "2023-09-10T00:20:48Z",
         "3241"
        ],
        [
         "EVT10655",
         "2023-09-04T15:46:04Z",
         "14358"
        ],
        [
         "EVT10656",
         "2023-09-01T06:04:34Z",
         "18555"
        ],
        [
         "EVT10657",
         "2023-09-05T03:56:51Z",
         "4059"
        ],
        [
         "EVT10658",
         "2023-09-08T19:25:23Z",
         "2306"
        ],
        [
         "EVT10659",
         "2023-09-04T03:31:26Z",
         "3631"
        ],
        [
         "EVT10660",
         "2023-09-12T12:06:59Z",
         "1041"
        ],
        [
         "EVT10661",
         "2023-09-10T17:03:06Z",
         "6660"
        ],
        [
         "EVT10662",
         "2023-09-03T16:18:58Z",
         "276"
        ],
        [
         "EVT10663",
         "2023-09-06T22:14:56Z",
         "1167"
        ],
        [
         "EVT10664",
         "2023-09-11T20:00:18Z",
         "4314"
        ],
        [
         "EVT10665",
         "2023-09-04T22:07:24Z",
         "2530"
        ],
        [
         "EVT10666",
         "2023-09-13T00:54:05Z",
         "2018"
        ],
        [
         "EVT10667",
         "2023-09-01T15:05:06Z",
         "2085"
        ],
        [
         "EVT10668",
         "2023-09-09T01:56:20Z",
         "4469"
        ],
        [
         "EVT10669",
         "2023-09-08T14:23:49Z",
         "2065"
        ],
        [
         "EVT10670",
         "2023-09-05T03:15:10Z",
         "3159"
        ],
        [
         "EVT10671",
         "2023-09-10T12:27:14Z",
         "3208"
        ],
        [
         "EVT10672",
         "2023-09-10T07:34:06Z",
         "653"
        ],
        [
         "EVT10673",
         "2023-09-12T14:08:24Z",
         "4675"
        ],
        [
         "EVT10674",
         "2023-09-13T13:57:49Z",
         "8897"
        ],
        [
         "EVT10675",
         "2023-09-13T14:58:44Z",
         "1788"
        ],
        [
         "EVT10676",
         "2023-09-08T20:32:08Z",
         "1296"
        ],
        [
         "EVT10677",
         "2023-09-03T22:42:36Z",
         "30865"
        ],
        [
         "EVT10678",
         "2023-09-05T12:13:40Z",
         "5485"
        ],
        [
         "EVT10679",
         "2023-09-11T00:50:58Z",
         "481"
        ],
        [
         "EVT10680",
         "2023-09-05T08:27:26Z",
         "504"
        ],
        [
         "EVT10681",
         "2023-09-08T09:41:41Z",
         "3808"
        ],
        [
         "EVT10682",
         "2023-09-14T19:04:31Z",
         "4161"
        ],
        [
         "EVT10683",
         "2023-09-06T08:49:38Z",
         "436"
        ],
        [
         "EVT10684",
         "2023-09-02T15:02:06Z",
         "4071"
        ],
        [
         "EVT10685",
         "2023-09-04T16:33:42Z",
         "9824"
        ],
        [
         "EVT10686",
         "2023-09-07T11:36:10Z",
         "297"
        ],
        [
         "EVT10687",
         "2023-09-13T12:18:50Z",
         "3563"
        ],
        [
         "EVT10688",
         "2023-09-11T05:15:46Z",
         "690"
        ],
        [
         "EVT10689",
         "2023-09-05T15:37:07Z",
         "4265"
        ],
        [
         "EVT10690",
         "2023-09-01T10:36:28Z",
         "9470"
        ],
        [
         "EVT10691",
         "2023-09-13T08:41:34Z",
         "4766"
        ],
        [
         "EVT10692",
         "2023-09-01T13:57:58Z",
         "18114"
        ],
        [
         "EVT10693",
         "2023-09-11T05:04:53Z",
         "736"
        ],
        [
         "EVT10694",
         "2023-09-02T09:15:24Z",
         "561"
        ],
        [
         "EVT10695",
         "2023-09-09T00:31:01Z",
         "4191"
        ],
        [
         "EVT10696",
         "2023-09-12T21:45:55Z",
         "3164"
        ],
        [
         "EVT10697",
         "2023-09-03T04:51:41Z",
         "653"
        ],
        [
         "EVT10698",
         "2023-09-12T15:17:36Z",
         "3851"
        ],
        [
         "EVT10699",
         "2023-09-04T09:12:17Z",
         "15146"
        ],
        [
         "EVT10700",
         "2023-09-08T12:33:15Z",
         "279"
        ],
        [
         "EVT10701",
         "2023-09-09T01:52:15Z",
         "7261"
        ],
        [
         "EVT10702",
         "2023-09-08T18:39:09Z",
         "3922"
        ],
        [
         "EVT10703",
         "2023-09-09T07:27:52Z",
         "2568"
        ],
        [
         "EVT10704",
         "2023-09-12T19:46:02Z",
         "2605"
        ],
        [
         "EVT10705",
         "2023-09-01T18:21:37Z",
         "4429"
        ],
        [
         "EVT10706",
         "2023-09-01T12:17:03Z",
         "6682"
        ],
        [
         "EVT10707",
         "2023-09-06T09:57:38Z",
         "2328"
        ],
        [
         "EVT10708",
         "2023-09-12T10:42:39Z",
         "4841"
        ],
        [
         "EVT10709",
         "2023-09-13T09:17:13Z",
         "3311"
        ],
        [
         "EVT10710",
         "2023-09-07T05:25:13Z",
         "1127"
        ],
        [
         "EVT10711",
         "2023-09-03T05:58:49Z",
         "5150"
        ],
        [
         "EVT10712",
         "2023-09-02T11:56:04Z",
         "2467"
        ],
        [
         "EVT10713",
         "2023-09-01T16:34:02Z",
         "7256"
        ],
        [
         "EVT10714",
         "2023-09-08T10:21:39Z",
         "1314"
        ],
        [
         "EVT10715",
         "2023-09-12T15:48:34Z",
         "2292"
        ],
        [
         "EVT10716",
         "2023-09-09T00:47:29Z",
         "2070"
        ],
        [
         "EVT10717",
         "2023-09-02T06:05:49Z",
         "15420"
        ],
        [
         "EVT10718",
         "2023-09-14T17:18:19Z",
         "534"
        ],
        [
         "EVT10719",
         "2023-09-14T02:10:26Z",
         "2173"
        ],
        [
         "EVT10720",
         "2023-09-02T21:36:24Z",
         "677"
        ],
        [
         "EVT10721",
         "2023-09-13T13:57:02Z",
         "2326"
        ],
        [
         "EVT10722",
         "2023-09-14T17:43:26Z",
         "900"
        ],
        [
         "EVT10723",
         "2023-09-08T20:31:36Z",
         "7785"
        ],
        [
         "EVT10724",
         "2023-09-13T10:20:15Z",
         "1637"
        ],
        [
         "EVT10725",
         "2023-09-06T11:14:14Z",
         "1132"
        ],
        [
         "EVT10726",
         "2023-09-05T22:18:43Z",
         "1555"
        ],
        [
         "EVT10727",
         "2023-09-03T03:35:56Z",
         "3306"
        ],
        [
         "EVT10728",
         "2023-09-03T12:15:59Z",
         "1865"
        ],
        [
         "EVT10729",
         "2023-09-14T13:56:57Z",
         "6992"
        ],
        [
         "EVT10730",
         "2023-09-14T21:42:17Z",
         "3176"
        ],
        [
         "EVT10731",
         "2023-09-01T08:45:16Z",
         "689"
        ],
        [
         "EVT10732",
         "2023-09-09T23:11:34Z",
         "220"
        ],
        [
         "EVT10733",
         "2023-09-03T01:58:19Z",
         "15083"
        ],
        [
         "EVT10734",
         "2023-09-06T07:42:51Z",
         "8657"
        ],
        [
         "EVT10735",
         "2023-09-14T22:04:24Z",
         "7921"
        ],
        [
         "EVT10736",
         "2023-09-10T14:50:00Z",
         "3370"
        ],
        [
         "EVT10737",
         "2023-09-13T18:06:14Z",
         "81"
        ],
        [
         "EVT10738",
         "2023-09-14T17:23:28Z",
         "3013"
        ],
        [
         "EVT10739",
         "2023-09-14T04:22:53Z",
         "4073"
        ],
        [
         "EVT10740",
         "2023-09-01T01:54:22Z",
         "511"
        ],
        [
         "EVT10741",
         "2023-09-06T05:32:40Z",
         "7250"
        ],
        [
         "EVT10742",
         "2023-09-04T19:27:38Z",
         "1175"
        ],
        [
         "EVT10743",
         "2023-09-04T13:38:27Z",
         "1187"
        ],
        [
         "EVT10744",
         "2023-09-08T07:28:16Z",
         "1280"
        ],
        [
         "EVT10745",
         "2023-09-08T13:37:03Z",
         "13121"
        ],
        [
         "EVT10746",
         "2023-09-05T16:05:38Z",
         "949"
        ],
        [
         "EVT10747",
         "2023-09-08T20:34:22Z",
         "486"
        ],
        [
         "EVT10748",
         "2023-09-01T14:28:18Z",
         "7741"
        ],
        [
         "EVT10749",
         "2023-09-10T21:36:33Z",
         "5324"
        ],
        [
         "EVT10750",
         "2023-09-14T04:02:12Z",
         "842"
        ],
        [
         "EVT10751",
         "2023-09-05T12:53:47Z",
         "15754"
        ],
        [
         "EVT10752",
         "2023-09-08T15:44:08Z",
         "556"
        ],
        [
         "EVT10753",
         "2023-09-02T22:58:32Z",
         "1285"
        ],
        [
         "EVT10754",
         "2023-09-14T19:19:27Z",
         "4469"
        ],
        [
         "EVT10755",
         "2023-09-04T14:58:50Z",
         "6157"
        ],
        [
         "EVT10756",
         "2023-09-14T08:51:40Z",
         "1667"
        ],
        [
         "EVT10757",
         "2023-09-02T09:16:18Z",
         "5574"
        ],
        [
         "EVT10758",
         "2023-09-03T11:52:04Z",
         "12443"
        ],
        [
         "EVT10759",
         "2023-09-03T19:43:25Z",
         "1502"
        ],
        [
         "EVT10760",
         "2023-09-03T09:06:39Z",
         "14558"
        ],
        [
         "EVT10761",
         "2023-09-05T23:39:45Z",
         "5832"
        ],
        [
         "EVT10762",
         "2023-09-07T19:12:58Z",
         "7207"
        ],
        [
         "EVT10763",
         "2023-09-04T10:44:56Z",
         "955"
        ],
        [
         "EVT10764",
         "2023-09-03T15:04:22Z",
         "557"
        ],
        [
         "EVT10765",
         "2023-09-12T03:17:19Z",
         "1094"
        ],
        [
         "EVT10766",
         "2023-09-01T14:41:56Z",
         "729"
        ],
        [
         "EVT10767",
         "2023-09-01T11:17:10Z",
         "3729"
        ],
        [
         "EVT10768",
         "2023-09-02T22:46:35Z",
         "3931"
        ],
        [
         "EVT10769",
         "2023-09-06T02:41:46Z",
         "1346"
        ],
        [
         "EVT10770",
         "2023-09-04T08:38:12Z",
         "6361"
        ],
        [
         "EVT10771",
         "2023-09-06T23:49:42Z",
         "1516"
        ],
        [
         "EVT10772",
         "2023-09-11T01:13:29Z",
         "1872"
        ],
        [
         "EVT10773",
         "2023-09-08T10:15:07Z",
         "393"
        ],
        [
         "EVT10774",
         "2023-09-13T17:06:12Z",
         "5974"
        ],
        [
         "EVT10775",
         "2023-09-04T10:42:02Z",
         "5931"
        ],
        [
         "EVT10776",
         "2023-09-07T21:35:58Z",
         "843"
        ],
        [
         "EVT10777",
         "2023-09-06T05:21:14Z",
         "1125"
        ],
        [
         "EVT10778",
         "2023-09-05T23:18:27Z",
         "4765"
        ],
        [
         "EVT10779",
         "2023-09-08T13:23:26Z",
         "21598"
        ],
        [
         "EVT10780",
         "2023-09-08T20:57:03Z",
         "3412"
        ],
        [
         "EVT10781",
         "2023-09-13T06:16:21Z",
         "2736"
        ],
        [
         "EVT10782",
         "2023-09-06T08:06:03Z",
         "431"
        ],
        [
         "EVT10783",
         "2023-09-09T19:33:45Z",
         "18835"
        ],
        [
         "EVT10784",
         "2023-09-13T05:06:28Z",
         "695"
        ],
        [
         "EVT10785",
         "2023-09-11T14:28:18Z",
         "6362"
        ],
        [
         "EVT10786",
         "2023-09-12T23:03:01Z",
         "16295"
        ],
        [
         "EVT10787",
         "2023-09-13T05:47:26Z",
         "631"
        ],
        [
         "EVT10788",
         "2023-09-07T17:28:38Z",
         "10056"
        ],
        [
         "EVT10789",
         "2023-09-09T07:38:59Z",
         "442"
        ],
        [
         "EVT10790",
         "2023-09-08T18:54:00Z",
         "438"
        ],
        [
         "EVT10791",
         "2023-09-14T20:08:24Z",
         "422"
        ],
        [
         "EVT10792",
         "2023-09-10T07:10:06Z",
         "2276"
        ],
        [
         "EVT10793",
         "2023-09-11T06:21:51Z",
         "747"
        ],
        [
         "EVT10794",
         "2023-09-07T14:21:17Z",
         "746"
        ],
        [
         "EVT10795",
         "2023-09-13T16:08:30Z",
         "6066"
        ],
        [
         "EVT10796",
         "2023-09-10T14:17:57Z",
         "769"
        ],
        [
         "EVT10797",
         "2023-09-09T00:23:59Z",
         "3734"
        ],
        [
         "EVT10798",
         "2023-09-08T06:32:18Z",
         "489"
        ],
        [
         "EVT10799",
         "2023-09-09T21:08:44Z",
         "2700"
        ],
        [
         "EVT10800",
         "2023-09-04T08:58:03Z",
         "4702"
        ],
        [
         "EVT10801",
         "2023-09-13T15:15:49Z",
         "675"
        ],
        [
         "EVT10802",
         "2023-09-05T04:06:49Z",
         "145"
        ],
        [
         "EVT10803",
         "2023-09-12T02:15:44Z",
         "1078"
        ],
        [
         "EVT10804",
         "2023-09-05T16:36:49Z",
         "14837"
        ],
        [
         "EVT10805",
         "2023-09-10T23:06:00Z",
         "673"
        ],
        [
         "EVT10806",
         "2023-09-06T17:12:45Z",
         "8998"
        ],
        [
         "EVT10807",
         "2023-09-01T16:16:26Z",
         "2617"
        ],
        [
         "EVT10808",
         "2023-09-04T03:10:49Z",
         "5394"
        ],
        [
         "EVT10809",
         "2023-09-12T04:34:32Z",
         "1809"
        ],
        [
         "EVT10810",
         "2023-09-08T00:17:32Z",
         "2125"
        ],
        [
         "EVT10811",
         "2023-09-02T20:23:33Z",
         "2395"
        ],
        [
         "EVT10812",
         "2023-09-10T03:11:28Z",
         "1913"
        ],
        [
         "EVT10813",
         "2023-09-11T22:35:31Z",
         "474"
        ],
        [
         "EVT10814",
         "2023-09-01T00:43:47Z",
         "2379"
        ],
        [
         "EVT10815",
         "2023-09-07T14:09:37Z",
         "332"
        ],
        [
         "EVT10816",
         "2023-09-14T16:45:48Z",
         "831"
        ],
        [
         "EVT10817",
         "2023-09-05T20:19:59Z",
         "3149"
        ],
        [
         "EVT10818",
         "2023-09-12T11:57:06Z",
         "899"
        ],
        [
         "EVT10819",
         "2023-09-04T07:25:33Z",
         "8638"
        ],
        [
         "EVT10820",
         "2023-09-11T08:08:07Z",
         "1178"
        ],
        [
         "EVT10821",
         "2023-09-07T03:29:18Z",
         "10489"
        ],
        [
         "EVT10822",
         "2023-09-06T22:45:00Z",
         "2553"
        ],
        [
         "EVT10823",
         "2023-09-09T09:29:45Z",
         "244"
        ],
        [
         "EVT10824",
         "2023-09-01T07:09:01Z",
         "74"
        ],
        [
         "EVT10825",
         "2023-09-14T16:18:12Z",
         "2087"
        ],
        [
         "EVT10826",
         "2023-09-13T16:15:02Z",
         "6811"
        ],
        [
         "EVT10827",
         "2023-09-11T01:48:00Z",
         "392"
        ],
        [
         "EVT10828",
         "2023-09-11T10:22:03Z",
         "6090"
        ],
        [
         "EVT10829",
         "2023-09-12T17:56:53Z",
         "1361"
        ],
        [
         "EVT10830",
         "2023-09-06T09:14:07Z",
         "2752"
        ],
        [
         "EVT10831",
         "2023-09-03T02:47:11Z",
         "11279"
        ],
        [
         "EVT10832",
         "2023-09-05T20:11:26Z",
         "3202"
        ],
        [
         "EVT10833",
         "2023-09-11T13:39:29Z",
         "3274"
        ],
        [
         "EVT10834",
         "2023-09-04T18:57:01Z",
         "1440"
        ],
        [
         "EVT10835",
         "2023-09-01T15:09:30Z",
         "11887"
        ],
        [
         "EVT10836",
         "2023-09-14T15:37:49Z",
         "1281"
        ],
        [
         "EVT10837",
         "2023-09-14T07:07:44Z",
         "25011"
        ],
        [
         "EVT10838",
         "2023-09-03T07:58:23Z",
         "407"
        ],
        [
         "EVT10839",
         "2023-09-02T10:48:47Z",
         "1137"
        ],
        [
         "EVT10840",
         "2023-09-11T14:09:45Z",
         "6360"
        ],
        [
         "EVT10841",
         "2023-09-13T05:12:43Z",
         "3234"
        ],
        [
         "EVT10842",
         "2023-09-07T20:38:28Z",
         "5151"
        ],
        [
         "EVT10843",
         "2023-09-12T14:21:58Z",
         "2351"
        ],
        [
         "EVT10844",
         "2023-09-11T22:42:01Z",
         "1675"
        ],
        [
         "EVT10845",
         "2023-09-01T10:15:42Z",
         "6153"
        ],
        [
         "EVT10846",
         "2023-09-03T10:33:14Z",
         "2221"
        ],
        [
         "EVT10847",
         "2023-09-07T15:11:11Z",
         "3907"
        ],
        [
         "EVT10848",
         "2023-09-02T21:25:07Z",
         "4171"
        ],
        [
         "EVT10849",
         "2023-09-08T21:02:44Z",
         "1340"
        ],
        [
         "EVT10850",
         "2023-09-01T12:54:58Z",
         "2974"
        ],
        [
         "EVT10851",
         "2023-09-11T20:39:21Z",
         "2187"
        ],
        [
         "EVT10852",
         "2023-09-14T04:34:40Z",
         "4325"
        ],
        [
         "EVT10853",
         "2023-09-06T18:59:30Z",
         "257"
        ],
        [
         "EVT10854",
         "2023-09-05T18:33:02Z",
         "1182"
        ],
        [
         "EVT10855",
         "2023-09-04T21:55:53Z",
         "8271"
        ],
        [
         "EVT10856",
         "2023-09-06T07:38:36Z",
         "12098"
        ],
        [
         "EVT10857",
         "2023-09-06T03:37:43Z",
         "1275"
        ],
        [
         "EVT10858",
         "2023-09-03T12:23:32Z",
         "2683"
        ],
        [
         "EVT10859",
         "2023-09-06T01:11:49Z",
         "988"
        ],
        [
         "EVT10860",
         "2023-09-14T02:10:43Z",
         "2489"
        ],
        [
         "EVT10861",
         "2023-09-05T01:27:04Z",
         "1288"
        ],
        [
         "EVT10862",
         "2023-09-10T19:39:07Z",
         "2025"
        ],
        [
         "EVT10863",
         "2023-09-11T22:30:53Z",
         "1412"
        ],
        [
         "EVT10864",
         "2023-09-07T07:26:00Z",
         "4110"
        ],
        [
         "EVT10865",
         "2023-09-04T01:28:53Z",
         "2451"
        ],
        [
         "EVT10866",
         "2023-09-06T16:09:52Z",
         "6498"
        ],
        [
         "EVT10867",
         "2023-09-14T05:50:16Z",
         "2464"
        ],
        [
         "EVT10868",
         "2023-09-02T08:31:15Z",
         "376"
        ],
        [
         "EVT10869",
         "2023-09-14T06:01:49Z",
         "5483"
        ],
        [
         "EVT10870",
         "2023-09-09T10:31:51Z",
         "9239"
        ],
        [
         "EVT10871",
         "2023-09-09T20:30:52Z",
         "3663"
        ],
        [
         "EVT10872",
         "2023-09-09T05:40:05Z",
         "5456"
        ],
        [
         "EVT10873",
         "2023-09-04T16:26:30Z",
         "283"
        ],
        [
         "EVT10874",
         "2023-09-12T02:53:57Z",
         "1467"
        ],
        [
         "EVT10875",
         "2023-09-06T23:11:54Z",
         "10204"
        ],
        [
         "EVT10876",
         "2023-09-04T01:00:15Z",
         "2280"
        ],
        [
         "EVT10877",
         "2023-09-10T23:47:54Z",
         "5092"
        ],
        [
         "EVT10878",
         "2023-09-12T23:10:25Z",
         "2150"
        ],
        [
         "EVT10879",
         "2023-09-10T08:46:12Z",
         "3187"
        ],
        [
         "EVT10880",
         "2023-09-05T04:16:00Z",
         "3443"
        ],
        [
         "EVT10881",
         "2023-09-14T22:42:14Z",
         "582"
        ],
        [
         "EVT10882",
         "2023-09-11T22:50:50Z",
         "12598"
        ],
        [
         "EVT10883",
         "2023-09-05T09:56:20Z",
         "11295"
        ],
        [
         "EVT10884",
         "2023-09-10T19:51:48Z",
         "1835"
        ],
        [
         "EVT10885",
         "2023-09-11T18:02:18Z",
         "1145"
        ],
        [
         "EVT10886",
         "2023-09-14T11:12:17Z",
         "929"
        ],
        [
         "EVT10887",
         "2023-09-01T04:50:49Z",
         "2848"
        ],
        [
         "EVT10888",
         "2023-09-05T02:20:42Z",
         "2641"
        ],
        [
         "EVT10889",
         "2023-09-09T05:56:42Z",
         "4500"
        ],
        [
         "EVT10890",
         "2023-09-11T16:26:46Z",
         "5632"
        ],
        [
         "EVT10891",
         "2023-09-04T07:50:47Z",
         "4769"
        ],
        [
         "EVT10892",
         "2023-09-02T18:55:32Z",
         "4726"
        ],
        [
         "EVT10893",
         "2023-09-10T10:14:23Z",
         "8332"
        ],
        [
         "EVT10894",
         "2023-09-10T04:16:01Z",
         "32273"
        ],
        [
         "EVT10895",
         "2023-09-03T22:04:50Z",
         "2115"
        ],
        [
         "EVT10896",
         "2023-09-03T13:03:52Z",
         "1889"
        ],
        [
         "EVT10897",
         "2023-09-11T05:49:51Z",
         "2183"
        ],
        [
         "EVT10898",
         "2023-09-04T07:04:01Z",
         "7754"
        ],
        [
         "EVT10899",
         "2023-09-10T20:11:18Z",
         "10260"
        ],
        [
         "EVT10900",
         "2023-09-03T20:28:24Z",
         "1211"
        ],
        [
         "EVT10901",
         "2023-09-14T01:04:32Z",
         "2194"
        ],
        [
         "EVT10902",
         "2023-09-10T02:40:09Z",
         "1914"
        ],
        [
         "EVT10903",
         "2023-09-01T06:47:13Z",
         "1202"
        ],
        [
         "EVT10904",
         "2023-09-11T01:32:36Z",
         "3146"
        ],
        [
         "EVT10905",
         "2023-09-06T10:29:34Z",
         "761"
        ],
        [
         "EVT10906",
         "2023-09-13T05:33:42Z",
         "410"
        ],
        [
         "EVT10907",
         "2023-09-06T14:08:00Z",
         "22441"
        ],
        [
         "EVT10908",
         "2023-09-13T10:20:49Z",
         "597"
        ],
        [
         "EVT10909",
         "2023-09-06T17:53:59Z",
         "135"
        ],
        [
         "EVT10910",
         "2023-09-01T10:27:10Z",
         "5541"
        ],
        [
         "EVT10911",
         "2023-09-12T13:43:32Z",
         "1977"
        ],
        [
         "EVT10912",
         "2023-09-08T14:17:33Z",
         "5385"
        ],
        [
         "EVT10913",
         "2023-09-09T13:59:53Z",
         "1082"
        ],
        [
         "EVT10914",
         "2023-09-07T23:10:45Z",
         "10467"
        ],
        [
         "EVT10915",
         "2023-09-12T08:43:21Z",
         "2164"
        ],
        [
         "EVT10916",
         "2023-09-14T08:01:27Z",
         "4636"
        ],
        [
         "EVT10917",
         "2023-09-06T19:45:52Z",
         "1661"
        ],
        [
         "EVT10918",
         "2023-09-10T01:24:16Z",
         "861"
        ],
        [
         "EVT10919",
         "2023-09-12T21:09:36Z",
         "3392"
        ],
        [
         "EVT10920",
         "2023-09-02T00:35:19Z",
         "193"
        ],
        [
         "EVT10921",
         "2023-09-03T13:55:16Z",
         "765"
        ],
        [
         "EVT10922",
         "2023-09-12T04:48:21Z",
         "1251"
        ],
        [
         "EVT10923",
         "2023-09-12T01:30:20Z",
         "4324"
        ],
        [
         "EVT10924",
         "2023-09-03T19:56:25Z",
         "1845"
        ],
        [
         "EVT10925",
         "2023-09-07T09:14:38Z",
         "110"
        ],
        [
         "EVT10926",
         "2023-09-14T23:34:14Z",
         "4386"
        ],
        [
         "EVT10927",
         "2023-09-05T06:28:42Z",
         "16047"
        ],
        [
         "EVT10928",
         "2023-09-11T02:56:49Z",
         "977"
        ],
        [
         "EVT10929",
         "2023-09-02T00:47:39Z",
         "2567"
        ],
        [
         "EVT10930",
         "2023-09-02T03:04:01Z",
         "20421"
        ],
        [
         "EVT10931",
         "2023-09-12T00:12:56Z",
         "1005"
        ],
        [
         "EVT10932",
         "2023-09-06T22:17:12Z",
         "4154"
        ],
        [
         "EVT10933",
         "2023-09-01T01:51:24Z",
         "2017"
        ],
        [
         "EVT10934",
         "2023-09-01T19:11:25Z",
         "786"
        ],
        [
         "EVT10935",
         "2023-09-06T20:20:44Z",
         "1079"
        ],
        [
         "EVT10936",
         "2023-09-08T11:28:57Z",
         "359"
        ],
        [
         "EVT10937",
         "2023-09-05T08:28:46Z",
         "5145"
        ],
        [
         "EVT10938",
         "2023-09-13T01:02:33Z",
         "276"
        ],
        [
         "EVT10939",
         "2023-09-01T18:33:23Z",
         "4904"
        ],
        [
         "EVT10940",
         "2023-09-12T22:34:19Z",
         "2621"
        ],
        [
         "EVT10941",
         "2023-09-09T01:16:20Z",
         "4050"
        ],
        [
         "EVT10942",
         "2023-09-07T11:41:32Z",
         "1110"
        ],
        [
         "EVT10943",
         "2023-09-04T20:00:20Z",
         "17943"
        ],
        [
         "EVT10944",
         "2023-09-12T10:01:36Z",
         "5785"
        ],
        [
         "EVT10945",
         "2023-09-10T05:14:09Z",
         "27236"
        ],
        [
         "EVT10946",
         "2023-09-14T15:02:34Z",
         "20960"
        ],
        [
         "EVT10947",
         "2023-09-01T05:56:44Z",
         "1311"
        ],
        [
         "EVT10948",
         "2023-09-12T01:56:18Z",
         "5947"
        ],
        [
         "EVT10949",
         "2023-09-14T15:17:00Z",
         "818"
        ],
        [
         "EVT10950",
         "2023-09-04T22:04:17Z",
         "33999"
        ],
        [
         "EVT10951",
         "2023-09-10T09:00:30Z",
         "14060"
        ],
        [
         "EVT10952",
         "2023-09-02T04:19:59Z",
         "16776"
        ],
        [
         "EVT10953",
         "2023-09-09T05:30:01Z",
         "291"
        ],
        [
         "EVT10954",
         "2023-09-02T16:31:37Z",
         "7241"
        ],
        [
         "EVT10955",
         "2023-09-10T02:24:31Z",
         "1369"
        ],
        [
         "EVT10956",
         "2023-09-03T16:22:21Z",
         "740"
        ],
        [
         "EVT10957",
         "2023-09-03T18:16:51Z",
         "1362"
        ],
        [
         "EVT10958",
         "2023-09-04T12:12:11Z",
         "2168"
        ],
        [
         "EVT10959",
         "2023-09-07T23:44:47Z",
         "833"
        ],
        [
         "EVT10960",
         "2023-09-10T11:52:01Z",
         "2477"
        ],
        [
         "EVT10961",
         "2023-09-13T04:24:47Z",
         "2722"
        ],
        [
         "EVT10962",
         "2023-09-09T18:08:57Z",
         "549"
        ],
        [
         "EVT10963",
         "2023-09-02T05:32:48Z",
         "1017"
        ],
        [
         "EVT10964",
         "2023-09-02T21:35:52Z",
         "989"
        ],
        [
         "EVT10965",
         "2023-09-12T07:34:48Z",
         "5448"
        ],
        [
         "EVT10966",
         "2023-09-14T20:20:37Z",
         "8415"
        ],
        [
         "EVT10967",
         "2023-09-12T11:16:25Z",
         "458"
        ],
        [
         "EVT10968",
         "2023-09-01T06:39:48Z",
         "8930"
        ],
        [
         "EVT10969",
         "2023-09-05T18:27:02Z",
         "5348"
        ],
        [
         "EVT10970",
         "2023-09-07T03:48:05Z",
         "3156"
        ],
        [
         "EVT10971",
         "2023-09-02T20:46:02Z",
         "478"
        ],
        [
         "EVT10972",
         "2023-09-07T13:39:14Z",
         "594"
        ],
        [
         "EVT10973",
         "2023-09-12T01:02:52Z",
         "920"
        ],
        [
         "EVT10974",
         "2023-09-02T05:19:34Z",
         "3842"
        ],
        [
         "EVT10975",
         "2023-09-06T22:27:58Z",
         "21444"
        ],
        [
         "EVT10976",
         "2023-09-09T07:02:08Z",
         "4121"
        ],
        [
         "EVT10977",
         "2023-09-06T22:31:29Z",
         "1970"
        ],
        [
         "EVT10978",
         "2023-09-07T17:15:38Z",
         "2496"
        ],
        [
         "EVT10979",
         "2023-09-05T01:19:33Z",
         "579"
        ],
        [
         "EVT10980",
         "2023-09-13T11:25:37Z",
         "1812"
        ],
        [
         "EVT10981",
         "2023-09-03T08:44:39Z",
         "3058"
        ],
        [
         "EVT10982",
         "2023-09-10T02:09:46Z",
         "604"
        ],
        [
         "EVT10983",
         "2023-09-06T03:28:35Z",
         "493"
        ],
        [
         "EVT10984",
         "2023-09-14T17:34:05Z",
         "1935"
        ],
        [
         "EVT10985",
         "2023-09-12T02:36:54Z",
         "4742"
        ],
        [
         "EVT10986",
         "2023-09-07T23:46:07Z",
         "2735"
        ],
        [
         "EVT10987",
         "2023-09-01T17:21:37Z",
         "1306"
        ],
        [
         "EVT10988",
         "2023-09-01T04:31:12Z",
         "314"
        ],
        [
         "EVT10989",
         "2023-09-08T11:37:21Z",
         "3820"
        ],
        [
         "EVT10990",
         "2023-09-13T04:17:38Z",
         "4921"
        ],
        [
         "EVT10991",
         "2023-09-03T09:43:17Z",
         "4907"
        ],
        [
         "EVT10992",
         "2023-09-10T17:24:16Z",
         "2557"
        ],
        [
         "EVT10993",
         "2023-09-08T11:37:15Z",
         "817"
        ],
        [
         "EVT10994",
         "2023-09-02T03:45:52Z",
         "1185"
        ],
        [
         "EVT10995",
         "2023-09-11T23:27:21Z",
         "5561"
        ],
        [
         "EVT10996",
         "2023-09-08T11:11:06Z",
         "4652"
        ],
        [
         "EVT10997",
         "2023-09-09T20:52:47Z",
         "5540"
        ],
        [
         "EVT10998",
         "2023-09-01T21:58:49Z",
         "3897"
        ],
        [
         "EVT10999",
         "2023-09-14T18:48:34Z",
         "2661"
        ]
       ],
       "datasetInfos": [],
       "dbfsResultPath": null,
       "isJsonSchema": true,
       "metadata": {},
       "overflow": false,
       "plotOptions": {
        "customPlotOptions": {},
        "displayType": "table",
        "pivotAggregation": null,
        "pivotColumns": null,
        "xColumns": null,
        "yColumns": null
       },
       "removedWidgets": [],
       "schema": [
        {
         "metadata": "{}",
         "name": "event_id",
         "type": "\"string\""
        },
        {
         "metadata": "{}",
         "name": "timestamp",
         "type": "\"timestamp\""
        },
        {
         "metadata": "{}",
         "name": "duration_seconds",
         "type": "\"string\""
        }
       ],
       "type": "table"
      }
     },
     "output_type": "display_data"
    }
   ],
   "source": [
    "print(\"Demonstrating error handling with problematic data...\")\n",
    "\n",
    "# Load problematic data that might cause failures\n",
    "problem_df = spark.read.option(\"header\", \"true\").option(\"inferSchema\", \"true\").csv(problem_data_path)\n",
    "print(\"Problematic data loaded. Let's examine some issues:\")\n",
    "problem_df.select(\"event_id\", \"timestamp\", \"duration_seconds\").display()"
   ]
  },
  {
   "cell_type": "code",
   "execution_count": 0,
   "metadata": {
    "application/vnd.databricks.v1+cell": {
     "cellMetadata": {
      "byteLimit": 2048000,
      "rowLimit": 10000
     },
     "inputWidgets": {},
     "nuid": "d4ee5ecd-9846-4bf6-9639-e386f483e9c7",
     "showTitle": false,
     "tableResultSettingsMap": {},
     "title": ""
    }
   },
   "outputs": [
    {
     "output_type": "stream",
     "name": "stdout",
     "output_type": "stream",
     "text": [
      "Successfully cleaned problematic data:\n"
     ]
    },
    {
     "output_type": "display_data",
     "data": {
      "text/html": [
       "<style scoped>\n",
       "  .table-result-container {\n",
       "    max-height: 300px;\n",
       "    overflow: auto;\n",
       "  }\n",
       "  table, th, td {\n",
       "    border: 1px solid black;\n",
       "    border-collapse: collapse;\n",
       "  }\n",
       "  th, td {\n",
       "    padding: 5px;\n",
       "  }\n",
       "  th {\n",
       "    text-align: left;\n",
       "  }\n",
       "</style><div class='table-result-container'><table class='table-result'><thead style='background-color: white'><tr><th>event_id</th><th>timestamp</th><th>duration_seconds</th></tr></thead><tbody><tr><td>EVT10000</td><td>2023-09-03 09:18:59</td><td>565</td></tr><tr><td>EVT10001</td><td>2023-09-09 11:44:27</td><td>2018</td></tr><tr><td>EVT10002</td><td>2023-09-09 16:51:53</td><td>2900</td></tr><tr><td>EVT10003</td><td>2023-09-13 08:03:13</td><td>3242</td></tr><tr><td>EVT10004</td><td>2023-09-04 13:07:20</td><td>4248</td></tr><tr><td>EVT10005</td><td>2023-09-13 22:44:28</td><td>885</td></tr><tr><td>EVT10006</td><td>2023-09-13 21:54:05</td><td>594</td></tr><tr><td>EVT10007</td><td>2023-09-14 12:36:36</td><td>21955</td></tr><tr><td>EVT10008</td><td>2023-09-04 03:11:27</td><td>9039</td></tr><tr><td>EVT10009</td><td>2023-09-03 02:02:33</td><td>2262</td></tr><tr><td>EVT10010</td><td>2023-09-06 09:16:48</td><td>0</td></tr><tr><td>EVT10011</td><td>2023-09-02 07:42:35</td><td>0</td></tr><tr><td>EVT10012</td><td>2023-09-10 19:31:59</td><td>0</td></tr><tr><td>EVT10013</td><td>2023-09-11 02:31:45</td><td>0</td></tr><tr><td>EVT10014</td><td>2023-09-02 06:59:54</td><td>0</td></tr><tr><td>EVT10015</td><td>2023-09-02 10:17:24</td><td>0</td></tr><tr><td>EVT10016</td><td>2023-09-01 07:18:31</td><td>0</td></tr><tr><td>EVT10017</td><td>2023-09-10 11:50:18</td><td>0</td></tr><tr><td>EVT10018</td><td>2023-09-08 15:44:37</td><td>0</td></tr><tr><td>EVT10019</td><td>2023-09-05 08:56:23</td><td>0</td></tr><tr><td>EVT10020</td><td>2023-09-05 15:45:43</td><td>0</td></tr><tr><td>EVT10021</td><td>2023-09-04 14:10:59</td><td>2672</td></tr><tr><td>EVT10022</td><td>2023-09-13 23:37:14</td><td>3639</td></tr><tr><td>EVT10023</td><td>2023-09-05 14:32:12</td><td>4347</td></tr><tr><td>EVT10024</td><td>2023-09-09 21:51:44</td><td>975</td></tr><tr><td>EVT10025</td><td>2023-09-06 13:34:59</td><td>2597</td></tr><tr><td>EVT10026</td><td>2023-09-10 04:57:21</td><td>1068</td></tr><tr><td>EVT10027</td><td>2023-09-12 20:00:54</td><td>2801</td></tr><tr><td>EVT10028</td><td>2023-09-06 21:12:18</td><td>4227</td></tr><tr><td>EVT10029</td><td>2023-09-09 16:34:37</td><td>2590</td></tr><tr><td>EVT10030</td><td>2023-09-15T00:00:00Z</td><td>4993</td></tr><tr><td>EVT10031</td><td>2023-09-15T00:00:00Z</td><td>1155</td></tr><tr><td>EVT10032</td><td>2023-09-15T00:00:00Z</td><td>3993</td></tr><tr><td>EVT10033</td><td>2023-09-15T00:00:00Z</td><td>1095</td></tr><tr><td>EVT10034</td><td>2023-09-15T00:00:00Z</td><td>1375</td></tr><tr><td>EVT10035</td><td>2023-09-15T00:00:00Z</td><td>292</td></tr><tr><td>EVT10036</td><td>2023-09-15T00:00:00Z</td><td>1232</td></tr><tr><td>EVT10037</td><td>2023-09-15T00:00:00Z</td><td>16987</td></tr><tr><td>EVT10038</td><td>2023-09-15T00:00:00Z</td><td>1815</td></tr><tr><td>EVT10039</td><td>2023-09-15T00:00:00Z</td><td>1569</td></tr><tr><td>EVT10040</td><td>2023-09-15T00:00:00Z</td><td>10883</td></tr><tr><td>EVT10041</td><td>2023-09-12 07:25:35</td><td>412</td></tr><tr><td>EVT10042</td><td>2023-09-11 18:24:30</td><td>21888</td></tr><tr><td>EVT10043</td><td>2023-09-11 19:36:48</td><td>12220</td></tr><tr><td>EVT10044</td><td>2023-09-06 12:42:13</td><td>4216</td></tr><tr><td>EVT10045</td><td>2023-09-07 17:09:48</td><td>2211</td></tr><tr><td>EVT10046</td><td>2023-09-07 08:27:21</td><td>736</td></tr><tr><td>EVT10047</td><td>2023-09-04 18:52:36</td><td>3276</td></tr><tr><td>EVT10048</td><td>2023-09-05 14:48:35</td><td>5579</td></tr><tr><td>EVT10049</td><td>2023-09-07 14:51:28</td><td>6779</td></tr><tr><td>EVT10050</td><td>2023-09-14 13:35:26</td><td>13871</td></tr><tr><td>EVT10051</td><td>2023-09-06 08:01:36</td><td>14787</td></tr><tr><td>EVT10052</td><td>2023-09-10 16:44:18</td><td>6865</td></tr><tr><td>EVT10053</td><td>2023-09-12 09:49:56</td><td>27730</td></tr><tr><td>EVT10054</td><td>2023-09-01 09:36:15</td><td>1524</td></tr><tr><td>EVT10055</td><td>2023-09-11 09:15:08</td><td>3337</td></tr><tr><td>EVT10056</td><td>2023-09-01 04:31:17</td><td>6475</td></tr><tr><td>EVT10057</td><td>2023-09-13 09:27:46</td><td>9710</td></tr><tr><td>EVT10058</td><td>2023-09-11 11:02:53</td><td>980</td></tr><tr><td>EVT10059</td><td>2023-09-14 21:30:09</td><td>973</td></tr><tr><td>EVT10060</td><td>2023-09-01 15:07:18</td><td>23388</td></tr><tr><td>EVT10061</td><td>2023-09-04 14:30:37</td><td>256</td></tr><tr><td>EVT10062</td><td>2023-09-04 17:12:15</td><td>3875</td></tr><tr><td>EVT10063</td><td>2023-09-12 12:44:32</td><td>1299</td></tr><tr><td>EVT10064</td><td>2023-09-04 23:40:28</td><td>1660</td></tr><tr><td>EVT10065</td><td>2023-09-07 22:58:20</td><td>8308</td></tr><tr><td>EVT10066</td><td>2023-09-13 00:29:41</td><td>15889</td></tr><tr><td>EVT10067</td><td>2023-09-10 05:25:40</td><td>704</td></tr><tr><td>EVT10068</td><td>2023-09-05 05:33:00</td><td>8309</td></tr><tr><td>EVT10069</td><td>2023-09-03 05:51:18</td><td>485</td></tr><tr><td>EVT10070</td><td>2023-09-11 14:43:45</td><td>22374</td></tr><tr><td>EVT10071</td><td>2023-09-03 23:01:50</td><td>3849</td></tr><tr><td>EVT10072</td><td>2023-09-06 05:50:54</td><td>24726</td></tr><tr><td>EVT10073</td><td>2023-09-09 23:39:25</td><td>2165</td></tr><tr><td>EVT10074</td><td>2023-09-01 07:39:05</td><td>1933</td></tr><tr><td>EVT10075</td><td>2023-09-11 10:53:30</td><td>4576</td></tr><tr><td>EVT10076</td><td>2023-09-05 23:05:20</td><td>17175</td></tr><tr><td>EVT10077</td><td>2023-09-03 07:28:45</td><td>4300</td></tr><tr><td>EVT10078</td><td>2023-09-12 23:29:55</td><td>4192</td></tr><tr><td>EVT10079</td><td>2023-09-11 20:30:13</td><td>990</td></tr><tr><td>EVT10080</td><td>2023-09-08 11:51:44</td><td>1636</td></tr><tr><td>EVT10081</td><td>2023-09-01 21:09:15</td><td>2652</td></tr><tr><td>EVT10082</td><td>2023-09-03 08:58:12</td><td>586</td></tr><tr><td>EVT10083</td><td>2023-09-13 09:59:44</td><td>1695</td></tr><tr><td>EVT10084</td><td>2023-09-13 00:42:27</td><td>499</td></tr><tr><td>EVT10085</td><td>2023-09-05 19:07:54</td><td>9264</td></tr><tr><td>EVT10086</td><td>2023-09-03 20:24:17</td><td>22918</td></tr><tr><td>EVT10087</td><td>2023-09-10 11:57:08</td><td>2919</td></tr><tr><td>EVT10088</td><td>2023-09-04 19:06:14</td><td>731</td></tr><tr><td>EVT10089</td><td>2023-09-08 17:38:24</td><td>1544</td></tr><tr><td>EVT10090</td><td>2023-09-12 06:59:09</td><td>1406</td></tr><tr><td>EVT10091</td><td>2023-09-05 15:58:35</td><td>810</td></tr><tr><td>EVT10092</td><td>2023-09-11 00:04:52</td><td>14900</td></tr><tr><td>EVT10093</td><td>2023-09-06 23:06:18</td><td>556</td></tr><tr><td>EVT10094</td><td>2023-09-09 13:16:42</td><td>2233</td></tr><tr><td>EVT10095</td><td>2023-09-12 13:43:48</td><td>2161</td></tr><tr><td>EVT10096</td><td>2023-09-03 10:39:36</td><td>1365</td></tr><tr><td>EVT10097</td><td>2023-09-02 09:44:49</td><td>3856</td></tr><tr><td>EVT10098</td><td>2023-09-11 10:36:48</td><td>2661</td></tr><tr><td>EVT10099</td><td>2023-09-12 16:16:20</td><td>2761</td></tr><tr><td>EVT10100</td><td>2023-09-07 11:46:10</td><td>3691</td></tr><tr><td>EVT10101</td><td>2023-09-09 17:39:20</td><td>6123</td></tr><tr><td>EVT10102</td><td>2023-09-07 12:35:12</td><td>1459</td></tr><tr><td>EVT10103</td><td>2023-09-03 12:52:08</td><td>2101</td></tr><tr><td>EVT10104</td><td>2023-09-14 21:39:40</td><td>4251</td></tr><tr><td>EVT10105</td><td>2023-09-07 11:38:31</td><td>1201</td></tr><tr><td>EVT10106</td><td>2023-09-06 00:27:37</td><td>2153</td></tr><tr><td>EVT10107</td><td>2023-09-03 22:31:20</td><td>475</td></tr><tr><td>EVT10108</td><td>2023-09-14 06:20:09</td><td>2346</td></tr><tr><td>EVT10109</td><td>2023-09-13 06:26:15</td><td>3494</td></tr><tr><td>EVT10110</td><td>2023-09-05 23:03:03</td><td>981</td></tr><tr><td>EVT10111</td><td>2023-09-03 09:03:39</td><td>1582</td></tr><tr><td>EVT10112</td><td>2023-09-06 08:15:38</td><td>2527</td></tr><tr><td>EVT10113</td><td>2023-09-10 09:39:09</td><td>31383</td></tr><tr><td>EVT10114</td><td>2023-09-02 04:52:57</td><td>8476</td></tr><tr><td>EVT10115</td><td>2023-09-10 16:19:12</td><td>3507</td></tr><tr><td>EVT10116</td><td>2023-09-10 10:01:58</td><td>7418</td></tr><tr><td>EVT10117</td><td>2023-09-09 06:07:30</td><td>3440</td></tr><tr><td>EVT10118</td><td>2023-09-13 13:18:43</td><td>4870</td></tr><tr><td>EVT10119</td><td>2023-09-07 19:05:19</td><td>1586</td></tr><tr><td>EVT10120</td><td>2023-09-12 04:47:45</td><td>723</td></tr><tr><td>EVT10121</td><td>2023-09-04 02:26:44</td><td>16867</td></tr><tr><td>EVT10122</td><td>2023-09-07 10:19:14</td><td>536</td></tr><tr><td>EVT10123</td><td>2023-09-09 08:48:29</td><td>287</td></tr><tr><td>EVT10124</td><td>2023-09-14 01:25:55</td><td>1221</td></tr><tr><td>EVT10125</td><td>2023-09-01 15:13:05</td><td>4419</td></tr><tr><td>EVT10126</td><td>2023-09-04 15:36:00</td><td>677</td></tr><tr><td>EVT10127</td><td>2023-09-13 19:57:36</td><td>1396</td></tr><tr><td>EVT10128</td><td>2023-09-11 05:12:21</td><td>4486</td></tr><tr><td>EVT10129</td><td>2023-09-10 02:11:09</td><td>2511</td></tr><tr><td>EVT10130</td><td>2023-09-14 10:33:32</td><td>631</td></tr><tr><td>EVT10131</td><td>2023-09-10 04:41:22</td><td>4423</td></tr><tr><td>EVT10132</td><td>2023-09-04 12:42:13</td><td>3154</td></tr><tr><td>EVT10133</td><td>2023-09-05 09:09:13</td><td>1502</td></tr><tr><td>EVT10134</td><td>2023-09-11 07:23:19</td><td>21187</td></tr><tr><td>EVT10135</td><td>2023-09-06 15:02:03</td><td>237</td></tr><tr><td>EVT10136</td><td>2023-09-10 19:05:09</td><td>5047</td></tr><tr><td>EVT10137</td><td>2023-09-14 15:42:30</td><td>4042</td></tr><tr><td>EVT10138</td><td>2023-09-04 12:14:44</td><td>2979</td></tr><tr><td>EVT10139</td><td>2023-09-08 18:56:59</td><td>3985</td></tr><tr><td>EVT10140</td><td>2023-09-07 03:14:52</td><td>1219</td></tr><tr><td>EVT10141</td><td>2023-09-14 07:26:52</td><td>14176</td></tr><tr><td>EVT10142</td><td>2023-09-08 17:26:16</td><td>1318</td></tr><tr><td>EVT10143</td><td>2023-09-08 16:36:05</td><td>1982</td></tr><tr><td>EVT10144</td><td>2023-09-02 06:36:09</td><td>27373</td></tr><tr><td>EVT10145</td><td>2023-09-13 03:08:03</td><td>951</td></tr><tr><td>EVT10146</td><td>2023-09-14 11:27:24</td><td>1667</td></tr><tr><td>EVT10147</td><td>2023-09-09 11:56:21</td><td>2561</td></tr><tr><td>EVT10148</td><td>2023-09-11 16:37:51</td><td>880</td></tr><tr><td>EVT10149</td><td>2023-09-06 17:36:22</td><td>769</td></tr><tr><td>EVT10150</td><td>2023-09-07 02:30:08</td><td>1375</td></tr><tr><td>EVT10151</td><td>2023-09-11 20:32:47</td><td>870</td></tr><tr><td>EVT10152</td><td>2023-09-09 22:58:00</td><td>601</td></tr><tr><td>EVT10153</td><td>2023-09-14 11:05:04</td><td>717</td></tr><tr><td>EVT10154</td><td>2023-09-03 22:22:57</td><td>4076</td></tr><tr><td>EVT10155</td><td>2023-09-11 17:16:20</td><td>1912</td></tr><tr><td>EVT10156</td><td>2023-09-03 08:52:33</td><td>1782</td></tr><tr><td>EVT10157</td><td>2023-09-01 19:23:34</td><td>12500</td></tr><tr><td>EVT10158</td><td>2023-09-10 03:00:33</td><td>12974</td></tr><tr><td>EVT10159</td><td>2023-09-05 04:51:35</td><td>881</td></tr><tr><td>EVT10160</td><td>2023-09-02 13:24:59</td><td>10692</td></tr><tr><td>EVT10161</td><td>2023-09-10 19:26:50</td><td>1210</td></tr><tr><td>EVT10162</td><td>2023-09-08 09:59:54</td><td>6408</td></tr><tr><td>EVT10163</td><td>2023-09-05 05:29:40</td><td>5547</td></tr><tr><td>EVT10164</td><td>2023-09-03 03:50:41</td><td>1405</td></tr><tr><td>EVT10165</td><td>2023-09-02 05:37:55</td><td>1176</td></tr><tr><td>EVT10166</td><td>2023-09-14 15:18:31</td><td>4467</td></tr><tr><td>EVT10167</td><td>2023-09-05 22:26:12</td><td>4761</td></tr><tr><td>EVT10168</td><td>2023-09-05 20:25:39</td><td>2269</td></tr><tr><td>EVT10169</td><td>2023-09-10 08:00:06</td><td>4181</td></tr><tr><td>EVT10170</td><td>2023-09-07 22:50:37</td><td>22351</td></tr><tr><td>EVT10171</td><td>2023-09-11 03:18:23</td><td>1960</td></tr><tr><td>EVT10172</td><td>2023-09-13 14:45:22</td><td>792</td></tr><tr><td>EVT10173</td><td>2023-09-11 17:46:06</td><td>3028</td></tr><tr><td>EVT10174</td><td>2023-09-02 16:22:21</td><td>3223</td></tr><tr><td>EVT10175</td><td>2023-09-06 02:24:27</td><td>741</td></tr><tr><td>EVT10176</td><td>2023-09-12 23:54:06</td><td>2686</td></tr><tr><td>EVT10177</td><td>2023-09-01 21:07:52</td><td>2904</td></tr><tr><td>EVT10178</td><td>2023-09-09 15:08:11</td><td>1283</td></tr><tr><td>EVT10179</td><td>2023-09-13 14:43:13</td><td>9230</td></tr><tr><td>EVT10180</td><td>2023-09-02 15:08:20</td><td>3442</td></tr><tr><td>EVT10181</td><td>2023-09-05 11:26:24</td><td>15082</td></tr><tr><td>EVT10182</td><td>2023-09-11 00:33:02</td><td>2094</td></tr><tr><td>EVT10183</td><td>2023-09-08 18:22:52</td><td>4670</td></tr><tr><td>EVT10184</td><td>2023-09-07 20:33:37</td><td>4029</td></tr><tr><td>EVT10185</td><td>2023-09-05 07:16:12</td><td>2315</td></tr><tr><td>EVT10186</td><td>2023-09-09 15:34:07</td><td>2993</td></tr><tr><td>EVT10187</td><td>2023-09-11 22:06:59</td><td>804</td></tr><tr><td>EVT10188</td><td>2023-09-08 16:19:55</td><td>1090</td></tr><tr><td>EVT10189</td><td>2023-09-13 09:54:20</td><td>4908</td></tr><tr><td>EVT10190</td><td>2023-09-02 00:13:13</td><td>4839</td></tr><tr><td>EVT10191</td><td>2023-09-06 17:05:56</td><td>3971</td></tr><tr><td>EVT10192</td><td>2023-09-09 23:07:19</td><td>753</td></tr><tr><td>EVT10193</td><td>2023-09-07 08:23:38</td><td>2528</td></tr><tr><td>EVT10194</td><td>2023-09-14 22:23:57</td><td>5819</td></tr><tr><td>EVT10195</td><td>2023-09-12 03:28:37</td><td>9395</td></tr><tr><td>EVT10196</td><td>2023-09-11 03:31:39</td><td>1780</td></tr><tr><td>EVT10197</td><td>2023-09-06 18:10:49</td><td>6890</td></tr><tr><td>EVT10198</td><td>2023-09-06 08:35:19</td><td>792</td></tr><tr><td>EVT10199</td><td>2023-09-06 17:58:15</td><td>4717</td></tr><tr><td>EVT10200</td><td>2023-09-09 10:13:32</td><td>24663</td></tr><tr><td>EVT10201</td><td>2023-09-10 08:06:41</td><td>6183</td></tr><tr><td>EVT10202</td><td>2023-09-07 09:10:01</td><td>20980</td></tr><tr><td>EVT10203</td><td>2023-09-08 10:35:42</td><td>34134</td></tr><tr><td>EVT10204</td><td>2023-09-06 21:27:52</td><td>3518</td></tr><tr><td>EVT10205</td><td>2023-09-06 06:41:06</td><td>902</td></tr><tr><td>EVT10206</td><td>2023-09-02 06:35:18</td><td>4002</td></tr><tr><td>EVT10207</td><td>2023-09-08 11:05:09</td><td>1221</td></tr><tr><td>EVT10208</td><td>2023-09-06 23:16:39</td><td>189</td></tr><tr><td>EVT10209</td><td>2023-09-02 23:55:25</td><td>298</td></tr><tr><td>EVT10210</td><td>2023-09-11 20:42:46</td><td>2206</td></tr><tr><td>EVT10211</td><td>2023-09-13 11:58:15</td><td>7823</td></tr><tr><td>EVT10212</td><td>2023-09-10 12:13:40</td><td>17534</td></tr><tr><td>EVT10213</td><td>2023-09-09 22:25:51</td><td>1463</td></tr><tr><td>EVT10214</td><td>2023-09-03 18:34:11</td><td>1599</td></tr><tr><td>EVT10215</td><td>2023-09-03 15:39:47</td><td>4870</td></tr><tr><td>EVT10216</td><td>2023-09-09 08:32:01</td><td>3251</td></tr><tr><td>EVT10217</td><td>2023-09-03 13:06:14</td><td>1194</td></tr><tr><td>EVT10218</td><td>2023-09-01 10:20:38</td><td>499</td></tr><tr><td>EVT10219</td><td>2023-09-12 21:22:54</td><td>1094</td></tr><tr><td>EVT10220</td><td>2023-09-02 01:39:11</td><td>3780</td></tr><tr><td>EVT10221</td><td>2023-09-06 07:18:02</td><td>2460</td></tr><tr><td>EVT10222</td><td>2023-09-14 08:29:40</td><td>5460</td></tr><tr><td>EVT10223</td><td>2023-09-05 03:07:36</td><td>4934</td></tr><tr><td>EVT10224</td><td>2023-09-03 13:10:32</td><td>420</td></tr><tr><td>EVT10225</td><td>2023-09-04 04:39:31</td><td>1440</td></tr><tr><td>EVT10226</td><td>2023-09-11 14:55:15</td><td>1176</td></tr><tr><td>EVT10227</td><td>2023-09-05 01:02:11</td><td>799</td></tr><tr><td>EVT10228</td><td>2023-09-08 19:18:46</td><td>3024</td></tr><tr><td>EVT10229</td><td>2023-09-07 21:55:11</td><td>511</td></tr><tr><td>EVT10230</td><td>2023-09-02 17:26:50</td><td>5457</td></tr><tr><td>EVT10231</td><td>2023-09-08 17:08:49</td><td>2140</td></tr><tr><td>EVT10232</td><td>2023-09-07 01:20:24</td><td>972</td></tr><tr><td>EVT10233</td><td>2023-09-05 05:38:31</td><td>6521</td></tr><tr><td>EVT10234</td><td>2023-09-08 11:48:51</td><td>1693</td></tr><tr><td>EVT10235</td><td>2023-09-03 18:49:29</td><td>764</td></tr><tr><td>EVT10236</td><td>2023-09-14 15:10:01</td><td>1865</td></tr><tr><td>EVT10237</td><td>2023-09-12 10:44:18</td><td>1655</td></tr><tr><td>EVT10238</td><td>2023-09-01 14:34:16</td><td>4773</td></tr><tr><td>EVT10239</td><td>2023-09-06 21:34:47</td><td>13009</td></tr><tr><td>EVT10240</td><td>2023-09-01 20:04:54</td><td>11352</td></tr><tr><td>EVT10241</td><td>2023-09-02 11:48:20</td><td>10943</td></tr><tr><td>EVT10242</td><td>2023-09-05 02:28:44</td><td>433</td></tr><tr><td>EVT10243</td><td>2023-09-10 05:58:28</td><td>3448</td></tr><tr><td>EVT10244</td><td>2023-09-12 12:20:12</td><td>362</td></tr><tr><td>EVT10245</td><td>2023-09-05 16:58:25</td><td>1228</td></tr><tr><td>EVT10246</td><td>2023-09-09 19:55:24</td><td>3754</td></tr><tr><td>EVT10247</td><td>2023-09-06 16:31:42</td><td>1329</td></tr><tr><td>EVT10248</td><td>2023-09-11 19:02:09</td><td>620</td></tr><tr><td>EVT10249</td><td>2023-09-11 19:06:50</td><td>1014</td></tr><tr><td>EVT10250</td><td>2023-09-03 06:22:19</td><td>512</td></tr><tr><td>EVT10251</td><td>2023-09-09 10:26:28</td><td>585</td></tr><tr><td>EVT10252</td><td>2023-09-11 10:02:57</td><td>4801</td></tr><tr><td>EVT10253</td><td>2023-09-11 01:16:35</td><td>587</td></tr><tr><td>EVT10254</td><td>2023-09-06 14:50:15</td><td>2930</td></tr><tr><td>EVT10255</td><td>2023-09-11 09:17:39</td><td>608</td></tr><tr><td>EVT10256</td><td>2023-09-09 14:21:25</td><td>1557</td></tr><tr><td>EVT10257</td><td>2023-09-11 18:47:18</td><td>1154</td></tr><tr><td>EVT10258</td><td>2023-09-12 14:31:43</td><td>1393</td></tr><tr><td>EVT10259</td><td>2023-09-13 12:00:30</td><td>2236</td></tr><tr><td>EVT10260</td><td>2023-09-12 01:31:44</td><td>1289</td></tr><tr><td>EVT10261</td><td>2023-09-12 20:55:12</td><td>815</td></tr><tr><td>EVT10262</td><td>2023-09-14 17:08:51</td><td>712</td></tr><tr><td>EVT10263</td><td>2023-09-09 17:50:31</td><td>1277</td></tr><tr><td>EVT10264</td><td>2023-09-09 01:42:29</td><td>1103</td></tr><tr><td>EVT10265</td><td>2023-09-06 18:26:27</td><td>9320</td></tr><tr><td>EVT10266</td><td>2023-09-14 16:54:48</td><td>1997</td></tr><tr><td>EVT10267</td><td>2023-09-02 15:02:40</td><td>1672</td></tr><tr><td>EVT10268</td><td>2023-09-06 07:06:36</td><td>1056</td></tr><tr><td>EVT10269</td><td>2023-09-09 21:02:08</td><td>5441</td></tr><tr><td>EVT10270</td><td>2023-09-05 10:25:41</td><td>6780</td></tr><tr><td>EVT10271</td><td>2023-09-13 21:50:12</td><td>1125</td></tr><tr><td>EVT10272</td><td>2023-09-04 11:00:05</td><td>247</td></tr><tr><td>EVT10273</td><td>2023-09-08 09:39:16</td><td>2378</td></tr><tr><td>EVT10274</td><td>2023-09-11 19:58:42</td><td>1626</td></tr><tr><td>EVT10275</td><td>2023-09-13 23:09:27</td><td>1926</td></tr><tr><td>EVT10276</td><td>2023-09-12 06:41:37</td><td>5146</td></tr><tr><td>EVT10277</td><td>2023-09-06 14:11:39</td><td>1155</td></tr><tr><td>EVT10278</td><td>2023-09-03 05:34:48</td><td>3051</td></tr><tr><td>EVT10279</td><td>2023-09-05 15:07:02</td><td>1659</td></tr><tr><td>EVT10280</td><td>2023-09-08 13:53:20</td><td>3303</td></tr><tr><td>EVT10281</td><td>2023-09-09 00:41:00</td><td>836</td></tr><tr><td>EVT10282</td><td>2023-09-05 22:13:46</td><td>2634</td></tr><tr><td>EVT10283</td><td>2023-09-11 18:32:12</td><td>1851</td></tr><tr><td>EVT10284</td><td>2023-09-02 18:56:39</td><td>4853</td></tr><tr><td>EVT10285</td><td>2023-09-07 14:38:26</td><td>3084</td></tr><tr><td>EVT10286</td><td>2023-09-07 13:32:18</td><td>1564</td></tr><tr><td>EVT10287</td><td>2023-09-05 09:41:13</td><td>2813</td></tr><tr><td>EVT10288</td><td>2023-09-04 05:50:42</td><td>3207</td></tr><tr><td>EVT10289</td><td>2023-09-03 18:21:12</td><td>2094</td></tr><tr><td>EVT10290</td><td>2023-09-12 14:40:25</td><td>603</td></tr><tr><td>EVT10291</td><td>2023-09-12 06:34:02</td><td>526</td></tr><tr><td>EVT10292</td><td>2023-09-12 19:22:47</td><td>27223</td></tr><tr><td>EVT10293</td><td>2023-09-07 15:41:29</td><td>300</td></tr><tr><td>EVT10294</td><td>2023-09-14 11:13:09</td><td>813</td></tr><tr><td>EVT10295</td><td>2023-09-01 20:34:35</td><td>4747</td></tr><tr><td>EVT10296</td><td>2023-09-13 15:21:25</td><td>417</td></tr><tr><td>EVT10297</td><td>2023-09-13 11:58:32</td><td>23587</td></tr><tr><td>EVT10298</td><td>2023-09-11 22:17:30</td><td>1122</td></tr><tr><td>EVT10299</td><td>2023-09-10 21:05:35</td><td>11764</td></tr><tr><td>EVT10300</td><td>2023-09-05 11:55:44</td><td>932</td></tr><tr><td>EVT10301</td><td>2023-09-01 02:06:07</td><td>601</td></tr><tr><td>EVT10302</td><td>2023-09-03 17:15:53</td><td>4215</td></tr><tr><td>EVT10303</td><td>2023-09-01 07:13:37</td><td>1926</td></tr><tr><td>EVT10304</td><td>2023-09-11 06:28:31</td><td>5667</td></tr><tr><td>EVT10305</td><td>2023-09-12 15:18:11</td><td>3373</td></tr><tr><td>EVT10306</td><td>2023-09-04 05:34:36</td><td>9986</td></tr><tr><td>EVT10307</td><td>2023-09-11 17:03:53</td><td>260</td></tr><tr><td>EVT10308</td><td>2023-09-13 06:39:52</td><td>586</td></tr><tr><td>EVT10309</td><td>2023-09-07 04:16:55</td><td>730</td></tr><tr><td>EVT10310</td><td>2023-09-02 14:27:28</td><td>1926</td></tr><tr><td>EVT10311</td><td>2023-09-06 07:09:55</td><td>5751</td></tr><tr><td>EVT10312</td><td>2023-09-14 00:26:41</td><td>1476</td></tr><tr><td>EVT10313</td><td>2023-09-06 19:13:06</td><td>4447</td></tr><tr><td>EVT10314</td><td>2023-09-03 22:10:40</td><td>15991</td></tr><tr><td>EVT10315</td><td>2023-09-06 03:55:44</td><td>10524</td></tr><tr><td>EVT10316</td><td>2023-09-12 13:21:56</td><td>8248</td></tr><tr><td>EVT10317</td><td>2023-09-10 22:26:19</td><td>6693</td></tr><tr><td>EVT10318</td><td>2023-09-10 05:37:04</td><td>2192</td></tr><tr><td>EVT10319</td><td>2023-09-09 15:18:17</td><td>3181</td></tr><tr><td>EVT10320</td><td>2023-09-10 13:07:32</td><td>3143</td></tr><tr><td>EVT10321</td><td>2023-09-11 13:15:18</td><td>1922</td></tr><tr><td>EVT10322</td><td>2023-09-10 23:27:29</td><td>4126</td></tr><tr><td>EVT10323</td><td>2023-09-12 23:42:42</td><td>1417</td></tr><tr><td>EVT10324</td><td>2023-09-03 18:42:03</td><td>3423</td></tr><tr><td>EVT10325</td><td>2023-09-13 01:48:20</td><td>1585</td></tr><tr><td>EVT10326</td><td>2023-09-10 14:00:40</td><td>3844</td></tr><tr><td>EVT10327</td><td>2023-09-14 23:19:15</td><td>2908</td></tr><tr><td>EVT10328</td><td>2023-09-11 01:37:02</td><td>172</td></tr><tr><td>EVT10329</td><td>2023-09-10 21:13:16</td><td>1696</td></tr><tr><td>EVT10330</td><td>2023-09-03 05:45:54</td><td>1077</td></tr><tr><td>EVT10331</td><td>2023-09-08 06:16:31</td><td>1972</td></tr><tr><td>EVT10332</td><td>2023-09-13 12:02:38</td><td>20390</td></tr><tr><td>EVT10333</td><td>2023-09-14 13:12:35</td><td>3685</td></tr><tr><td>EVT10334</td><td>2023-09-02 10:19:37</td><td>382</td></tr><tr><td>EVT10335</td><td>2023-09-10 13:36:57</td><td>376</td></tr><tr><td>EVT10336</td><td>2023-09-02 03:12:21</td><td>20920</td></tr><tr><td>EVT10337</td><td>2023-09-14 01:20:33</td><td>22685</td></tr><tr><td>EVT10338</td><td>2023-09-02 22:52:45</td><td>4473</td></tr><tr><td>EVT10339</td><td>2023-09-09 08:13:38</td><td>1437</td></tr><tr><td>EVT10340</td><td>2023-09-11 08:27:09</td><td>1549</td></tr><tr><td>EVT10341</td><td>2023-09-07 17:32:08</td><td>787</td></tr><tr><td>EVT10342</td><td>2023-09-01 07:56:13</td><td>3434</td></tr><tr><td>EVT10343</td><td>2023-09-04 02:18:00</td><td>372</td></tr><tr><td>EVT10344</td><td>2023-09-03 14:43:17</td><td>4324</td></tr><tr><td>EVT10345</td><td>2023-09-07 23:55:21</td><td>4529</td></tr><tr><td>EVT10346</td><td>2023-09-01 10:50:20</td><td>9310</td></tr><tr><td>EVT10347</td><td>2023-09-09 18:27:26</td><td>16737</td></tr><tr><td>EVT10348</td><td>2023-09-05 22:02:45</td><td>2700</td></tr><tr><td>EVT10349</td><td>2023-09-03 15:46:28</td><td>3232</td></tr><tr><td>EVT10350</td><td>2023-09-04 18:25:56</td><td>15516</td></tr><tr><td>EVT10351</td><td>2023-09-07 03:07:03</td><td>16186</td></tr><tr><td>EVT10352</td><td>2023-09-12 11:37:16</td><td>3133</td></tr><tr><td>EVT10353</td><td>2023-09-08 15:53:22</td><td>7804</td></tr><tr><td>EVT10354</td><td>2023-09-11 17:33:20</td><td>1557</td></tr><tr><td>EVT10355</td><td>2023-09-06 10:15:35</td><td>124</td></tr><tr><td>EVT10356</td><td>2023-09-13 09:06:48</td><td>3599</td></tr><tr><td>EVT10357</td><td>2023-09-04 11:09:09</td><td>5023</td></tr><tr><td>EVT10358</td><td>2023-09-10 00:15:26</td><td>919</td></tr><tr><td>EVT10359</td><td>2023-09-02 05:54:08</td><td>2256</td></tr><tr><td>EVT10360</td><td>2023-09-03 14:18:11</td><td>3276</td></tr><tr><td>EVT10361</td><td>2023-09-10 10:12:34</td><td>1725</td></tr><tr><td>EVT10362</td><td>2023-09-02 21:03:29</td><td>710</td></tr><tr><td>EVT10363</td><td>2023-09-01 23:59:44</td><td>1376</td></tr><tr><td>EVT10364</td><td>2023-09-06 19:52:03</td><td>3175</td></tr><tr><td>EVT10365</td><td>2023-09-06 15:39:51</td><td>6533</td></tr><tr><td>EVT10366</td><td>2023-09-01 00:24:29</td><td>1687</td></tr><tr><td>EVT10367</td><td>2023-09-13 02:12:10</td><td>17167</td></tr><tr><td>EVT10368</td><td>2023-09-09 00:56:36</td><td>3032</td></tr><tr><td>EVT10369</td><td>2023-09-12 02:22:51</td><td>4516</td></tr><tr><td>EVT10370</td><td>2023-09-07 07:45:10</td><td>476</td></tr><tr><td>EVT10371</td><td>2023-09-05 17:27:22</td><td>1881</td></tr><tr><td>EVT10372</td><td>2023-09-08 03:26:08</td><td>2327</td></tr><tr><td>EVT10373</td><td>2023-09-02 22:02:13</td><td>2999</td></tr><tr><td>EVT10374</td><td>2023-09-02 13:37:17</td><td>5901</td></tr><tr><td>EVT10375</td><td>2023-09-03 19:49:04</td><td>2347</td></tr><tr><td>EVT10376</td><td>2023-09-01 16:22:17</td><td>4985</td></tr><tr><td>EVT10377</td><td>2023-09-04 11:35:07</td><td>918</td></tr><tr><td>EVT10378</td><td>2023-09-01 18:35:16</td><td>20920</td></tr><tr><td>EVT10379</td><td>2023-09-12 00:25:14</td><td>3738</td></tr><tr><td>EVT10380</td><td>2023-09-12 10:39:10</td><td>6348</td></tr><tr><td>EVT10381</td><td>2023-09-10 23:30:58</td><td>1171</td></tr><tr><td>EVT10382</td><td>2023-09-11 02:20:18</td><td>249</td></tr><tr><td>EVT10383</td><td>2023-09-13 07:09:53</td><td>7786</td></tr><tr><td>EVT10384</td><td>2023-09-02 14:16:10</td><td>7494</td></tr><tr><td>EVT10385</td><td>2023-09-08 18:09:18</td><td>6318</td></tr><tr><td>EVT10386</td><td>2023-09-10 17:04:24</td><td>2960</td></tr><tr><td>EVT10387</td><td>2023-09-07 14:24:19</td><td>1421</td></tr><tr><td>EVT10388</td><td>2023-09-14 16:19:30</td><td>5850</td></tr><tr><td>EVT10389</td><td>2023-09-05 22:43:56</td><td>1854</td></tr><tr><td>EVT10390</td><td>2023-09-05 17:07:20</td><td>1917</td></tr><tr><td>EVT10391</td><td>2023-09-04 03:50:05</td><td>10184</td></tr><tr><td>EVT10392</td><td>2023-09-02 08:41:21</td><td>1887</td></tr><tr><td>EVT10393</td><td>2023-09-04 03:06:14</td><td>1153</td></tr><tr><td>EVT10394</td><td>2023-09-10 01:06:42</td><td>3346</td></tr><tr><td>EVT10395</td><td>2023-09-07 06:11:24</td><td>2171</td></tr><tr><td>EVT10396</td><td>2023-09-08 01:28:31</td><td>2543</td></tr><tr><td>EVT10397</td><td>2023-09-07 22:45:22</td><td>91</td></tr><tr><td>EVT10398</td><td>2023-09-14 05:21:06</td><td>2717</td></tr><tr><td>EVT10399</td><td>2023-09-10 11:31:01</td><td>4483</td></tr><tr><td>EVT10400</td><td>2023-09-06 12:58:51</td><td>5030</td></tr><tr><td>EVT10401</td><td>2023-09-11 23:58:07</td><td>23920</td></tr><tr><td>EVT10402</td><td>2023-09-14 19:00:06</td><td>14264</td></tr><tr><td>EVT10403</td><td>2023-09-13 23:11:16</td><td>8358</td></tr><tr><td>EVT10404</td><td>2023-09-04 04:00:19</td><td>2314</td></tr><tr><td>EVT10405</td><td>2023-09-05 12:06:26</td><td>2158</td></tr><tr><td>EVT10406</td><td>2023-09-10 17:55:32</td><td>957</td></tr><tr><td>EVT10407</td><td>2023-09-05 01:59:11</td><td>369</td></tr><tr><td>EVT10408</td><td>2023-09-06 07:52:05</td><td>1234</td></tr><tr><td>EVT10409</td><td>2023-09-06 00:23:18</td><td>20415</td></tr><tr><td>EVT10410</td><td>2023-09-02 14:57:21</td><td>7972</td></tr><tr><td>EVT10411</td><td>2023-09-04 22:53:32</td><td>7146</td></tr><tr><td>EVT10412</td><td>2023-09-11 14:33:55</td><td>3076</td></tr><tr><td>EVT10413</td><td>2023-09-03 16:29:47</td><td>946</td></tr><tr><td>EVT10414</td><td>2023-09-04 01:26:20</td><td>865</td></tr><tr><td>EVT10415</td><td>2023-09-05 17:26:49</td><td>22011</td></tr><tr><td>EVT10416</td><td>2023-09-01 18:59:51</td><td>501</td></tr><tr><td>EVT10417</td><td>2023-09-09 05:03:18</td><td>1686</td></tr><tr><td>EVT10418</td><td>2023-09-08 16:35:48</td><td>4060</td></tr><tr><td>EVT10419</td><td>2023-09-06 03:28:53</td><td>2925</td></tr><tr><td>EVT10420</td><td>2023-09-06 19:52:25</td><td>1376</td></tr><tr><td>EVT10421</td><td>2023-09-09 14:34:06</td><td>2452</td></tr><tr><td>EVT10422</td><td>2023-09-09 15:51:51</td><td>584</td></tr><tr><td>EVT10423</td><td>2023-09-02 02:34:24</td><td>6238</td></tr><tr><td>EVT10424</td><td>2023-09-08 01:46:32</td><td>3542</td></tr><tr><td>EVT10425</td><td>2023-09-14 04:44:26</td><td>4385</td></tr><tr><td>EVT10426</td><td>2023-09-08 13:32:10</td><td>3152</td></tr><tr><td>EVT10427</td><td>2023-09-06 13:06:10</td><td>7516</td></tr><tr><td>EVT10428</td><td>2023-09-02 14:26:03</td><td>686</td></tr><tr><td>EVT10429</td><td>2023-09-03 03:30:35</td><td>6316</td></tr><tr><td>EVT10430</td><td>2023-09-07 16:30:02</td><td>7260</td></tr><tr><td>EVT10431</td><td>2023-09-10 05:36:59</td><td>1892</td></tr><tr><td>EVT10432</td><td>2023-09-07 14:51:18</td><td>1913</td></tr><tr><td>EVT10433</td><td>2023-09-02 02:54:26</td><td>662</td></tr><tr><td>EVT10434</td><td>2023-09-10 05:20:13</td><td>1126</td></tr><tr><td>EVT10435</td><td>2023-09-04 23:50:42</td><td>9550</td></tr><tr><td>EVT10436</td><td>2023-09-05 09:41:45</td><td>1711</td></tr><tr><td>EVT10437</td><td>2023-09-03 19:37:07</td><td>4720</td></tr><tr><td>EVT10438</td><td>2023-09-03 01:02:39</td><td>32203</td></tr><tr><td>EVT10439</td><td>2023-09-12 23:00:59</td><td>1565</td></tr><tr><td>EVT10440</td><td>2023-09-12 12:30:35</td><td>3107</td></tr><tr><td>EVT10441</td><td>2023-09-04 14:50:20</td><td>6646</td></tr><tr><td>EVT10442</td><td>2023-09-09 02:03:44</td><td>3895</td></tr><tr><td>EVT10443</td><td>2023-09-01 12:29:49</td><td>1566</td></tr><tr><td>EVT10444</td><td>2023-09-08 10:18:21</td><td>1863</td></tr><tr><td>EVT10445</td><td>2023-09-03 08:33:22</td><td>4574</td></tr><tr><td>EVT10446</td><td>2023-09-12 13:39:48</td><td>4342</td></tr><tr><td>EVT10447</td><td>2023-09-02 08:08:10</td><td>2851</td></tr><tr><td>EVT10448</td><td>2023-09-08 11:24:15</td><td>1544</td></tr><tr><td>EVT10449</td><td>2023-09-04 21:38:50</td><td>697</td></tr><tr><td>EVT10450</td><td>2023-09-07 06:00:14</td><td>1089</td></tr><tr><td>EVT10451</td><td>2023-09-02 23:09:01</td><td>187</td></tr><tr><td>EVT10452</td><td>2023-09-13 03:52:08</td><td>2090</td></tr><tr><td>EVT10453</td><td>2023-09-03 22:24:21</td><td>3318</td></tr><tr><td>EVT10454</td><td>2023-09-08 06:22:13</td><td>4874</td></tr><tr><td>EVT10455</td><td>2023-09-08 19:03:48</td><td>404</td></tr><tr><td>EVT10456</td><td>2023-09-05 08:55:55</td><td>1447</td></tr><tr><td>EVT10457</td><td>2023-09-03 22:16:36</td><td>384</td></tr><tr><td>EVT10458</td><td>2023-09-04 18:01:26</td><td>15864</td></tr><tr><td>EVT10459</td><td>2023-09-08 05:05:51</td><td>117</td></tr><tr><td>EVT10460</td><td>2023-09-14 08:58:43</td><td>3552</td></tr><tr><td>EVT10461</td><td>2023-09-01 11:31:45</td><td>876</td></tr><tr><td>EVT10462</td><td>2023-09-13 16:50:02</td><td>570</td></tr><tr><td>EVT10463</td><td>2023-09-09 08:19:06</td><td>12380</td></tr><tr><td>EVT10464</td><td>2023-09-14 20:03:54</td><td>2351</td></tr><tr><td>EVT10465</td><td>2023-09-13 09:46:26</td><td>920</td></tr><tr><td>EVT10466</td><td>2023-09-07 11:31:13</td><td>425</td></tr><tr><td>EVT10467</td><td>2023-09-01 17:17:48</td><td>1038</td></tr><tr><td>EVT10468</td><td>2023-09-03 14:16:03</td><td>1243</td></tr><tr><td>EVT10469</td><td>2023-09-07 22:40:38</td><td>3376</td></tr><tr><td>EVT10470</td><td>2023-09-07 11:33:46</td><td>10616</td></tr><tr><td>EVT10471</td><td>2023-09-13 13:13:40</td><td>4406</td></tr><tr><td>EVT10472</td><td>2023-09-09 18:07:38</td><td>6806</td></tr><tr><td>EVT10473</td><td>2023-09-07 16:37:24</td><td>4127</td></tr><tr><td>EVT10474</td><td>2023-09-01 13:43:35</td><td>5711</td></tr><tr><td>EVT10475</td><td>2023-09-06 14:53:45</td><td>2068</td></tr><tr><td>EVT10476</td><td>2023-09-03 10:02:06</td><td>1954</td></tr><tr><td>EVT10477</td><td>2023-09-02 16:42:47</td><td>2904</td></tr><tr><td>EVT10478</td><td>2023-09-10 20:18:11</td><td>9071</td></tr><tr><td>EVT10479</td><td>2023-09-05 08:43:49</td><td>524</td></tr><tr><td>EVT10480</td><td>2023-09-06 06:16:57</td><td>8453</td></tr><tr><td>EVT10481</td><td>2023-09-01 15:12:21</td><td>2523</td></tr><tr><td>EVT10482</td><td>2023-09-12 12:46:30</td><td>867</td></tr><tr><td>EVT10483</td><td>2023-09-13 12:19:07</td><td>2938</td></tr><tr><td>EVT10484</td><td>2023-09-07 03:20:31</td><td>353</td></tr><tr><td>EVT10485</td><td>2023-09-01 22:14:40</td><td>1645</td></tr><tr><td>EVT10486</td><td>2023-09-08 19:52:43</td><td>11943</td></tr><tr><td>EVT10487</td><td>2023-09-08 09:03:41</td><td>6383</td></tr><tr><td>EVT10488</td><td>2023-09-01 00:56:54</td><td>531</td></tr><tr><td>EVT10489</td><td>2023-09-12 05:41:02</td><td>1155</td></tr><tr><td>EVT10490</td><td>2023-09-09 00:48:39</td><td>1232</td></tr><tr><td>EVT10491</td><td>2023-09-02 08:30:46</td><td>4490</td></tr><tr><td>EVT10492</td><td>2023-09-09 13:38:51</td><td>10683</td></tr><tr><td>EVT10493</td><td>2023-09-01 06:03:20</td><td>14903</td></tr><tr><td>EVT10494</td><td>2023-09-14 06:44:02</td><td>2410</td></tr><tr><td>EVT10495</td><td>2023-09-08 03:42:24</td><td>3523</td></tr><tr><td>EVT10496</td><td>2023-09-06 07:46:24</td><td>4517</td></tr><tr><td>EVT10497</td><td>2023-09-11 15:38:28</td><td>2988</td></tr><tr><td>EVT10498</td><td>2023-09-14 07:16:33</td><td>792</td></tr><tr><td>EVT10499</td><td>2023-09-06 19:49:51</td><td>281</td></tr><tr><td>EVT10500</td><td>2023-09-08 20:14:02</td><td>1015</td></tr><tr><td>EVT10501</td><td>2023-09-13 22:38:51</td><td>293</td></tr><tr><td>EVT10502</td><td>2023-09-03 08:44:14</td><td>8768</td></tr><tr><td>EVT10503</td><td>2023-09-11 06:56:55</td><td>4068</td></tr><tr><td>EVT10504</td><td>2023-09-07 07:35:31</td><td>4291</td></tr><tr><td>EVT10505</td><td>2023-09-03 02:17:04</td><td>1379</td></tr><tr><td>EVT10506</td><td>2023-09-13 00:03:43</td><td>4344</td></tr><tr><td>EVT10507</td><td>2023-09-13 22:34:33</td><td>2280</td></tr><tr><td>EVT10508</td><td>2023-09-05 15:41:14</td><td>354</td></tr><tr><td>EVT10509</td><td>2023-09-07 16:40:31</td><td>800</td></tr><tr><td>EVT10510</td><td>2023-09-06 01:34:53</td><td>1445</td></tr><tr><td>EVT10511</td><td>2023-09-14 18:08:14</td><td>3029</td></tr><tr><td>EVT10512</td><td>2023-09-09 10:29:23</td><td>12757</td></tr><tr><td>EVT10513</td><td>2023-09-10 12:38:15</td><td>10085</td></tr><tr><td>EVT10514</td><td>2023-09-14 21:32:11</td><td>3024</td></tr><tr><td>EVT10515</td><td>2023-09-12 05:48:52</td><td>4242</td></tr><tr><td>EVT10516</td><td>2023-09-09 22:09:41</td><td>468</td></tr><tr><td>EVT10517</td><td>2023-09-06 05:14:09</td><td>1523</td></tr><tr><td>EVT10518</td><td>2023-09-14 10:41:39</td><td>560</td></tr><tr><td>EVT10519</td><td>2023-09-08 08:17:25</td><td>1505</td></tr><tr><td>EVT10520</td><td>2023-09-13 03:01:51</td><td>331</td></tr><tr><td>EVT10521</td><td>2023-09-04 03:21:55</td><td>4081</td></tr><tr><td>EVT10522</td><td>2023-09-14 18:22:14</td><td>5309</td></tr><tr><td>EVT10523</td><td>2023-09-02 06:43:33</td><td>5497</td></tr><tr><td>EVT10524</td><td>2023-09-14 01:11:27</td><td>1885</td></tr><tr><td>EVT10525</td><td>2023-09-01 07:27:18</td><td>3431</td></tr><tr><td>EVT10526</td><td>2023-09-09 16:16:03</td><td>6275</td></tr><tr><td>EVT10527</td><td>2023-09-04 07:36:13</td><td>1011</td></tr><tr><td>EVT10528</td><td>2023-09-05 08:44:09</td><td>2506</td></tr><tr><td>EVT10529</td><td>2023-09-06 09:36:37</td><td>10591</td></tr><tr><td>EVT10530</td><td>2023-09-03 01:40:55</td><td>3204</td></tr><tr><td>EVT10531</td><td>2023-09-01 01:58:40</td><td>2511</td></tr><tr><td>EVT10532</td><td>2023-09-13 03:01:53</td><td>369</td></tr><tr><td>EVT10533</td><td>2023-09-14 21:43:53</td><td>554</td></tr><tr><td>EVT10534</td><td>2023-09-05 03:00:00</td><td>3610</td></tr><tr><td>EVT10535</td><td>2023-09-11 16:56:28</td><td>2223</td></tr><tr><td>EVT10536</td><td>2023-09-13 19:54:06</td><td>4049</td></tr><tr><td>EVT10537</td><td>2023-09-12 01:19:02</td><td>2183</td></tr><tr><td>EVT10538</td><td>2023-09-03 17:22:07</td><td>2663</td></tr><tr><td>EVT10539</td><td>2023-09-04 04:44:41</td><td>3386</td></tr><tr><td>EVT10540</td><td>2023-09-02 09:54:42</td><td>3195</td></tr><tr><td>EVT10541</td><td>2023-09-09 05:30:16</td><td>3396</td></tr><tr><td>EVT10542</td><td>2023-09-02 07:57:34</td><td>3418</td></tr><tr><td>EVT10543</td><td>2023-09-05 06:05:23</td><td>1219</td></tr><tr><td>EVT10544</td><td>2023-09-11 10:37:05</td><td>782</td></tr><tr><td>EVT10545</td><td>2023-09-02 04:05:19</td><td>24140</td></tr><tr><td>EVT10546</td><td>2023-09-09 05:03:05</td><td>577</td></tr><tr><td>EVT10547</td><td>2023-09-06 10:10:03</td><td>691</td></tr><tr><td>EVT10548</td><td>2023-09-08 03:07:38</td><td>1064</td></tr><tr><td>EVT10549</td><td>2023-09-01 16:17:22</td><td>897</td></tr><tr><td>EVT10550</td><td>2023-09-09 21:21:37</td><td>1880</td></tr><tr><td>EVT10551</td><td>2023-09-11 20:26:49</td><td>1066</td></tr><tr><td>EVT10552</td><td>2023-09-11 19:29:45</td><td>5564</td></tr><tr><td>EVT10553</td><td>2023-09-08 06:44:06</td><td>3990</td></tr><tr><td>EVT10554</td><td>2023-09-09 11:14:14</td><td>1425</td></tr><tr><td>EVT10555</td><td>2023-09-13 04:18:44</td><td>28248</td></tr><tr><td>EVT10556</td><td>2023-09-09 10:54:39</td><td>11494</td></tr><tr><td>EVT10557</td><td>2023-09-12 16:27:54</td><td>3772</td></tr><tr><td>EVT10558</td><td>2023-09-12 13:31:58</td><td>1939</td></tr><tr><td>EVT10559</td><td>2023-09-14 21:09:54</td><td>8226</td></tr><tr><td>EVT10560</td><td>2023-09-09 05:18:30</td><td>4652</td></tr><tr><td>EVT10561</td><td>2023-09-10 11:39:38</td><td>2331</td></tr><tr><td>EVT10562</td><td>2023-09-08 00:49:59</td><td>16330</td></tr><tr><td>EVT10563</td><td>2023-09-06 19:32:11</td><td>817</td></tr><tr><td>EVT10564</td><td>2023-09-08 13:14:37</td><td>467</td></tr><tr><td>EVT10565</td><td>2023-09-05 04:26:19</td><td>2152</td></tr><tr><td>EVT10566</td><td>2023-09-06 07:00:36</td><td>6827</td></tr><tr><td>EVT10567</td><td>2023-09-01 16:02:17</td><td>921</td></tr><tr><td>EVT10568</td><td>2023-09-14 03:16:26</td><td>911</td></tr><tr><td>EVT10569</td><td>2023-09-06 05:54:41</td><td>2045</td></tr><tr><td>EVT10570</td><td>2023-09-01 02:47:58</td><td>1071</td></tr><tr><td>EVT10571</td><td>2023-09-01 00:28:10</td><td>3793</td></tr><tr><td>EVT10572</td><td>2023-09-09 02:53:50</td><td>17943</td></tr><tr><td>EVT10573</td><td>2023-09-13 09:35:33</td><td>1652</td></tr><tr><td>EVT10574</td><td>2023-09-13 09:03:47</td><td>2227</td></tr><tr><td>EVT10575</td><td>2023-09-02 13:33:24</td><td>671</td></tr><tr><td>EVT10576</td><td>2023-09-10 08:37:34</td><td>1194</td></tr><tr><td>EVT10577</td><td>2023-09-01 06:52:57</td><td>3283</td></tr><tr><td>EVT10578</td><td>2023-09-08 04:16:19</td><td>7989</td></tr><tr><td>EVT10579</td><td>2023-09-02 20:19:42</td><td>1928</td></tr><tr><td>EVT10580</td><td>2023-09-13 01:41:45</td><td>11326</td></tr><tr><td>EVT10581</td><td>2023-09-11 15:24:28</td><td>7675</td></tr><tr><td>EVT10582</td><td>2023-09-13 20:12:06</td><td>164</td></tr><tr><td>EVT10583</td><td>2023-09-08 22:21:17</td><td>4325</td></tr><tr><td>EVT10584</td><td>2023-09-01 00:26:21</td><td>1807</td></tr><tr><td>EVT10585</td><td>2023-09-13 15:21:41</td><td>7797</td></tr><tr><td>EVT10586</td><td>2023-09-13 03:31:24</td><td>3211</td></tr><tr><td>EVT10587</td><td>2023-09-13 16:28:12</td><td>5141</td></tr><tr><td>EVT10588</td><td>2023-09-09 18:31:22</td><td>2057</td></tr><tr><td>EVT10589</td><td>2023-09-13 03:20:50</td><td>7544</td></tr><tr><td>EVT10590</td><td>2023-09-10 00:21:21</td><td>5366</td></tr><tr><td>EVT10591</td><td>2023-09-12 04:59:51</td><td>4733</td></tr><tr><td>EVT10592</td><td>2023-09-10 23:18:34</td><td>1963</td></tr><tr><td>EVT10593</td><td>2023-09-07 04:27:53</td><td>882</td></tr><tr><td>EVT10594</td><td>2023-09-03 14:52:15</td><td>21301</td></tr><tr><td>EVT10595</td><td>2023-09-02 00:12:44</td><td>16211</td></tr><tr><td>EVT10596</td><td>2023-09-01 12:14:13</td><td>1901</td></tr><tr><td>EVT10597</td><td>2023-09-05 18:35:47</td><td>14537</td></tr><tr><td>EVT10598</td><td>2023-09-14 23:13:10</td><td>1320</td></tr><tr><td>EVT10599</td><td>2023-09-09 09:37:28</td><td>2513</td></tr><tr><td>EVT10600</td><td>2023-09-01 08:50:18</td><td>3979</td></tr><tr><td>EVT10601</td><td>2023-09-05 21:10:48</td><td>5993</td></tr><tr><td>EVT10602</td><td>2023-09-01 07:46:58</td><td>1051</td></tr><tr><td>EVT10603</td><td>2023-09-03 02:53:19</td><td>1429</td></tr><tr><td>EVT10604</td><td>2023-09-06 22:01:05</td><td>728</td></tr><tr><td>EVT10605</td><td>2023-09-03 04:33:10</td><td>4417</td></tr><tr><td>EVT10606</td><td>2023-09-14 21:33:29</td><td>8486</td></tr><tr><td>EVT10607</td><td>2023-09-03 00:17:21</td><td>6511</td></tr><tr><td>EVT10608</td><td>2023-09-01 21:35:05</td><td>2556</td></tr><tr><td>EVT10609</td><td>2023-09-12 20:46:13</td><td>265</td></tr><tr><td>EVT10610</td><td>2023-09-02 01:02:04</td><td>3819</td></tr><tr><td>EVT10611</td><td>2023-09-06 18:41:31</td><td>3263</td></tr><tr><td>EVT10612</td><td>2023-09-07 18:03:37</td><td>1792</td></tr><tr><td>EVT10613</td><td>2023-09-13 20:55:06</td><td>965</td></tr><tr><td>EVT10614</td><td>2023-09-03 03:15:32</td><td>1590</td></tr><tr><td>EVT10615</td><td>2023-09-09 09:16:40</td><td>2261</td></tr><tr><td>EVT10616</td><td>2023-09-04 09:36:20</td><td>382</td></tr><tr><td>EVT10617</td><td>2023-09-03 18:41:01</td><td>1454</td></tr><tr><td>EVT10618</td><td>2023-09-03 04:44:14</td><td>169</td></tr><tr><td>EVT10619</td><td>2023-09-06 21:55:11</td><td>1916</td></tr><tr><td>EVT10620</td><td>2023-09-01 10:15:12</td><td>473</td></tr><tr><td>EVT10621</td><td>2023-09-04 19:44:34</td><td>3043</td></tr><tr><td>EVT10622</td><td>2023-09-10 08:25:29</td><td>15404</td></tr><tr><td>EVT10623</td><td>2023-09-03 00:24:07</td><td>23339</td></tr><tr><td>EVT10624</td><td>2023-09-04 03:38:24</td><td>1655</td></tr><tr><td>EVT10625</td><td>2023-09-13 22:36:30</td><td>175</td></tr><tr><td>EVT10626</td><td>2023-09-13 11:30:06</td><td>1804</td></tr><tr><td>EVT10627</td><td>2023-09-10 06:08:41</td><td>9779</td></tr><tr><td>EVT10628</td><td>2023-09-10 22:18:54</td><td>1572</td></tr><tr><td>EVT10629</td><td>2023-09-13 05:37:40</td><td>34157</td></tr><tr><td>EVT10630</td><td>2023-09-03 10:31:49</td><td>6834</td></tr><tr><td>EVT10631</td><td>2023-09-05 22:43:52</td><td>2829</td></tr><tr><td>EVT10632</td><td>2023-09-01 19:55:14</td><td>14429</td></tr><tr><td>EVT10633</td><td>2023-09-03 19:57:34</td><td>626</td></tr><tr><td>EVT10634</td><td>2023-09-08 16:10:07</td><td>754</td></tr><tr><td>EVT10635</td><td>2023-09-05 12:15:09</td><td>3155</td></tr><tr><td>EVT10636</td><td>2023-09-03 21:44:10</td><td>400</td></tr><tr><td>EVT10637</td><td>2023-09-04 13:27:57</td><td>6359</td></tr><tr><td>EVT10638</td><td>2023-09-05 15:29:34</td><td>3527</td></tr><tr><td>EVT10639</td><td>2023-09-07 16:47:26</td><td>3879</td></tr><tr><td>EVT10640</td><td>2023-09-14 19:56:55</td><td>2752</td></tr><tr><td>EVT10641</td><td>2023-09-09 13:28:19</td><td>755</td></tr><tr><td>EVT10642</td><td>2023-09-11 20:03:19</td><td>1261</td></tr><tr><td>EVT10643</td><td>2023-09-14 13:40:14</td><td>13099</td></tr><tr><td>EVT10644</td><td>2023-09-01 10:06:52</td><td>3571</td></tr><tr><td>EVT10645</td><td>2023-09-09 15:29:21</td><td>3089</td></tr><tr><td>EVT10646</td><td>2023-09-02 02:41:25</td><td>1979</td></tr><tr><td>EVT10647</td><td>2023-09-02 16:27:34</td><td>4803</td></tr><tr><td>EVT10648</td><td>2023-09-09 11:33:48</td><td>2321</td></tr><tr><td>EVT10649</td><td>2023-09-01 13:37:14</td><td>4219</td></tr><tr><td>EVT10650</td><td>2023-09-13 00:48:00</td><td>171</td></tr><tr><td>EVT10651</td><td>2023-09-13 14:13:26</td><td>3838</td></tr><tr><td>EVT10652</td><td>2023-09-11 06:33:10</td><td>4758</td></tr><tr><td>EVT10653</td><td>2023-09-12 12:11:00</td><td>1750</td></tr><tr><td>EVT10654</td><td>2023-09-10 00:20:48</td><td>3241</td></tr><tr><td>EVT10655</td><td>2023-09-04 15:46:04</td><td>14358</td></tr><tr><td>EVT10656</td><td>2023-09-01 06:04:34</td><td>18555</td></tr><tr><td>EVT10657</td><td>2023-09-05 03:56:51</td><td>4059</td></tr><tr><td>EVT10658</td><td>2023-09-08 19:25:23</td><td>2306</td></tr><tr><td>EVT10659</td><td>2023-09-04 03:31:26</td><td>3631</td></tr><tr><td>EVT10660</td><td>2023-09-12 12:06:59</td><td>1041</td></tr><tr><td>EVT10661</td><td>2023-09-10 17:03:06</td><td>6660</td></tr><tr><td>EVT10662</td><td>2023-09-03 16:18:58</td><td>276</td></tr><tr><td>EVT10663</td><td>2023-09-06 22:14:56</td><td>1167</td></tr><tr><td>EVT10664</td><td>2023-09-11 20:00:18</td><td>4314</td></tr><tr><td>EVT10665</td><td>2023-09-04 22:07:24</td><td>2530</td></tr><tr><td>EVT10666</td><td>2023-09-13 00:54:05</td><td>2018</td></tr><tr><td>EVT10667</td><td>2023-09-01 15:05:06</td><td>2085</td></tr><tr><td>EVT10668</td><td>2023-09-09 01:56:20</td><td>4469</td></tr><tr><td>EVT10669</td><td>2023-09-08 14:23:49</td><td>2065</td></tr><tr><td>EVT10670</td><td>2023-09-05 03:15:10</td><td>3159</td></tr><tr><td>EVT10671</td><td>2023-09-10 12:27:14</td><td>3208</td></tr><tr><td>EVT10672</td><td>2023-09-10 07:34:06</td><td>653</td></tr><tr><td>EVT10673</td><td>2023-09-12 14:08:24</td><td>4675</td></tr><tr><td>EVT10674</td><td>2023-09-13 13:57:49</td><td>8897</td></tr><tr><td>EVT10675</td><td>2023-09-13 14:58:44</td><td>1788</td></tr><tr><td>EVT10676</td><td>2023-09-08 20:32:08</td><td>1296</td></tr><tr><td>EVT10677</td><td>2023-09-03 22:42:36</td><td>30865</td></tr><tr><td>EVT10678</td><td>2023-09-05 12:13:40</td><td>5485</td></tr><tr><td>EVT10679</td><td>2023-09-11 00:50:58</td><td>481</td></tr><tr><td>EVT10680</td><td>2023-09-05 08:27:26</td><td>504</td></tr><tr><td>EVT10681</td><td>2023-09-08 09:41:41</td><td>3808</td></tr><tr><td>EVT10682</td><td>2023-09-14 19:04:31</td><td>4161</td></tr><tr><td>EVT10683</td><td>2023-09-06 08:49:38</td><td>436</td></tr><tr><td>EVT10684</td><td>2023-09-02 15:02:06</td><td>4071</td></tr><tr><td>EVT10685</td><td>2023-09-04 16:33:42</td><td>9824</td></tr><tr><td>EVT10686</td><td>2023-09-07 11:36:10</td><td>297</td></tr><tr><td>EVT10687</td><td>2023-09-13 12:18:50</td><td>3563</td></tr><tr><td>EVT10688</td><td>2023-09-11 05:15:46</td><td>690</td></tr><tr><td>EVT10689</td><td>2023-09-05 15:37:07</td><td>4265</td></tr><tr><td>EVT10690</td><td>2023-09-01 10:36:28</td><td>9470</td></tr><tr><td>EVT10691</td><td>2023-09-13 08:41:34</td><td>4766</td></tr><tr><td>EVT10692</td><td>2023-09-01 13:57:58</td><td>18114</td></tr><tr><td>EVT10693</td><td>2023-09-11 05:04:53</td><td>736</td></tr><tr><td>EVT10694</td><td>2023-09-02 09:15:24</td><td>561</td></tr><tr><td>EVT10695</td><td>2023-09-09 00:31:01</td><td>4191</td></tr><tr><td>EVT10696</td><td>2023-09-12 21:45:55</td><td>3164</td></tr><tr><td>EVT10697</td><td>2023-09-03 04:51:41</td><td>653</td></tr><tr><td>EVT10698</td><td>2023-09-12 15:17:36</td><td>3851</td></tr><tr><td>EVT10699</td><td>2023-09-04 09:12:17</td><td>15146</td></tr><tr><td>EVT10700</td><td>2023-09-08 12:33:15</td><td>279</td></tr><tr><td>EVT10701</td><td>2023-09-09 01:52:15</td><td>7261</td></tr><tr><td>EVT10702</td><td>2023-09-08 18:39:09</td><td>3922</td></tr><tr><td>EVT10703</td><td>2023-09-09 07:27:52</td><td>2568</td></tr><tr><td>EVT10704</td><td>2023-09-12 19:46:02</td><td>2605</td></tr><tr><td>EVT10705</td><td>2023-09-01 18:21:37</td><td>4429</td></tr><tr><td>EVT10706</td><td>2023-09-01 12:17:03</td><td>6682</td></tr><tr><td>EVT10707</td><td>2023-09-06 09:57:38</td><td>2328</td></tr><tr><td>EVT10708</td><td>2023-09-12 10:42:39</td><td>4841</td></tr><tr><td>EVT10709</td><td>2023-09-13 09:17:13</td><td>3311</td></tr><tr><td>EVT10710</td><td>2023-09-07 05:25:13</td><td>1127</td></tr><tr><td>EVT10711</td><td>2023-09-03 05:58:49</td><td>5150</td></tr><tr><td>EVT10712</td><td>2023-09-02 11:56:04</td><td>2467</td></tr><tr><td>EVT10713</td><td>2023-09-01 16:34:02</td><td>7256</td></tr><tr><td>EVT10714</td><td>2023-09-08 10:21:39</td><td>1314</td></tr><tr><td>EVT10715</td><td>2023-09-12 15:48:34</td><td>2292</td></tr><tr><td>EVT10716</td><td>2023-09-09 00:47:29</td><td>2070</td></tr><tr><td>EVT10717</td><td>2023-09-02 06:05:49</td><td>15420</td></tr><tr><td>EVT10718</td><td>2023-09-14 17:18:19</td><td>534</td></tr><tr><td>EVT10719</td><td>2023-09-14 02:10:26</td><td>2173</td></tr><tr><td>EVT10720</td><td>2023-09-02 21:36:24</td><td>677</td></tr><tr><td>EVT10721</td><td>2023-09-13 13:57:02</td><td>2326</td></tr><tr><td>EVT10722</td><td>2023-09-14 17:43:26</td><td>900</td></tr><tr><td>EVT10723</td><td>2023-09-08 20:31:36</td><td>7785</td></tr><tr><td>EVT10724</td><td>2023-09-13 10:20:15</td><td>1637</td></tr><tr><td>EVT10725</td><td>2023-09-06 11:14:14</td><td>1132</td></tr><tr><td>EVT10726</td><td>2023-09-05 22:18:43</td><td>1555</td></tr><tr><td>EVT10727</td><td>2023-09-03 03:35:56</td><td>3306</td></tr><tr><td>EVT10728</td><td>2023-09-03 12:15:59</td><td>1865</td></tr><tr><td>EVT10729</td><td>2023-09-14 13:56:57</td><td>6992</td></tr><tr><td>EVT10730</td><td>2023-09-14 21:42:17</td><td>3176</td></tr><tr><td>EVT10731</td><td>2023-09-01 08:45:16</td><td>689</td></tr><tr><td>EVT10732</td><td>2023-09-09 23:11:34</td><td>220</td></tr><tr><td>EVT10733</td><td>2023-09-03 01:58:19</td><td>15083</td></tr><tr><td>EVT10734</td><td>2023-09-06 07:42:51</td><td>8657</td></tr><tr><td>EVT10735</td><td>2023-09-14 22:04:24</td><td>7921</td></tr><tr><td>EVT10736</td><td>2023-09-10 14:50:00</td><td>3370</td></tr><tr><td>EVT10737</td><td>2023-09-13 18:06:14</td><td>81</td></tr><tr><td>EVT10738</td><td>2023-09-14 17:23:28</td><td>3013</td></tr><tr><td>EVT10739</td><td>2023-09-14 04:22:53</td><td>4073</td></tr><tr><td>EVT10740</td><td>2023-09-01 01:54:22</td><td>511</td></tr><tr><td>EVT10741</td><td>2023-09-06 05:32:40</td><td>7250</td></tr><tr><td>EVT10742</td><td>2023-09-04 19:27:38</td><td>1175</td></tr><tr><td>EVT10743</td><td>2023-09-04 13:38:27</td><td>1187</td></tr><tr><td>EVT10744</td><td>2023-09-08 07:28:16</td><td>1280</td></tr><tr><td>EVT10745</td><td>2023-09-08 13:37:03</td><td>13121</td></tr><tr><td>EVT10746</td><td>2023-09-05 16:05:38</td><td>949</td></tr><tr><td>EVT10747</td><td>2023-09-08 20:34:22</td><td>486</td></tr><tr><td>EVT10748</td><td>2023-09-01 14:28:18</td><td>7741</td></tr><tr><td>EVT10749</td><td>2023-09-10 21:36:33</td><td>5324</td></tr><tr><td>EVT10750</td><td>2023-09-14 04:02:12</td><td>842</td></tr><tr><td>EVT10751</td><td>2023-09-05 12:53:47</td><td>15754</td></tr><tr><td>EVT10752</td><td>2023-09-08 15:44:08</td><td>556</td></tr><tr><td>EVT10753</td><td>2023-09-02 22:58:32</td><td>1285</td></tr><tr><td>EVT10754</td><td>2023-09-14 19:19:27</td><td>4469</td></tr><tr><td>EVT10755</td><td>2023-09-04 14:58:50</td><td>6157</td></tr><tr><td>EVT10756</td><td>2023-09-14 08:51:40</td><td>1667</td></tr><tr><td>EVT10757</td><td>2023-09-02 09:16:18</td><td>5574</td></tr><tr><td>EVT10758</td><td>2023-09-03 11:52:04</td><td>12443</td></tr><tr><td>EVT10759</td><td>2023-09-03 19:43:25</td><td>1502</td></tr><tr><td>EVT10760</td><td>2023-09-03 09:06:39</td><td>14558</td></tr><tr><td>EVT10761</td><td>2023-09-05 23:39:45</td><td>5832</td></tr><tr><td>EVT10762</td><td>2023-09-07 19:12:58</td><td>7207</td></tr><tr><td>EVT10763</td><td>2023-09-04 10:44:56</td><td>955</td></tr><tr><td>EVT10764</td><td>2023-09-03 15:04:22</td><td>557</td></tr><tr><td>EVT10765</td><td>2023-09-12 03:17:19</td><td>1094</td></tr><tr><td>EVT10766</td><td>2023-09-01 14:41:56</td><td>729</td></tr><tr><td>EVT10767</td><td>2023-09-01 11:17:10</td><td>3729</td></tr><tr><td>EVT10768</td><td>2023-09-02 22:46:35</td><td>3931</td></tr><tr><td>EVT10769</td><td>2023-09-06 02:41:46</td><td>1346</td></tr><tr><td>EVT10770</td><td>2023-09-04 08:38:12</td><td>6361</td></tr><tr><td>EVT10771</td><td>2023-09-06 23:49:42</td><td>1516</td></tr><tr><td>EVT10772</td><td>2023-09-11 01:13:29</td><td>1872</td></tr><tr><td>EVT10773</td><td>2023-09-08 10:15:07</td><td>393</td></tr><tr><td>EVT10774</td><td>2023-09-13 17:06:12</td><td>5974</td></tr><tr><td>EVT10775</td><td>2023-09-04 10:42:02</td><td>5931</td></tr><tr><td>EVT10776</td><td>2023-09-07 21:35:58</td><td>843</td></tr><tr><td>EVT10777</td><td>2023-09-06 05:21:14</td><td>1125</td></tr><tr><td>EVT10778</td><td>2023-09-05 23:18:27</td><td>4765</td></tr><tr><td>EVT10779</td><td>2023-09-08 13:23:26</td><td>21598</td></tr><tr><td>EVT10780</td><td>2023-09-08 20:57:03</td><td>3412</td></tr><tr><td>EVT10781</td><td>2023-09-13 06:16:21</td><td>2736</td></tr><tr><td>EVT10782</td><td>2023-09-06 08:06:03</td><td>431</td></tr><tr><td>EVT10783</td><td>2023-09-09 19:33:45</td><td>18835</td></tr><tr><td>EVT10784</td><td>2023-09-13 05:06:28</td><td>695</td></tr><tr><td>EVT10785</td><td>2023-09-11 14:28:18</td><td>6362</td></tr><tr><td>EVT10786</td><td>2023-09-12 23:03:01</td><td>16295</td></tr><tr><td>EVT10787</td><td>2023-09-13 05:47:26</td><td>631</td></tr><tr><td>EVT10788</td><td>2023-09-07 17:28:38</td><td>10056</td></tr><tr><td>EVT10789</td><td>2023-09-09 07:38:59</td><td>442</td></tr><tr><td>EVT10790</td><td>2023-09-08 18:54:00</td><td>438</td></tr><tr><td>EVT10791</td><td>2023-09-14 20:08:24</td><td>422</td></tr><tr><td>EVT10792</td><td>2023-09-10 07:10:06</td><td>2276</td></tr><tr><td>EVT10793</td><td>2023-09-11 06:21:51</td><td>747</td></tr><tr><td>EVT10794</td><td>2023-09-07 14:21:17</td><td>746</td></tr><tr><td>EVT10795</td><td>2023-09-13 16:08:30</td><td>6066</td></tr><tr><td>EVT10796</td><td>2023-09-10 14:17:57</td><td>769</td></tr><tr><td>EVT10797</td><td>2023-09-09 00:23:59</td><td>3734</td></tr><tr><td>EVT10798</td><td>2023-09-08 06:32:18</td><td>489</td></tr><tr><td>EVT10799</td><td>2023-09-09 21:08:44</td><td>2700</td></tr><tr><td>EVT10800</td><td>2023-09-04 08:58:03</td><td>4702</td></tr><tr><td>EVT10801</td><td>2023-09-13 15:15:49</td><td>675</td></tr><tr><td>EVT10802</td><td>2023-09-05 04:06:49</td><td>145</td></tr><tr><td>EVT10803</td><td>2023-09-12 02:15:44</td><td>1078</td></tr><tr><td>EVT10804</td><td>2023-09-05 16:36:49</td><td>14837</td></tr><tr><td>EVT10805</td><td>2023-09-10 23:06:00</td><td>673</td></tr><tr><td>EVT10806</td><td>2023-09-06 17:12:45</td><td>8998</td></tr><tr><td>EVT10807</td><td>2023-09-01 16:16:26</td><td>2617</td></tr><tr><td>EVT10808</td><td>2023-09-04 03:10:49</td><td>5394</td></tr><tr><td>EVT10809</td><td>2023-09-12 04:34:32</td><td>1809</td></tr><tr><td>EVT10810</td><td>2023-09-08 00:17:32</td><td>2125</td></tr><tr><td>EVT10811</td><td>2023-09-02 20:23:33</td><td>2395</td></tr><tr><td>EVT10812</td><td>2023-09-10 03:11:28</td><td>1913</td></tr><tr><td>EVT10813</td><td>2023-09-11 22:35:31</td><td>474</td></tr><tr><td>EVT10814</td><td>2023-09-01 00:43:47</td><td>2379</td></tr><tr><td>EVT10815</td><td>2023-09-07 14:09:37</td><td>332</td></tr><tr><td>EVT10816</td><td>2023-09-14 16:45:48</td><td>831</td></tr><tr><td>EVT10817</td><td>2023-09-05 20:19:59</td><td>3149</td></tr><tr><td>EVT10818</td><td>2023-09-12 11:57:06</td><td>899</td></tr><tr><td>EVT10819</td><td>2023-09-04 07:25:33</td><td>8638</td></tr><tr><td>EVT10820</td><td>2023-09-11 08:08:07</td><td>1178</td></tr><tr><td>EVT10821</td><td>2023-09-07 03:29:18</td><td>10489</td></tr><tr><td>EVT10822</td><td>2023-09-06 22:45:00</td><td>2553</td></tr><tr><td>EVT10823</td><td>2023-09-09 09:29:45</td><td>244</td></tr><tr><td>EVT10824</td><td>2023-09-01 07:09:01</td><td>74</td></tr><tr><td>EVT10825</td><td>2023-09-14 16:18:12</td><td>2087</td></tr><tr><td>EVT10826</td><td>2023-09-13 16:15:02</td><td>6811</td></tr><tr><td>EVT10827</td><td>2023-09-11 01:48:00</td><td>392</td></tr><tr><td>EVT10828</td><td>2023-09-11 10:22:03</td><td>6090</td></tr><tr><td>EVT10829</td><td>2023-09-12 17:56:53</td><td>1361</td></tr><tr><td>EVT10830</td><td>2023-09-06 09:14:07</td><td>2752</td></tr><tr><td>EVT10831</td><td>2023-09-03 02:47:11</td><td>11279</td></tr><tr><td>EVT10832</td><td>2023-09-05 20:11:26</td><td>3202</td></tr><tr><td>EVT10833</td><td>2023-09-11 13:39:29</td><td>3274</td></tr><tr><td>EVT10834</td><td>2023-09-04 18:57:01</td><td>1440</td></tr><tr><td>EVT10835</td><td>2023-09-01 15:09:30</td><td>11887</td></tr><tr><td>EVT10836</td><td>2023-09-14 15:37:49</td><td>1281</td></tr><tr><td>EVT10837</td><td>2023-09-14 07:07:44</td><td>25011</td></tr><tr><td>EVT10838</td><td>2023-09-03 07:58:23</td><td>407</td></tr><tr><td>EVT10839</td><td>2023-09-02 10:48:47</td><td>1137</td></tr><tr><td>EVT10840</td><td>2023-09-11 14:09:45</td><td>6360</td></tr><tr><td>EVT10841</td><td>2023-09-13 05:12:43</td><td>3234</td></tr><tr><td>EVT10842</td><td>2023-09-07 20:38:28</td><td>5151</td></tr><tr><td>EVT10843</td><td>2023-09-12 14:21:58</td><td>2351</td></tr><tr><td>EVT10844</td><td>2023-09-11 22:42:01</td><td>1675</td></tr><tr><td>EVT10845</td><td>2023-09-01 10:15:42</td><td>6153</td></tr><tr><td>EVT10846</td><td>2023-09-03 10:33:14</td><td>2221</td></tr><tr><td>EVT10847</td><td>2023-09-07 15:11:11</td><td>3907</td></tr><tr><td>EVT10848</td><td>2023-09-02 21:25:07</td><td>4171</td></tr><tr><td>EVT10849</td><td>2023-09-08 21:02:44</td><td>1340</td></tr><tr><td>EVT10850</td><td>2023-09-01 12:54:58</td><td>2974</td></tr><tr><td>EVT10851</td><td>2023-09-11 20:39:21</td><td>2187</td></tr><tr><td>EVT10852</td><td>2023-09-14 04:34:40</td><td>4325</td></tr><tr><td>EVT10853</td><td>2023-09-06 18:59:30</td><td>257</td></tr><tr><td>EVT10854</td><td>2023-09-05 18:33:02</td><td>1182</td></tr><tr><td>EVT10855</td><td>2023-09-04 21:55:53</td><td>8271</td></tr><tr><td>EVT10856</td><td>2023-09-06 07:38:36</td><td>12098</td></tr><tr><td>EVT10857</td><td>2023-09-06 03:37:43</td><td>1275</td></tr><tr><td>EVT10858</td><td>2023-09-03 12:23:32</td><td>2683</td></tr><tr><td>EVT10859</td><td>2023-09-06 01:11:49</td><td>988</td></tr><tr><td>EVT10860</td><td>2023-09-14 02:10:43</td><td>2489</td></tr><tr><td>EVT10861</td><td>2023-09-05 01:27:04</td><td>1288</td></tr><tr><td>EVT10862</td><td>2023-09-10 19:39:07</td><td>2025</td></tr><tr><td>EVT10863</td><td>2023-09-11 22:30:53</td><td>1412</td></tr><tr><td>EVT10864</td><td>2023-09-07 07:26:00</td><td>4110</td></tr><tr><td>EVT10865</td><td>2023-09-04 01:28:53</td><td>2451</td></tr><tr><td>EVT10866</td><td>2023-09-06 16:09:52</td><td>6498</td></tr><tr><td>EVT10867</td><td>2023-09-14 05:50:16</td><td>2464</td></tr><tr><td>EVT10868</td><td>2023-09-02 08:31:15</td><td>376</td></tr><tr><td>EVT10869</td><td>2023-09-14 06:01:49</td><td>5483</td></tr><tr><td>EVT10870</td><td>2023-09-09 10:31:51</td><td>9239</td></tr><tr><td>EVT10871</td><td>2023-09-09 20:30:52</td><td>3663</td></tr><tr><td>EVT10872</td><td>2023-09-09 05:40:05</td><td>5456</td></tr><tr><td>EVT10873</td><td>2023-09-04 16:26:30</td><td>283</td></tr><tr><td>EVT10874</td><td>2023-09-12 02:53:57</td><td>1467</td></tr><tr><td>EVT10875</td><td>2023-09-06 23:11:54</td><td>10204</td></tr><tr><td>EVT10876</td><td>2023-09-04 01:00:15</td><td>2280</td></tr><tr><td>EVT10877</td><td>2023-09-10 23:47:54</td><td>5092</td></tr><tr><td>EVT10878</td><td>2023-09-12 23:10:25</td><td>2150</td></tr><tr><td>EVT10879</td><td>2023-09-10 08:46:12</td><td>3187</td></tr><tr><td>EVT10880</td><td>2023-09-05 04:16:00</td><td>3443</td></tr><tr><td>EVT10881</td><td>2023-09-14 22:42:14</td><td>582</td></tr><tr><td>EVT10882</td><td>2023-09-11 22:50:50</td><td>12598</td></tr><tr><td>EVT10883</td><td>2023-09-05 09:56:20</td><td>11295</td></tr><tr><td>EVT10884</td><td>2023-09-10 19:51:48</td><td>1835</td></tr><tr><td>EVT10885</td><td>2023-09-11 18:02:18</td><td>1145</td></tr><tr><td>EVT10886</td><td>2023-09-14 11:12:17</td><td>929</td></tr><tr><td>EVT10887</td><td>2023-09-01 04:50:49</td><td>2848</td></tr><tr><td>EVT10888</td><td>2023-09-05 02:20:42</td><td>2641</td></tr><tr><td>EVT10889</td><td>2023-09-09 05:56:42</td><td>4500</td></tr><tr><td>EVT10890</td><td>2023-09-11 16:26:46</td><td>5632</td></tr><tr><td>EVT10891</td><td>2023-09-04 07:50:47</td><td>4769</td></tr><tr><td>EVT10892</td><td>2023-09-02 18:55:32</td><td>4726</td></tr><tr><td>EVT10893</td><td>2023-09-10 10:14:23</td><td>8332</td></tr><tr><td>EVT10894</td><td>2023-09-10 04:16:01</td><td>32273</td></tr><tr><td>EVT10895</td><td>2023-09-03 22:04:50</td><td>2115</td></tr><tr><td>EVT10896</td><td>2023-09-03 13:03:52</td><td>1889</td></tr><tr><td>EVT10897</td><td>2023-09-11 05:49:51</td><td>2183</td></tr><tr><td>EVT10898</td><td>2023-09-04 07:04:01</td><td>7754</td></tr><tr><td>EVT10899</td><td>2023-09-10 20:11:18</td><td>10260</td></tr><tr><td>EVT10900</td><td>2023-09-03 20:28:24</td><td>1211</td></tr><tr><td>EVT10901</td><td>2023-09-14 01:04:32</td><td>2194</td></tr><tr><td>EVT10902</td><td>2023-09-10 02:40:09</td><td>1914</td></tr><tr><td>EVT10903</td><td>2023-09-01 06:47:13</td><td>1202</td></tr><tr><td>EVT10904</td><td>2023-09-11 01:32:36</td><td>3146</td></tr><tr><td>EVT10905</td><td>2023-09-06 10:29:34</td><td>761</td></tr><tr><td>EVT10906</td><td>2023-09-13 05:33:42</td><td>410</td></tr><tr><td>EVT10907</td><td>2023-09-06 14:08:00</td><td>22441</td></tr><tr><td>EVT10908</td><td>2023-09-13 10:20:49</td><td>597</td></tr><tr><td>EVT10909</td><td>2023-09-06 17:53:59</td><td>135</td></tr><tr><td>EVT10910</td><td>2023-09-01 10:27:10</td><td>5541</td></tr><tr><td>EVT10911</td><td>2023-09-12 13:43:32</td><td>1977</td></tr><tr><td>EVT10912</td><td>2023-09-08 14:17:33</td><td>5385</td></tr><tr><td>EVT10913</td><td>2023-09-09 13:59:53</td><td>1082</td></tr><tr><td>EVT10914</td><td>2023-09-07 23:10:45</td><td>10467</td></tr><tr><td>EVT10915</td><td>2023-09-12 08:43:21</td><td>2164</td></tr><tr><td>EVT10916</td><td>2023-09-14 08:01:27</td><td>4636</td></tr><tr><td>EVT10917</td><td>2023-09-06 19:45:52</td><td>1661</td></tr><tr><td>EVT10918</td><td>2023-09-10 01:24:16</td><td>861</td></tr><tr><td>EVT10919</td><td>2023-09-12 21:09:36</td><td>3392</td></tr><tr><td>EVT10920</td><td>2023-09-02 00:35:19</td><td>193</td></tr><tr><td>EVT10921</td><td>2023-09-03 13:55:16</td><td>765</td></tr><tr><td>EVT10922</td><td>2023-09-12 04:48:21</td><td>1251</td></tr><tr><td>EVT10923</td><td>2023-09-12 01:30:20</td><td>4324</td></tr><tr><td>EVT10924</td><td>2023-09-03 19:56:25</td><td>1845</td></tr><tr><td>EVT10925</td><td>2023-09-07 09:14:38</td><td>110</td></tr><tr><td>EVT10926</td><td>2023-09-14 23:34:14</td><td>4386</td></tr><tr><td>EVT10927</td><td>2023-09-05 06:28:42</td><td>16047</td></tr><tr><td>EVT10928</td><td>2023-09-11 02:56:49</td><td>977</td></tr><tr><td>EVT10929</td><td>2023-09-02 00:47:39</td><td>2567</td></tr><tr><td>EVT10930</td><td>2023-09-02 03:04:01</td><td>20421</td></tr><tr><td>EVT10931</td><td>2023-09-12 00:12:56</td><td>1005</td></tr><tr><td>EVT10932</td><td>2023-09-06 22:17:12</td><td>4154</td></tr><tr><td>EVT10933</td><td>2023-09-01 01:51:24</td><td>2017</td></tr><tr><td>EVT10934</td><td>2023-09-01 19:11:25</td><td>786</td></tr><tr><td>EVT10935</td><td>2023-09-06 20:20:44</td><td>1079</td></tr><tr><td>EVT10936</td><td>2023-09-08 11:28:57</td><td>359</td></tr><tr><td>EVT10937</td><td>2023-09-05 08:28:46</td><td>5145</td></tr><tr><td>EVT10938</td><td>2023-09-13 01:02:33</td><td>276</td></tr><tr><td>EVT10939</td><td>2023-09-01 18:33:23</td><td>4904</td></tr><tr><td>EVT10940</td><td>2023-09-12 22:34:19</td><td>2621</td></tr><tr><td>EVT10941</td><td>2023-09-09 01:16:20</td><td>4050</td></tr><tr><td>EVT10942</td><td>2023-09-07 11:41:32</td><td>1110</td></tr><tr><td>EVT10943</td><td>2023-09-04 20:00:20</td><td>17943</td></tr><tr><td>EVT10944</td><td>2023-09-12 10:01:36</td><td>5785</td></tr><tr><td>EVT10945</td><td>2023-09-10 05:14:09</td><td>27236</td></tr><tr><td>EVT10946</td><td>2023-09-14 15:02:34</td><td>20960</td></tr><tr><td>EVT10947</td><td>2023-09-01 05:56:44</td><td>1311</td></tr><tr><td>EVT10948</td><td>2023-09-12 01:56:18</td><td>5947</td></tr><tr><td>EVT10949</td><td>2023-09-14 15:17:00</td><td>818</td></tr><tr><td>EVT10950</td><td>2023-09-04 22:04:17</td><td>33999</td></tr><tr><td>EVT10951</td><td>2023-09-10 09:00:30</td><td>14060</td></tr><tr><td>EVT10952</td><td>2023-09-02 04:19:59</td><td>16776</td></tr><tr><td>EVT10953</td><td>2023-09-09 05:30:01</td><td>291</td></tr><tr><td>EVT10954</td><td>2023-09-02 16:31:37</td><td>7241</td></tr><tr><td>EVT10955</td><td>2023-09-10 02:24:31</td><td>1369</td></tr><tr><td>EVT10956</td><td>2023-09-03 16:22:21</td><td>740</td></tr><tr><td>EVT10957</td><td>2023-09-03 18:16:51</td><td>1362</td></tr><tr><td>EVT10958</td><td>2023-09-04 12:12:11</td><td>2168</td></tr><tr><td>EVT10959</td><td>2023-09-07 23:44:47</td><td>833</td></tr><tr><td>EVT10960</td><td>2023-09-10 11:52:01</td><td>2477</td></tr><tr><td>EVT10961</td><td>2023-09-13 04:24:47</td><td>2722</td></tr><tr><td>EVT10962</td><td>2023-09-09 18:08:57</td><td>549</td></tr><tr><td>EVT10963</td><td>2023-09-02 05:32:48</td><td>1017</td></tr><tr><td>EVT10964</td><td>2023-09-02 21:35:52</td><td>989</td></tr><tr><td>EVT10965</td><td>2023-09-12 07:34:48</td><td>5448</td></tr><tr><td>EVT10966</td><td>2023-09-14 20:20:37</td><td>8415</td></tr><tr><td>EVT10967</td><td>2023-09-12 11:16:25</td><td>458</td></tr><tr><td>EVT10968</td><td>2023-09-01 06:39:48</td><td>8930</td></tr><tr><td>EVT10969</td><td>2023-09-05 18:27:02</td><td>5348</td></tr><tr><td>EVT10970</td><td>2023-09-07 03:48:05</td><td>3156</td></tr><tr><td>EVT10971</td><td>2023-09-02 20:46:02</td><td>478</td></tr><tr><td>EVT10972</td><td>2023-09-07 13:39:14</td><td>594</td></tr><tr><td>EVT10973</td><td>2023-09-12 01:02:52</td><td>920</td></tr><tr><td>EVT10974</td><td>2023-09-02 05:19:34</td><td>3842</td></tr><tr><td>EVT10975</td><td>2023-09-06 22:27:58</td><td>21444</td></tr><tr><td>EVT10976</td><td>2023-09-09 07:02:08</td><td>4121</td></tr><tr><td>EVT10977</td><td>2023-09-06 22:31:29</td><td>1970</td></tr><tr><td>EVT10978</td><td>2023-09-07 17:15:38</td><td>2496</td></tr><tr><td>EVT10979</td><td>2023-09-05 01:19:33</td><td>579</td></tr><tr><td>EVT10980</td><td>2023-09-13 11:25:37</td><td>1812</td></tr><tr><td>EVT10981</td><td>2023-09-03 08:44:39</td><td>3058</td></tr><tr><td>EVT10982</td><td>2023-09-10 02:09:46</td><td>604</td></tr><tr><td>EVT10983</td><td>2023-09-06 03:28:35</td><td>493</td></tr><tr><td>EVT10984</td><td>2023-09-14 17:34:05</td><td>1935</td></tr><tr><td>EVT10985</td><td>2023-09-12 02:36:54</td><td>4742</td></tr><tr><td>EVT10986</td><td>2023-09-07 23:46:07</td><td>2735</td></tr><tr><td>EVT10987</td><td>2023-09-01 17:21:37</td><td>1306</td></tr><tr><td>EVT10988</td><td>2023-09-01 04:31:12</td><td>314</td></tr><tr><td>EVT10989</td><td>2023-09-08 11:37:21</td><td>3820</td></tr><tr><td>EVT10990</td><td>2023-09-13 04:17:38</td><td>4921</td></tr><tr><td>EVT10991</td><td>2023-09-03 09:43:17</td><td>4907</td></tr><tr><td>EVT10992</td><td>2023-09-10 17:24:16</td><td>2557</td></tr><tr><td>EVT10993</td><td>2023-09-08 11:37:15</td><td>817</td></tr><tr><td>EVT10994</td><td>2023-09-02 03:45:52</td><td>1185</td></tr><tr><td>EVT10995</td><td>2023-09-11 23:27:21</td><td>5561</td></tr><tr><td>EVT10996</td><td>2023-09-08 11:11:06</td><td>4652</td></tr><tr><td>EVT10997</td><td>2023-09-09 20:52:47</td><td>5540</td></tr><tr><td>EVT10998</td><td>2023-09-01 21:58:49</td><td>3897</td></tr><tr><td>EVT10999</td><td>2023-09-14 18:48:34</td><td>2661</td></tr></tbody></table></div>"
      ]
     },
     "metadata": {
      "application/vnd.databricks.v1+output": {
       "addedWidgets": {},
       "aggData": [],
       "aggError": "",
       "aggOverflow": false,
       "aggSchema": [],
       "aggSeriesLimitReached": false,
       "aggType": "",
       "arguments": {},
       "columnCustomDisplayInfos": {},
       "data": [
        [
         "EVT10000",
         "2023-09-03 09:18:59",
         565
        ],
        [
         "EVT10001",
         "2023-09-09 11:44:27",
         2018
        ],
        [
         "EVT10002",
         "2023-09-09 16:51:53",
         2900
        ],
        [
         "EVT10003",
         "2023-09-13 08:03:13",
         3242
        ],
        [
         "EVT10004",
         "2023-09-04 13:07:20",
         4248
        ],
        [
         "EVT10005",
         "2023-09-13 22:44:28",
         885
        ],
        [
         "EVT10006",
         "2023-09-13 21:54:05",
         594
        ],
        [
         "EVT10007",
         "2023-09-14 12:36:36",
         21955
        ],
        [
         "EVT10008",
         "2023-09-04 03:11:27",
         9039
        ],
        [
         "EVT10009",
         "2023-09-03 02:02:33",
         2262
        ],
        [
         "EVT10010",
         "2023-09-06 09:16:48",
         0
        ],
        [
         "EVT10011",
         "2023-09-02 07:42:35",
         0
        ],
        [
         "EVT10012",
         "2023-09-10 19:31:59",
         0
        ],
        [
         "EVT10013",
         "2023-09-11 02:31:45",
         0
        ],
        [
         "EVT10014",
         "2023-09-02 06:59:54",
         0
        ],
        [
         "EVT10015",
         "2023-09-02 10:17:24",
         0
        ],
        [
         "EVT10016",
         "2023-09-01 07:18:31",
         0
        ],
        [
         "EVT10017",
         "2023-09-10 11:50:18",
         0
        ],
        [
         "EVT10018",
         "2023-09-08 15:44:37",
         0
        ],
        [
         "EVT10019",
         "2023-09-05 08:56:23",
         0
        ],
        [
         "EVT10020",
         "2023-09-05 15:45:43",
         0
        ],
        [
         "EVT10021",
         "2023-09-04 14:10:59",
         2672
        ],
        [
         "EVT10022",
         "2023-09-13 23:37:14",
         3639
        ],
        [
         "EVT10023",
         "2023-09-05 14:32:12",
         4347
        ],
        [
         "EVT10024",
         "2023-09-09 21:51:44",
         975
        ],
        [
         "EVT10025",
         "2023-09-06 13:34:59",
         2597
        ],
        [
         "EVT10026",
         "2023-09-10 04:57:21",
         1068
        ],
        [
         "EVT10027",
         "2023-09-12 20:00:54",
         2801
        ],
        [
         "EVT10028",
         "2023-09-06 21:12:18",
         4227
        ],
        [
         "EVT10029",
         "2023-09-09 16:34:37",
         2590
        ],
        [
         "EVT10030",
         "2023-09-15T00:00:00Z",
         4993
        ],
        [
         "EVT10031",
         "2023-09-15T00:00:00Z",
         1155
        ],
        [
         "EVT10032",
         "2023-09-15T00:00:00Z",
         3993
        ],
        [
         "EVT10033",
         "2023-09-15T00:00:00Z",
         1095
        ],
        [
         "EVT10034",
         "2023-09-15T00:00:00Z",
         1375
        ],
        [
         "EVT10035",
         "2023-09-15T00:00:00Z",
         292
        ],
        [
         "EVT10036",
         "2023-09-15T00:00:00Z",
         1232
        ],
        [
         "EVT10037",
         "2023-09-15T00:00:00Z",
         16987
        ],
        [
         "EVT10038",
         "2023-09-15T00:00:00Z",
         1815
        ],
        [
         "EVT10039",
         "2023-09-15T00:00:00Z",
         1569
        ],
        [
         "EVT10040",
         "2023-09-15T00:00:00Z",
         10883
        ],
        [
         "EVT10041",
         "2023-09-12 07:25:35",
         412
        ],
        [
         "EVT10042",
         "2023-09-11 18:24:30",
         21888
        ],
        [
         "EVT10043",
         "2023-09-11 19:36:48",
         12220
        ],
        [
         "EVT10044",
         "2023-09-06 12:42:13",
         4216
        ],
        [
         "EVT10045",
         "2023-09-07 17:09:48",
         2211
        ],
        [
         "EVT10046",
         "2023-09-07 08:27:21",
         736
        ],
        [
         "EVT10047",
         "2023-09-04 18:52:36",
         3276
        ],
        [
         "EVT10048",
         "2023-09-05 14:48:35",
         5579
        ],
        [
         "EVT10049",
         "2023-09-07 14:51:28",
         6779
        ],
        [
         "EVT10050",
         "2023-09-14 13:35:26",
         13871
        ],
        [
         "EVT10051",
         "2023-09-06 08:01:36",
         14787
        ],
        [
         "EVT10052",
         "2023-09-10 16:44:18",
         6865
        ],
        [
         "EVT10053",
         "2023-09-12 09:49:56",
         27730
        ],
        [
         "EVT10054",
         "2023-09-01 09:36:15",
         1524
        ],
        [
         "EVT10055",
         "2023-09-11 09:15:08",
         3337
        ],
        [
         "EVT10056",
         "2023-09-01 04:31:17",
         6475
        ],
        [
         "EVT10057",
         "2023-09-13 09:27:46",
         9710
        ],
        [
         "EVT10058",
         "2023-09-11 11:02:53",
         980
        ],
        [
         "EVT10059",
         "2023-09-14 21:30:09",
         973
        ],
        [
         "EVT10060",
         "2023-09-01 15:07:18",
         23388
        ],
        [
         "EVT10061",
         "2023-09-04 14:30:37",
         256
        ],
        [
         "EVT10062",
         "2023-09-04 17:12:15",
         3875
        ],
        [
         "EVT10063",
         "2023-09-12 12:44:32",
         1299
        ],
        [
         "EVT10064",
         "2023-09-04 23:40:28",
         1660
        ],
        [
         "EVT10065",
         "2023-09-07 22:58:20",
         8308
        ],
        [
         "EVT10066",
         "2023-09-13 00:29:41",
         15889
        ],
        [
         "EVT10067",
         "2023-09-10 05:25:40",
         704
        ],
        [
         "EVT10068",
         "2023-09-05 05:33:00",
         8309
        ],
        [
         "EVT10069",
         "2023-09-03 05:51:18",
         485
        ],
        [
         "EVT10070",
         "2023-09-11 14:43:45",
         22374
        ],
        [
         "EVT10071",
         "2023-09-03 23:01:50",
         3849
        ],
        [
         "EVT10072",
         "2023-09-06 05:50:54",
         24726
        ],
        [
         "EVT10073",
         "2023-09-09 23:39:25",
         2165
        ],
        [
         "EVT10074",
         "2023-09-01 07:39:05",
         1933
        ],
        [
         "EVT10075",
         "2023-09-11 10:53:30",
         4576
        ],
        [
         "EVT10076",
         "2023-09-05 23:05:20",
         17175
        ],
        [
         "EVT10077",
         "2023-09-03 07:28:45",
         4300
        ],
        [
         "EVT10078",
         "2023-09-12 23:29:55",
         4192
        ],
        [
         "EVT10079",
         "2023-09-11 20:30:13",
         990
        ],
        [
         "EVT10080",
         "2023-09-08 11:51:44",
         1636
        ],
        [
         "EVT10081",
         "2023-09-01 21:09:15",
         2652
        ],
        [
         "EVT10082",
         "2023-09-03 08:58:12",
         586
        ],
        [
         "EVT10083",
         "2023-09-13 09:59:44",
         1695
        ],
        [
         "EVT10084",
         "2023-09-13 00:42:27",
         499
        ],
        [
         "EVT10085",
         "2023-09-05 19:07:54",
         9264
        ],
        [
         "EVT10086",
         "2023-09-03 20:24:17",
         22918
        ],
        [
         "EVT10087",
         "2023-09-10 11:57:08",
         2919
        ],
        [
         "EVT10088",
         "2023-09-04 19:06:14",
         731
        ],
        [
         "EVT10089",
         "2023-09-08 17:38:24",
         1544
        ],
        [
         "EVT10090",
         "2023-09-12 06:59:09",
         1406
        ],
        [
         "EVT10091",
         "2023-09-05 15:58:35",
         810
        ],
        [
         "EVT10092",
         "2023-09-11 00:04:52",
         14900
        ],
        [
         "EVT10093",
         "2023-09-06 23:06:18",
         556
        ],
        [
         "EVT10094",
         "2023-09-09 13:16:42",
         2233
        ],
        [
         "EVT10095",
         "2023-09-12 13:43:48",
         2161
        ],
        [
         "EVT10096",
         "2023-09-03 10:39:36",
         1365
        ],
        [
         "EVT10097",
         "2023-09-02 09:44:49",
         3856
        ],
        [
         "EVT10098",
         "2023-09-11 10:36:48",
         2661
        ],
        [
         "EVT10099",
         "2023-09-12 16:16:20",
         2761
        ],
        [
         "EVT10100",
         "2023-09-07 11:46:10",
         3691
        ],
        [
         "EVT10101",
         "2023-09-09 17:39:20",
         6123
        ],
        [
         "EVT10102",
         "2023-09-07 12:35:12",
         1459
        ],
        [
         "EVT10103",
         "2023-09-03 12:52:08",
         2101
        ],
        [
         "EVT10104",
         "2023-09-14 21:39:40",
         4251
        ],
        [
         "EVT10105",
         "2023-09-07 11:38:31",
         1201
        ],
        [
         "EVT10106",
         "2023-09-06 00:27:37",
         2153
        ],
        [
         "EVT10107",
         "2023-09-03 22:31:20",
         475
        ],
        [
         "EVT10108",
         "2023-09-14 06:20:09",
         2346
        ],
        [
         "EVT10109",
         "2023-09-13 06:26:15",
         3494
        ],
        [
         "EVT10110",
         "2023-09-05 23:03:03",
         981
        ],
        [
         "EVT10111",
         "2023-09-03 09:03:39",
         1582
        ],
        [
         "EVT10112",
         "2023-09-06 08:15:38",
         2527
        ],
        [
         "EVT10113",
         "2023-09-10 09:39:09",
         31383
        ],
        [
         "EVT10114",
         "2023-09-02 04:52:57",
         8476
        ],
        [
         "EVT10115",
         "2023-09-10 16:19:12",
         3507
        ],
        [
         "EVT10116",
         "2023-09-10 10:01:58",
         7418
        ],
        [
         "EVT10117",
         "2023-09-09 06:07:30",
         3440
        ],
        [
         "EVT10118",
         "2023-09-13 13:18:43",
         4870
        ],
        [
         "EVT10119",
         "2023-09-07 19:05:19",
         1586
        ],
        [
         "EVT10120",
         "2023-09-12 04:47:45",
         723
        ],
        [
         "EVT10121",
         "2023-09-04 02:26:44",
         16867
        ],
        [
         "EVT10122",
         "2023-09-07 10:19:14",
         536
        ],
        [
         "EVT10123",
         "2023-09-09 08:48:29",
         287
        ],
        [
         "EVT10124",
         "2023-09-14 01:25:55",
         1221
        ],
        [
         "EVT10125",
         "2023-09-01 15:13:05",
         4419
        ],
        [
         "EVT10126",
         "2023-09-04 15:36:00",
         677
        ],
        [
         "EVT10127",
         "2023-09-13 19:57:36",
         1396
        ],
        [
         "EVT10128",
         "2023-09-11 05:12:21",
         4486
        ],
        [
         "EVT10129",
         "2023-09-10 02:11:09",
         2511
        ],
        [
         "EVT10130",
         "2023-09-14 10:33:32",
         631
        ],
        [
         "EVT10131",
         "2023-09-10 04:41:22",
         4423
        ],
        [
         "EVT10132",
         "2023-09-04 12:42:13",
         3154
        ],
        [
         "EVT10133",
         "2023-09-05 09:09:13",
         1502
        ],
        [
         "EVT10134",
         "2023-09-11 07:23:19",
         21187
        ],
        [
         "EVT10135",
         "2023-09-06 15:02:03",
         237
        ],
        [
         "EVT10136",
         "2023-09-10 19:05:09",
         5047
        ],
        [
         "EVT10137",
         "2023-09-14 15:42:30",
         4042
        ],
        [
         "EVT10138",
         "2023-09-04 12:14:44",
         2979
        ],
        [
         "EVT10139",
         "2023-09-08 18:56:59",
         3985
        ],
        [
         "EVT10140",
         "2023-09-07 03:14:52",
         1219
        ],
        [
         "EVT10141",
         "2023-09-14 07:26:52",
         14176
        ],
        [
         "EVT10142",
         "2023-09-08 17:26:16",
         1318
        ],
        [
         "EVT10143",
         "2023-09-08 16:36:05",
         1982
        ],
        [
         "EVT10144",
         "2023-09-02 06:36:09",
         27373
        ],
        [
         "EVT10145",
         "2023-09-13 03:08:03",
         951
        ],
        [
         "EVT10146",
         "2023-09-14 11:27:24",
         1667
        ],
        [
         "EVT10147",
         "2023-09-09 11:56:21",
         2561
        ],
        [
         "EVT10148",
         "2023-09-11 16:37:51",
         880
        ],
        [
         "EVT10149",
         "2023-09-06 17:36:22",
         769
        ],
        [
         "EVT10150",
         "2023-09-07 02:30:08",
         1375
        ],
        [
         "EVT10151",
         "2023-09-11 20:32:47",
         870
        ],
        [
         "EVT10152",
         "2023-09-09 22:58:00",
         601
        ],
        [
         "EVT10153",
         "2023-09-14 11:05:04",
         717
        ],
        [
         "EVT10154",
         "2023-09-03 22:22:57",
         4076
        ],
        [
         "EVT10155",
         "2023-09-11 17:16:20",
         1912
        ],
        [
         "EVT10156",
         "2023-09-03 08:52:33",
         1782
        ],
        [
         "EVT10157",
         "2023-09-01 19:23:34",
         12500
        ],
        [
         "EVT10158",
         "2023-09-10 03:00:33",
         12974
        ],
        [
         "EVT10159",
         "2023-09-05 04:51:35",
         881
        ],
        [
         "EVT10160",
         "2023-09-02 13:24:59",
         10692
        ],
        [
         "EVT10161",
         "2023-09-10 19:26:50",
         1210
        ],
        [
         "EVT10162",
         "2023-09-08 09:59:54",
         6408
        ],
        [
         "EVT10163",
         "2023-09-05 05:29:40",
         5547
        ],
        [
         "EVT10164",
         "2023-09-03 03:50:41",
         1405
        ],
        [
         "EVT10165",
         "2023-09-02 05:37:55",
         1176
        ],
        [
         "EVT10166",
         "2023-09-14 15:18:31",
         4467
        ],
        [
         "EVT10167",
         "2023-09-05 22:26:12",
         4761
        ],
        [
         "EVT10168",
         "2023-09-05 20:25:39",
         2269
        ],
        [
         "EVT10169",
         "2023-09-10 08:00:06",
         4181
        ],
        [
         "EVT10170",
         "2023-09-07 22:50:37",
         22351
        ],
        [
         "EVT10171",
         "2023-09-11 03:18:23",
         1960
        ],
        [
         "EVT10172",
         "2023-09-13 14:45:22",
         792
        ],
        [
         "EVT10173",
         "2023-09-11 17:46:06",
         3028
        ],
        [
         "EVT10174",
         "2023-09-02 16:22:21",
         3223
        ],
        [
         "EVT10175",
         "2023-09-06 02:24:27",
         741
        ],
        [
         "EVT10176",
         "2023-09-12 23:54:06",
         2686
        ],
        [
         "EVT10177",
         "2023-09-01 21:07:52",
         2904
        ],
        [
         "EVT10178",
         "2023-09-09 15:08:11",
         1283
        ],
        [
         "EVT10179",
         "2023-09-13 14:43:13",
         9230
        ],
        [
         "EVT10180",
         "2023-09-02 15:08:20",
         3442
        ],
        [
         "EVT10181",
         "2023-09-05 11:26:24",
         15082
        ],
        [
         "EVT10182",
         "2023-09-11 00:33:02",
         2094
        ],
        [
         "EVT10183",
         "2023-09-08 18:22:52",
         4670
        ],
        [
         "EVT10184",
         "2023-09-07 20:33:37",
         4029
        ],
        [
         "EVT10185",
         "2023-09-05 07:16:12",
         2315
        ],
        [
         "EVT10186",
         "2023-09-09 15:34:07",
         2993
        ],
        [
         "EVT10187",
         "2023-09-11 22:06:59",
         804
        ],
        [
         "EVT10188",
         "2023-09-08 16:19:55",
         1090
        ],
        [
         "EVT10189",
         "2023-09-13 09:54:20",
         4908
        ],
        [
         "EVT10190",
         "2023-09-02 00:13:13",
         4839
        ],
        [
         "EVT10191",
         "2023-09-06 17:05:56",
         3971
        ],
        [
         "EVT10192",
         "2023-09-09 23:07:19",
         753
        ],
        [
         "EVT10193",
         "2023-09-07 08:23:38",
         2528
        ],
        [
         "EVT10194",
         "2023-09-14 22:23:57",
         5819
        ],
        [
         "EVT10195",
         "2023-09-12 03:28:37",
         9395
        ],
        [
         "EVT10196",
         "2023-09-11 03:31:39",
         1780
        ],
        [
         "EVT10197",
         "2023-09-06 18:10:49",
         6890
        ],
        [
         "EVT10198",
         "2023-09-06 08:35:19",
         792
        ],
        [
         "EVT10199",
         "2023-09-06 17:58:15",
         4717
        ],
        [
         "EVT10200",
         "2023-09-09 10:13:32",
         24663
        ],
        [
         "EVT10201",
         "2023-09-10 08:06:41",
         6183
        ],
        [
         "EVT10202",
         "2023-09-07 09:10:01",
         20980
        ],
        [
         "EVT10203",
         "2023-09-08 10:35:42",
         34134
        ],
        [
         "EVT10204",
         "2023-09-06 21:27:52",
         3518
        ],
        [
         "EVT10205",
         "2023-09-06 06:41:06",
         902
        ],
        [
         "EVT10206",
         "2023-09-02 06:35:18",
         4002
        ],
        [
         "EVT10207",
         "2023-09-08 11:05:09",
         1221
        ],
        [
         "EVT10208",
         "2023-09-06 23:16:39",
         189
        ],
        [
         "EVT10209",
         "2023-09-02 23:55:25",
         298
        ],
        [
         "EVT10210",
         "2023-09-11 20:42:46",
         2206
        ],
        [
         "EVT10211",
         "2023-09-13 11:58:15",
         7823
        ],
        [
         "EVT10212",
         "2023-09-10 12:13:40",
         17534
        ],
        [
         "EVT10213",
         "2023-09-09 22:25:51",
         1463
        ],
        [
         "EVT10214",
         "2023-09-03 18:34:11",
         1599
        ],
        [
         "EVT10215",
         "2023-09-03 15:39:47",
         4870
        ],
        [
         "EVT10216",
         "2023-09-09 08:32:01",
         3251
        ],
        [
         "EVT10217",
         "2023-09-03 13:06:14",
         1194
        ],
        [
         "EVT10218",
         "2023-09-01 10:20:38",
         499
        ],
        [
         "EVT10219",
         "2023-09-12 21:22:54",
         1094
        ],
        [
         "EVT10220",
         "2023-09-02 01:39:11",
         3780
        ],
        [
         "EVT10221",
         "2023-09-06 07:18:02",
         2460
        ],
        [
         "EVT10222",
         "2023-09-14 08:29:40",
         5460
        ],
        [
         "EVT10223",
         "2023-09-05 03:07:36",
         4934
        ],
        [
         "EVT10224",
         "2023-09-03 13:10:32",
         420
        ],
        [
         "EVT10225",
         "2023-09-04 04:39:31",
         1440
        ],
        [
         "EVT10226",
         "2023-09-11 14:55:15",
         1176
        ],
        [
         "EVT10227",
         "2023-09-05 01:02:11",
         799
        ],
        [
         "EVT10228",
         "2023-09-08 19:18:46",
         3024
        ],
        [
         "EVT10229",
         "2023-09-07 21:55:11",
         511
        ],
        [
         "EVT10230",
         "2023-09-02 17:26:50",
         5457
        ],
        [
         "EVT10231",
         "2023-09-08 17:08:49",
         2140
        ],
        [
         "EVT10232",
         "2023-09-07 01:20:24",
         972
        ],
        [
         "EVT10233",
         "2023-09-05 05:38:31",
         6521
        ],
        [
         "EVT10234",
         "2023-09-08 11:48:51",
         1693
        ],
        [
         "EVT10235",
         "2023-09-03 18:49:29",
         764
        ],
        [
         "EVT10236",
         "2023-09-14 15:10:01",
         1865
        ],
        [
         "EVT10237",
         "2023-09-12 10:44:18",
         1655
        ],
        [
         "EVT10238",
         "2023-09-01 14:34:16",
         4773
        ],
        [
         "EVT10239",
         "2023-09-06 21:34:47",
         13009
        ],
        [
         "EVT10240",
         "2023-09-01 20:04:54",
         11352
        ],
        [
         "EVT10241",
         "2023-09-02 11:48:20",
         10943
        ],
        [
         "EVT10242",
         "2023-09-05 02:28:44",
         433
        ],
        [
         "EVT10243",
         "2023-09-10 05:58:28",
         3448
        ],
        [
         "EVT10244",
         "2023-09-12 12:20:12",
         362
        ],
        [
         "EVT10245",
         "2023-09-05 16:58:25",
         1228
        ],
        [
         "EVT10246",
         "2023-09-09 19:55:24",
         3754
        ],
        [
         "EVT10247",
         "2023-09-06 16:31:42",
         1329
        ],
        [
         "EVT10248",
         "2023-09-11 19:02:09",
         620
        ],
        [
         "EVT10249",
         "2023-09-11 19:06:50",
         1014
        ],
        [
         "EVT10250",
         "2023-09-03 06:22:19",
         512
        ],
        [
         "EVT10251",
         "2023-09-09 10:26:28",
         585
        ],
        [
         "EVT10252",
         "2023-09-11 10:02:57",
         4801
        ],
        [
         "EVT10253",
         "2023-09-11 01:16:35",
         587
        ],
        [
         "EVT10254",
         "2023-09-06 14:50:15",
         2930
        ],
        [
         "EVT10255",
         "2023-09-11 09:17:39",
         608
        ],
        [
         "EVT10256",
         "2023-09-09 14:21:25",
         1557
        ],
        [
         "EVT10257",
         "2023-09-11 18:47:18",
         1154
        ],
        [
         "EVT10258",
         "2023-09-12 14:31:43",
         1393
        ],
        [
         "EVT10259",
         "2023-09-13 12:00:30",
         2236
        ],
        [
         "EVT10260",
         "2023-09-12 01:31:44",
         1289
        ],
        [
         "EVT10261",
         "2023-09-12 20:55:12",
         815
        ],
        [
         "EVT10262",
         "2023-09-14 17:08:51",
         712
        ],
        [
         "EVT10263",
         "2023-09-09 17:50:31",
         1277
        ],
        [
         "EVT10264",
         "2023-09-09 01:42:29",
         1103
        ],
        [
         "EVT10265",
         "2023-09-06 18:26:27",
         9320
        ],
        [
         "EVT10266",
         "2023-09-14 16:54:48",
         1997
        ],
        [
         "EVT10267",
         "2023-09-02 15:02:40",
         1672
        ],
        [
         "EVT10268",
         "2023-09-06 07:06:36",
         1056
        ],
        [
         "EVT10269",
         "2023-09-09 21:02:08",
         5441
        ],
        [
         "EVT10270",
         "2023-09-05 10:25:41",
         6780
        ],
        [
         "EVT10271",
         "2023-09-13 21:50:12",
         1125
        ],
        [
         "EVT10272",
         "2023-09-04 11:00:05",
         247
        ],
        [
         "EVT10273",
         "2023-09-08 09:39:16",
         2378
        ],
        [
         "EVT10274",
         "2023-09-11 19:58:42",
         1626
        ],
        [
         "EVT10275",
         "2023-09-13 23:09:27",
         1926
        ],
        [
         "EVT10276",
         "2023-09-12 06:41:37",
         5146
        ],
        [
         "EVT10277",
         "2023-09-06 14:11:39",
         1155
        ],
        [
         "EVT10278",
         "2023-09-03 05:34:48",
         3051
        ],
        [
         "EVT10279",
         "2023-09-05 15:07:02",
         1659
        ],
        [
         "EVT10280",
         "2023-09-08 13:53:20",
         3303
        ],
        [
         "EVT10281",
         "2023-09-09 00:41:00",
         836
        ],
        [
         "EVT10282",
         "2023-09-05 22:13:46",
         2634
        ],
        [
         "EVT10283",
         "2023-09-11 18:32:12",
         1851
        ],
        [
         "EVT10284",
         "2023-09-02 18:56:39",
         4853
        ],
        [
         "EVT10285",
         "2023-09-07 14:38:26",
         3084
        ],
        [
         "EVT10286",
         "2023-09-07 13:32:18",
         1564
        ],
        [
         "EVT10287",
         "2023-09-05 09:41:13",
         2813
        ],
        [
         "EVT10288",
         "2023-09-04 05:50:42",
         3207
        ],
        [
         "EVT10289",
         "2023-09-03 18:21:12",
         2094
        ],
        [
         "EVT10290",
         "2023-09-12 14:40:25",
         603
        ],
        [
         "EVT10291",
         "2023-09-12 06:34:02",
         526
        ],
        [
         "EVT10292",
         "2023-09-12 19:22:47",
         27223
        ],
        [
         "EVT10293",
         "2023-09-07 15:41:29",
         300
        ],
        [
         "EVT10294",
         "2023-09-14 11:13:09",
         813
        ],
        [
         "EVT10295",
         "2023-09-01 20:34:35",
         4747
        ],
        [
         "EVT10296",
         "2023-09-13 15:21:25",
         417
        ],
        [
         "EVT10297",
         "2023-09-13 11:58:32",
         23587
        ],
        [
         "EVT10298",
         "2023-09-11 22:17:30",
         1122
        ],
        [
         "EVT10299",
         "2023-09-10 21:05:35",
         11764
        ],
        [
         "EVT10300",
         "2023-09-05 11:55:44",
         932
        ],
        [
         "EVT10301",
         "2023-09-01 02:06:07",
         601
        ],
        [
         "EVT10302",
         "2023-09-03 17:15:53",
         4215
        ],
        [
         "EVT10303",
         "2023-09-01 07:13:37",
         1926
        ],
        [
         "EVT10304",
         "2023-09-11 06:28:31",
         5667
        ],
        [
         "EVT10305",
         "2023-09-12 15:18:11",
         3373
        ],
        [
         "EVT10306",
         "2023-09-04 05:34:36",
         9986
        ],
        [
         "EVT10307",
         "2023-09-11 17:03:53",
         260
        ],
        [
         "EVT10308",
         "2023-09-13 06:39:52",
         586
        ],
        [
         "EVT10309",
         "2023-09-07 04:16:55",
         730
        ],
        [
         "EVT10310",
         "2023-09-02 14:27:28",
         1926
        ],
        [
         "EVT10311",
         "2023-09-06 07:09:55",
         5751
        ],
        [
         "EVT10312",
         "2023-09-14 00:26:41",
         1476
        ],
        [
         "EVT10313",
         "2023-09-06 19:13:06",
         4447
        ],
        [
         "EVT10314",
         "2023-09-03 22:10:40",
         15991
        ],
        [
         "EVT10315",
         "2023-09-06 03:55:44",
         10524
        ],
        [
         "EVT10316",
         "2023-09-12 13:21:56",
         8248
        ],
        [
         "EVT10317",
         "2023-09-10 22:26:19",
         6693
        ],
        [
         "EVT10318",
         "2023-09-10 05:37:04",
         2192
        ],
        [
         "EVT10319",
         "2023-09-09 15:18:17",
         3181
        ],
        [
         "EVT10320",
         "2023-09-10 13:07:32",
         3143
        ],
        [
         "EVT10321",
         "2023-09-11 13:15:18",
         1922
        ],
        [
         "EVT10322",
         "2023-09-10 23:27:29",
         4126
        ],
        [
         "EVT10323",
         "2023-09-12 23:42:42",
         1417
        ],
        [
         "EVT10324",
         "2023-09-03 18:42:03",
         3423
        ],
        [
         "EVT10325",
         "2023-09-13 01:48:20",
         1585
        ],
        [
         "EVT10326",
         "2023-09-10 14:00:40",
         3844
        ],
        [
         "EVT10327",
         "2023-09-14 23:19:15",
         2908
        ],
        [
         "EVT10328",
         "2023-09-11 01:37:02",
         172
        ],
        [
         "EVT10329",
         "2023-09-10 21:13:16",
         1696
        ],
        [
         "EVT10330",
         "2023-09-03 05:45:54",
         1077
        ],
        [
         "EVT10331",
         "2023-09-08 06:16:31",
         1972
        ],
        [
         "EVT10332",
         "2023-09-13 12:02:38",
         20390
        ],
        [
         "EVT10333",
         "2023-09-14 13:12:35",
         3685
        ],
        [
         "EVT10334",
         "2023-09-02 10:19:37",
         382
        ],
        [
         "EVT10335",
         "2023-09-10 13:36:57",
         376
        ],
        [
         "EVT10336",
         "2023-09-02 03:12:21",
         20920
        ],
        [
         "EVT10337",
         "2023-09-14 01:20:33",
         22685
        ],
        [
         "EVT10338",
         "2023-09-02 22:52:45",
         4473
        ],
        [
         "EVT10339",
         "2023-09-09 08:13:38",
         1437
        ],
        [
         "EVT10340",
         "2023-09-11 08:27:09",
         1549
        ],
        [
         "EVT10341",
         "2023-09-07 17:32:08",
         787
        ],
        [
         "EVT10342",
         "2023-09-01 07:56:13",
         3434
        ],
        [
         "EVT10343",
         "2023-09-04 02:18:00",
         372
        ],
        [
         "EVT10344",
         "2023-09-03 14:43:17",
         4324
        ],
        [
         "EVT10345",
         "2023-09-07 23:55:21",
         4529
        ],
        [
         "EVT10346",
         "2023-09-01 10:50:20",
         9310
        ],
        [
         "EVT10347",
         "2023-09-09 18:27:26",
         16737
        ],
        [
         "EVT10348",
         "2023-09-05 22:02:45",
         2700
        ],
        [
         "EVT10349",
         "2023-09-03 15:46:28",
         3232
        ],
        [
         "EVT10350",
         "2023-09-04 18:25:56",
         15516
        ],
        [
         "EVT10351",
         "2023-09-07 03:07:03",
         16186
        ],
        [
         "EVT10352",
         "2023-09-12 11:37:16",
         3133
        ],
        [
         "EVT10353",
         "2023-09-08 15:53:22",
         7804
        ],
        [
         "EVT10354",
         "2023-09-11 17:33:20",
         1557
        ],
        [
         "EVT10355",
         "2023-09-06 10:15:35",
         124
        ],
        [
         "EVT10356",
         "2023-09-13 09:06:48",
         3599
        ],
        [
         "EVT10357",
         "2023-09-04 11:09:09",
         5023
        ],
        [
         "EVT10358",
         "2023-09-10 00:15:26",
         919
        ],
        [
         "EVT10359",
         "2023-09-02 05:54:08",
         2256
        ],
        [
         "EVT10360",
         "2023-09-03 14:18:11",
         3276
        ],
        [
         "EVT10361",
         "2023-09-10 10:12:34",
         1725
        ],
        [
         "EVT10362",
         "2023-09-02 21:03:29",
         710
        ],
        [
         "EVT10363",
         "2023-09-01 23:59:44",
         1376
        ],
        [
         "EVT10364",
         "2023-09-06 19:52:03",
         3175
        ],
        [
         "EVT10365",
         "2023-09-06 15:39:51",
         6533
        ],
        [
         "EVT10366",
         "2023-09-01 00:24:29",
         1687
        ],
        [
         "EVT10367",
         "2023-09-13 02:12:10",
         17167
        ],
        [
         "EVT10368",
         "2023-09-09 00:56:36",
         3032
        ],
        [
         "EVT10369",
         "2023-09-12 02:22:51",
         4516
        ],
        [
         "EVT10370",
         "2023-09-07 07:45:10",
         476
        ],
        [
         "EVT10371",
         "2023-09-05 17:27:22",
         1881
        ],
        [
         "EVT10372",
         "2023-09-08 03:26:08",
         2327
        ],
        [
         "EVT10373",
         "2023-09-02 22:02:13",
         2999
        ],
        [
         "EVT10374",
         "2023-09-02 13:37:17",
         5901
        ],
        [
         "EVT10375",
         "2023-09-03 19:49:04",
         2347
        ],
        [
         "EVT10376",
         "2023-09-01 16:22:17",
         4985
        ],
        [
         "EVT10377",
         "2023-09-04 11:35:07",
         918
        ],
        [
         "EVT10378",
         "2023-09-01 18:35:16",
         20920
        ],
        [
         "EVT10379",
         "2023-09-12 00:25:14",
         3738
        ],
        [
         "EVT10380",
         "2023-09-12 10:39:10",
         6348
        ],
        [
         "EVT10381",
         "2023-09-10 23:30:58",
         1171
        ],
        [
         "EVT10382",
         "2023-09-11 02:20:18",
         249
        ],
        [
         "EVT10383",
         "2023-09-13 07:09:53",
         7786
        ],
        [
         "EVT10384",
         "2023-09-02 14:16:10",
         7494
        ],
        [
         "EVT10385",
         "2023-09-08 18:09:18",
         6318
        ],
        [
         "EVT10386",
         "2023-09-10 17:04:24",
         2960
        ],
        [
         "EVT10387",
         "2023-09-07 14:24:19",
         1421
        ],
        [
         "EVT10388",
         "2023-09-14 16:19:30",
         5850
        ],
        [
         "EVT10389",
         "2023-09-05 22:43:56",
         1854
        ],
        [
         "EVT10390",
         "2023-09-05 17:07:20",
         1917
        ],
        [
         "EVT10391",
         "2023-09-04 03:50:05",
         10184
        ],
        [
         "EVT10392",
         "2023-09-02 08:41:21",
         1887
        ],
        [
         "EVT10393",
         "2023-09-04 03:06:14",
         1153
        ],
        [
         "EVT10394",
         "2023-09-10 01:06:42",
         3346
        ],
        [
         "EVT10395",
         "2023-09-07 06:11:24",
         2171
        ],
        [
         "EVT10396",
         "2023-09-08 01:28:31",
         2543
        ],
        [
         "EVT10397",
         "2023-09-07 22:45:22",
         91
        ],
        [
         "EVT10398",
         "2023-09-14 05:21:06",
         2717
        ],
        [
         "EVT10399",
         "2023-09-10 11:31:01",
         4483
        ],
        [
         "EVT10400",
         "2023-09-06 12:58:51",
         5030
        ],
        [
         "EVT10401",
         "2023-09-11 23:58:07",
         23920
        ],
        [
         "EVT10402",
         "2023-09-14 19:00:06",
         14264
        ],
        [
         "EVT10403",
         "2023-09-13 23:11:16",
         8358
        ],
        [
         "EVT10404",
         "2023-09-04 04:00:19",
         2314
        ],
        [
         "EVT10405",
         "2023-09-05 12:06:26",
         2158
        ],
        [
         "EVT10406",
         "2023-09-10 17:55:32",
         957
        ],
        [
         "EVT10407",
         "2023-09-05 01:59:11",
         369
        ],
        [
         "EVT10408",
         "2023-09-06 07:52:05",
         1234
        ],
        [
         "EVT10409",
         "2023-09-06 00:23:18",
         20415
        ],
        [
         "EVT10410",
         "2023-09-02 14:57:21",
         7972
        ],
        [
         "EVT10411",
         "2023-09-04 22:53:32",
         7146
        ],
        [
         "EVT10412",
         "2023-09-11 14:33:55",
         3076
        ],
        [
         "EVT10413",
         "2023-09-03 16:29:47",
         946
        ],
        [
         "EVT10414",
         "2023-09-04 01:26:20",
         865
        ],
        [
         "EVT10415",
         "2023-09-05 17:26:49",
         22011
        ],
        [
         "EVT10416",
         "2023-09-01 18:59:51",
         501
        ],
        [
         "EVT10417",
         "2023-09-09 05:03:18",
         1686
        ],
        [
         "EVT10418",
         "2023-09-08 16:35:48",
         4060
        ],
        [
         "EVT10419",
         "2023-09-06 03:28:53",
         2925
        ],
        [
         "EVT10420",
         "2023-09-06 19:52:25",
         1376
        ],
        [
         "EVT10421",
         "2023-09-09 14:34:06",
         2452
        ],
        [
         "EVT10422",
         "2023-09-09 15:51:51",
         584
        ],
        [
         "EVT10423",
         "2023-09-02 02:34:24",
         6238
        ],
        [
         "EVT10424",
         "2023-09-08 01:46:32",
         3542
        ],
        [
         "EVT10425",
         "2023-09-14 04:44:26",
         4385
        ],
        [
         "EVT10426",
         "2023-09-08 13:32:10",
         3152
        ],
        [
         "EVT10427",
         "2023-09-06 13:06:10",
         7516
        ],
        [
         "EVT10428",
         "2023-09-02 14:26:03",
         686
        ],
        [
         "EVT10429",
         "2023-09-03 03:30:35",
         6316
        ],
        [
         "EVT10430",
         "2023-09-07 16:30:02",
         7260
        ],
        [
         "EVT10431",
         "2023-09-10 05:36:59",
         1892
        ],
        [
         "EVT10432",
         "2023-09-07 14:51:18",
         1913
        ],
        [
         "EVT10433",
         "2023-09-02 02:54:26",
         662
        ],
        [
         "EVT10434",
         "2023-09-10 05:20:13",
         1126
        ],
        [
         "EVT10435",
         "2023-09-04 23:50:42",
         9550
        ],
        [
         "EVT10436",
         "2023-09-05 09:41:45",
         1711
        ],
        [
         "EVT10437",
         "2023-09-03 19:37:07",
         4720
        ],
        [
         "EVT10438",
         "2023-09-03 01:02:39",
         32203
        ],
        [
         "EVT10439",
         "2023-09-12 23:00:59",
         1565
        ],
        [
         "EVT10440",
         "2023-09-12 12:30:35",
         3107
        ],
        [
         "EVT10441",
         "2023-09-04 14:50:20",
         6646
        ],
        [
         "EVT10442",
         "2023-09-09 02:03:44",
         3895
        ],
        [
         "EVT10443",
         "2023-09-01 12:29:49",
         1566
        ],
        [
         "EVT10444",
         "2023-09-08 10:18:21",
         1863
        ],
        [
         "EVT10445",
         "2023-09-03 08:33:22",
         4574
        ],
        [
         "EVT10446",
         "2023-09-12 13:39:48",
         4342
        ],
        [
         "EVT10447",
         "2023-09-02 08:08:10",
         2851
        ],
        [
         "EVT10448",
         "2023-09-08 11:24:15",
         1544
        ],
        [
         "EVT10449",
         "2023-09-04 21:38:50",
         697
        ],
        [
         "EVT10450",
         "2023-09-07 06:00:14",
         1089
        ],
        [
         "EVT10451",
         "2023-09-02 23:09:01",
         187
        ],
        [
         "EVT10452",
         "2023-09-13 03:52:08",
         2090
        ],
        [
         "EVT10453",
         "2023-09-03 22:24:21",
         3318
        ],
        [
         "EVT10454",
         "2023-09-08 06:22:13",
         4874
        ],
        [
         "EVT10455",
         "2023-09-08 19:03:48",
         404
        ],
        [
         "EVT10456",
         "2023-09-05 08:55:55",
         1447
        ],
        [
         "EVT10457",
         "2023-09-03 22:16:36",
         384
        ],
        [
         "EVT10458",
         "2023-09-04 18:01:26",
         15864
        ],
        [
         "EVT10459",
         "2023-09-08 05:05:51",
         117
        ],
        [
         "EVT10460",
         "2023-09-14 08:58:43",
         3552
        ],
        [
         "EVT10461",
         "2023-09-01 11:31:45",
         876
        ],
        [
         "EVT10462",
         "2023-09-13 16:50:02",
         570
        ],
        [
         "EVT10463",
         "2023-09-09 08:19:06",
         12380
        ],
        [
         "EVT10464",
         "2023-09-14 20:03:54",
         2351
        ],
        [
         "EVT10465",
         "2023-09-13 09:46:26",
         920
        ],
        [
         "EVT10466",
         "2023-09-07 11:31:13",
         425
        ],
        [
         "EVT10467",
         "2023-09-01 17:17:48",
         1038
        ],
        [
         "EVT10468",
         "2023-09-03 14:16:03",
         1243
        ],
        [
         "EVT10469",
         "2023-09-07 22:40:38",
         3376
        ],
        [
         "EVT10470",
         "2023-09-07 11:33:46",
         10616
        ],
        [
         "EVT10471",
         "2023-09-13 13:13:40",
         4406
        ],
        [
         "EVT10472",
         "2023-09-09 18:07:38",
         6806
        ],
        [
         "EVT10473",
         "2023-09-07 16:37:24",
         4127
        ],
        [
         "EVT10474",
         "2023-09-01 13:43:35",
         5711
        ],
        [
         "EVT10475",
         "2023-09-06 14:53:45",
         2068
        ],
        [
         "EVT10476",
         "2023-09-03 10:02:06",
         1954
        ],
        [
         "EVT10477",
         "2023-09-02 16:42:47",
         2904
        ],
        [
         "EVT10478",
         "2023-09-10 20:18:11",
         9071
        ],
        [
         "EVT10479",
         "2023-09-05 08:43:49",
         524
        ],
        [
         "EVT10480",
         "2023-09-06 06:16:57",
         8453
        ],
        [
         "EVT10481",
         "2023-09-01 15:12:21",
         2523
        ],
        [
         "EVT10482",
         "2023-09-12 12:46:30",
         867
        ],
        [
         "EVT10483",
         "2023-09-13 12:19:07",
         2938
        ],
        [
         "EVT10484",
         "2023-09-07 03:20:31",
         353
        ],
        [
         "EVT10485",
         "2023-09-01 22:14:40",
         1645
        ],
        [
         "EVT10486",
         "2023-09-08 19:52:43",
         11943
        ],
        [
         "EVT10487",
         "2023-09-08 09:03:41",
         6383
        ],
        [
         "EVT10488",
         "2023-09-01 00:56:54",
         531
        ],
        [
         "EVT10489",
         "2023-09-12 05:41:02",
         1155
        ],
        [
         "EVT10490",
         "2023-09-09 00:48:39",
         1232
        ],
        [
         "EVT10491",
         "2023-09-02 08:30:46",
         4490
        ],
        [
         "EVT10492",
         "2023-09-09 13:38:51",
         10683
        ],
        [
         "EVT10493",
         "2023-09-01 06:03:20",
         14903
        ],
        [
         "EVT10494",
         "2023-09-14 06:44:02",
         2410
        ],
        [
         "EVT10495",
         "2023-09-08 03:42:24",
         3523
        ],
        [
         "EVT10496",
         "2023-09-06 07:46:24",
         4517
        ],
        [
         "EVT10497",
         "2023-09-11 15:38:28",
         2988
        ],
        [
         "EVT10498",
         "2023-09-14 07:16:33",
         792
        ],
        [
         "EVT10499",
         "2023-09-06 19:49:51",
         281
        ],
        [
         "EVT10500",
         "2023-09-08 20:14:02",
         1015
        ],
        [
         "EVT10501",
         "2023-09-13 22:38:51",
         293
        ],
        [
         "EVT10502",
         "2023-09-03 08:44:14",
         8768
        ],
        [
         "EVT10503",
         "2023-09-11 06:56:55",
         4068
        ],
        [
         "EVT10504",
         "2023-09-07 07:35:31",
         4291
        ],
        [
         "EVT10505",
         "2023-09-03 02:17:04",
         1379
        ],
        [
         "EVT10506",
         "2023-09-13 00:03:43",
         4344
        ],
        [
         "EVT10507",
         "2023-09-13 22:34:33",
         2280
        ],
        [
         "EVT10508",
         "2023-09-05 15:41:14",
         354
        ],
        [
         "EVT10509",
         "2023-09-07 16:40:31",
         800
        ],
        [
         "EVT10510",
         "2023-09-06 01:34:53",
         1445
        ],
        [
         "EVT10511",
         "2023-09-14 18:08:14",
         3029
        ],
        [
         "EVT10512",
         "2023-09-09 10:29:23",
         12757
        ],
        [
         "EVT10513",
         "2023-09-10 12:38:15",
         10085
        ],
        [
         "EVT10514",
         "2023-09-14 21:32:11",
         3024
        ],
        [
         "EVT10515",
         "2023-09-12 05:48:52",
         4242
        ],
        [
         "EVT10516",
         "2023-09-09 22:09:41",
         468
        ],
        [
         "EVT10517",
         "2023-09-06 05:14:09",
         1523
        ],
        [
         "EVT10518",
         "2023-09-14 10:41:39",
         560
        ],
        [
         "EVT10519",
         "2023-09-08 08:17:25",
         1505
        ],
        [
         "EVT10520",
         "2023-09-13 03:01:51",
         331
        ],
        [
         "EVT10521",
         "2023-09-04 03:21:55",
         4081
        ],
        [
         "EVT10522",
         "2023-09-14 18:22:14",
         5309
        ],
        [
         "EVT10523",
         "2023-09-02 06:43:33",
         5497
        ],
        [
         "EVT10524",
         "2023-09-14 01:11:27",
         1885
        ],
        [
         "EVT10525",
         "2023-09-01 07:27:18",
         3431
        ],
        [
         "EVT10526",
         "2023-09-09 16:16:03",
         6275
        ],
        [
         "EVT10527",
         "2023-09-04 07:36:13",
         1011
        ],
        [
         "EVT10528",
         "2023-09-05 08:44:09",
         2506
        ],
        [
         "EVT10529",
         "2023-09-06 09:36:37",
         10591
        ],
        [
         "EVT10530",
         "2023-09-03 01:40:55",
         3204
        ],
        [
         "EVT10531",
         "2023-09-01 01:58:40",
         2511
        ],
        [
         "EVT10532",
         "2023-09-13 03:01:53",
         369
        ],
        [
         "EVT10533",
         "2023-09-14 21:43:53",
         554
        ],
        [
         "EVT10534",
         "2023-09-05 03:00:00",
         3610
        ],
        [
         "EVT10535",
         "2023-09-11 16:56:28",
         2223
        ],
        [
         "EVT10536",
         "2023-09-13 19:54:06",
         4049
        ],
        [
         "EVT10537",
         "2023-09-12 01:19:02",
         2183
        ],
        [
         "EVT10538",
         "2023-09-03 17:22:07",
         2663
        ],
        [
         "EVT10539",
         "2023-09-04 04:44:41",
         3386
        ],
        [
         "EVT10540",
         "2023-09-02 09:54:42",
         3195
        ],
        [
         "EVT10541",
         "2023-09-09 05:30:16",
         3396
        ],
        [
         "EVT10542",
         "2023-09-02 07:57:34",
         3418
        ],
        [
         "EVT10543",
         "2023-09-05 06:05:23",
         1219
        ],
        [
         "EVT10544",
         "2023-09-11 10:37:05",
         782
        ],
        [
         "EVT10545",
         "2023-09-02 04:05:19",
         24140
        ],
        [
         "EVT10546",
         "2023-09-09 05:03:05",
         577
        ],
        [
         "EVT10547",
         "2023-09-06 10:10:03",
         691
        ],
        [
         "EVT10548",
         "2023-09-08 03:07:38",
         1064
        ],
        [
         "EVT10549",
         "2023-09-01 16:17:22",
         897
        ],
        [
         "EVT10550",
         "2023-09-09 21:21:37",
         1880
        ],
        [
         "EVT10551",
         "2023-09-11 20:26:49",
         1066
        ],
        [
         "EVT10552",
         "2023-09-11 19:29:45",
         5564
        ],
        [
         "EVT10553",
         "2023-09-08 06:44:06",
         3990
        ],
        [
         "EVT10554",
         "2023-09-09 11:14:14",
         1425
        ],
        [
         "EVT10555",
         "2023-09-13 04:18:44",
         28248
        ],
        [
         "EVT10556",
         "2023-09-09 10:54:39",
         11494
        ],
        [
         "EVT10557",
         "2023-09-12 16:27:54",
         3772
        ],
        [
         "EVT10558",
         "2023-09-12 13:31:58",
         1939
        ],
        [
         "EVT10559",
         "2023-09-14 21:09:54",
         8226
        ],
        [
         "EVT10560",
         "2023-09-09 05:18:30",
         4652
        ],
        [
         "EVT10561",
         "2023-09-10 11:39:38",
         2331
        ],
        [
         "EVT10562",
         "2023-09-08 00:49:59",
         16330
        ],
        [
         "EVT10563",
         "2023-09-06 19:32:11",
         817
        ],
        [
         "EVT10564",
         "2023-09-08 13:14:37",
         467
        ],
        [
         "EVT10565",
         "2023-09-05 04:26:19",
         2152
        ],
        [
         "EVT10566",
         "2023-09-06 07:00:36",
         6827
        ],
        [
         "EVT10567",
         "2023-09-01 16:02:17",
         921
        ],
        [
         "EVT10568",
         "2023-09-14 03:16:26",
         911
        ],
        [
         "EVT10569",
         "2023-09-06 05:54:41",
         2045
        ],
        [
         "EVT10570",
         "2023-09-01 02:47:58",
         1071
        ],
        [
         "EVT10571",
         "2023-09-01 00:28:10",
         3793
        ],
        [
         "EVT10572",
         "2023-09-09 02:53:50",
         17943
        ],
        [
         "EVT10573",
         "2023-09-13 09:35:33",
         1652
        ],
        [
         "EVT10574",
         "2023-09-13 09:03:47",
         2227
        ],
        [
         "EVT10575",
         "2023-09-02 13:33:24",
         671
        ],
        [
         "EVT10576",
         "2023-09-10 08:37:34",
         1194
        ],
        [
         "EVT10577",
         "2023-09-01 06:52:57",
         3283
        ],
        [
         "EVT10578",
         "2023-09-08 04:16:19",
         7989
        ],
        [
         "EVT10579",
         "2023-09-02 20:19:42",
         1928
        ],
        [
         "EVT10580",
         "2023-09-13 01:41:45",
         11326
        ],
        [
         "EVT10581",
         "2023-09-11 15:24:28",
         7675
        ],
        [
         "EVT10582",
         "2023-09-13 20:12:06",
         164
        ],
        [
         "EVT10583",
         "2023-09-08 22:21:17",
         4325
        ],
        [
         "EVT10584",
         "2023-09-01 00:26:21",
         1807
        ],
        [
         "EVT10585",
         "2023-09-13 15:21:41",
         7797
        ],
        [
         "EVT10586",
         "2023-09-13 03:31:24",
         3211
        ],
        [
         "EVT10587",
         "2023-09-13 16:28:12",
         5141
        ],
        [
         "EVT10588",
         "2023-09-09 18:31:22",
         2057
        ],
        [
         "EVT10589",
         "2023-09-13 03:20:50",
         7544
        ],
        [
         "EVT10590",
         "2023-09-10 00:21:21",
         5366
        ],
        [
         "EVT10591",
         "2023-09-12 04:59:51",
         4733
        ],
        [
         "EVT10592",
         "2023-09-10 23:18:34",
         1963
        ],
        [
         "EVT10593",
         "2023-09-07 04:27:53",
         882
        ],
        [
         "EVT10594",
         "2023-09-03 14:52:15",
         21301
        ],
        [
         "EVT10595",
         "2023-09-02 00:12:44",
         16211
        ],
        [
         "EVT10596",
         "2023-09-01 12:14:13",
         1901
        ],
        [
         "EVT10597",
         "2023-09-05 18:35:47",
         14537
        ],
        [
         "EVT10598",
         "2023-09-14 23:13:10",
         1320
        ],
        [
         "EVT10599",
         "2023-09-09 09:37:28",
         2513
        ],
        [
         "EVT10600",
         "2023-09-01 08:50:18",
         3979
        ],
        [
         "EVT10601",
         "2023-09-05 21:10:48",
         5993
        ],
        [
         "EVT10602",
         "2023-09-01 07:46:58",
         1051
        ],
        [
         "EVT10603",
         "2023-09-03 02:53:19",
         1429
        ],
        [
         "EVT10604",
         "2023-09-06 22:01:05",
         728
        ],
        [
         "EVT10605",
         "2023-09-03 04:33:10",
         4417
        ],
        [
         "EVT10606",
         "2023-09-14 21:33:29",
         8486
        ],
        [
         "EVT10607",
         "2023-09-03 00:17:21",
         6511
        ],
        [
         "EVT10608",
         "2023-09-01 21:35:05",
         2556
        ],
        [
         "EVT10609",
         "2023-09-12 20:46:13",
         265
        ],
        [
         "EVT10610",
         "2023-09-02 01:02:04",
         3819
        ],
        [
         "EVT10611",
         "2023-09-06 18:41:31",
         3263
        ],
        [
         "EVT10612",
         "2023-09-07 18:03:37",
         1792
        ],
        [
         "EVT10613",
         "2023-09-13 20:55:06",
         965
        ],
        [
         "EVT10614",
         "2023-09-03 03:15:32",
         1590
        ],
        [
         "EVT10615",
         "2023-09-09 09:16:40",
         2261
        ],
        [
         "EVT10616",
         "2023-09-04 09:36:20",
         382
        ],
        [
         "EVT10617",
         "2023-09-03 18:41:01",
         1454
        ],
        [
         "EVT10618",
         "2023-09-03 04:44:14",
         169
        ],
        [
         "EVT10619",
         "2023-09-06 21:55:11",
         1916
        ],
        [
         "EVT10620",
         "2023-09-01 10:15:12",
         473
        ],
        [
         "EVT10621",
         "2023-09-04 19:44:34",
         3043
        ],
        [
         "EVT10622",
         "2023-09-10 08:25:29",
         15404
        ],
        [
         "EVT10623",
         "2023-09-03 00:24:07",
         23339
        ],
        [
         "EVT10624",
         "2023-09-04 03:38:24",
         1655
        ],
        [
         "EVT10625",
         "2023-09-13 22:36:30",
         175
        ],
        [
         "EVT10626",
         "2023-09-13 11:30:06",
         1804
        ],
        [
         "EVT10627",
         "2023-09-10 06:08:41",
         9779
        ],
        [
         "EVT10628",
         "2023-09-10 22:18:54",
         1572
        ],
        [
         "EVT10629",
         "2023-09-13 05:37:40",
         34157
        ],
        [
         "EVT10630",
         "2023-09-03 10:31:49",
         6834
        ],
        [
         "EVT10631",
         "2023-09-05 22:43:52",
         2829
        ],
        [
         "EVT10632",
         "2023-09-01 19:55:14",
         14429
        ],
        [
         "EVT10633",
         "2023-09-03 19:57:34",
         626
        ],
        [
         "EVT10634",
         "2023-09-08 16:10:07",
         754
        ],
        [
         "EVT10635",
         "2023-09-05 12:15:09",
         3155
        ],
        [
         "EVT10636",
         "2023-09-03 21:44:10",
         400
        ],
        [
         "EVT10637",
         "2023-09-04 13:27:57",
         6359
        ],
        [
         "EVT10638",
         "2023-09-05 15:29:34",
         3527
        ],
        [
         "EVT10639",
         "2023-09-07 16:47:26",
         3879
        ],
        [
         "EVT10640",
         "2023-09-14 19:56:55",
         2752
        ],
        [
         "EVT10641",
         "2023-09-09 13:28:19",
         755
        ],
        [
         "EVT10642",
         "2023-09-11 20:03:19",
         1261
        ],
        [
         "EVT10643",
         "2023-09-14 13:40:14",
         13099
        ],
        [
         "EVT10644",
         "2023-09-01 10:06:52",
         3571
        ],
        [
         "EVT10645",
         "2023-09-09 15:29:21",
         3089
        ],
        [
         "EVT10646",
         "2023-09-02 02:41:25",
         1979
        ],
        [
         "EVT10647",
         "2023-09-02 16:27:34",
         4803
        ],
        [
         "EVT10648",
         "2023-09-09 11:33:48",
         2321
        ],
        [
         "EVT10649",
         "2023-09-01 13:37:14",
         4219
        ],
        [
         "EVT10650",
         "2023-09-13 00:48:00",
         171
        ],
        [
         "EVT10651",
         "2023-09-13 14:13:26",
         3838
        ],
        [
         "EVT10652",
         "2023-09-11 06:33:10",
         4758
        ],
        [
         "EVT10653",
         "2023-09-12 12:11:00",
         1750
        ],
        [
         "EVT10654",
         "2023-09-10 00:20:48",
         3241
        ],
        [
         "EVT10655",
         "2023-09-04 15:46:04",
         14358
        ],
        [
         "EVT10656",
         "2023-09-01 06:04:34",
         18555
        ],
        [
         "EVT10657",
         "2023-09-05 03:56:51",
         4059
        ],
        [
         "EVT10658",
         "2023-09-08 19:25:23",
         2306
        ],
        [
         "EVT10659",
         "2023-09-04 03:31:26",
         3631
        ],
        [
         "EVT10660",
         "2023-09-12 12:06:59",
         1041
        ],
        [
         "EVT10661",
         "2023-09-10 17:03:06",
         6660
        ],
        [
         "EVT10662",
         "2023-09-03 16:18:58",
         276
        ],
        [
         "EVT10663",
         "2023-09-06 22:14:56",
         1167
        ],
        [
         "EVT10664",
         "2023-09-11 20:00:18",
         4314
        ],
        [
         "EVT10665",
         "2023-09-04 22:07:24",
         2530
        ],
        [
         "EVT10666",
         "2023-09-13 00:54:05",
         2018
        ],
        [
         "EVT10667",
         "2023-09-01 15:05:06",
         2085
        ],
        [
         "EVT10668",
         "2023-09-09 01:56:20",
         4469
        ],
        [
         "EVT10669",
         "2023-09-08 14:23:49",
         2065
        ],
        [
         "EVT10670",
         "2023-09-05 03:15:10",
         3159
        ],
        [
         "EVT10671",
         "2023-09-10 12:27:14",
         3208
        ],
        [
         "EVT10672",
         "2023-09-10 07:34:06",
         653
        ],
        [
         "EVT10673",
         "2023-09-12 14:08:24",
         4675
        ],
        [
         "EVT10674",
         "2023-09-13 13:57:49",
         8897
        ],
        [
         "EVT10675",
         "2023-09-13 14:58:44",
         1788
        ],
        [
         "EVT10676",
         "2023-09-08 20:32:08",
         1296
        ],
        [
         "EVT10677",
         "2023-09-03 22:42:36",
         30865
        ],
        [
         "EVT10678",
         "2023-09-05 12:13:40",
         5485
        ],
        [
         "EVT10679",
         "2023-09-11 00:50:58",
         481
        ],
        [
         "EVT10680",
         "2023-09-05 08:27:26",
         504
        ],
        [
         "EVT10681",
         "2023-09-08 09:41:41",
         3808
        ],
        [
         "EVT10682",
         "2023-09-14 19:04:31",
         4161
        ],
        [
         "EVT10683",
         "2023-09-06 08:49:38",
         436
        ],
        [
         "EVT10684",
         "2023-09-02 15:02:06",
         4071
        ],
        [
         "EVT10685",
         "2023-09-04 16:33:42",
         9824
        ],
        [
         "EVT10686",
         "2023-09-07 11:36:10",
         297
        ],
        [
         "EVT10687",
         "2023-09-13 12:18:50",
         3563
        ],
        [
         "EVT10688",
         "2023-09-11 05:15:46",
         690
        ],
        [
         "EVT10689",
         "2023-09-05 15:37:07",
         4265
        ],
        [
         "EVT10690",
         "2023-09-01 10:36:28",
         9470
        ],
        [
         "EVT10691",
         "2023-09-13 08:41:34",
         4766
        ],
        [
         "EVT10692",
         "2023-09-01 13:57:58",
         18114
        ],
        [
         "EVT10693",
         "2023-09-11 05:04:53",
         736
        ],
        [
         "EVT10694",
         "2023-09-02 09:15:24",
         561
        ],
        [
         "EVT10695",
         "2023-09-09 00:31:01",
         4191
        ],
        [
         "EVT10696",
         "2023-09-12 21:45:55",
         3164
        ],
        [
         "EVT10697",
         "2023-09-03 04:51:41",
         653
        ],
        [
         "EVT10698",
         "2023-09-12 15:17:36",
         3851
        ],
        [
         "EVT10699",
         "2023-09-04 09:12:17",
         15146
        ],
        [
         "EVT10700",
         "2023-09-08 12:33:15",
         279
        ],
        [
         "EVT10701",
         "2023-09-09 01:52:15",
         7261
        ],
        [
         "EVT10702",
         "2023-09-08 18:39:09",
         3922
        ],
        [
         "EVT10703",
         "2023-09-09 07:27:52",
         2568
        ],
        [
         "EVT10704",
         "2023-09-12 19:46:02",
         2605
        ],
        [
         "EVT10705",
         "2023-09-01 18:21:37",
         4429
        ],
        [
         "EVT10706",
         "2023-09-01 12:17:03",
         6682
        ],
        [
         "EVT10707",
         "2023-09-06 09:57:38",
         2328
        ],
        [
         "EVT10708",
         "2023-09-12 10:42:39",
         4841
        ],
        [
         "EVT10709",
         "2023-09-13 09:17:13",
         3311
        ],
        [
         "EVT10710",
         "2023-09-07 05:25:13",
         1127
        ],
        [
         "EVT10711",
         "2023-09-03 05:58:49",
         5150
        ],
        [
         "EVT10712",
         "2023-09-02 11:56:04",
         2467
        ],
        [
         "EVT10713",
         "2023-09-01 16:34:02",
         7256
        ],
        [
         "EVT10714",
         "2023-09-08 10:21:39",
         1314
        ],
        [
         "EVT10715",
         "2023-09-12 15:48:34",
         2292
        ],
        [
         "EVT10716",
         "2023-09-09 00:47:29",
         2070
        ],
        [
         "EVT10717",
         "2023-09-02 06:05:49",
         15420
        ],
        [
         "EVT10718",
         "2023-09-14 17:18:19",
         534
        ],
        [
         "EVT10719",
         "2023-09-14 02:10:26",
         2173
        ],
        [
         "EVT10720",
         "2023-09-02 21:36:24",
         677
        ],
        [
         "EVT10721",
         "2023-09-13 13:57:02",
         2326
        ],
        [
         "EVT10722",
         "2023-09-14 17:43:26",
         900
        ],
        [
         "EVT10723",
         "2023-09-08 20:31:36",
         7785
        ],
        [
         "EVT10724",
         "2023-09-13 10:20:15",
         1637
        ],
        [
         "EVT10725",
         "2023-09-06 11:14:14",
         1132
        ],
        [
         "EVT10726",
         "2023-09-05 22:18:43",
         1555
        ],
        [
         "EVT10727",
         "2023-09-03 03:35:56",
         3306
        ],
        [
         "EVT10728",
         "2023-09-03 12:15:59",
         1865
        ],
        [
         "EVT10729",
         "2023-09-14 13:56:57",
         6992
        ],
        [
         "EVT10730",
         "2023-09-14 21:42:17",
         3176
        ],
        [
         "EVT10731",
         "2023-09-01 08:45:16",
         689
        ],
        [
         "EVT10732",
         "2023-09-09 23:11:34",
         220
        ],
        [
         "EVT10733",
         "2023-09-03 01:58:19",
         15083
        ],
        [
         "EVT10734",
         "2023-09-06 07:42:51",
         8657
        ],
        [
         "EVT10735",
         "2023-09-14 22:04:24",
         7921
        ],
        [
         "EVT10736",
         "2023-09-10 14:50:00",
         3370
        ],
        [
         "EVT10737",
         "2023-09-13 18:06:14",
         81
        ],
        [
         "EVT10738",
         "2023-09-14 17:23:28",
         3013
        ],
        [
         "EVT10739",
         "2023-09-14 04:22:53",
         4073
        ],
        [
         "EVT10740",
         "2023-09-01 01:54:22",
         511
        ],
        [
         "EVT10741",
         "2023-09-06 05:32:40",
         7250
        ],
        [
         "EVT10742",
         "2023-09-04 19:27:38",
         1175
        ],
        [
         "EVT10743",
         "2023-09-04 13:38:27",
         1187
        ],
        [
         "EVT10744",
         "2023-09-08 07:28:16",
         1280
        ],
        [
         "EVT10745",
         "2023-09-08 13:37:03",
         13121
        ],
        [
         "EVT10746",
         "2023-09-05 16:05:38",
         949
        ],
        [
         "EVT10747",
         "2023-09-08 20:34:22",
         486
        ],
        [
         "EVT10748",
         "2023-09-01 14:28:18",
         7741
        ],
        [
         "EVT10749",
         "2023-09-10 21:36:33",
         5324
        ],
        [
         "EVT10750",
         "2023-09-14 04:02:12",
         842
        ],
        [
         "EVT10751",
         "2023-09-05 12:53:47",
         15754
        ],
        [
         "EVT10752",
         "2023-09-08 15:44:08",
         556
        ],
        [
         "EVT10753",
         "2023-09-02 22:58:32",
         1285
        ],
        [
         "EVT10754",
         "2023-09-14 19:19:27",
         4469
        ],
        [
         "EVT10755",
         "2023-09-04 14:58:50",
         6157
        ],
        [
         "EVT10756",
         "2023-09-14 08:51:40",
         1667
        ],
        [
         "EVT10757",
         "2023-09-02 09:16:18",
         5574
        ],
        [
         "EVT10758",
         "2023-09-03 11:52:04",
         12443
        ],
        [
         "EVT10759",
         "2023-09-03 19:43:25",
         1502
        ],
        [
         "EVT10760",
         "2023-09-03 09:06:39",
         14558
        ],
        [
         "EVT10761",
         "2023-09-05 23:39:45",
         5832
        ],
        [
         "EVT10762",
         "2023-09-07 19:12:58",
         7207
        ],
        [
         "EVT10763",
         "2023-09-04 10:44:56",
         955
        ],
        [
         "EVT10764",
         "2023-09-03 15:04:22",
         557
        ],
        [
         "EVT10765",
         "2023-09-12 03:17:19",
         1094
        ],
        [
         "EVT10766",
         "2023-09-01 14:41:56",
         729
        ],
        [
         "EVT10767",
         "2023-09-01 11:17:10",
         3729
        ],
        [
         "EVT10768",
         "2023-09-02 22:46:35",
         3931
        ],
        [
         "EVT10769",
         "2023-09-06 02:41:46",
         1346
        ],
        [
         "EVT10770",
         "2023-09-04 08:38:12",
         6361
        ],
        [
         "EVT10771",
         "2023-09-06 23:49:42",
         1516
        ],
        [
         "EVT10772",
         "2023-09-11 01:13:29",
         1872
        ],
        [
         "EVT10773",
         "2023-09-08 10:15:07",
         393
        ],
        [
         "EVT10774",
         "2023-09-13 17:06:12",
         5974
        ],
        [
         "EVT10775",
         "2023-09-04 10:42:02",
         5931
        ],
        [
         "EVT10776",
         "2023-09-07 21:35:58",
         843
        ],
        [
         "EVT10777",
         "2023-09-06 05:21:14",
         1125
        ],
        [
         "EVT10778",
         "2023-09-05 23:18:27",
         4765
        ],
        [
         "EVT10779",
         "2023-09-08 13:23:26",
         21598
        ],
        [
         "EVT10780",
         "2023-09-08 20:57:03",
         3412
        ],
        [
         "EVT10781",
         "2023-09-13 06:16:21",
         2736
        ],
        [
         "EVT10782",
         "2023-09-06 08:06:03",
         431
        ],
        [
         "EVT10783",
         "2023-09-09 19:33:45",
         18835
        ],
        [
         "EVT10784",
         "2023-09-13 05:06:28",
         695
        ],
        [
         "EVT10785",
         "2023-09-11 14:28:18",
         6362
        ],
        [
         "EVT10786",
         "2023-09-12 23:03:01",
         16295
        ],
        [
         "EVT10787",
         "2023-09-13 05:47:26",
         631
        ],
        [
         "EVT10788",
         "2023-09-07 17:28:38",
         10056
        ],
        [
         "EVT10789",
         "2023-09-09 07:38:59",
         442
        ],
        [
         "EVT10790",
         "2023-09-08 18:54:00",
         438
        ],
        [
         "EVT10791",
         "2023-09-14 20:08:24",
         422
        ],
        [
         "EVT10792",
         "2023-09-10 07:10:06",
         2276
        ],
        [
         "EVT10793",
         "2023-09-11 06:21:51",
         747
        ],
        [
         "EVT10794",
         "2023-09-07 14:21:17",
         746
        ],
        [
         "EVT10795",
         "2023-09-13 16:08:30",
         6066
        ],
        [
         "EVT10796",
         "2023-09-10 14:17:57",
         769
        ],
        [
         "EVT10797",
         "2023-09-09 00:23:59",
         3734
        ],
        [
         "EVT10798",
         "2023-09-08 06:32:18",
         489
        ],
        [
         "EVT10799",
         "2023-09-09 21:08:44",
         2700
        ],
        [
         "EVT10800",
         "2023-09-04 08:58:03",
         4702
        ],
        [
         "EVT10801",
         "2023-09-13 15:15:49",
         675
        ],
        [
         "EVT10802",
         "2023-09-05 04:06:49",
         145
        ],
        [
         "EVT10803",
         "2023-09-12 02:15:44",
         1078
        ],
        [
         "EVT10804",
         "2023-09-05 16:36:49",
         14837
        ],
        [
         "EVT10805",
         "2023-09-10 23:06:00",
         673
        ],
        [
         "EVT10806",
         "2023-09-06 17:12:45",
         8998
        ],
        [
         "EVT10807",
         "2023-09-01 16:16:26",
         2617
        ],
        [
         "EVT10808",
         "2023-09-04 03:10:49",
         5394
        ],
        [
         "EVT10809",
         "2023-09-12 04:34:32",
         1809
        ],
        [
         "EVT10810",
         "2023-09-08 00:17:32",
         2125
        ],
        [
         "EVT10811",
         "2023-09-02 20:23:33",
         2395
        ],
        [
         "EVT10812",
         "2023-09-10 03:11:28",
         1913
        ],
        [
         "EVT10813",
         "2023-09-11 22:35:31",
         474
        ],
        [
         "EVT10814",
         "2023-09-01 00:43:47",
         2379
        ],
        [
         "EVT10815",
         "2023-09-07 14:09:37",
         332
        ],
        [
         "EVT10816",
         "2023-09-14 16:45:48",
         831
        ],
        [
         "EVT10817",
         "2023-09-05 20:19:59",
         3149
        ],
        [
         "EVT10818",
         "2023-09-12 11:57:06",
         899
        ],
        [
         "EVT10819",
         "2023-09-04 07:25:33",
         8638
        ],
        [
         "EVT10820",
         "2023-09-11 08:08:07",
         1178
        ],
        [
         "EVT10821",
         "2023-09-07 03:29:18",
         10489
        ],
        [
         "EVT10822",
         "2023-09-06 22:45:00",
         2553
        ],
        [
         "EVT10823",
         "2023-09-09 09:29:45",
         244
        ],
        [
         "EVT10824",
         "2023-09-01 07:09:01",
         74
        ],
        [
         "EVT10825",
         "2023-09-14 16:18:12",
         2087
        ],
        [
         "EVT10826",
         "2023-09-13 16:15:02",
         6811
        ],
        [
         "EVT10827",
         "2023-09-11 01:48:00",
         392
        ],
        [
         "EVT10828",
         "2023-09-11 10:22:03",
         6090
        ],
        [
         "EVT10829",
         "2023-09-12 17:56:53",
         1361
        ],
        [
         "EVT10830",
         "2023-09-06 09:14:07",
         2752
        ],
        [
         "EVT10831",
         "2023-09-03 02:47:11",
         11279
        ],
        [
         "EVT10832",
         "2023-09-05 20:11:26",
         3202
        ],
        [
         "EVT10833",
         "2023-09-11 13:39:29",
         3274
        ],
        [
         "EVT10834",
         "2023-09-04 18:57:01",
         1440
        ],
        [
         "EVT10835",
         "2023-09-01 15:09:30",
         11887
        ],
        [
         "EVT10836",
         "2023-09-14 15:37:49",
         1281
        ],
        [
         "EVT10837",
         "2023-09-14 07:07:44",
         25011
        ],
        [
         "EVT10838",
         "2023-09-03 07:58:23",
         407
        ],
        [
         "EVT10839",
         "2023-09-02 10:48:47",
         1137
        ],
        [
         "EVT10840",
         "2023-09-11 14:09:45",
         6360
        ],
        [
         "EVT10841",
         "2023-09-13 05:12:43",
         3234
        ],
        [
         "EVT10842",
         "2023-09-07 20:38:28",
         5151
        ],
        [
         "EVT10843",
         "2023-09-12 14:21:58",
         2351
        ],
        [
         "EVT10844",
         "2023-09-11 22:42:01",
         1675
        ],
        [
         "EVT10845",
         "2023-09-01 10:15:42",
         6153
        ],
        [
         "EVT10846",
         "2023-09-03 10:33:14",
         2221
        ],
        [
         "EVT10847",
         "2023-09-07 15:11:11",
         3907
        ],
        [
         "EVT10848",
         "2023-09-02 21:25:07",
         4171
        ],
        [
         "EVT10849",
         "2023-09-08 21:02:44",
         1340
        ],
        [
         "EVT10850",
         "2023-09-01 12:54:58",
         2974
        ],
        [
         "EVT10851",
         "2023-09-11 20:39:21",
         2187
        ],
        [
         "EVT10852",
         "2023-09-14 04:34:40",
         4325
        ],
        [
         "EVT10853",
         "2023-09-06 18:59:30",
         257
        ],
        [
         "EVT10854",
         "2023-09-05 18:33:02",
         1182
        ],
        [
         "EVT10855",
         "2023-09-04 21:55:53",
         8271
        ],
        [
         "EVT10856",
         "2023-09-06 07:38:36",
         12098
        ],
        [
         "EVT10857",
         "2023-09-06 03:37:43",
         1275
        ],
        [
         "EVT10858",
         "2023-09-03 12:23:32",
         2683
        ],
        [
         "EVT10859",
         "2023-09-06 01:11:49",
         988
        ],
        [
         "EVT10860",
         "2023-09-14 02:10:43",
         2489
        ],
        [
         "EVT10861",
         "2023-09-05 01:27:04",
         1288
        ],
        [
         "EVT10862",
         "2023-09-10 19:39:07",
         2025
        ],
        [
         "EVT10863",
         "2023-09-11 22:30:53",
         1412
        ],
        [
         "EVT10864",
         "2023-09-07 07:26:00",
         4110
        ],
        [
         "EVT10865",
         "2023-09-04 01:28:53",
         2451
        ],
        [
         "EVT10866",
         "2023-09-06 16:09:52",
         6498
        ],
        [
         "EVT10867",
         "2023-09-14 05:50:16",
         2464
        ],
        [
         "EVT10868",
         "2023-09-02 08:31:15",
         376
        ],
        [
         "EVT10869",
         "2023-09-14 06:01:49",
         5483
        ],
        [
         "EVT10870",
         "2023-09-09 10:31:51",
         9239
        ],
        [
         "EVT10871",
         "2023-09-09 20:30:52",
         3663
        ],
        [
         "EVT10872",
         "2023-09-09 05:40:05",
         5456
        ],
        [
         "EVT10873",
         "2023-09-04 16:26:30",
         283
        ],
        [
         "EVT10874",
         "2023-09-12 02:53:57",
         1467
        ],
        [
         "EVT10875",
         "2023-09-06 23:11:54",
         10204
        ],
        [
         "EVT10876",
         "2023-09-04 01:00:15",
         2280
        ],
        [
         "EVT10877",
         "2023-09-10 23:47:54",
         5092
        ],
        [
         "EVT10878",
         "2023-09-12 23:10:25",
         2150
        ],
        [
         "EVT10879",
         "2023-09-10 08:46:12",
         3187
        ],
        [
         "EVT10880",
         "2023-09-05 04:16:00",
         3443
        ],
        [
         "EVT10881",
         "2023-09-14 22:42:14",
         582
        ],
        [
         "EVT10882",
         "2023-09-11 22:50:50",
         12598
        ],
        [
         "EVT10883",
         "2023-09-05 09:56:20",
         11295
        ],
        [
         "EVT10884",
         "2023-09-10 19:51:48",
         1835
        ],
        [
         "EVT10885",
         "2023-09-11 18:02:18",
         1145
        ],
        [
         "EVT10886",
         "2023-09-14 11:12:17",
         929
        ],
        [
         "EVT10887",
         "2023-09-01 04:50:49",
         2848
        ],
        [
         "EVT10888",
         "2023-09-05 02:20:42",
         2641
        ],
        [
         "EVT10889",
         "2023-09-09 05:56:42",
         4500
        ],
        [
         "EVT10890",
         "2023-09-11 16:26:46",
         5632
        ],
        [
         "EVT10891",
         "2023-09-04 07:50:47",
         4769
        ],
        [
         "EVT10892",
         "2023-09-02 18:55:32",
         4726
        ],
        [
         "EVT10893",
         "2023-09-10 10:14:23",
         8332
        ],
        [
         "EVT10894",
         "2023-09-10 04:16:01",
         32273
        ],
        [
         "EVT10895",
         "2023-09-03 22:04:50",
         2115
        ],
        [
         "EVT10896",
         "2023-09-03 13:03:52",
         1889
        ],
        [
         "EVT10897",
         "2023-09-11 05:49:51",
         2183
        ],
        [
         "EVT10898",
         "2023-09-04 07:04:01",
         7754
        ],
        [
         "EVT10899",
         "2023-09-10 20:11:18",
         10260
        ],
        [
         "EVT10900",
         "2023-09-03 20:28:24",
         1211
        ],
        [
         "EVT10901",
         "2023-09-14 01:04:32",
         2194
        ],
        [
         "EVT10902",
         "2023-09-10 02:40:09",
         1914
        ],
        [
         "EVT10903",
         "2023-09-01 06:47:13",
         1202
        ],
        [
         "EVT10904",
         "2023-09-11 01:32:36",
         3146
        ],
        [
         "EVT10905",
         "2023-09-06 10:29:34",
         761
        ],
        [
         "EVT10906",
         "2023-09-13 05:33:42",
         410
        ],
        [
         "EVT10907",
         "2023-09-06 14:08:00",
         22441
        ],
        [
         "EVT10908",
         "2023-09-13 10:20:49",
         597
        ],
        [
         "EVT10909",
         "2023-09-06 17:53:59",
         135
        ],
        [
         "EVT10910",
         "2023-09-01 10:27:10",
         5541
        ],
        [
         "EVT10911",
         "2023-09-12 13:43:32",
         1977
        ],
        [
         "EVT10912",
         "2023-09-08 14:17:33",
         5385
        ],
        [
         "EVT10913",
         "2023-09-09 13:59:53",
         1082
        ],
        [
         "EVT10914",
         "2023-09-07 23:10:45",
         10467
        ],
        [
         "EVT10915",
         "2023-09-12 08:43:21",
         2164
        ],
        [
         "EVT10916",
         "2023-09-14 08:01:27",
         4636
        ],
        [
         "EVT10917",
         "2023-09-06 19:45:52",
         1661
        ],
        [
         "EVT10918",
         "2023-09-10 01:24:16",
         861
        ],
        [
         "EVT10919",
         "2023-09-12 21:09:36",
         3392
        ],
        [
         "EVT10920",
         "2023-09-02 00:35:19",
         193
        ],
        [
         "EVT10921",
         "2023-09-03 13:55:16",
         765
        ],
        [
         "EVT10922",
         "2023-09-12 04:48:21",
         1251
        ],
        [
         "EVT10923",
         "2023-09-12 01:30:20",
         4324
        ],
        [
         "EVT10924",
         "2023-09-03 19:56:25",
         1845
        ],
        [
         "EVT10925",
         "2023-09-07 09:14:38",
         110
        ],
        [
         "EVT10926",
         "2023-09-14 23:34:14",
         4386
        ],
        [
         "EVT10927",
         "2023-09-05 06:28:42",
         16047
        ],
        [
         "EVT10928",
         "2023-09-11 02:56:49",
         977
        ],
        [
         "EVT10929",
         "2023-09-02 00:47:39",
         2567
        ],
        [
         "EVT10930",
         "2023-09-02 03:04:01",
         20421
        ],
        [
         "EVT10931",
         "2023-09-12 00:12:56",
         1005
        ],
        [
         "EVT10932",
         "2023-09-06 22:17:12",
         4154
        ],
        [
         "EVT10933",
         "2023-09-01 01:51:24",
         2017
        ],
        [
         "EVT10934",
         "2023-09-01 19:11:25",
         786
        ],
        [
         "EVT10935",
         "2023-09-06 20:20:44",
         1079
        ],
        [
         "EVT10936",
         "2023-09-08 11:28:57",
         359
        ],
        [
         "EVT10937",
         "2023-09-05 08:28:46",
         5145
        ],
        [
         "EVT10938",
         "2023-09-13 01:02:33",
         276
        ],
        [
         "EVT10939",
         "2023-09-01 18:33:23",
         4904
        ],
        [
         "EVT10940",
         "2023-09-12 22:34:19",
         2621
        ],
        [
         "EVT10941",
         "2023-09-09 01:16:20",
         4050
        ],
        [
         "EVT10942",
         "2023-09-07 11:41:32",
         1110
        ],
        [
         "EVT10943",
         "2023-09-04 20:00:20",
         17943
        ],
        [
         "EVT10944",
         "2023-09-12 10:01:36",
         5785
        ],
        [
         "EVT10945",
         "2023-09-10 05:14:09",
         27236
        ],
        [
         "EVT10946",
         "2023-09-14 15:02:34",
         20960
        ],
        [
         "EVT10947",
         "2023-09-01 05:56:44",
         1311
        ],
        [
         "EVT10948",
         "2023-09-12 01:56:18",
         5947
        ],
        [
         "EVT10949",
         "2023-09-14 15:17:00",
         818
        ],
        [
         "EVT10950",
         "2023-09-04 22:04:17",
         33999
        ],
        [
         "EVT10951",
         "2023-09-10 09:00:30",
         14060
        ],
        [
         "EVT10952",
         "2023-09-02 04:19:59",
         16776
        ],
        [
         "EVT10953",
         "2023-09-09 05:30:01",
         291
        ],
        [
         "EVT10954",
         "2023-09-02 16:31:37",
         7241
        ],
        [
         "EVT10955",
         "2023-09-10 02:24:31",
         1369
        ],
        [
         "EVT10956",
         "2023-09-03 16:22:21",
         740
        ],
        [
         "EVT10957",
         "2023-09-03 18:16:51",
         1362
        ],
        [
         "EVT10958",
         "2023-09-04 12:12:11",
         2168
        ],
        [
         "EVT10959",
         "2023-09-07 23:44:47",
         833
        ],
        [
         "EVT10960",
         "2023-09-10 11:52:01",
         2477
        ],
        [
         "EVT10961",
         "2023-09-13 04:24:47",
         2722
        ],
        [
         "EVT10962",
         "2023-09-09 18:08:57",
         549
        ],
        [
         "EVT10963",
         "2023-09-02 05:32:48",
         1017
        ],
        [
         "EVT10964",
         "2023-09-02 21:35:52",
         989
        ],
        [
         "EVT10965",
         "2023-09-12 07:34:48",
         5448
        ],
        [
         "EVT10966",
         "2023-09-14 20:20:37",
         8415
        ],
        [
         "EVT10967",
         "2023-09-12 11:16:25",
         458
        ],
        [
         "EVT10968",
         "2023-09-01 06:39:48",
         8930
        ],
        [
         "EVT10969",
         "2023-09-05 18:27:02",
         5348
        ],
        [
         "EVT10970",
         "2023-09-07 03:48:05",
         3156
        ],
        [
         "EVT10971",
         "2023-09-02 20:46:02",
         478
        ],
        [
         "EVT10972",
         "2023-09-07 13:39:14",
         594
        ],
        [
         "EVT10973",
         "2023-09-12 01:02:52",
         920
        ],
        [
         "EVT10974",
         "2023-09-02 05:19:34",
         3842
        ],
        [
         "EVT10975",
         "2023-09-06 22:27:58",
         21444
        ],
        [
         "EVT10976",
         "2023-09-09 07:02:08",
         4121
        ],
        [
         "EVT10977",
         "2023-09-06 22:31:29",
         1970
        ],
        [
         "EVT10978",
         "2023-09-07 17:15:38",
         2496
        ],
        [
         "EVT10979",
         "2023-09-05 01:19:33",
         579
        ],
        [
         "EVT10980",
         "2023-09-13 11:25:37",
         1812
        ],
        [
         "EVT10981",
         "2023-09-03 08:44:39",
         3058
        ],
        [
         "EVT10982",
         "2023-09-10 02:09:46",
         604
        ],
        [
         "EVT10983",
         "2023-09-06 03:28:35",
         493
        ],
        [
         "EVT10984",
         "2023-09-14 17:34:05",
         1935
        ],
        [
         "EVT10985",
         "2023-09-12 02:36:54",
         4742
        ],
        [
         "EVT10986",
         "2023-09-07 23:46:07",
         2735
        ],
        [
         "EVT10987",
         "2023-09-01 17:21:37",
         1306
        ],
        [
         "EVT10988",
         "2023-09-01 04:31:12",
         314
        ],
        [
         "EVT10989",
         "2023-09-08 11:37:21",
         3820
        ],
        [
         "EVT10990",
         "2023-09-13 04:17:38",
         4921
        ],
        [
         "EVT10991",
         "2023-09-03 09:43:17",
         4907
        ],
        [
         "EVT10992",
         "2023-09-10 17:24:16",
         2557
        ],
        [
         "EVT10993",
         "2023-09-08 11:37:15",
         817
        ],
        [
         "EVT10994",
         "2023-09-02 03:45:52",
         1185
        ],
        [
         "EVT10995",
         "2023-09-11 23:27:21",
         5561
        ],
        [
         "EVT10996",
         "2023-09-08 11:11:06",
         4652
        ],
        [
         "EVT10997",
         "2023-09-09 20:52:47",
         5540
        ],
        [
         "EVT10998",
         "2023-09-01 21:58:49",
         3897
        ],
        [
         "EVT10999",
         "2023-09-14 18:48:34",
         2661
        ]
       ],
       "datasetInfos": [],
       "dbfsResultPath": null,
       "isJsonSchema": true,
       "metadata": {},
       "overflow": false,
       "plotOptions": {
        "customPlotOptions": {},
        "displayType": "table",
        "pivotAggregation": null,
        "pivotColumns": null,
        "xColumns": null,
        "yColumns": null
       },
       "removedWidgets": [],
       "schema": [
        {
         "metadata": "{}",
         "name": "event_id",
         "type": "\"string\""
        },
        {
         "metadata": "{}",
         "name": "timestamp",
         "type": "\"string\""
        },
        {
         "metadata": "{}",
         "name": "duration_seconds",
         "type": "\"integer\""
        }
       ],
       "type": "table"
      }
     },
     "output_type": "display_data"
    }
   ],
   "source": [
    "# Let's add error handling logic for problematic data\n",
    "cleaned_df = problem_df.withColumn(\n",
    "    \"duration_seconds\", \n",
    "    # Handle invalid duration values\n",
    "    when(col(\"duration_seconds\").cast(\"int\").isNull(), lit(0))\n",
    "    .otherwise(col(\"duration_seconds\").cast(\"int\"))\n",
    ").withColumn(\n",
    "    \"timestamp\",\n",
    "    # Handle missing timestamps\n",
    "    when(col(\"timestamp\").isNull(), lit(\"2023-09-15T00:00:00Z\"))\n",
    "    .otherwise(col(\"timestamp\"))\n",
    ")\n",
    "\n",
    "print(\"Successfully cleaned problematic data:\")\n",
    "cleaned_df.select(\"event_id\", \"timestamp\", \"duration_seconds\").display()"
   ]
  },
  {
   "cell_type": "markdown",
   "metadata": {
    "application/vnd.databricks.v1+cell": {
     "cellMetadata": {},
     "inputWidgets": {},
     "nuid": "5f0b42b9-943c-4559-9482-cfdeac0082de",
     "showTitle": false,
     "tableResultSettingsMap": {},
     "title": ""
    }
   },
   "source": [
    "### RESILIENT OUTPUTS WITH ATOMIC WRITES"
   ]
  },
  {
   "cell_type": "code",
   "execution_count": 0,
   "metadata": {
    "application/vnd.databricks.v1+cell": {
     "cellMetadata": {
      "byteLimit": 2048000,
      "rowLimit": 10000
     },
     "inputWidgets": {},
     "nuid": "4f8b0e34-2963-4d42-a765-aec3b094e4ec",
     "showTitle": false,
     "tableResultSettingsMap": {},
     "title": ""
    }
   },
   "outputs": [
    {
     "output_type": "stream",
     "name": "stdout",
     "output_type": "stream",
     "text": [
      "Demonstrating atomic writes for reliable output...\nData written to temporary location: /pyspark/video-streaming-data/module5-orchestration/resilience/checkpoint_demo/processed_output_temp\n"
     ]
    }
   ],
   "source": [
    "print(\"Demonstrating atomic writes for reliable output...\")\n",
    "\n",
    "# First write to a temporary location\n",
    "temp_output = f\"{output_path}_temp\"\n",
    "df_step2.write.format(\"parquet\").mode(\"overwrite\").save(temp_output)\n",
    "print(f\"Data written to temporary location: {temp_output}\")"
   ]
  },
  {
   "cell_type": "code",
   "execution_count": 0,
   "metadata": {
    "application/vnd.databricks.v1+cell": {
     "cellMetadata": {
      "byteLimit": 2048000,
      "rowLimit": 10000
     },
     "inputWidgets": {},
     "nuid": "a6b37810-b64e-44ca-99e0-d364de3e39b1",
     "showTitle": false,
     "tableResultSettingsMap": {},
     "title": ""
    }
   },
   "outputs": [
    {
     "output_type": "stream",
     "name": "stdout",
     "output_type": "stream",
     "text": [
      "Verifying output data...\nVerification found 48 rows, which matches our expected count.\nData successfully and atomically written to final location: /pyspark/video-streaming-data/module5-orchestration/resilience/checkpoint_demo/processed_output\n"
     ]
    }
   ],
   "source": [
    "# In production, we'd verify the output here before moving to final location\n",
    "print(\"Verifying output data...\")\n",
    "verification_df = spark.read.parquet(temp_output)\n",
    "print(f\"Verification found {verification_df.count()} rows, which matches our expected count.\")\n",
    "\n",
    "# Only after verification passes, we move to the final location\n",
    "df_step2.write.format(\"parquet\").mode(\"overwrite\").save(output_path)\n",
    "print(f\"Data successfully and atomically written to final location: {output_path}\")"
   ]
  },
  {
   "cell_type": "code",
   "execution_count": 0,
   "metadata": {
    "application/vnd.databricks.v1+cell": {
     "cellMetadata": {
      "byteLimit": 2048000,
      "rowLimit": 10000
     },
     "inputWidgets": {},
     "nuid": "56766aed-cbf4-4a83-b084-a188a43b96c4",
     "showTitle": false,
     "tableResultSettingsMap": {},
     "title": ""
    }
   },
   "outputs": [],
   "source": [
    "# Summary of resilience techniques we've covered\n",
    "print(\"Resilient Pipeline Techniques Summary:\")\n",
    "print(\"1. Checkpointing - Saving intermediate states to recover from failures\")\n",
    "print(\"2. Error handling - Gracefully processing problematic data\")\n",
    "print(\"3. Atomic writes - Ensuring consistent output with verification\")\n",
    "\n",
    "# These techniques help build robust, production-ready ETL pipelines\n",
    "# that can recover from failures and ensure data consistency"
   ]
  },
  {
   "cell_type": "code",
   "execution_count": 0,
   "metadata": {
    "application/vnd.databricks.v1+cell": {
     "cellMetadata": {
      "byteLimit": 2048000,
      "rowLimit": 10000
     },
     "inputWidgets": {},
     "nuid": "77163d6a-906e-4009-9c6b-bb3b5038acf9",
     "showTitle": false,
     "tableResultSettingsMap": {},
     "title": ""
    },
    "jupyter": {
     "outputs_hidden": true,
     "source_hidden": true
    }
   },
   "outputs": [
    {
     "output_type": "stream",
     "name": "stdout",
     "output_type": "stream",
     "text": [
      "Clearing Spark cache...\nSpark cache cleared.\n\nCleaning up directories...\nPath does not exist (already cleaned up?): /pyspark/video-streaming-data/module5-orchestration/resilience/checkpoint_demo/checkpoints\nPath does not exist (already cleaned up?): /pyspark/video-streaming-data/module5-orchestration/resilience/checkpoint_demo/checkpoints/step1\nPath does not exist (already cleaned up?): /pyspark/video-streaming-data/module5-orchestration/resilience/checkpoint_demo/checkpoints/step2\nPath does not exist (already cleaned up?): /pyspark/video-streaming-data/module5-orchestration/resilience/checkpoint_demo/processed_output\nPath does not exist (already cleaned up?): /pyspark/video-streaming-data/module5-orchestration/resilience/checkpoint_demo/processed_output_temp\n\nExplicitly removing checkpoint directory using Spark API...\n\nVerifying cleanup...\nWarning: Some files remain in checkpoint directory. Manual cleanup may be needed.\n  - dbfs:/pyspark/video-streaming-data/module5-orchestration/resilience/checkpoint_demo/checkpoints/step1/\n  - dbfs:/pyspark/video-streaming-data/module5-orchestration/resilience/checkpoint_demo/checkpoints/step2/\n\nCleanup complete! Your demo environment is now reset and ready for the next run.\n"
     ]
    }
   ],
   "source": [
    "# Cleanup code to remove files created during the demo\n",
    "\n",
    "import shutil\n",
    "import os\n",
    "from pyspark.sql.utils import AnalysisException\n",
    "\n",
    "# Define the paths we need to clean up (including checkpoints for a clean demo environment)\n",
    "paths_to_clean = [\n",
    "    checkpoint_dir,                  # Main checkpoint directory \n",
    "    f\"{checkpoint_dir}/step1\",       # Step 1 checkpoint subfolder\n",
    "    f\"{checkpoint_dir}/step2\",       # Step 2 checkpoint subfolder\n",
    "    output_path,                     # Final output\n",
    "    f\"{output_path}_temp\"            # Temporary output\n",
    "]\n",
    "\n",
    "# Function to safely remove a directory or file\n",
    "def safe_remove(path):\n",
    "    try:\n",
    "        # For DBFS paths, we need different handling\n",
    "        if path.startswith(\"dbfs:\"):\n",
    "            # Use dbutils for DBFS paths\n",
    "            print(f\"Removing DBFS path: {path}\")\n",
    "            dbutils.fs.rm(path, recurse=True)\n",
    "            return True\n",
    "        else:\n",
    "            # Handle non-DBFS paths or convert to local filesystem path\n",
    "            local_path = path\n",
    "            if not path.startswith(\"/\"):\n",
    "                local_path = f\"/dbfs/{path}\"\n",
    "                \n",
    "            # Check if path exists before trying to remove it\n",
    "            if os.path.exists(local_path):\n",
    "                if os.path.isdir(local_path):\n",
    "                    print(f\"Removing directory: {path}\")\n",
    "                    shutil.rmtree(local_path)\n",
    "                else:\n",
    "                    print(f\"Removing file: {path}\")\n",
    "                    os.remove(local_path)\n",
    "                return True\n",
    "            else:\n",
    "                print(f\"Path does not exist (already cleaned up?): {path}\")\n",
    "                return False\n",
    "    except Exception as e:\n",
    "        print(f\"Error cleaning up {path}: {str(e)}\")\n",
    "        return False\n",
    "\n",
    "# Try to clean up Spark cache/tables first\n",
    "try:\n",
    "    print(\"Clearing Spark cache...\")\n",
    "    spark.catalog.clearCache()\n",
    "    print(\"Spark cache cleared.\")\n",
    "except Exception as e:\n",
    "    print(f\"Error clearing Spark cache: {str(e)}\")\n",
    "\n",
    "# Now clean up the file system paths\n",
    "print(\"\\nCleaning up directories...\")\n",
    "for path in paths_to_clean:\n",
    "    safe_remove(path)\n",
    "\n",
    "# Additional method to ensure checkpoints are removed - using Spark's own methods\n",
    "try:\n",
    "    print(\"\\nExplicitly removing checkpoint directory using Spark API...\")\n",
    "    spark.read.format(\"parquet\").load(f\"{checkpoint_dir}/step1\").unpersist()\n",
    "    spark.read.format(\"parquet\").load(f\"{checkpoint_dir}/step2\").unpersist()\n",
    "    # Force garbage collection\n",
    "    import gc\n",
    "    gc.collect()\n",
    "except Exception as e:\n",
    "    print(f\"Note: Could not unpersist checkpoint dataframes: {str(e)}\")\n",
    "\n",
    "# Final verification - check if any files still exist\n",
    "print(\"\\nVerifying cleanup...\")\n",
    "try:\n",
    "    # Try listing files in checkpoint directory\n",
    "    remaining_files = dbutils.fs.ls(checkpoint_dir)\n",
    "    if remaining_files and len(remaining_files) > 0:\n",
    "        print(f\"Warning: Some files remain in checkpoint directory. Manual cleanup may be needed.\")\n",
    "        for file in remaining_files:\n",
    "            print(f\"  - {file.path}\")\n",
    "            # Try one more aggressive removal\n",
    "            dbutils.fs.rm(file.path, recurse=True)\n",
    "    else:\n",
    "        print(\"Verification successful - no files remain in checkpoint directory.\")\n",
    "except Exception as e:\n",
    "    print(f\"Verification complete: {str(e)}\")\n",
    "\n",
    "print(\"\\nCleanup complete! Your demo environment is now reset and ready for the next run.\")"
   ]
  }
 ],
 "metadata": {
  "application/vnd.databricks.v1+notebook": {
   "computePreferences": null,
   "dashboards": [],
   "environmentMetadata": {
    "base_environment": "",
    "environment_version": "2"
   },
   "inputWidgetPreferences": null,
   "language": "python",
   "notebookMetadata": {
    "pythonIndentUnit": 4
   },
   "notebookName": "Module 5, Clip 13: Building Resilient PySpark ETL Pipelines",
   "widgets": {}
  },
  "language_info": {
   "name": "python"
  }
 },
 "nbformat": 4,
 "nbformat_minor": 0
}